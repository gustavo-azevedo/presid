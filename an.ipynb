{
 "cells": [
  {
   "cell_type": "code",
   "execution_count": 40,
   "metadata": {},
   "outputs": [],
   "source": [
    "import pandas as pd\n",
    "import matplotlib.pyplot as plt\n",
    "import emoji\n",
    "import re\n",
    "import nltk\n",
    "import mplcursors\n",
    "from nltk.corpus import stopwords\n",
    "from wordcloud import WordCloud\n",
    "import seaborn as sns\n",
    "import numpy as np\n",
    "from dateutil import parser\n",
    "from typing import List\n",
    "import plotly.graph_objects as go\n",
    "import plotly.express as px\n",
    "from plotly.subplots import make_subplots\n",
    "\n"
   ]
  },
  {
   "cell_type": "code",
   "execution_count": 2,
   "metadata": {},
   "outputs": [
    {
     "name": "stderr",
     "output_type": "stream",
     "text": [
      "[nltk_data] Downloading package stopwords to\n",
      "[nltk_data]     C:\\Users\\mrggi\\AppData\\Roaming\\nltk_data...\n",
      "[nltk_data]   Package stopwords is already up-to-date!\n"
     ]
    },
    {
     "data": {
      "text/plain": [
       "True"
      ]
     },
     "execution_count": 2,
     "metadata": {},
     "output_type": "execute_result"
    }
   ],
   "source": [
    "nltk.download('stopwords')\n"
   ]
  },
  {
   "cell_type": "code",
   "execution_count": 3,
   "metadata": {},
   "outputs": [],
   "source": [
    "poli = pd.read_csv('politicos.csv')"
   ]
  },
  {
   "cell_type": "code",
   "execution_count": 4,
   "metadata": {},
   "outputs": [
    {
     "data": {
      "text/html": [
       "<div>\n",
       "<style scoped>\n",
       "    .dataframe tbody tr th:only-of-type {\n",
       "        vertical-align: middle;\n",
       "    }\n",
       "\n",
       "    .dataframe tbody tr th {\n",
       "        vertical-align: top;\n",
       "    }\n",
       "\n",
       "    .dataframe thead th {\n",
       "        text-align: right;\n",
       "    }\n",
       "</style>\n",
       "<table border=\"1\" class=\"dataframe\">\n",
       "  <thead>\n",
       "    <tr style=\"text-align: right;\">\n",
       "      <th></th>\n",
       "      <th>Unnamed: 0</th>\n",
       "      <th>tweets_id</th>\n",
       "      <th>tweets_in_thread</th>\n",
       "      <th>created_at</th>\n",
       "      <th>text</th>\n",
       "      <th>retweet_count</th>\n",
       "      <th>like_count</th>\n",
       "      <th>reply_count</th>\n",
       "      <th>quote_count</th>\n",
       "      <th>user_id</th>\n",
       "      <th>username</th>\n",
       "      <th>user_name</th>\n",
       "      <th>user_picture</th>\n",
       "      <th>verified</th>\n",
       "      <th>clean_text</th>\n",
       "      <th>mentions</th>\n",
       "      <th>hashtags</th>\n",
       "      <th>emojis</th>\n",
       "    </tr>\n",
       "  </thead>\n",
       "  <tbody>\n",
       "    <tr>\n",
       "      <th>0</th>\n",
       "      <td>0</td>\n",
       "      <td>['1453442766982287361']</td>\n",
       "      <td>1</td>\n",
       "      <td>2021-10-27T19:25:33.000Z</td>\n",
       "      <td>PARABÉNS, PRESIDENTE LULA | 76 anos com energi...</td>\n",
       "      <td>1423</td>\n",
       "      <td>16845</td>\n",
       "      <td>939</td>\n",
       "      <td>323</td>\n",
       "      <td>2670726740</td>\n",
       "      <td>LulaOficial</td>\n",
       "      <td>Lula</td>\n",
       "      <td>https://pbs.twimg.com/profile_images/145778941...</td>\n",
       "      <td>True</td>\n",
       "      <td>['parabens', 'presidente', 'lula', 'ano', 'ene...</td>\n",
       "      <td>NaN</td>\n",
       "      <td>['#equipelula']</td>\n",
       "      <td>NaN</td>\n",
       "    </tr>\n",
       "    <tr>\n",
       "      <th>1</th>\n",
       "      <td>1</td>\n",
       "      <td>['1453676921393324036']</td>\n",
       "      <td>1</td>\n",
       "      <td>2021-10-28T10:56:00.000Z</td>\n",
       "      <td>Ao vivo em instantes: https://t.co/DC3AqHTIDc</td>\n",
       "      <td>139</td>\n",
       "      <td>607</td>\n",
       "      <td>42</td>\n",
       "      <td>14</td>\n",
       "      <td>2670726740</td>\n",
       "      <td>LulaOficial</td>\n",
       "      <td>Lula</td>\n",
       "      <td>https://pbs.twimg.com/profile_images/145778941...</td>\n",
       "      <td>True</td>\n",
       "      <td>['viver', 'instante']</td>\n",
       "      <td>NaN</td>\n",
       "      <td>NaN</td>\n",
       "      <td>NaN</td>\n",
       "    </tr>\n",
       "    <tr>\n",
       "      <th>2</th>\n",
       "      <td>2</td>\n",
       "      <td>['1453681221603581952']</td>\n",
       "      <td>1</td>\n",
       "      <td>2021-10-28T11:13:05.000Z</td>\n",
       "      <td>Entrevista de Lula para a Rádio Jovem Pan de S...</td>\n",
       "      <td>630</td>\n",
       "      <td>3013</td>\n",
       "      <td>319</td>\n",
       "      <td>57</td>\n",
       "      <td>2670726740</td>\n",
       "      <td>LulaOficial</td>\n",
       "      <td>Lula</td>\n",
       "      <td>https://pbs.twimg.com/profile_images/145778941...</td>\n",
       "      <td>True</td>\n",
       "      <td>['entrevisto', 'lula', 'radiar', 'jovem', 'pan...</td>\n",
       "      <td>NaN</td>\n",
       "      <td>NaN</td>\n",
       "      <td>NaN</td>\n",
       "    </tr>\n",
       "    <tr>\n",
       "      <th>3</th>\n",
       "      <td>3</td>\n",
       "      <td>['1453682338941095940']</td>\n",
       "      <td>1</td>\n",
       "      <td>2021-10-28T11:17:32.000Z</td>\n",
       "      <td>Fiz 76 anos ontem com muito orgulho. Não sinto...</td>\n",
       "      <td>1702</td>\n",
       "      <td>27763</td>\n",
       "      <td>1853</td>\n",
       "      <td>318</td>\n",
       "      <td>2670726740</td>\n",
       "      <td>LulaOficial</td>\n",
       "      <td>Lula</td>\n",
       "      <td>https://pbs.twimg.com/profile_images/145778941...</td>\n",
       "      <td>True</td>\n",
       "      <td>['fazer', 'ano', 'ontem', 'orgulhar', 'sentir'...</td>\n",
       "      <td>NaN</td>\n",
       "      <td>NaN</td>\n",
       "      <td>NaN</td>\n",
       "    </tr>\n",
       "    <tr>\n",
       "      <th>4</th>\n",
       "      <td>4</td>\n",
       "      <td>['1453685308755746818']</td>\n",
       "      <td>1</td>\n",
       "      <td>2021-10-28T11:29:20.000Z</td>\n",
       "      <td>Para que a iniciativa privada se apodere do Es...</td>\n",
       "      <td>734</td>\n",
       "      <td>4697</td>\n",
       "      <td>302</td>\n",
       "      <td>66</td>\n",
       "      <td>2670726740</td>\n",
       "      <td>LulaOficial</td>\n",
       "      <td>Lula</td>\n",
       "      <td>https://pbs.twimg.com/profile_images/145778941...</td>\n",
       "      <td>True</td>\n",
       "      <td>['iniciativo', 'privar', 'apoderar', 'estar', ...</td>\n",
       "      <td>NaN</td>\n",
       "      <td>NaN</td>\n",
       "      <td>NaN</td>\n",
       "    </tr>\n",
       "  </tbody>\n",
       "</table>\n",
       "</div>"
      ],
      "text/plain": [
       "   Unnamed: 0                tweets_id  tweets_in_thread  \\\n",
       "0           0  ['1453442766982287361']                 1   \n",
       "1           1  ['1453676921393324036']                 1   \n",
       "2           2  ['1453681221603581952']                 1   \n",
       "3           3  ['1453682338941095940']                 1   \n",
       "4           4  ['1453685308755746818']                 1   \n",
       "\n",
       "                 created_at  \\\n",
       "0  2021-10-27T19:25:33.000Z   \n",
       "1  2021-10-28T10:56:00.000Z   \n",
       "2  2021-10-28T11:13:05.000Z   \n",
       "3  2021-10-28T11:17:32.000Z   \n",
       "4  2021-10-28T11:29:20.000Z   \n",
       "\n",
       "                                                text  retweet_count  \\\n",
       "0  PARABÉNS, PRESIDENTE LULA | 76 anos com energi...           1423   \n",
       "1      Ao vivo em instantes: https://t.co/DC3AqHTIDc            139   \n",
       "2  Entrevista de Lula para a Rádio Jovem Pan de S...            630   \n",
       "3  Fiz 76 anos ontem com muito orgulho. Não sinto...           1702   \n",
       "4  Para que a iniciativa privada se apodere do Es...            734   \n",
       "\n",
       "   like_count  reply_count  quote_count     user_id     username user_name  \\\n",
       "0       16845          939          323  2670726740  LulaOficial      Lula   \n",
       "1         607           42           14  2670726740  LulaOficial      Lula   \n",
       "2        3013          319           57  2670726740  LulaOficial      Lula   \n",
       "3       27763         1853          318  2670726740  LulaOficial      Lula   \n",
       "4        4697          302           66  2670726740  LulaOficial      Lula   \n",
       "\n",
       "                                        user_picture  verified  \\\n",
       "0  https://pbs.twimg.com/profile_images/145778941...      True   \n",
       "1  https://pbs.twimg.com/profile_images/145778941...      True   \n",
       "2  https://pbs.twimg.com/profile_images/145778941...      True   \n",
       "3  https://pbs.twimg.com/profile_images/145778941...      True   \n",
       "4  https://pbs.twimg.com/profile_images/145778941...      True   \n",
       "\n",
       "                                          clean_text mentions  \\\n",
       "0  ['parabens', 'presidente', 'lula', 'ano', 'ene...      NaN   \n",
       "1                              ['viver', 'instante']      NaN   \n",
       "2  ['entrevisto', 'lula', 'radiar', 'jovem', 'pan...      NaN   \n",
       "3  ['fazer', 'ano', 'ontem', 'orgulhar', 'sentir'...      NaN   \n",
       "4  ['iniciativo', 'privar', 'apoderar', 'estar', ...      NaN   \n",
       "\n",
       "          hashtags emojis  \n",
       "0  ['#equipelula']    NaN  \n",
       "1              NaN    NaN  \n",
       "2              NaN    NaN  \n",
       "3              NaN    NaN  \n",
       "4              NaN    NaN  "
      ]
     },
     "execution_count": 4,
     "metadata": {},
     "output_type": "execute_result"
    }
   ],
   "source": [
    "poli.head()"
   ]
  },
  {
   "cell_type": "code",
   "execution_count": 5,
   "metadata": {},
   "outputs": [
    {
     "data": {
      "text/plain": [
       "Index(['Unnamed: 0', 'tweets_id', 'tweets_in_thread', 'created_at', 'text',\n",
       "       'retweet_count', 'like_count', 'reply_count', 'quote_count', 'user_id',\n",
       "       'username', 'user_name', 'user_picture', 'verified', 'clean_text',\n",
       "       'mentions', 'hashtags', 'emojis'],\n",
       "      dtype='object')"
      ]
     },
     "execution_count": 5,
     "metadata": {},
     "output_type": "execute_result"
    }
   ],
   "source": [
    "poli.columns"
   ]
  },
  {
   "cell_type": "code",
   "execution_count": 6,
   "metadata": {},
   "outputs": [
    {
     "name": "stderr",
     "output_type": "stream",
     "text": [
      "C:\\Users\\mrggi\\AppData\\Local\\Temp\\ipykernel_10636\\3167007018.py:3: DeprecationWarning: `np.bool` is a deprecated alias for the builtin `bool`. To silence this warning, use `bool` by itself. Doing this will not modify any behavior and is safe. If you specifically wanted the numpy scalar type, use `np.bool_` here.\n",
      "Deprecated in NumPy 1.20; for more details and guidance: https://numpy.org/devdocs/release/1.20.0-notes.html#deprecations\n",
      "  sns.heatmap(corr, mask=np.zeros_like(corr, dtype=np.bool), cmap=sns.diverging_palette(220, 10, as_cmap=True),\n"
     ]
    },
    {
     "data": {
      "text/plain": [
       "<AxesSubplot:>"
      ]
     },
     "execution_count": 6,
     "metadata": {},
     "output_type": "execute_result"
    },
    {
     "data": {
      "image/png": "[encoded data removed]",
      "text/plain": [
       "<Figure size 720x576 with 2 Axes>"
      ]
     },
     "metadata": {
      "needs_background": "light"
     },
     "output_type": "display_data"
    }
   ],
   "source": [
    "f, ax = plt.subplots(figsize=(10, 8))\n",
    "corr = poli.corr()\n",
    "sns.heatmap(corr, mask=np.zeros_like(corr, dtype=np.bool), cmap=sns.diverging_palette(220, 10, as_cmap=True),\n",
    "            square=True, ax=ax)"
   ]
  },
  {
   "cell_type": "code",
   "execution_count": 7,
   "metadata": {},
   "outputs": [
    {
     "data": {
      "text/plain": [
       "username\n",
       "AndreJanonesAdv    655\n",
       "LeoPericlesUP      417\n",
       "LulaOficial        586\n",
       "SF_Moro            714\n",
       "Sen_Alessandro     517\n",
       "SimoneTebetms      623\n",
       "aldorebelo         661\n",
       "cirogomes          630\n",
       "jairbolsonaro      482\n",
       "jdoriajr           687\n",
       "lfdavilaoficial    459\n",
       "Name: tweets_id, dtype: int64"
      ]
     },
     "execution_count": 7,
     "metadata": {},
     "output_type": "execute_result"
    }
   ],
   "source": [
    "poli.groupby(['username'])['tweets_id'].count()"
   ]
  },
  {
   "cell_type": "markdown",
   "metadata": {},
   "source": [
    "#### Hashtags"
   ]
  },
  {
   "cell_type": "code",
   "execution_count": 8,
   "metadata": {},
   "outputs": [],
   "source": [
    "import string\n",
    "from sklearn.metrics.pairwise import cosine_similarity\n",
    "from sklearn.feature_extraction.text import CountVectorizer\n",
    "from nltk.corpus import stopwords\n",
    "stopwords =stopwords.words('portuguese')"
   ]
  },
  {
   "cell_type": "code",
   "execution_count": 9,
   "metadata": {},
   "outputs": [
    {
     "data": {
      "text/plain": [
       "array(['Lula', 'Jair M. Bolsonaro', 'André Janones', 'Simone Tebet',\n",
       "       \"Felipe d'Avila\", 'Ciro Gomes', 'João Doria', 'Sergio Moro',\n",
       "       'Aldo Rebelo', 'Leo Péricles', 'Senador Alessandro Vieira'],\n",
       "      dtype=object)"
      ]
     },
     "execution_count": 9,
     "metadata": {},
     "output_type": "execute_result"
    }
   ],
   "source": [
    "poli['user_name'].unique()"
   ]
  },
  {
   "cell_type": "code",
   "execution_count": 10,
   "metadata": {},
   "outputs": [],
   "source": [
    "poli.hashtags.fillna(' ')\n",
    "test = poli.hashtags.astype(str).apply(lambda x: x.replace('[','').replace(']','').replace('\\'','').strip())\n",
    "poli.hashtags = test"
   ]
  },
  {
   "cell_type": "markdown",
   "metadata": {},
   "source": [
    "*Bolsonaro nao usa hashtags?*"
   ]
  },
  {
   "cell_type": "code",
   "execution_count": 11,
   "metadata": {},
   "outputs": [
    {
     "data": {
      "text/html": [
       "<div>\n",
       "<style scoped>\n",
       "    .dataframe tbody tr th:only-of-type {\n",
       "        vertical-align: middle;\n",
       "    }\n",
       "\n",
       "    .dataframe tbody tr th {\n",
       "        vertical-align: top;\n",
       "    }\n",
       "\n",
       "    .dataframe thead th {\n",
       "        text-align: right;\n",
       "    }\n",
       "</style>\n",
       "<table border=\"1\" class=\"dataframe\">\n",
       "  <thead>\n",
       "    <tr style=\"text-align: right;\">\n",
       "      <th></th>\n",
       "      <th>index</th>\n",
       "      <th>hashtags</th>\n",
       "    </tr>\n",
       "  </thead>\n",
       "  <tbody>\n",
       "    <tr>\n",
       "      <th>0</th>\n",
       "      <td>nan</td>\n",
       "      <td>482</td>\n",
       "    </tr>\n",
       "  </tbody>\n",
       "</table>\n",
       "</div>"
      ],
      "text/plain": [
       "  index  hashtags\n",
       "0   nan       482"
      ]
     },
     "execution_count": 11,
     "metadata": {},
     "output_type": "execute_result"
    }
   ],
   "source": [
    "# Lula\n",
    "poli[poli.user_name == 'Jair M. Bolsonaro'].hashtags.value_counts().reset_index()"
   ]
  },
  {
   "cell_type": "code",
   "execution_count": 12,
   "metadata": {},
   "outputs": [
    {
     "data": {
      "text/html": [
       "<div>\n",
       "<style scoped>\n",
       "    .dataframe tbody tr th:only-of-type {\n",
       "        vertical-align: middle;\n",
       "    }\n",
       "\n",
       "    .dataframe tbody tr th {\n",
       "        vertical-align: top;\n",
       "    }\n",
       "\n",
       "    .dataframe thead th {\n",
       "        text-align: right;\n",
       "    }\n",
       "</style>\n",
       "<table border=\"1\" class=\"dataframe\">\n",
       "  <thead>\n",
       "    <tr style=\"text-align: right;\">\n",
       "      <th></th>\n",
       "      <th>index</th>\n",
       "      <th>hashtags</th>\n",
       "    </tr>\n",
       "  </thead>\n",
       "  <tbody>\n",
       "    <tr>\n",
       "      <th>1</th>\n",
       "      <td>#equipelula</td>\n",
       "      <td>61</td>\n",
       "    </tr>\n",
       "    <tr>\n",
       "      <th>2</th>\n",
       "      <td>#76fatossobrelula</td>\n",
       "      <td>26</td>\n",
       "    </tr>\n",
       "    <tr>\n",
       "      <th>3</th>\n",
       "      <td>#lulaaovivo</td>\n",
       "      <td>10</td>\n",
       "    </tr>\n",
       "    <tr>\n",
       "      <th>4</th>\n",
       "      <td>#pt42anos</td>\n",
       "      <td>10</td>\n",
       "    </tr>\n",
       "    <tr>\n",
       "      <th>5</th>\n",
       "      <td>#lulanacbnvale</td>\n",
       "      <td>9</td>\n",
       "    </tr>\n",
       "    <tr>\n",
       "      <th>...</th>\n",
       "      <td>...</td>\n",
       "      <td>...</td>\n",
       "    </tr>\n",
       "    <tr>\n",
       "      <th>70</th>\n",
       "      <td>#76fatossobrelula23</td>\n",
       "      <td>1</td>\n",
       "    </tr>\n",
       "    <tr>\n",
       "      <th>71</th>\n",
       "      <td>#76fatossobrelula22</td>\n",
       "      <td>1</td>\n",
       "    </tr>\n",
       "    <tr>\n",
       "      <th>72</th>\n",
       "      <td>#76fatossobrelula21</td>\n",
       "      <td>1</td>\n",
       "    </tr>\n",
       "    <tr>\n",
       "      <th>73</th>\n",
       "      <td>#76fatossobrelula20</td>\n",
       "      <td>1</td>\n",
       "    </tr>\n",
       "    <tr>\n",
       "      <th>74</th>\n",
       "      <td>#equipelula, #8m, #diainternacionaldamulher, #...</td>\n",
       "      <td>1</td>\n",
       "    </tr>\n",
       "  </tbody>\n",
       "</table>\n",
       "<p>74 rows × 2 columns</p>\n",
       "</div>"
      ],
      "text/plain": [
       "                                                index  hashtags\n",
       "1                                         #equipelula        61\n",
       "2                                   #76fatossobrelula        26\n",
       "3                                         #lulaaovivo        10\n",
       "4                                           #pt42anos        10\n",
       "5                                      #lulanacbnvale         9\n",
       "..                                                ...       ...\n",
       "70                                #76fatossobrelula23         1\n",
       "71                                #76fatossobrelula22         1\n",
       "72                                #76fatossobrelula21         1\n",
       "73                                #76fatossobrelula20         1\n",
       "74  #equipelula, #8m, #diainternacionaldamulher, #...         1\n",
       "\n",
       "[74 rows x 2 columns]"
      ]
     },
     "execution_count": 12,
     "metadata": {},
     "output_type": "execute_result"
    }
   ],
   "source": [
    "hashtags = poli[poli.user_name == 'Lula'].hashtags.value_counts().reset_index().drop(0)\n",
    "hashtags"
   ]
  },
  {
   "cell_type": "code",
   "execution_count": 13,
   "metadata": {},
   "outputs": [
    {
     "data": {
      "text/plain": [
       "0        True\n",
       "1       False\n",
       "2       False\n",
       "3       False\n",
       "4       False\n",
       "        ...  \n",
       "6426    False\n",
       "6427    False\n",
       "6428    False\n",
       "6429    False\n",
       "6430    False\n",
       "Name: hashtags, Length: 6431, dtype: bool"
      ]
     },
     "execution_count": 13,
     "metadata": {},
     "output_type": "execute_result"
    }
   ],
   "source": [
    "poli.hashtags=='#equipelula'"
   ]
  },
  {
   "cell_type": "code",
   "execution_count": 14,
   "metadata": {},
   "outputs": [],
   "source": [
    "\n",
    "mu = poli[(poli.hashtags=='#equipelula')].like_count.mean()\n",
    "sigma = poli[(poli.hashtags=='#equipelula')].like_count.std()"
   ]
  },
  {
   "cell_type": "code",
   "execution_count": 15,
   "metadata": {},
   "outputs": [
    {
     "data": {
      "text/plain": [
       "<AxesSubplot:>"
      ]
     },
     "execution_count": 15,
     "metadata": {},
     "output_type": "execute_result"
    },
    {
     "data": {
      "image/png": "[encoded data removed]",
      "text/plain": [
       "<Figure size 432x288 with 1 Axes>"
      ]
     },
     "metadata": {
      "needs_background": "light"
     },
     "output_type": "display_data"
    }
   ],
   "source": [
    "poli[(poli.hashtags=='#equipelula')].like_count.hist(bins=100)"
   ]
  },
  {
   "cell_type": "code",
   "execution_count": 16,
   "metadata": {},
   "outputs": [
    {
     "data": {
      "text/plain": [
       "<AxesSubplot:>"
      ]
     },
     "execution_count": 16,
     "metadata": {},
     "output_type": "execute_result"
    },
    {
     "data": {
      "image/png": "[encoded data removed]",
      "text/plain": [
       "<Figure size 432x288 with 1 Axes>"
      ]
     },
     "metadata": {
      "needs_background": "light"
     },
     "output_type": "display_data"
    }
   ],
   "source": [
    "poli[(poli.user_name == 'Lula')].like_count.hist(bins = 100)"
   ]
  },
  {
   "cell_type": "code",
   "execution_count": 17,
   "metadata": {},
   "outputs": [
    {
     "data": {
      "text/plain": [
       "(586, 18)"
      ]
     },
     "execution_count": 17,
     "metadata": {},
     "output_type": "execute_result"
    }
   ],
   "source": [
    "poli[(poli.user_name == 'Lula')].shape"
   ]
  },
  {
   "cell_type": "code",
   "execution_count": 18,
   "metadata": {},
   "outputs": [
    {
     "data": {
      "text/plain": [
       "<AxesSubplot:>"
      ]
     },
     "execution_count": 18,
     "metadata": {},
     "output_type": "execute_result"
    },
    {
     "data": {
      "image/png": "[encoded data removed]",
      "text/plain": [
       "<Figure size 432x288 with 1 Axes>"
      ]
     },
     "metadata": {
      "needs_background": "light"
     },
     "output_type": "display_data"
    }
   ],
   "source": [
    "poli[(poli.user_name == 'Lula') & (poli.hashtags != 'nan')].like_count.hist(bins = 100)"
   ]
  },
  {
   "cell_type": "code",
   "execution_count": 19,
   "metadata": {},
   "outputs": [
    {
     "data": {
      "text/html": [
       "<div>\n",
       "<style scoped>\n",
       "    .dataframe tbody tr th:only-of-type {\n",
       "        vertical-align: middle;\n",
       "    }\n",
       "\n",
       "    .dataframe tbody tr th {\n",
       "        vertical-align: top;\n",
       "    }\n",
       "\n",
       "    .dataframe thead th {\n",
       "        text-align: right;\n",
       "    }\n",
       "</style>\n",
       "<table border=\"1\" class=\"dataframe\">\n",
       "  <thead>\n",
       "    <tr style=\"text-align: right;\">\n",
       "      <th></th>\n",
       "      <th>Unnamed: 0</th>\n",
       "      <th>tweets_id</th>\n",
       "      <th>tweets_in_thread</th>\n",
       "      <th>created_at</th>\n",
       "      <th>text</th>\n",
       "      <th>retweet_count</th>\n",
       "      <th>like_count</th>\n",
       "      <th>reply_count</th>\n",
       "      <th>quote_count</th>\n",
       "      <th>user_id</th>\n",
       "      <th>username</th>\n",
       "      <th>user_name</th>\n",
       "      <th>user_picture</th>\n",
       "      <th>verified</th>\n",
       "      <th>clean_text</th>\n",
       "      <th>mentions</th>\n",
       "      <th>hashtags</th>\n",
       "      <th>emojis</th>\n",
       "    </tr>\n",
       "  </thead>\n",
       "  <tbody>\n",
       "    <tr>\n",
       "      <th>0</th>\n",
       "      <td>0</td>\n",
       "      <td>['1453442766982287361']</td>\n",
       "      <td>1</td>\n",
       "      <td>2021-10-27T19:25:33.000Z</td>\n",
       "      <td>PARABÉNS, PRESIDENTE LULA | 76 anos com energi...</td>\n",
       "      <td>1423</td>\n",
       "      <td>16845</td>\n",
       "      <td>939</td>\n",
       "      <td>323</td>\n",
       "      <td>2670726740</td>\n",
       "      <td>LulaOficial</td>\n",
       "      <td>Lula</td>\n",
       "      <td>https://pbs.twimg.com/profile_images/145778941...</td>\n",
       "      <td>True</td>\n",
       "      <td>['parabens', 'presidente', 'lula', 'ano', 'ene...</td>\n",
       "      <td>NaN</td>\n",
       "      <td>#equipelula</td>\n",
       "      <td>NaN</td>\n",
       "    </tr>\n",
       "    <tr>\n",
       "      <th>1</th>\n",
       "      <td>1</td>\n",
       "      <td>['1453676921393324036']</td>\n",
       "      <td>1</td>\n",
       "      <td>2021-10-28T10:56:00.000Z</td>\n",
       "      <td>Ao vivo em instantes: https://t.co/DC3AqHTIDc</td>\n",
       "      <td>139</td>\n",
       "      <td>607</td>\n",
       "      <td>42</td>\n",
       "      <td>14</td>\n",
       "      <td>2670726740</td>\n",
       "      <td>LulaOficial</td>\n",
       "      <td>Lula</td>\n",
       "      <td>https://pbs.twimg.com/profile_images/145778941...</td>\n",
       "      <td>True</td>\n",
       "      <td>['viver', 'instante']</td>\n",
       "      <td>NaN</td>\n",
       "      <td>nan</td>\n",
       "      <td>NaN</td>\n",
       "    </tr>\n",
       "    <tr>\n",
       "      <th>2</th>\n",
       "      <td>2</td>\n",
       "      <td>['1453681221603581952']</td>\n",
       "      <td>1</td>\n",
       "      <td>2021-10-28T11:13:05.000Z</td>\n",
       "      <td>Entrevista de Lula para a Rádio Jovem Pan de S...</td>\n",
       "      <td>630</td>\n",
       "      <td>3013</td>\n",
       "      <td>319</td>\n",
       "      <td>57</td>\n",
       "      <td>2670726740</td>\n",
       "      <td>LulaOficial</td>\n",
       "      <td>Lula</td>\n",
       "      <td>https://pbs.twimg.com/profile_images/145778941...</td>\n",
       "      <td>True</td>\n",
       "      <td>['entrevisto', 'lula', 'radiar', 'jovem', 'pan...</td>\n",
       "      <td>NaN</td>\n",
       "      <td>nan</td>\n",
       "      <td>NaN</td>\n",
       "    </tr>\n",
       "    <tr>\n",
       "      <th>3</th>\n",
       "      <td>3</td>\n",
       "      <td>['1453682338941095940']</td>\n",
       "      <td>1</td>\n",
       "      <td>2021-10-28T11:17:32.000Z</td>\n",
       "      <td>Fiz 76 anos ontem com muito orgulho. Não sinto...</td>\n",
       "      <td>1702</td>\n",
       "      <td>27763</td>\n",
       "      <td>1853</td>\n",
       "      <td>318</td>\n",
       "      <td>2670726740</td>\n",
       "      <td>LulaOficial</td>\n",
       "      <td>Lula</td>\n",
       "      <td>https://pbs.twimg.com/profile_images/145778941...</td>\n",
       "      <td>True</td>\n",
       "      <td>['fazer', 'ano', 'ontem', 'orgulhar', 'sentir'...</td>\n",
       "      <td>NaN</td>\n",
       "      <td>nan</td>\n",
       "      <td>NaN</td>\n",
       "    </tr>\n",
       "    <tr>\n",
       "      <th>4</th>\n",
       "      <td>4</td>\n",
       "      <td>['1453685308755746818']</td>\n",
       "      <td>1</td>\n",
       "      <td>2021-10-28T11:29:20.000Z</td>\n",
       "      <td>Para que a iniciativa privada se apodere do Es...</td>\n",
       "      <td>734</td>\n",
       "      <td>4697</td>\n",
       "      <td>302</td>\n",
       "      <td>66</td>\n",
       "      <td>2670726740</td>\n",
       "      <td>LulaOficial</td>\n",
       "      <td>Lula</td>\n",
       "      <td>https://pbs.twimg.com/profile_images/145778941...</td>\n",
       "      <td>True</td>\n",
       "      <td>['iniciativo', 'privar', 'apoderar', 'estar', ...</td>\n",
       "      <td>NaN</td>\n",
       "      <td>nan</td>\n",
       "      <td>NaN</td>\n",
       "    </tr>\n",
       "    <tr>\n",
       "      <th>...</th>\n",
       "      <td>...</td>\n",
       "      <td>...</td>\n",
       "      <td>...</td>\n",
       "      <td>...</td>\n",
       "      <td>...</td>\n",
       "      <td>...</td>\n",
       "      <td>...</td>\n",
       "      <td>...</td>\n",
       "      <td>...</td>\n",
       "      <td>...</td>\n",
       "      <td>...</td>\n",
       "      <td>...</td>\n",
       "      <td>...</td>\n",
       "      <td>...</td>\n",
       "      <td>...</td>\n",
       "      <td>...</td>\n",
       "      <td>...</td>\n",
       "      <td>...</td>\n",
       "    </tr>\n",
       "    <tr>\n",
       "      <th>6426</th>\n",
       "      <td>6426</td>\n",
       "      <td>['1501213533261996034']</td>\n",
       "      <td>1</td>\n",
       "      <td>2022-03-08T15:09:32.000Z</td>\n",
       "      <td>A discussão sobre fertilizantes não exige mine...</td>\n",
       "      <td>140</td>\n",
       "      <td>1337</td>\n",
       "      <td>58</td>\n",
       "      <td>17</td>\n",
       "      <td>4250596815</td>\n",
       "      <td>Sen_Alessandro</td>\n",
       "      <td>Senador Alessandro Vieira</td>\n",
       "      <td>https://pbs.twimg.com/profile_images/111633750...</td>\n",
       "      <td>True</td>\n",
       "      <td>['discussao', 'sobrar', 'fertilizante', 'exigi...</td>\n",
       "      <td>NaN</td>\n",
       "      <td>nan</td>\n",
       "      <td>NaN</td>\n",
       "    </tr>\n",
       "    <tr>\n",
       "      <th>6427</th>\n",
       "      <td>6427</td>\n",
       "      <td>['1501241756448342024']</td>\n",
       "      <td>1</td>\n",
       "      <td>2022-03-08T17:01:41.000Z</td>\n",
       "      <td>Recebi a visita do amigo e governador @jdoriaj...</td>\n",
       "      <td>68</td>\n",
       "      <td>1651</td>\n",
       "      <td>412</td>\n",
       "      <td>28</td>\n",
       "      <td>4250596815</td>\n",
       "      <td>Sen_Alessandro</td>\n",
       "      <td>Senador Alessandro Vieira</td>\n",
       "      <td>https://pbs.twimg.com/profile_images/111633750...</td>\n",
       "      <td>True</td>\n",
       "      <td>['receber', 'visitar', 'amigar', 'governador',...</td>\n",
       "      <td>['@jdoriajr']</td>\n",
       "      <td>nan</td>\n",
       "      <td>NaN</td>\n",
       "    </tr>\n",
       "    <tr>\n",
       "      <th>6428</th>\n",
       "      <td>6428</td>\n",
       "      <td>['1501294583552126979']</td>\n",
       "      <td>1</td>\n",
       "      <td>2022-03-08T20:31:36.000Z</td>\n",
       "      <td>O governador Belivaldo consolida o seu total d...</td>\n",
       "      <td>18</td>\n",
       "      <td>215</td>\n",
       "      <td>10</td>\n",
       "      <td>3</td>\n",
       "      <td>4250596815</td>\n",
       "      <td>Sen_Alessandro</td>\n",
       "      <td>Senador Alessandro Vieira</td>\n",
       "      <td>https://pbs.twimg.com/profile_images/111633750...</td>\n",
       "      <td>True</td>\n",
       "      <td>['governador', 'belivaldo', 'consolidar', 'tot...</td>\n",
       "      <td>NaN</td>\n",
       "      <td>nan</td>\n",
       "      <td>NaN</td>\n",
       "    </tr>\n",
       "    <tr>\n",
       "      <th>6429</th>\n",
       "      <td>6429</td>\n",
       "      <td>['1501708638121086978']</td>\n",
       "      <td>1</td>\n",
       "      <td>2022-03-09T23:56:54.000Z</td>\n",
       "      <td>Sem educação não existe futuro. A aprovação do...</td>\n",
       "      <td>73</td>\n",
       "      <td>956</td>\n",
       "      <td>84</td>\n",
       "      <td>5</td>\n",
       "      <td>4250596815</td>\n",
       "      <td>Sen_Alessandro</td>\n",
       "      <td>Senador Alessandro Vieira</td>\n",
       "      <td>https://pbs.twimg.com/profile_images/111633750...</td>\n",
       "      <td>True</td>\n",
       "      <td>['educacao', 'existir', 'futurar', 'aprovacao'...</td>\n",
       "      <td>NaN</td>\n",
       "      <td>nan</td>\n",
       "      <td>NaN</td>\n",
       "    </tr>\n",
       "    <tr>\n",
       "      <th>6430</th>\n",
       "      <td>6430</td>\n",
       "      <td>['1502675435779411970']</td>\n",
       "      <td>1</td>\n",
       "      <td>2022-03-12T15:58:36.000Z</td>\n",
       "      <td>O Brasil exige renovação na política e o Cidad...</td>\n",
       "      <td>516</td>\n",
       "      <td>6376</td>\n",
       "      <td>928</td>\n",
       "      <td>203</td>\n",
       "      <td>4250596815</td>\n",
       "      <td>Sen_Alessandro</td>\n",
       "      <td>Senador Alessandro Vieira</td>\n",
       "      <td>https://pbs.twimg.com/profile_images/111633750...</td>\n",
       "      <td>True</td>\n",
       "      <td>['brasil', 'exigir', 'renovacao', 'politicar',...</td>\n",
       "      <td>NaN</td>\n",
       "      <td>nan</td>\n",
       "      <td>NaN</td>\n",
       "    </tr>\n",
       "  </tbody>\n",
       "</table>\n",
       "<p>6431 rows × 18 columns</p>\n",
       "</div>"
      ],
      "text/plain": [
       "      Unnamed: 0                tweets_id  tweets_in_thread  \\\n",
       "0              0  ['1453442766982287361']                 1   \n",
       "1              1  ['1453676921393324036']                 1   \n",
       "2              2  ['1453681221603581952']                 1   \n",
       "3              3  ['1453682338941095940']                 1   \n",
       "4              4  ['1453685308755746818']                 1   \n",
       "...          ...                      ...               ...   \n",
       "6426        6426  ['1501213533261996034']                 1   \n",
       "6427        6427  ['1501241756448342024']                 1   \n",
       "6428        6428  ['1501294583552126979']                 1   \n",
       "6429        6429  ['1501708638121086978']                 1   \n",
       "6430        6430  ['1502675435779411970']                 1   \n",
       "\n",
       "                    created_at  \\\n",
       "0     2021-10-27T19:25:33.000Z   \n",
       "1     2021-10-28T10:56:00.000Z   \n",
       "2     2021-10-28T11:13:05.000Z   \n",
       "3     2021-10-28T11:17:32.000Z   \n",
       "4     2021-10-28T11:29:20.000Z   \n",
       "...                        ...   \n",
       "6426  2022-03-08T15:09:32.000Z   \n",
       "6427  2022-03-08T17:01:41.000Z   \n",
       "6428  2022-03-08T20:31:36.000Z   \n",
       "6429  2022-03-09T23:56:54.000Z   \n",
       "6430  2022-03-12T15:58:36.000Z   \n",
       "\n",
       "                                                   text  retweet_count  \\\n",
       "0     PARABÉNS, PRESIDENTE LULA | 76 anos com energi...           1423   \n",
       "1         Ao vivo em instantes: https://t.co/DC3AqHTIDc            139   \n",
       "2     Entrevista de Lula para a Rádio Jovem Pan de S...            630   \n",
       "3     Fiz 76 anos ontem com muito orgulho. Não sinto...           1702   \n",
       "4     Para que a iniciativa privada se apodere do Es...            734   \n",
       "...                                                 ...            ...   \n",
       "6426  A discussão sobre fertilizantes não exige mine...            140   \n",
       "6427  Recebi a visita do amigo e governador @jdoriaj...             68   \n",
       "6428  O governador Belivaldo consolida o seu total d...             18   \n",
       "6429  Sem educação não existe futuro. A aprovação do...             73   \n",
       "6430  O Brasil exige renovação na política e o Cidad...            516   \n",
       "\n",
       "      like_count  reply_count  quote_count     user_id        username  \\\n",
       "0          16845          939          323  2670726740     LulaOficial   \n",
       "1            607           42           14  2670726740     LulaOficial   \n",
       "2           3013          319           57  2670726740     LulaOficial   \n",
       "3          27763         1853          318  2670726740     LulaOficial   \n",
       "4           4697          302           66  2670726740     LulaOficial   \n",
       "...          ...          ...          ...         ...             ...   \n",
       "6426        1337           58           17  4250596815  Sen_Alessandro   \n",
       "6427        1651          412           28  4250596815  Sen_Alessandro   \n",
       "6428         215           10            3  4250596815  Sen_Alessandro   \n",
       "6429         956           84            5  4250596815  Sen_Alessandro   \n",
       "6430        6376          928          203  4250596815  Sen_Alessandro   \n",
       "\n",
       "                      user_name  \\\n",
       "0                          Lula   \n",
       "1                          Lula   \n",
       "2                          Lula   \n",
       "3                          Lula   \n",
       "4                          Lula   \n",
       "...                         ...   \n",
       "6426  Senador Alessandro Vieira   \n",
       "6427  Senador Alessandro Vieira   \n",
       "6428  Senador Alessandro Vieira   \n",
       "6429  Senador Alessandro Vieira   \n",
       "6430  Senador Alessandro Vieira   \n",
       "\n",
       "                                           user_picture  verified  \\\n",
       "0     https://pbs.twimg.com/profile_images/145778941...      True   \n",
       "1     https://pbs.twimg.com/profile_images/145778941...      True   \n",
       "2     https://pbs.twimg.com/profile_images/145778941...      True   \n",
       "3     https://pbs.twimg.com/profile_images/145778941...      True   \n",
       "4     https://pbs.twimg.com/profile_images/145778941...      True   \n",
       "...                                                 ...       ...   \n",
       "6426  https://pbs.twimg.com/profile_images/111633750...      True   \n",
       "6427  https://pbs.twimg.com/profile_images/111633750...      True   \n",
       "6428  https://pbs.twimg.com/profile_images/111633750...      True   \n",
       "6429  https://pbs.twimg.com/profile_images/111633750...      True   \n",
       "6430  https://pbs.twimg.com/profile_images/111633750...      True   \n",
       "\n",
       "                                             clean_text       mentions  \\\n",
       "0     ['parabens', 'presidente', 'lula', 'ano', 'ene...            NaN   \n",
       "1                                 ['viver', 'instante']            NaN   \n",
       "2     ['entrevisto', 'lula', 'radiar', 'jovem', 'pan...            NaN   \n",
       "3     ['fazer', 'ano', 'ontem', 'orgulhar', 'sentir'...            NaN   \n",
       "4     ['iniciativo', 'privar', 'apoderar', 'estar', ...            NaN   \n",
       "...                                                 ...            ...   \n",
       "6426  ['discussao', 'sobrar', 'fertilizante', 'exigi...            NaN   \n",
       "6427  ['receber', 'visitar', 'amigar', 'governador',...  ['@jdoriajr']   \n",
       "6428  ['governador', 'belivaldo', 'consolidar', 'tot...            NaN   \n",
       "6429  ['educacao', 'existir', 'futurar', 'aprovacao'...            NaN   \n",
       "6430  ['brasil', 'exigir', 'renovacao', 'politicar',...            NaN   \n",
       "\n",
       "         hashtags emojis  \n",
       "0     #equipelula    NaN  \n",
       "1             nan    NaN  \n",
       "2             nan    NaN  \n",
       "3             nan    NaN  \n",
       "4             nan    NaN  \n",
       "...           ...    ...  \n",
       "6426          nan    NaN  \n",
       "6427          nan    NaN  \n",
       "6428          nan    NaN  \n",
       "6429          nan    NaN  \n",
       "6430          nan    NaN  \n",
       "\n",
       "[6431 rows x 18 columns]"
      ]
     },
     "execution_count": 19,
     "metadata": {},
     "output_type": "execute_result"
    }
   ],
   "source": [
    "poli"
   ]
  },
  {
   "cell_type": "code",
   "execution_count": 20,
   "metadata": {},
   "outputs": [
    {
     "data": {
      "image/png": "[encoded data removed]",
      "text/plain": [
       "<Figure size 432x288 with 1 Axes>"
      ]
     },
     "metadata": {
      "needs_background": "light"
     },
     "output_type": "display_data"
    }
   ],
   "source": [
    "df = poli[(poli.hashtags=='#equipelula')][['like_count','created_at']].plot()\n",
    "\n",
    "\n"
   ]
  },
  {
   "cell_type": "code",
   "execution_count": 21,
   "metadata": {},
   "outputs": [
    {
     "name": "stdout",
     "output_type": "stream",
     "text": [
      "Lula: ['#equipelula', '#76fatossobrelula', '#lulaaovivo', '#pt42anos', '#lulanacbnvale']\n",
      "\n",
      "Jair M. Bolsonaro: []\n",
      "\n",
      "André Janones: ['#naojogueopovonarua', '#distritaonao', '#cpidacovid', '#pazuelloday', '#tokyo2020']\n",
      "\n",
      "Simone Tebet: ['#cpidacovid', '#cpidacovid, #covaxin', '#sousimonesim, #frentedemocratica', '#sousimonesim, #frentedemocra, #tebetpresidente, #simonetebetms', '#simonetebet2022, #mdb, #mdbcomsimone2022']\n",
      "\n",
      "Felipe d'Avila: ['#ladod', '#debatelide', '#2022emdebate', '#maisfunda', '#lfdavila, #novo']\n",
      "\n",
      "Ciro Gomes: ['#cirogames', '#reactdocira', '#convenc', '#convenc, #cirorebeldiadaesperanc', '#cironacnn']\n",
      "\n",
      "João Doria: ['#transpare, #governosp', '#spmaisseguro', '#tbt', '#vacinassalvam', '#vacinaja']\n",
      "\n",
      "Sergio Moro: ['#moronoflow', '#moronoceara', '#abreascontasbolsolula', '#vacinasim', '#sqn']\n",
      "\n",
      "Aldo Rebelo: ['#darcyfaz99, #99anosdarcyribeiro']\n",
      "\n",
      "Leo Péricles: ['#forabolsonaro', '#leonardopericles, #leopericles2022, #unidadepopular, #socialismo, #poderpopular, #eleic, #presidenciaveis2022', '#vaidarup', '#unidadepopular, #up80', '#unidadepopular']\n",
      "\n",
      "Senador Alessandro Vieira: ['#alessandronorodaviva', '#cpidacovid', '#alessandronojornaldacnn', '#luto', '#lavajato']\n",
      "\n"
     ]
    }
   ],
   "source": [
    "polititians = poli['user_name'].unique()\n",
    "for polititian in polititians:\n",
    "    hashtags = poli[poli.user_name == polititian].hashtags.value_counts().reset_index()\n",
    "    print(polititian, end = ': ')\n",
    "    print(f'{list(hashtags[\"index\"][1:6])}')\n",
    "    print()\n"
   ]
  },
  {
   "cell_type": "code",
   "execution_count": 22,
   "metadata": {},
   "outputs": [
    {
     "data": {
      "text/plain": [
       "array(['#equipelula', 'nan', '#76fatossobrelula1', '#76fatossobrelula2',\n",
       "       '#76fatossobrelula3', '#76fatossobrelula4', '#76fatossobrelula5',\n",
       "       '#76fatossobrelula6', '#76fatossobrelula7', '#76fatossobrelula8',\n",
       "       '#76fatossobrelula9', '#76fatossobrelula10', '#76fatossobrelula11',\n",
       "       '#76fatossobrelula12', '#76fatossobrelula13',\n",
       "       '#76fatossobrelula14', '#76fatossobrelula15',\n",
       "       '#76fatossobrelula16', '#equipelulavi', '#76fatossobrelula17',\n",
       "       '#76fatossobrelula18', '#76fatossobrelula19',\n",
       "       '#76fatossobrelula20', '#76fatossobrelula21',\n",
       "       '#76fatossobrelula22', '#76fatossobrelula23',\n",
       "       '#76fatossobrelula24', '#76fatossobrelula25',\n",
       "       '#76fatossobrelula26', '#76fatossobrelula27',\n",
       "       '#76fatossobrelula28', '#76fatossobrelula29',\n",
       "       '#76fatossobrelula30', '#76fatossobrelula31',\n",
       "       '#76fatossobrelula32', '#76fatossobrelula33',\n",
       "       '#76fatossobrelula34', '#76fatossobrelula35',\n",
       "       '#76fatossobrelula36', '#76fatossobrelula37',\n",
       "       '#76fatossobrelula38', '#76fatossobrelula39',\n",
       "       '#76fatossobrelula40', '#76fatossobrelula41',\n",
       "       '#76fatossobrelula42', '#76fatossobrelula43',\n",
       "       '#76fatossobrelula44', '#76fatossobrelula45',\n",
       "       '#76fatossobrelula46', '#76fatossobrelula', '#76fatossobrelula53',\n",
       "       '#76fatossobrelula, #sus', '#76fatossobrelula57', '#cop26',\n",
       "       '#diadaconsciencianegra', '#brazilafricaforum',\n",
       "       '#vacinaparatodosja', '#3mi',\n",
       "       '#anonovodosenovaate, #anonovodosenovaao, #anonovodosenovaos',\n",
       "       '#lulaaovivo', '#brizola100anos', '#mst38anos', '#lulanacbnvale',\n",
       "       '#justic, #equipelula', '#justic', '#pt42anos',\n",
       "       '#pt42anosquero, #pt42anos', '#pt42anos, #pt42anos',\n",
       "       '#pt42anos, #equipelula', '#corinthians',\n",
       "       '#vacinac, #vacinaja, #vacinasim, #sus', '#parabensrio',\n",
       "       '#equipelula, #lulalivre, #lulainocente',\n",
       "       '#equipelula, #8demarc, #8m2022',\n",
       "       '#equipelula, #8m, #diainternacionaldamulher, #diadamulher',\n",
       "       '#nempenseemmematar', '#ditaduranuncamais', '#tbt',\n",
       "       '#obrasilvaimudar, #pracimadeles, #tamojunto', '#despejozero',\n",
       "       '#pl3729nao', '#naojogueopovonarua',\n",
       "       '#cpidacovid, #naojogueopovonarua', '#cpidacovid', '#yadinho',\n",
       "       '#profissaoreporter', '#pazuelloday',\n",
       "       '#gosharks, #valorantmasters', '#diadoorgulhonerd, #diadatoalha',\n",
       "       '#govks', '#pracimadeles, #tamojunto', '#emendaantiprivile',\n",
       "       '#12setforabolsonaro',\n",
       "       '#dia1209euvou, #bolsonarocachorromorto, #12setforabolsonaro',\n",
       "       '#orempelopresidente', '#funda', '#fundaode6binao', '#tokyo2020',\n",
       "       '#skateboarding', '#tamojuntoate', '#distrita', '#distritaonao',\n",
       "       '#bra', '#12setpeloimpeachment', '#12seteuvou',\n",
       "       '#dia12peloimpeachment', '#domingoforabolsonaro', '#newprofilepic',\n",
       "       '#dia12vaisermuitomaior', '#pec5na', '#diadefuria',\n",
       "       '#stfsuspendebolsolao', '#f1nogaules', '#govk', '#pl5544nao',\n",
       "       '#tamojunto', '#todospelainovac, #pelofuturodaindu', '#veto52',\n",
       "       '#rezemosjuntos',\n",
       "       '#esperanc, #saude, #vacinacao, #covid, #planonacionalja',\n",
       "       '#sousimonesim, #frentedemocratica',\n",
       "       '#sousimonesim, #frentedemocra',\n",
       "       '#sousimonesim, #simonetebet, #frentedemocratica',\n",
       "       '#sousimonesim, #simonetebet, #frentedemocra', '#sousimonesim',\n",
       "       '#sousimonesim, #frentedemocra, #tebetpresidente, #simonetebetms',\n",
       "       '#sousimonesim, #simonetebet',\n",
       "       '#queroservacinado, #vidasbrasileirasimportam',\n",
       "       '#pl130sancionapresidente, #trabalhoigualsalarioigual, #desigualdadesalarialtemmulta, #bancadafeminina, #senadofederal',\n",
       "       '#cpidacovid, #covaxin', '#vacine',\n",
       "       '#simonetebet2022, #mdb, #mdbcomsimone2022',\n",
       "       '#simonetebet, #simonetebet2022, #mdb, #mdbcomsimone2022, #simonesim',\n",
       "       '#ladod', '#vacinasim, #vacinaparatodos', '#spotify, #deezer',\n",
       "       '#reformaadministrativaja', '#vamosmorrerate', '#2022emdebate',\n",
       "       '#2022emdebate, #prima', '#2022emdebate, #prima, #uniaopelobrasil',\n",
       "       '#afeganista, #taliban', '#taliban', '#taliban, #afeganista',\n",
       "       '#taliban, #afeganistao', '#afeganista, #taleban', '#cuba',\n",
       "       '#covid, #pandemia', '#fome, #desemprego', '#haiti',\n",
       "       '#impeachment', '#greatplacetowork', '#inflacao, #economia',\n",
       "       '#brasil, #politica, #economia, #desemprego',\n",
       "       '#virtutalks, #afeganista', '#terceiravia, #eleic',\n",
       "       '#bancocentral, #economia', '#resposta, #luizfux, #stf, #poli',\n",
       "       '#presidente', '#politica, #brasil', '#eleic', '#terceiravia',\n",
       "       '#eleic, #terceiravia', '#eleicoes2022, #terceiravia', '#calotena',\n",
       "       '#papeldoestado, #cidada, #cidadania', '#privatizac',\n",
       "       '#democracia, #redes', '#lfdavila, #novo',\n",
       "       '#democracia, #lfdavila', '#pecprecato', '#partidonovo', '#brasil',\n",
       "       '#democracia, #brasil, #eleic, #lfdavila',\n",
       "       '#casamento, #unia, #amor, #lfdavila', '#democracia, #brasil',\n",
       "       '#maisfundaona', '#lfdavila', '#debatelide', '#maisfunda',\n",
       "       '#diainternacionaldamulher', '#cironodatena', '#cironaglobonews',\n",
       "       '#cironacnn', '#cironomynews', '#cironouol', '#cironacbn',\n",
       "       '#cirogames', '#opetro', '#ciroemribeira',\n",
       "       '#ciroretrospectiva2021', '#15', '#cirogamese, #cirogames',\n",
       "       '#cirogames, #cirogames', '#cirogames, #cortescirogames',\n",
       "       '#ciromensagemdenatal', '#sosbahiaaproveito, #sosbahia',\n",
       "       '#cironoestada', '#cortescirogames',\n",
       "       '#cirogames, #ciroretrospectiva2021',\n",
       "       '#prefirociro, #ciroretrospectiva2021', '#cironocanallivre',\n",
       "       '#debateciroemoro', '#16', '#debateciroemoroainda', '#convenc',\n",
       "       '#cironoflow', '#forabolsonaro', '#racismoreverso', '#faltam4dias',\n",
       "       '#faltam3dias, #convenc', '#faltam3dias', '#17',\n",
       "       '#cirorebeldiadaesperanc, #convenc, #faltam2dias',\n",
       "       '#cirorebeldiadaesperanca, #faltam2dias, #convenc',\n",
       "       '#convenc, #falta1dia', '#tbtquem',\n",
       "       '#convenc, #cirorebeldiadaesperanc', '#convenc, #convenc', '#cafe',\n",
       "       '#cafe, #brizola100anos', '#cironabandnews',\n",
       "       '#fuirebeldequando, #fuirebeldequando, #fuirebeldequando',\n",
       "       '#cironodatenao, #cironodatena', '#cironodatenamas, #cironodatena',\n",
       "       '#fuirebeldequando', '#cironara', '#sa', '#18', '#reactdocira',\n",
       "       '#alianc', '#cironacnnacompanhe', '#cironanovabrasilfm',\n",
       "       '#cironanovabrasilfmacompanhe', '#minharebeldiavaipara',\n",
       "       '#cirorebeldiadaesperanc', '#osmilho',\n",
       "       '#justic, #justic, #justic, #justic', '#19',\n",
       "       '#reactdocira, #cirogames', '#cirogamesque, #cirogames',\n",
       "       '#cirogames, #reactdocira', '#sitedociro, #cirogames',\n",
       "       '#bbbdocira', '#rebeldequeadmiro', '#forabolsonaro, #bbbdocira',\n",
       "       '#20', '#tbt, #cirogames', '#bbbdocira, #cirogames',\n",
       "       '#ciroemminas', '#impressa', '#semanadeartemoderna',\n",
       "       '#diadegiselle', '#ciroemcuiaba',\n",
       "       '#diadegiselle, #teamo, #valentinesday', '#spciro', '#21',\n",
       "       '#cirocomcaminhoneiros', '#cironaruto', '#22',\n",
       "       '#ceoconference2022', '#fevereirodocira', '#brasilvoodea',\n",
       "       '#aforc', '#rebeldiadaesperanc', '#cirogames, #brasilvoodea',\n",
       "       '#prec', '#ciroplebiscito', '#cironabahia', '#pdtcoragemparamudar',\n",
       "       '#cirocommovimentosnegros', '#ciroemgoia', '#cirogames, #pdtnatv',\n",
       "       '#cironoartedaguerra', '#cironoartedaguerraassista',\n",
       "       '#cirogames, #diainternacionaldamulher, #pdtnatv',\n",
       "       '#diainternacionaldamulher, #aforc', '#24',\n",
       "       '#mulherescomciro, #cirogames', '#cirogames, #mulherescomciro',\n",
       "       '#cirotemraza', '#ta', '#nasruascomciro', '#paixa',\n",
       "       '#cirocontracorrupc, #cirocontracorrupc', '#vacinaja',\n",
       "       '#transpare, #governosp', '#poli, #bandidosnacadeia',\n",
       "       '#vacinapratodos', '#gpspoli', '#gesta', '#retomasp',\n",
       "       '#vacinanobrac', '#spmaisseguro', '#inclusa, #respeito',\n",
       "       '#dignidadei', '#butanvac, #e, #podeconfiar',\n",
       "       '#gesta, #planejamento, #trabalhofonte', '#sp, #ma',\n",
       "       '#menosimpostos, #maisempregos', '#trabalho, #planejamento',\n",
       "       '#vacinassalvam', '#trabalho, #calc', '#pre', '#vacinasalva',\n",
       "       '#vacinasim', '#menosimpostos, #maisdesenvolvimento', '#agrosp',\n",
       "       '#governosp', '#governosp, #missa', '#missa',\n",
       "       '#governosp, #meioambiente, #desenvolvimentosustenta, #energiasrenova',\n",
       "       '#cop26uk, #govermosp, #meioambiente, #reflorestasp',\n",
       "       '#habitac, #moradiapopular, #governosp', '#cufa, #governosp',\n",
       "       '#sppratodos', '#trabalho, #gesta, #planejamento',\n",
       "       '#vacinaja, #vacinapratodos', '#menosestado, #maisprivadoa',\n",
       "       '#vote451', '#trabalho, #planejamento, #gesta',\n",
       "       '#trabalho, #planejamento, #gesta, #governosp', '#juntospelasau',\n",
       "       '#tmj', '#juntospelobrasil', '#educac, #ensinopu, #governosp',\n",
       "       '#menosestado, #maisprivadoaqui',\n",
       "       '#trabalho, #planejamento, #governosp', '#transpare',\n",
       "       '#boravacinar', '#novoriopinheiros', '#boravacinarcrianc',\n",
       "       '#weremember', '#time, #planejamento, #trabalho, #gesta',\n",
       "       '#maisprivado, #menospu', '#timetrabalhador',\n",
       "       '#inacredita, #inadmissi, #impensa', '#transparencia', '#educac',\n",
       "       '#governoreformista', '#spmaishumano', '#diadasmulheres',\n",
       "       '#planejamento, #trabalho, #gesta', '#calc', '#avantelavajato',\n",
       "       '#brasilquercorruptospresos', '#deltannalavajato', '#parabensmoro',\n",
       "       '#cemmiledai', '#manhattanconnection', '#parabensmorodesejo',\n",
       "       '#moronoflow', '#abreascontasbolsolula', '#moronoceara', '#sextou',\n",
       "       '#agro, #moro, #soja', '#sqn', '#fe, #maringa',\n",
       "       '#darcyfaz99, #99anosdarcyribeiro', '#vaidarup',\n",
       "       '#bomdia, #fernandosantacruz, #ditaduranuncamais',\n",
       "       '#trump, #trumpdesbloqueavenezuela, #trumpdesbloqueieavenezuela',\n",
       "       '#vaudarup, #unidadepopular',\n",
       "       '#amazoniaurgente, #calabocabolsonaro, #unidadepopular',\n",
       "       '#trumpdesbloqueavenezuela, #trumpunblockvenezuela',\n",
       "       '#marxismo, #unidadepopular', '#vaidarupcurta',\n",
       "       '#chile, #grevegeral, #unidadepopular',\n",
       "       '#torturanuncamais, #abaixoaditadura, #abaixoogovernobolsonaro',\n",
       "       '#forabolsonaro, #abqixoogovernobolsonaro, #unidadepopular',\n",
       "       '#vaidarup, #socialismo, #marxismo, #luta, #contraoracismo, #novembronegro, #rac, #classe',\n",
       "       '#bolivia', '#up80', '#up80, #unidadepopular, #vaiavancar',\n",
       "       '#ai5nuncamais', '#unidadepopular, #up80',\n",
       "       '#unidadepopular, #fomezero, #natalsemfome, #reformaurbana',\n",
       "       '#up80, #unidadepopular', '#foraeuadoorientemedio, #notwar',\n",
       "       '#marighella', '#itatiaia, #moradia, #favela, #up80',\n",
       "       '#favela, #periferia, #olheparaoalto, #unidadepopular',\n",
       "       '#resistealtodaboavista, #olheparaoalto', '#somostodospetroleiros',\n",
       "       '#impeachmentdebolsonaro', '#mariellepresente, #unidadepopular',\n",
       "       '#up2020, #vaiavanc, #socialismo',\n",
       "       '#forabolsonaro, #forabolsonaros, #unidadepopular',\n",
       "       '#forabolsonaro, #unidadepopular, #18m', '#auditoriadadividaja',\n",
       "       '#forabolsonaro, #unidadepopular',\n",
       "       '#forabol卐onaro, #forabolsonaro, #unidadepopular',\n",
       "       '#periferiacontrabolsonaro, #forabolsonaro, #porumgovernopopular, #ditaduranuncamais, #covid19nasocupac, #covid19nasfavelas',\n",
       "       '#forabolsonaro, #porumgovernopopular, #covid19nasfavelas, #unidadepopular',\n",
       "       '#ditaduranuncamais, #forabolsonaro',\n",
       "       '#forabolsonaro, #porumgovernopopular',\n",
       "       '#imprensapopular, #unidadepopular, #averdade',\n",
       "       '#forabolsonaro, #porumgovernopopular, #unidadepopular',\n",
       "       '#morohipo, #forabolsonaro', '#trumpdesbloquieavenezuela',\n",
       "       '#adiaenem', '#adiaenem, #forabolsonaro, #foraweitraub',\n",
       "       '#federalizac, #justicaparamarielleeanderson',\n",
       "       '#quemmandoumatarmarielle, #justic, #ditaduranuncamais',\n",
       "       '#vidasnegrasimportam, #blacklivesmatter',\n",
       "       '#forabolsonaro, #porumgovernopopular, #impeachmentja',\n",
       "       '#ditaduranuncamais, #forabolsonaro, #vidasnegrasimportam',\n",
       "       '#justicaparamiguel',\n",
       "       '#forabolsonaro, #porumgovernopopular, #vidasnegrasimportamveja',\n",
       "       '#vidasnegrasimportam',\n",
       "       '#forabolsonaro, #unidadepopular, #vidasnegrasimportam',\n",
       "       '#verdadejustic, #forabolsonaro',\n",
       "       '#forabolsonaro, #unidadepopular, #porumgovernopopularsegue',\n",
       "       '#forabolsonaro, #porumgovernopopular, #vidasnegrasimportam',\n",
       "       '#upnasruas, #forabolsonaro, #porumgovernopopular, #vidasnegrasimportam, #antifascista',\n",
       "       '#upnasruas',\n",
       "       '#futebol, #torcidasorganizadas, #vidasnegrasimportam',\n",
       "       '#aularemotapraquem',\n",
       "       '#pride, #stopbolsonaro, #diadoorgulholgbt, #pride2020',\n",
       "       '#brequedosapps, #1diasemapp, #apoiebrequedosapps',\n",
       "       '#brequedosapps', '#reduzaja', '#irisquevergonha, #ocupasaomarcos',\n",
       "       '#unidadepopular, #vaidarup', '#forabolsonaro, #vaidarup',\n",
       "       '#unidadepopular', '#unidadepopular, #unidadepopular',\n",
       "       '#aprovafundeb, #forabolsonaro',\n",
       "       '#entregadoresantifascistas, #entregadores, #grevedosentregadores',\n",
       "       '#justicaporjosue', '#covid19, #despejozero', '#covid19',\n",
       "       '#belohorizonte, #unidadepopular, #fogonosracistas, #poderpopular, #forabolsonarofoto',\n",
       "       '#forainterventor, #forainterventorifrn',\n",
       "       '#zemagenocida, #despejozero',\n",
       "       '#salvequilombo, #despejozero, #zemagenocida',\n",
       "       '#zemacovarde, #salvequilombo, #despejozero',\n",
       "       '#zemacovarde, #despejozero, #salvequilombo', '#zemacovarde',\n",
       "       '#unidadepopular, #despejozero', '#aureacomleo',\n",
       "       '#entrevista, #brasil247, #unidadepopular', '#a',\n",
       "       '#torturanuncamais, #pelodireitoamemoria',\n",
       "       '#aureacomleo, #viravotobh, #unidadepopular, #up80',\n",
       "       '#justicapormariferrer', '#dia15voteup80', '#euvoude80',\n",
       "       '#sosamapa, #amapapedesocorro',\n",
       "       '#justicaporjoaoalberto, #vidasnegrasimportam',\n",
       "       '#unidadepopular, #virasp50, #boulos50', '#forazema, #covid19',\n",
       "       '#forabolsonarogenocida, #oxigenioparamanaus',\n",
       "       '#brumadinho2anos, #valeassassina', '#naoaautonomiadobc',\n",
       "       '#forabolsonarogenocida', '#vacinaja, #forabolsonaro',\n",
       "       '#vazajato, #forabolsonaro',\n",
       "       '#isolamentosocial, #covid19nasfavelas, #covid19, #forabolsonarogenocida',\n",
       "       '#vidasnegrasimportam, #forabolsonaro, #21m',\n",
       "       '#bolsonarogenocida, #bolsonaro300mil', '#forabolsonarogenocidae',\n",
       "       '#forabolsonarogenocida, #chacinadojacarezinho, #justicaporjacarezinho',\n",
       "       '#palestina, #palestinalivre, #freepalaestine, #israelterrorists',\n",
       "       '#forabolsonaro, #educacao', '#vacinaimprensa',\n",
       "       '#29m, #povonarua, #forabolsonaro',\n",
       "       '#forabolsonaro, #povonarua, #29mforabolsonaro',\n",
       "       '#forabolsonaro, #19j', '#forabolsonaro, #19jforabolsonaro',\n",
       "       '#10j, #forabolsonaro', '#elmundodicenoinforme, #elmundodiceno',\n",
       "       '#povonarua, #forabolsonaro', '#13j, #forabolsonaro',\n",
       "       '#cubanoestasola', '#forabolsonaro, #ditaduranuncamais',\n",
       "       '#negociazema, #zemarecebaasocupacoes',\n",
       "       '#zemarecebaasocupacoes, #ocupac',\n",
       "       '#libertemgaloegessica, #liberdadeparapauloegessica',\n",
       "       '#libertemgaloegessica', '#liberdadeparagalo', '#7sforabolsonaro',\n",
       "       '#forabolsonaro, #bolsonarovergonhadobrasil', '#fogonosracistas',\n",
       "       '#punic', '#braskemcriminosa', '#na', '#chiledecide',\n",
       "       '#oproblemadobrasile', '#chuvas',\n",
       "       '#leonardopericles, #leopericles2022, #unidadepopular, #socialismo, #poderpopular, #eleic, #presidenciaveis2022',\n",
       "       '#eleic, #presidenciaveis2022',\n",
       "       '#leonardopericles, #leopericles2022, #unidadepopular, #socialismo, #poderpopular, #eleic',\n",
       "       '#leonardopericles, #leopericles2022', '#leonardopericles',\n",
       "       '#justicaparamoise, #vidasnegrasimportam', '#nazismonao',\n",
       "       '#midiapopular, #jornalaverdade, #lenin', '#gasolina, #petrobras',\n",
       "       '#sus', '#vergonha', '#fa', '#bolsonaroe', '#churrascodamorte',\n",
       "       '#presidentefake', '#divulgatudocelsodemello', '#covidー19',\n",
       "       '#felipenetonorodaviva', '#liberaovideocelsodemello',\n",
       "       '#adiaenem2020', '#democracia',\n",
       "       '#chegadefakenews, #gabinetedoodionacadeia', '#queirozpreso',\n",
       "       '#lavajato', '#frentedarendaba, #rendaba', '#frentedarendaba',\n",
       "       '#fundebpermanente', '#frentedarendabasica',\n",
       "       '#fimdoforoprivilegiado', '#fundeb', '#luto', '#rendaba',\n",
       "       '#butanta, #vacinaja', '#auxilioemergencialja', '#assessoria',\n",
       "       '#daassessoria', '#assessoria, #senadoralessandrovieira, #covid19',\n",
       "       '#derrubavetoconectividadee, #derrubavetoconectividade, #derrubavetoconectividade',\n",
       "       '#cpi',\n",
       "       '#derrubavetopl3477os, #derrubavetopl3477garantir, #derrubavetopl3477',\n",
       "       '#stfvergonhanacional', '#cpidapandemia', '#eletrobras',\n",
       "       '#500milmortos', '#500milmortos, #cpidacovid', '#cpidarachadinha',\n",
       "       '#naovaitergolpe', '#arasnuncamais',\n",
       "       '#euacreditonademocracia, #umso', '#1000diasdementiras',\n",
       "       '#alessandronorodaviva', '#unidoscontraacorrupcao',\n",
       "       '#bolsola, #orc', '#bolsolao', '#pec23na', '#cpidobolsolao',\n",
       "       '#alessandronojornaldacnn', '#apagaonasaude'], dtype=object)"
      ]
     },
     "execution_count": 22,
     "metadata": {},
     "output_type": "execute_result"
    }
   ],
   "source": [
    "poli.hashtags.unique()"
   ]
  },
  {
   "cell_type": "markdown",
   "metadata": {},
   "source": [
    "## Contagem de hashtags ao longo do tempo"
   ]
  },
  {
   "cell_type": "code",
   "execution_count": 23,
   "metadata": {},
   "outputs": [],
   "source": [
    "def hashtag_pattern(df: pd.DataFrame, hashtag: List[str], granularidade: str = \"m\") -> np.nan:\n",
    "    \"\"\"Generates count of hashtags appearence over time\n",
    "\n",
    "    Args:\n",
    "        df (pd.DataFrame): polititians dataframe\n",
    "        hashtag (List[str]): hashtag list to visualize\n",
    "        granularidade (str, optional): visualization scope Defaults to \"m\".\n",
    "        combine (bool, optional): combining hashtags\n",
    "\n",
    "    Returns:\n",
    "        np.nan: Doesn't return anything\n",
    "    \"\"\"\n",
    "\n",
    "    formats = {'d': '%d/%m/%Y',\n",
    "                'm': '%Y/%m',\n",
    "                'y': '%Y'}\n",
    "\n",
    "\n",
    "    timeline_df = df[['created_at', 'hashtags']].copy()\n",
    "\n",
    "    pal = list(sns.color_palette(palette='viridis', n_colors=len(hashtag)).as_hex())\n",
    "\n",
    "    fig = go.Figure()\n",
    "    for d,p in zip(hashtag, pal):\n",
    "\n",
    "        searcher = re.compile(d)\n",
    "\n",
    "        hash_df = timeline_df.copy()\n",
    "\n",
    "        filter = hash_df.hashtags.apply(lambda x: True if searcher.search(x) else False)\n",
    "\n",
    "        hash_df.created_at = hash_df.created_at.apply(lambda x: parser.parse(x).strftime(formats[granularidade]))\n",
    "\n",
    "        hashtag_df = hash_df[filter].groupby(\"created_at\").count().reset_index()\n",
    "\n",
    "        hashtag_df.created_at = pd.to_datetime(hashtag_df.created_at, format=formats[granularidade])\n",
    "\n",
    "        hashtag_df.sort_values('created_at', inplace=True)\n",
    "\n",
    "        print(hashtag_df)\n",
    "\n",
    "\n",
    "        fig.add_trace(go.Scatter(x = hashtag_df.created_at,\n",
    "                                y = hashtag_df.hashtags,\n",
    "                                name = d,\n",
    "                                line_color = p, \n",
    "                                fill=None))   #tozeroy \n",
    "                            \n",
    "    \n",
    "    fig.show()\n",
    "\n",
    "    \n",
    "    \n",
    "    "
   ]
  },
  {
   "cell_type": "code",
   "execution_count": 24,
   "metadata": {},
   "outputs": [
    {
     "name": "stdout",
     "output_type": "stream",
     "text": [
      "  created_at  hashtags\n",
      "4 2021-10-31        29\n",
      "0 2021-11-01        14\n",
      "1 2021-11-02        14\n",
      "2 2021-11-03         9\n",
      "3 2021-11-04         9\n",
      "   created_at  hashtags\n",
      "47 2021-10-27         1\n",
      "53 2021-10-31         1\n",
      "14 2021-11-09         1\n",
      "18 2021-11-10         1\n",
      "27 2021-11-15         3\n",
      "29 2021-11-16         1\n",
      "31 2021-11-17         1\n",
      "35 2021-11-18         1\n",
      "36 2021-11-19         1\n",
      "37 2021-11-20         2\n",
      "40 2021-11-21         1\n",
      "50 2021-11-29         1\n",
      "51 2021-11-30         1\n",
      "0  2021-12-01         1\n",
      "4  2021-12-03         2\n",
      "5  2021-12-04         2\n",
      "7  2021-12-06         1\n",
      "10 2021-12-07         1\n",
      "15 2021-12-09         2\n",
      "19 2021-12-10         1\n",
      "23 2021-12-12         1\n",
      "32 2021-12-17         1\n",
      "49 2021-12-28         2\n",
      "20 2022-01-11         1\n",
      "22 2022-01-12         1\n",
      "24 2022-01-14         1\n",
      "30 2022-01-17         2\n",
      "33 2022-01-18         1\n",
      "38 2022-01-21         1\n",
      "42 2022-01-23         1\n",
      "44 2022-01-24         2\n",
      "46 2022-01-27         2\n",
      "48 2022-01-28         1\n",
      "52 2022-01-31         2\n",
      "1  2022-02-02         1\n",
      "3  2022-02-03         1\n",
      "8  2022-02-07         1\n",
      "11 2022-02-08         1\n",
      "16 2022-02-10         1\n",
      "25 2022-02-14         1\n",
      "26 2022-02-15         1\n",
      "28 2022-02-16         1\n",
      "34 2022-02-18         1\n",
      "39 2022-02-21         1\n",
      "41 2022-02-22         1\n",
      "43 2022-02-23         2\n",
      "45 2022-02-24         1\n",
      "2  2022-03-02         1\n",
      "6  2022-03-05         2\n",
      "9  2022-03-07         2\n",
      "12 2022-03-08         3\n",
      "13 2022-03-09         1\n",
      "17 2022-03-10         1\n",
      "21 2022-03-11         1\n"
     ]
    },
    {
     "data": {
      "application/vnd.plotly.v1+json": {
       "config": {
        "plotlyServerURL": "https://plot.ly"
       },
       "data": [
        {
         "line": {
          "color": "#31688e"
         },
         "name": "fatossobrelula",
         "type": "scatter",
         "x": [
          "2021-10-31T00:00:00",
          "2021-11-01T00:00:00",
          "2021-11-02T00:00:00",
          "2021-11-03T00:00:00",
          "2021-11-04T00:00:00"
         ],
         "y": [
          29,
          14,
          14,
          9,
          9
         ]
        },
        {
         "line": {
          "color": "#35b779"
         },
         "name": "equipelula",
         "type": "scatter",
         "x": [
          "2021-10-27T00:00:00",
          "2021-10-31T00:00:00",
          "2021-11-09T00:00:00",
          "2021-11-10T00:00:00",
          "2021-11-15T00:00:00",
          "2021-11-16T00:00:00",
          "2021-11-17T00:00:00",
          "2021-11-18T00:00:00",
          "2021-11-19T00:00:00",
          "2021-11-20T00:00:00",
          "2021-11-21T00:00:00",
          "2021-11-29T00:00:00",
          "2021-11-30T00:00:00",
          "2021-12-01T00:00:00",
          "2021-12-03T00:00:00",
          "2021-12-04T00:00:00",
          "2021-12-06T00:00:00",
          "2021-12-07T00:00:00",
          "2021-12-09T00:00:00",
          "2021-12-10T00:00:00",
          "2021-12-12T00:00:00",
          "2021-12-17T00:00:00",
          "2021-12-28T00:00:00",
          "2022-01-11T00:00:00",
          "2022-01-12T00:00:00",
          "2022-01-14T00:00:00",
          "2022-01-17T00:00:00",
          "2022-01-18T00:00:00",
          "2022-01-21T00:00:00",
          "2022-01-23T00:00:00",
          "2022-01-24T00:00:00",
          "2022-01-27T00:00:00",
          "2022-01-28T00:00:00",
          "2022-01-31T00:00:00",
          "2022-02-02T00:00:00",
          "2022-02-03T00:00:00",
          "2022-02-07T00:00:00",
          "2022-02-08T00:00:00",
          "2022-02-10T00:00:00",
          "2022-02-14T00:00:00",
          "2022-02-15T00:00:00",
          "2022-02-16T00:00:00",
          "2022-02-18T00:00:00",
          "2022-02-21T00:00:00",
          "2022-02-22T00:00:00",
          "2022-02-23T00:00:00",
          "2022-02-24T00:00:00",
          "2022-03-02T00:00:00",
          "2022-03-05T00:00:00",
          "2022-03-07T00:00:00",
          "2022-03-08T00:00:00",
          "2022-03-09T00:00:00",
          "2022-03-10T00:00:00",
          "2022-03-11T00:00:00"
         ],
         "y": [
          1,
          1,
          1,
          1,
          3,
          1,
          1,
          1,
          1,
          2,
          1,
          1,
          1,
          1,
          2,
          2,
          1,
          1,
          2,
          1,
          1,
          1,
          2,
          1,
          1,
          1,
          2,
          1,
          1,
          1,
          2,
          2,
          1,
          2,
          1,
          1,
          1,
          1,
          1,
          1,
          1,
          1,
          1,
          1,
          1,
          2,
          1,
          1,
          2,
          2,
          3,
          1,
          1,
          1
         ]
        }
       ],
       "layout": {
        "template": {
         "data": {
          "bar": [
           {
            "error_x": {
             "color": "#2a3f5f"
            },
            "error_y": {
             "color": "#2a3f5f"
            },
            "marker": {
             "line": {
              "color": "#E5ECF6",
              "width": 0.5
             },
             "pattern": {
              "fillmode": "overlay",
              "size": 10,
              "solidity": 0.2
             }
            },
            "type": "bar"
           }
          ],
          "barpolar": [
           {
            "marker": {
             "line": {
              "color": "#E5ECF6",
              "width": 0.5
             },
             "pattern": {
              "fillmode": "overlay",
              "size": 10,
              "solidity": 0.2
             }
            },
            "type": "barpolar"
           }
          ],
          "carpet": [
           {
            "aaxis": {
             "endlinecolor": "#2a3f5f",
             "gridcolor": "white",
             "linecolor": "white",
             "minorgridcolor": "white",
             "startlinecolor": "#2a3f5f"
            },
            "baxis": {
             "endlinecolor": "#2a3f5f",
             "gridcolor": "white",
             "linecolor": "white",
             "minorgridcolor": "white",
             "startlinecolor": "#2a3f5f"
            },
            "type": "carpet"
           }
          ],
          "choropleth": [
           {
            "colorbar": {
             "outlinewidth": 0,
             "ticks": ""
            },
            "type": "choropleth"
           }
          ],
          "contour": [
           {
            "colorbar": {
             "outlinewidth": 0,
             "ticks": ""
            },
            "colorscale": [
             [
              0,
              "#0d0887"
             ],
             [
              0.1111111111111111,
              "#46039f"
             ],
             [
              0.2222222222222222,
              "#7201a8"
             ],
             [
              0.3333333333333333,
              "#9c179e"
             ],
             [
              0.4444444444444444,
              "#bd3786"
             ],
             [
              0.5555555555555556,
              "#d8576b"
             ],
             [
              0.6666666666666666,
              "#ed7953"
             ],
             [
              0.7777777777777778,
              "#fb9f3a"
             ],
             [
              0.8888888888888888,
              "#fdca26"
             ],
             [
              1,
              "#f0f921"
             ]
            ],
            "type": "contour"
           }
          ],
          "contourcarpet": [
           {
            "colorbar": {
             "outlinewidth": 0,
             "ticks": ""
            },
            "type": "contourcarpet"
           }
          ],
          "heatmap": [
           {
            "colorbar": {
             "outlinewidth": 0,
             "ticks": ""
            },
            "colorscale": [
             [
              0,
              "#0d0887"
             ],
             [
              0.1111111111111111,
              "#46039f"
             ],
             [
              0.2222222222222222,
              "#7201a8"
             ],
             [
              0.3333333333333333,
              "#9c179e"
             ],
             [
              0.4444444444444444,
              "#bd3786"
             ],
             [
              0.5555555555555556,
              "#d8576b"
             ],
             [
              0.6666666666666666,
              "#ed7953"
             ],
             [
              0.7777777777777778,
              "#fb9f3a"
             ],
             [
              0.8888888888888888,
              "#fdca26"
             ],
             [
              1,
              "#f0f921"
             ]
            ],
            "type": "heatmap"
           }
          ],
          "heatmapgl": [
           {
            "colorbar": {
             "outlinewidth": 0,
             "ticks": ""
            },
            "colorscale": [
             [
              0,
              "#0d0887"
             ],
             [
              0.1111111111111111,
              "#46039f"
             ],
             [
              0.2222222222222222,
              "#7201a8"
             ],
             [
              0.3333333333333333,
              "#9c179e"
             ],
             [
              0.4444444444444444,
              "#bd3786"
             ],
             [
              0.5555555555555556,
              "#d8576b"
             ],
             [
              0.6666666666666666,
              "#ed7953"
             ],
             [
              0.7777777777777778,
              "#fb9f3a"
             ],
             [
              0.8888888888888888,
              "#fdca26"
             ],
             [
              1,
              "#f0f921"
             ]
            ],
            "type": "heatmapgl"
           }
          ],
          "histogram": [
           {
            "marker": {
             "pattern": {
              "fillmode": "overlay",
              "size": 10,
              "solidity": 0.2
             }
            },
            "type": "histogram"
           }
          ],
          "histogram2d": [
           {
            "colorbar": {
             "outlinewidth": 0,
             "ticks": ""
            },
            "colorscale": [
             [
              0,
              "#0d0887"
             ],
             [
              0.1111111111111111,
              "#46039f"
             ],
             [
              0.2222222222222222,
              "#7201a8"
             ],
             [
              0.3333333333333333,
              "#9c179e"
             ],
             [
              0.4444444444444444,
              "#bd3786"
             ],
             [
              0.5555555555555556,
              "#d8576b"
             ],
             [
              0.6666666666666666,
              "#ed7953"
             ],
             [
              0.7777777777777778,
              "#fb9f3a"
             ],
             [
              0.8888888888888888,
              "#fdca26"
             ],
             [
              1,
              "#f0f921"
             ]
            ],
            "type": "histogram2d"
           }
          ],
          "histogram2dcontour": [
           {
            "colorbar": {
             "outlinewidth": 0,
             "ticks": ""
            },
            "colorscale": [
             [
              0,
              "#0d0887"
             ],
             [
              0.1111111111111111,
              "#46039f"
             ],
             [
              0.2222222222222222,
              "#7201a8"
             ],
             [
              0.3333333333333333,
              "#9c179e"
             ],
             [
              0.4444444444444444,
              "#bd3786"
             ],
             [
              0.5555555555555556,
              "#d8576b"
             ],
             [
              0.6666666666666666,
              "#ed7953"
             ],
             [
              0.7777777777777778,
              "#fb9f3a"
             ],
             [
              0.8888888888888888,
              "#fdca26"
             ],
             [
              1,
              "#f0f921"
             ]
            ],
            "type": "histogram2dcontour"
           }
          ],
          "mesh3d": [
           {
            "colorbar": {
             "outlinewidth": 0,
             "ticks": ""
            },
            "type": "mesh3d"
           }
          ],
          "parcoords": [
           {
            "line": {
             "colorbar": {
              "outlinewidth": 0,
              "ticks": ""
             }
            },
            "type": "parcoords"
           }
          ],
          "pie": [
           {
            "automargin": true,
            "type": "pie"
           }
          ],
          "scatter": [
           {
            "fillpattern": {
             "fillmode": "overlay",
             "size": 10,
             "solidity": 0.2
            },
            "type": "scatter"
           }
          ],
          "scatter3d": [
           {
            "line": {
             "colorbar": {
              "outlinewidth": 0,
              "ticks": ""
             }
            },
            "marker": {
             "colorbar": {
              "outlinewidth": 0,
              "ticks": ""
             }
            },
            "type": "scatter3d"
           }
          ],
          "scattercarpet": [
           {
            "marker": {
             "colorbar": {
              "outlinewidth": 0,
              "ticks": ""
             }
            },
            "type": "scattercarpet"
           }
          ],
          "scattergeo": [
           {
            "marker": {
             "colorbar": {
              "outlinewidth": 0,
              "ticks": ""
             }
            },
            "type": "scattergeo"
           }
          ],
          "scattergl": [
           {
            "marker": {
             "colorbar": {
              "outlinewidth": 0,
              "ticks": ""
             }
            },
            "type": "scattergl"
           }
          ],
          "scattermapbox": [
           {
            "marker": {
             "colorbar": {
              "outlinewidth": 0,
              "ticks": ""
             }
            },
            "type": "scattermapbox"
           }
          ],
          "scatterpolar": [
           {
            "marker": {
             "colorbar": {
              "outlinewidth": 0,
              "ticks": ""
             }
            },
            "type": "scatterpolar"
           }
          ],
          "scatterpolargl": [
           {
            "marker": {
             "colorbar": {
              "outlinewidth": 0,
              "ticks": ""
             }
            },
            "type": "scatterpolargl"
           }
          ],
          "scatterternary": [
           {
            "marker": {
             "colorbar": {
              "outlinewidth": 0,
              "ticks": ""
             }
            },
            "type": "scatterternary"
           }
          ],
          "surface": [
           {
            "colorbar": {
             "outlinewidth": 0,
             "ticks": ""
            },
            "colorscale": [
             [
              0,
              "#0d0887"
             ],
             [
              0.1111111111111111,
              "#46039f"
             ],
             [
              0.2222222222222222,
              "#7201a8"
             ],
             [
              0.3333333333333333,
              "#9c179e"
             ],
             [
              0.4444444444444444,
              "#bd3786"
             ],
             [
              0.5555555555555556,
              "#d8576b"
             ],
             [
              0.6666666666666666,
              "#ed7953"
             ],
             [
              0.7777777777777778,
              "#fb9f3a"
             ],
             [
              0.8888888888888888,
              "#fdca26"
             ],
             [
              1,
              "#f0f921"
             ]
            ],
            "type": "surface"
           }
          ],
          "table": [
           {
            "cells": {
             "fill": {
              "color": "#EBF0F8"
             },
             "line": {
              "color": "white"
             }
            },
            "header": {
             "fill": {
              "color": "#C8D4E3"
             },
             "line": {
              "color": "white"
             }
            },
            "type": "table"
           }
          ]
         },
         "layout": {
          "annotationdefaults": {
           "arrowcolor": "#2a3f5f",
           "arrowhead": 0,
           "arrowwidth": 1
          },
          "autotypenumbers": "strict",
          "coloraxis": {
           "colorbar": {
            "outlinewidth": 0,
            "ticks": ""
           }
          },
          "colorscale": {
           "diverging": [
            [
             0,
             "#8e0152"
            ],
            [
             0.1,
             "#c51b7d"
            ],
            [
             0.2,
             "#de77ae"
            ],
            [
             0.3,
             "#f1b6da"
            ],
            [
             0.4,
             "#fde0ef"
            ],
            [
             0.5,
             "#f7f7f7"
            ],
            [
             0.6,
             "#e6f5d0"
            ],
            [
             0.7,
             "#b8e186"
            ],
            [
             0.8,
             "#7fbc41"
            ],
            [
             0.9,
             "#4d9221"
            ],
            [
             1,
             "#276419"
            ]
           ],
           "sequential": [
            [
             0,
             "#0d0887"
            ],
            [
             0.1111111111111111,
             "#46039f"
            ],
            [
             0.2222222222222222,
             "#7201a8"
            ],
            [
             0.3333333333333333,
             "#9c179e"
            ],
            [
             0.4444444444444444,
             "#bd3786"
            ],
            [
             0.5555555555555556,
             "#d8576b"
            ],
            [
             0.6666666666666666,
             "#ed7953"
            ],
            [
             0.7777777777777778,
             "#fb9f3a"
            ],
            [
             0.8888888888888888,
             "#fdca26"
            ],
            [
             1,
             "#f0f921"
            ]
           ],
           "sequentialminus": [
            [
             0,
             "#0d0887"
            ],
            [
             0.1111111111111111,
             "#46039f"
            ],
            [
             0.2222222222222222,
             "#7201a8"
            ],
            [
             0.3333333333333333,
             "#9c179e"
            ],
            [
             0.4444444444444444,
             "#bd3786"
            ],
            [
             0.5555555555555556,
             "#d8576b"
            ],
            [
             0.6666666666666666,
             "#ed7953"
            ],
            [
             0.7777777777777778,
             "#fb9f3a"
            ],
            [
             0.8888888888888888,
             "#fdca26"
            ],
            [
             1,
             "#f0f921"
            ]
           ]
          },
          "colorway": [
           "#636efa",
           "#EF553B",
           "#00cc96",
           "#ab63fa",
           "#FFA15A",
           "#19d3f3",
           "#FF6692",
           "#B6E880",
           "#FF97FF",
           "#FECB52"
          ],
          "font": {
           "color": "#2a3f5f"
          },
          "geo": {
           "bgcolor": "white",
           "lakecolor": "white",
           "landcolor": "#E5ECF6",
           "showlakes": true,
           "showland": true,
           "subunitcolor": "white"
          },
          "hoverlabel": {
           "align": "left"
          },
          "hovermode": "closest",
          "mapbox": {
           "style": "light"
          },
          "paper_bgcolor": "white",
          "plot_bgcolor": "#E5ECF6",
          "polar": {
           "angularaxis": {
            "gridcolor": "white",
            "linecolor": "white",
            "ticks": ""
           },
           "bgcolor": "#E5ECF6",
           "radialaxis": {
            "gridcolor": "white",
            "linecolor": "white",
            "ticks": ""
           }
          },
          "scene": {
           "xaxis": {
            "backgroundcolor": "#E5ECF6",
            "gridcolor": "white",
            "gridwidth": 2,
            "linecolor": "white",
            "showbackground": true,
            "ticks": "",
            "zerolinecolor": "white"
           },
           "yaxis": {
            "backgroundcolor": "#E5ECF6",
            "gridcolor": "white",
            "gridwidth": 2,
            "linecolor": "white",
            "showbackground": true,
            "ticks": "",
            "zerolinecolor": "white"
           },
           "zaxis": {
            "backgroundcolor": "#E5ECF6",
            "gridcolor": "white",
            "gridwidth": 2,
            "linecolor": "white",
            "showbackground": true,
            "ticks": "",
            "zerolinecolor": "white"
           }
          },
          "shapedefaults": {
           "line": {
            "color": "#2a3f5f"
           }
          },
          "ternary": {
           "aaxis": {
            "gridcolor": "white",
            "linecolor": "white",
            "ticks": ""
           },
           "baxis": {
            "gridcolor": "white",
            "linecolor": "white",
            "ticks": ""
           },
           "bgcolor": "#E5ECF6",
           "caxis": {
            "gridcolor": "white",
            "linecolor": "white",
            "ticks": ""
           }
          },
          "title": {
           "x": 0.05
          },
          "xaxis": {
           "automargin": true,
           "gridcolor": "white",
           "linecolor": "white",
           "ticks": "",
           "title": {
            "standoff": 15
           },
           "zerolinecolor": "white",
           "zerolinewidth": 2
          },
          "yaxis": {
           "automargin": true,
           "gridcolor": "white",
           "linecolor": "white",
           "ticks": "",
           "title": {
            "standoff": 15
           },
           "zerolinecolor": "white",
           "zerolinewidth": 2
          }
         }
        }
       }
      }
     },
     "metadata": {},
     "output_type": "display_data"
    }
   ],
   "source": [
    "hashtag_pattern(poli, ['fatossobrelula', 'equipelula'], granularidade='d')"
   ]
  },
  {
   "cell_type": "markdown",
   "metadata": {},
   "source": [
    "## Número de likes por hashtag"
   ]
  },
  {
   "cell_type": "code",
   "execution_count": 25,
   "metadata": {},
   "outputs": [
    {
     "data": {
      "text/plain": [
       "Index(['Unnamed: 0', 'tweets_id', 'tweets_in_thread', 'created_at', 'text',\n",
       "       'retweet_count', 'like_count', 'reply_count', 'quote_count', 'user_id',\n",
       "       'username', 'user_name', 'user_picture', 'verified', 'clean_text',\n",
       "       'mentions', 'hashtags', 'emojis'],\n",
       "      dtype='object')"
      ]
     },
     "execution_count": 25,
     "metadata": {},
     "output_type": "execute_result"
    }
   ],
   "source": [
    "poli.columns"
   ]
  },
  {
   "cell_type": "code",
   "execution_count": 51,
   "metadata": {},
   "outputs": [],
   "source": [
    "# box plot com média de likes\n",
    "\n",
    "def box_hash(df: pd.DataFrame, hashtag: List[str], metric: str, log: bool = True) -> np.nan:\n",
    "    \"\"\"_summary_\n",
    "\n",
    "    Args:\n",
    "        df (pd.DataFrame): polititians dataframe\n",
    "        hashtag (List[str]): list of hashtags to visualize\n",
    "        metric (str): metric to visualize\n",
    "        log (bool, optional): use log scale or not Defaults to True.\n",
    "\n",
    "    Returns:\n",
    "        np.nan: Doesn't return anything\n",
    "    \"\"\"\n",
    "\n",
    "\n",
    "\n",
    "\n",
    "    like_df = df[[metric, 'hashtags']].copy()\n",
    "\n",
    "    fig = go.Figure()\n",
    "    \n",
    "\n",
    "    for hash in hashtag:\n",
    "\n",
    "        searcher = re.compile(hash)\n",
    "\n",
    "        hash_df = like_df.copy()\n",
    "\n",
    "        filter = hash_df.hashtags.apply(lambda x: True if searcher.search(x) else False)\n",
    "\n",
    "        fig.add_trace(go.Box(y=hash_df[filter][metric], name=hash))\n",
    "\n",
    "    if log:\n",
    "        fig.update_layout(yaxis_type=\"log\")          \n",
    "\n",
    "    fig.show()\n",
    "\n",
    "\n",
    "    "
   ]
  },
  {
   "cell_type": "code",
   "execution_count": 52,
   "metadata": {},
   "outputs": [
    {
     "data": {
      "application/vnd.plotly.v1+json": {
       "config": {
        "plotlyServerURL": "https://plot.ly"
       },
       "data": [
        {
         "name": "equipelula",
         "type": "box",
         "y": [
          939,
          237,
          1106,
          947,
          212,
          164,
          1314,
          2760,
          2496,
          409,
          672,
          237,
          194,
          1412,
          248,
          359,
          418,
          176,
          877,
          508,
          1178,
          484,
          916,
          201,
          880,
          140,
          916,
          436,
          571,
          467,
          467,
          1186,
          1360,
          7835,
          589,
          796,
          2382,
          783,
          664,
          919,
          1375,
          275,
          928,
          572,
          595,
          430,
          455,
          690,
          321,
          494,
          1844,
          950,
          767,
          3344,
          1125,
          629,
          736,
          791,
          2317,
          1288,
          1079,
          1024,
          520,
          612,
          437,
          451,
          913,
          522,
          734,
          958
         ]
        },
        {
         "name": "sus",
         "type": "box",
         "y": [
          72,
          1100,
          19,
          4,
          104,
          634
         ]
        }
       ],
       "layout": {
        "template": {
         "data": {
          "bar": [
           {
            "error_x": {
             "color": "#2a3f5f"
            },
            "error_y": {
             "color": "#2a3f5f"
            },
            "marker": {
             "line": {
              "color": "#E5ECF6",
              "width": 0.5
             },
             "pattern": {
              "fillmode": "overlay",
              "size": 10,
              "solidity": 0.2
             }
            },
            "type": "bar"
           }
          ],
          "barpolar": [
           {
            "marker": {
             "line": {
              "color": "#E5ECF6",
              "width": 0.5
             },
             "pattern": {
              "fillmode": "overlay",
              "size": 10,
              "solidity": 0.2
             }
            },
            "type": "barpolar"
           }
          ],
          "carpet": [
           {
            "aaxis": {
             "endlinecolor": "#2a3f5f",
             "gridcolor": "white",
             "linecolor": "white",
             "minorgridcolor": "white",
             "startlinecolor": "#2a3f5f"
            },
            "baxis": {
             "endlinecolor": "#2a3f5f",
             "gridcolor": "white",
             "linecolor": "white",
             "minorgridcolor": "white",
             "startlinecolor": "#2a3f5f"
            },
            "type": "carpet"
           }
          ],
          "choropleth": [
           {
            "colorbar": {
             "outlinewidth": 0,
             "ticks": ""
            },
            "type": "choropleth"
           }
          ],
          "contour": [
           {
            "colorbar": {
             "outlinewidth": 0,
             "ticks": ""
            },
            "colorscale": [
             [
              0,
              "#0d0887"
             ],
             [
              0.1111111111111111,
              "#46039f"
             ],
             [
              0.2222222222222222,
              "#7201a8"
             ],
             [
              0.3333333333333333,
              "#9c179e"
             ],
             [
              0.4444444444444444,
              "#bd3786"
             ],
             [
              0.5555555555555556,
              "#d8576b"
             ],
             [
              0.6666666666666666,
              "#ed7953"
             ],
             [
              0.7777777777777778,
              "#fb9f3a"
             ],
             [
              0.8888888888888888,
              "#fdca26"
             ],
             [
              1,
              "#f0f921"
             ]
            ],
            "type": "contour"
           }
          ],
          "contourcarpet": [
           {
            "colorbar": {
             "outlinewidth": 0,
             "ticks": ""
            },
            "type": "contourcarpet"
           }
          ],
          "heatmap": [
           {
            "colorbar": {
             "outlinewidth": 0,
             "ticks": ""
            },
            "colorscale": [
             [
              0,
              "#0d0887"
             ],
             [
              0.1111111111111111,
              "#46039f"
             ],
             [
              0.2222222222222222,
              "#7201a8"
             ],
             [
              0.3333333333333333,
              "#9c179e"
             ],
             [
              0.4444444444444444,
              "#bd3786"
             ],
             [
              0.5555555555555556,
              "#d8576b"
             ],
             [
              0.6666666666666666,
              "#ed7953"
             ],
             [
              0.7777777777777778,
              "#fb9f3a"
             ],
             [
              0.8888888888888888,
              "#fdca26"
             ],
             [
              1,
              "#f0f921"
             ]
            ],
            "type": "heatmap"
           }
          ],
          "heatmapgl": [
           {
            "colorbar": {
             "outlinewidth": 0,
             "ticks": ""
            },
            "colorscale": [
             [
              0,
              "#0d0887"
             ],
             [
              0.1111111111111111,
              "#46039f"
             ],
             [
              0.2222222222222222,
              "#7201a8"
             ],
             [
              0.3333333333333333,
              "#9c179e"
             ],
             [
              0.4444444444444444,
              "#bd3786"
             ],
             [
              0.5555555555555556,
              "#d8576b"
             ],
             [
              0.6666666666666666,
              "#ed7953"
             ],
             [
              0.7777777777777778,
              "#fb9f3a"
             ],
             [
              0.8888888888888888,
              "#fdca26"
             ],
             [
              1,
              "#f0f921"
             ]
            ],
            "type": "heatmapgl"
           }
          ],
          "histogram": [
           {
            "marker": {
             "pattern": {
              "fillmode": "overlay",
              "size": 10,
              "solidity": 0.2
             }
            },
            "type": "histogram"
           }
          ],
          "histogram2d": [
           {
            "colorbar": {
             "outlinewidth": 0,
             "ticks": ""
            },
            "colorscale": [
             [
              0,
              "#0d0887"
             ],
             [
              0.1111111111111111,
              "#46039f"
             ],
             [
              0.2222222222222222,
              "#7201a8"
             ],
             [
              0.3333333333333333,
              "#9c179e"
             ],
             [
              0.4444444444444444,
              "#bd3786"
             ],
             [
              0.5555555555555556,
              "#d8576b"
             ],
             [
              0.6666666666666666,
              "#ed7953"
             ],
             [
              0.7777777777777778,
              "#fb9f3a"
             ],
             [
              0.8888888888888888,
              "#fdca26"
             ],
             [
              1,
              "#f0f921"
             ]
            ],
            "type": "histogram2d"
           }
          ],
          "histogram2dcontour": [
           {
            "colorbar": {
             "outlinewidth": 0,
             "ticks": ""
            },
            "colorscale": [
             [
              0,
              "#0d0887"
             ],
             [
              0.1111111111111111,
              "#46039f"
             ],
             [
              0.2222222222222222,
              "#7201a8"
             ],
             [
              0.3333333333333333,
              "#9c179e"
             ],
             [
              0.4444444444444444,
              "#bd3786"
             ],
             [
              0.5555555555555556,
              "#d8576b"
             ],
             [
              0.6666666666666666,
              "#ed7953"
             ],
             [
              0.7777777777777778,
              "#fb9f3a"
             ],
             [
              0.8888888888888888,
              "#fdca26"
             ],
             [
              1,
              "#f0f921"
             ]
            ],
            "type": "histogram2dcontour"
           }
          ],
          "mesh3d": [
           {
            "colorbar": {
             "outlinewidth": 0,
             "ticks": ""
            },
            "type": "mesh3d"
           }
          ],
          "parcoords": [
           {
            "line": {
             "colorbar": {
              "outlinewidth": 0,
              "ticks": ""
             }
            },
            "type": "parcoords"
           }
          ],
          "pie": [
           {
            "automargin": true,
            "type": "pie"
           }
          ],
          "scatter": [
           {
            "fillpattern": {
             "fillmode": "overlay",
             "size": 10,
             "solidity": 0.2
            },
            "type": "scatter"
           }
          ],
          "scatter3d": [
           {
            "line": {
             "colorbar": {
              "outlinewidth": 0,
              "ticks": ""
             }
            },
            "marker": {
             "colorbar": {
              "outlinewidth": 0,
              "ticks": ""
             }
            },
            "type": "scatter3d"
           }
          ],
          "scattercarpet": [
           {
            "marker": {
             "colorbar": {
              "outlinewidth": 0,
              "ticks": ""
             }
            },
            "type": "scattercarpet"
           }
          ],
          "scattergeo": [
           {
            "marker": {
             "colorbar": {
              "outlinewidth": 0,
              "ticks": ""
             }
            },
            "type": "scattergeo"
           }
          ],
          "scattergl": [
           {
            "marker": {
             "colorbar": {
              "outlinewidth": 0,
              "ticks": ""
             }
            },
            "type": "scattergl"
           }
          ],
          "scattermapbox": [
           {
            "marker": {
             "colorbar": {
              "outlinewidth": 0,
              "ticks": ""
             }
            },
            "type": "scattermapbox"
           }
          ],
          "scatterpolar": [
           {
            "marker": {
             "colorbar": {
              "outlinewidth": 0,
              "ticks": ""
             }
            },
            "type": "scatterpolar"
           }
          ],
          "scatterpolargl": [
           {
            "marker": {
             "colorbar": {
              "outlinewidth": 0,
              "ticks": ""
             }
            },
            "type": "scatterpolargl"
           }
          ],
          "scatterternary": [
           {
            "marker": {
             "colorbar": {
              "outlinewidth": 0,
              "ticks": ""
             }
            },
            "type": "scatterternary"
           }
          ],
          "surface": [
           {
            "colorbar": {
             "outlinewidth": 0,
             "ticks": ""
            },
            "colorscale": [
             [
              0,
              "#0d0887"
             ],
             [
              0.1111111111111111,
              "#46039f"
             ],
             [
              0.2222222222222222,
              "#7201a8"
             ],
             [
              0.3333333333333333,
              "#9c179e"
             ],
             [
              0.4444444444444444,
              "#bd3786"
             ],
             [
              0.5555555555555556,
              "#d8576b"
             ],
             [
              0.6666666666666666,
              "#ed7953"
             ],
             [
              0.7777777777777778,
              "#fb9f3a"
             ],
             [
              0.8888888888888888,
              "#fdca26"
             ],
             [
              1,
              "#f0f921"
             ]
            ],
            "type": "surface"
           }
          ],
          "table": [
           {
            "cells": {
             "fill": {
              "color": "#EBF0F8"
             },
             "line": {
              "color": "white"
             }
            },
            "header": {
             "fill": {
              "color": "#C8D4E3"
             },
             "line": {
              "color": "white"
             }
            },
            "type": "table"
           }
          ]
         },
         "layout": {
          "annotationdefaults": {
           "arrowcolor": "#2a3f5f",
           "arrowhead": 0,
           "arrowwidth": 1
          },
          "autotypenumbers": "strict",
          "coloraxis": {
           "colorbar": {
            "outlinewidth": 0,
            "ticks": ""
           }
          },
          "colorscale": {
           "diverging": [
            [
             0,
             "#8e0152"
            ],
            [
             0.1,
             "#c51b7d"
            ],
            [
             0.2,
             "#de77ae"
            ],
            [
             0.3,
             "#f1b6da"
            ],
            [
             0.4,
             "#fde0ef"
            ],
            [
             0.5,
             "#f7f7f7"
            ],
            [
             0.6,
             "#e6f5d0"
            ],
            [
             0.7,
             "#b8e186"
            ],
            [
             0.8,
             "#7fbc41"
            ],
            [
             0.9,
             "#4d9221"
            ],
            [
             1,
             "#276419"
            ]
           ],
           "sequential": [
            [
             0,
             "#0d0887"
            ],
            [
             0.1111111111111111,
             "#46039f"
            ],
            [
             0.2222222222222222,
             "#7201a8"
            ],
            [
             0.3333333333333333,
             "#9c179e"
            ],
            [
             0.4444444444444444,
             "#bd3786"
            ],
            [
             0.5555555555555556,
             "#d8576b"
            ],
            [
             0.6666666666666666,
             "#ed7953"
            ],
            [
             0.7777777777777778,
             "#fb9f3a"
            ],
            [
             0.8888888888888888,
             "#fdca26"
            ],
            [
             1,
             "#f0f921"
            ]
           ],
           "sequentialminus": [
            [
             0,
             "#0d0887"
            ],
            [
             0.1111111111111111,
             "#46039f"
            ],
            [
             0.2222222222222222,
             "#7201a8"
            ],
            [
             0.3333333333333333,
             "#9c179e"
            ],
            [
             0.4444444444444444,
             "#bd3786"
            ],
            [
             0.5555555555555556,
             "#d8576b"
            ],
            [
             0.6666666666666666,
             "#ed7953"
            ],
            [
             0.7777777777777778,
             "#fb9f3a"
            ],
            [
             0.8888888888888888,
             "#fdca26"
            ],
            [
             1,
             "#f0f921"
            ]
           ]
          },
          "colorway": [
           "#636efa",
           "#EF553B",
           "#00cc96",
           "#ab63fa",
           "#FFA15A",
           "#19d3f3",
           "#FF6692",
           "#B6E880",
           "#FF97FF",
           "#FECB52"
          ],
          "font": {
           "color": "#2a3f5f"
          },
          "geo": {
           "bgcolor": "white",
           "lakecolor": "white",
           "landcolor": "#E5ECF6",
           "showlakes": true,
           "showland": true,
           "subunitcolor": "white"
          },
          "hoverlabel": {
           "align": "left"
          },
          "hovermode": "closest",
          "mapbox": {
           "style": "light"
          },
          "paper_bgcolor": "white",
          "plot_bgcolor": "#E5ECF6",
          "polar": {
           "angularaxis": {
            "gridcolor": "white",
            "linecolor": "white",
            "ticks": ""
           },
           "bgcolor": "#E5ECF6",
           "radialaxis": {
            "gridcolor": "white",
            "linecolor": "white",
            "ticks": ""
           }
          },
          "scene": {
           "xaxis": {
            "backgroundcolor": "#E5ECF6",
            "gridcolor": "white",
            "gridwidth": 2,
            "linecolor": "white",
            "showbackground": true,
            "ticks": "",
            "zerolinecolor": "white"
           },
           "yaxis": {
            "backgroundcolor": "#E5ECF6",
            "gridcolor": "white",
            "gridwidth": 2,
            "linecolor": "white",
            "showbackground": true,
            "ticks": "",
            "zerolinecolor": "white"
           },
           "zaxis": {
            "backgroundcolor": "#E5ECF6",
            "gridcolor": "white",
            "gridwidth": 2,
            "linecolor": "white",
            "showbackground": true,
            "ticks": "",
            "zerolinecolor": "white"
           }
          },
          "shapedefaults": {
           "line": {
            "color": "#2a3f5f"
           }
          },
          "ternary": {
           "aaxis": {
            "gridcolor": "white",
            "linecolor": "white",
            "ticks": ""
           },
           "baxis": {
            "gridcolor": "white",
            "linecolor": "white",
            "ticks": ""
           },
           "bgcolor": "#E5ECF6",
           "caxis": {
            "gridcolor": "white",
            "linecolor": "white",
            "ticks": ""
           }
          },
          "title": {
           "x": 0.05
          },
          "xaxis": {
           "automargin": true,
           "gridcolor": "white",
           "linecolor": "white",
           "ticks": "",
           "title": {
            "standoff": 15
           },
           "zerolinecolor": "white",
           "zerolinewidth": 2
          },
          "yaxis": {
           "automargin": true,
           "gridcolor": "white",
           "linecolor": "white",
           "ticks": "",
           "title": {
            "standoff": 15
           },
           "zerolinecolor": "white",
           "zerolinewidth": 2
          }
         }
        },
        "yaxis": {
         "type": "log"
        }
       }
      }
     },
     "metadata": {},
     "output_type": "display_data"
    }
   ],
   "source": [
    "box_hash(poli, ['equipelula','sus'], 'reply_count')"
   ]
  },
  {
   "cell_type": "markdown",
   "metadata": {},
   "source": [
    "#### Wordclouds"
   ]
  },
  {
   "cell_type": "code",
   "execution_count": 28,
   "metadata": {},
   "outputs": [
    {
     "data": {
      "text/plain": [
       "[]"
      ]
     },
     "execution_count": 28,
     "metadata": {},
     "output_type": "execute_result"
    }
   ],
   "source": [
    "def extract_words(palavras: str):\n",
    "    pat = re.compile(\"(?<=\\')(.*?)(?=\\')\")\n",
    "    words = pat.findall(palavras)[::2]\n",
    "    return words\n",
    "\n",
    "extract_words(\"teste\")"
   ]
  },
  {
   "cell_type": "code",
   "execution_count": 29,
   "metadata": {},
   "outputs": [
    {
     "data": {
      "text/plain": [
       "(61, 61)"
      ]
     },
     "execution_count": 29,
     "metadata": {},
     "output_type": "execute_result"
    }
   ],
   "source": [
    "texts = list(poli[(poli.hashtags=='#equipelula') & (poli.user_name == 'Lula')].clean_text.apply(extract_words).apply(lambda x: ' '.join(x)))\n",
    "vectorizer = CountVectorizer().fit_transform(texts)\n",
    "vectors = vectorizer.toarray()\n",
    "csim = cosine_similarity(vectors)\n",
    "csim.shape"
   ]
  },
  {
   "cell_type": "code",
   "execution_count": 30,
   "metadata": {},
   "outputs": [
    {
     "data": {
      "text/plain": [
       "['parabens',\n",
       " 'presidente',\n",
       " 'lula',\n",
       " 'ano',\n",
       " 'energia',\n",
       " 'esperanca',\n",
       " 'foto',\n",
       " 'ricardo',\n",
       " 'stuckert']"
      ]
     },
     "execution_count": 30,
     "metadata": {},
     "output_type": "execute_result"
    }
   ],
   "source": [
    "extract_words(poli[poli.user_name == 'Lula'].clean_text[0])"
   ]
  },
  {
   "cell_type": "code",
   "execution_count": 31,
   "metadata": {},
   "outputs": [
    {
     "data": {
      "text/plain": [
       "0      [parabens, presidente, lula, ano, energia, esp...\n",
       "1                                      [viver, instante]\n",
       "2       [entrevisto, lula, radiar, jovem, pan, sorocaba]\n",
       "3      [fazer, ano, ontem, orgulhar, sentir, pesar, i...\n",
       "4      [iniciativo, privar, apoderar, estar, vender, ...\n",
       "                             ...                        \n",
       "581    [coisa, emocionar, ver, relato, filho, filho, ...\n",
       "582    [brasil, momento, dificil, pretender, construi...\n",
       "583    [falir, churrasco, pessoa, fazer, domingo, sim...\n",
       "584    [ano, primeiro, vacinar, contra, covid, vacina...\n",
       "585    [lisete, arelaro, incansavel, lutar, educacao,...\n",
       "Name: clean_text, Length: 586, dtype: object"
      ]
     },
     "execution_count": 31,
     "metadata": {},
     "output_type": "execute_result"
    }
   ],
   "source": [
    "poli[poli.user_name == 'Lula'].clean_text.apply(extract_words)"
   ]
  },
  {
   "cell_type": "code",
   "execution_count": 32,
   "metadata": {},
   "outputs": [
    {
     "data": {
      "text/plain": [
       "0      ['parabens', 'presidente', 'lula', 'ano', 'ene...\n",
       "1                                  ['viver', 'instante']\n",
       "2      ['entrevisto', 'lula', 'radiar', 'jovem', 'pan...\n",
       "3      ['fazer', 'ano', 'ontem', 'orgulhar', 'sentir'...\n",
       "4      ['iniciativo', 'privar', 'apoderar', 'estar', ...\n",
       "                             ...                        \n",
       "581    ['coisa', 'emocionar', 'ver', 'relato', 'filho...\n",
       "582    ['brasil', 'momento', 'dificil', 'pretender', ...\n",
       "583    ['falir', 'churrasco', 'pessoa', 'fazer', 'dom...\n",
       "584    ['ano', 'primeiro', 'vacinar', 'contra', 'covi...\n",
       "585    ['lisete', 'arelaro', 'incansavel', 'lutar', '...\n",
       "Name: clean_text, Length: 586, dtype: object"
      ]
     },
     "execution_count": 32,
     "metadata": {},
     "output_type": "execute_result"
    }
   ],
   "source": [
    "poli[poli.user_name == 'Lula'].clean_text"
   ]
  },
  {
   "cell_type": "code",
   "execution_count": 33,
   "metadata": {},
   "outputs": [
    {
     "data": {
      "text/plain": [
       "''"
      ]
     },
     "execution_count": 33,
     "metadata": {},
     "output_type": "execute_result"
    }
   ],
   "source": [
    "' '.join([])"
   ]
  },
  {
   "cell_type": "code",
   "execution_count": 34,
   "metadata": {},
   "outputs": [],
   "source": [
    "poli.clean_text = poli.clean_text.apply(extract_words)"
   ]
  },
  {
   "cell_type": "code",
   "execution_count": 35,
   "metadata": {},
   "outputs": [
    {
     "data": {
      "text/plain": [
       "['de',\n",
       " 'a',\n",
       " 'o',\n",
       " 'que',\n",
       " 'e',\n",
       " 'é',\n",
       " 'do',\n",
       " 'da',\n",
       " 'em',\n",
       " 'um',\n",
       " 'para',\n",
       " 'com',\n",
       " 'não',\n",
       " 'uma',\n",
       " 'os',\n",
       " 'no',\n",
       " 'se',\n",
       " 'na',\n",
       " 'por',\n",
       " 'mais',\n",
       " 'as',\n",
       " 'dos',\n",
       " 'como',\n",
       " 'mas',\n",
       " 'ao',\n",
       " 'ele',\n",
       " 'das',\n",
       " 'à',\n",
       " 'seu',\n",
       " 'sua',\n",
       " 'ou',\n",
       " 'quando',\n",
       " 'muito',\n",
       " 'nos',\n",
       " 'já',\n",
       " 'eu',\n",
       " 'também',\n",
       " 'só',\n",
       " 'pelo',\n",
       " 'pela',\n",
       " 'até',\n",
       " 'isso',\n",
       " 'ela',\n",
       " 'entre',\n",
       " 'depois',\n",
       " 'sem',\n",
       " 'mesmo',\n",
       " 'aos',\n",
       " 'seus',\n",
       " 'quem',\n",
       " 'nas',\n",
       " 'me',\n",
       " 'esse',\n",
       " 'eles',\n",
       " 'você',\n",
       " 'essa',\n",
       " 'num',\n",
       " 'nem',\n",
       " 'suas',\n",
       " 'meu',\n",
       " 'às',\n",
       " 'minha',\n",
       " 'numa',\n",
       " 'pelos',\n",
       " 'elas',\n",
       " 'qual',\n",
       " 'nós',\n",
       " 'lhe',\n",
       " 'deles',\n",
       " 'essas',\n",
       " 'esses',\n",
       " 'pelas',\n",
       " 'este',\n",
       " 'dele',\n",
       " 'tu',\n",
       " 'te',\n",
       " 'vocês',\n",
       " 'vos',\n",
       " 'lhes',\n",
       " 'meus',\n",
       " 'minhas',\n",
       " 'teu',\n",
       " 'tua',\n",
       " 'teus',\n",
       " 'tuas',\n",
       " 'nosso',\n",
       " 'nossa',\n",
       " 'nossos',\n",
       " 'nossas',\n",
       " 'dela',\n",
       " 'delas',\n",
       " 'esta',\n",
       " 'estes',\n",
       " 'estas',\n",
       " 'aquele',\n",
       " 'aquela',\n",
       " 'aqueles',\n",
       " 'aquelas',\n",
       " 'isto',\n",
       " 'aquilo',\n",
       " 'estou',\n",
       " 'está',\n",
       " 'estamos',\n",
       " 'estão',\n",
       " 'estive',\n",
       " 'esteve',\n",
       " 'estivemos',\n",
       " 'estiveram',\n",
       " 'estava',\n",
       " 'estávamos',\n",
       " 'estavam',\n",
       " 'estivera',\n",
       " 'estivéramos',\n",
       " 'esteja',\n",
       " 'estejamos',\n",
       " 'estejam',\n",
       " 'estivesse',\n",
       " 'estivéssemos',\n",
       " 'estivessem',\n",
       " 'estiver',\n",
       " 'estivermos',\n",
       " 'estiverem',\n",
       " 'hei',\n",
       " 'há',\n",
       " 'havemos',\n",
       " 'hão',\n",
       " 'houve',\n",
       " 'houvemos',\n",
       " 'houveram',\n",
       " 'houvera',\n",
       " 'houvéramos',\n",
       " 'haja',\n",
       " 'hajamos',\n",
       " 'hajam',\n",
       " 'houvesse',\n",
       " 'houvéssemos',\n",
       " 'houvessem',\n",
       " 'houver',\n",
       " 'houvermos',\n",
       " 'houverem',\n",
       " 'houverei',\n",
       " 'houverá',\n",
       " 'houveremos',\n",
       " 'houverão',\n",
       " 'houveria',\n",
       " 'houveríamos',\n",
       " 'houveriam',\n",
       " 'sou',\n",
       " 'somos',\n",
       " 'são',\n",
       " 'era',\n",
       " 'éramos',\n",
       " 'eram',\n",
       " 'fui',\n",
       " 'foi',\n",
       " 'fomos',\n",
       " 'foram',\n",
       " 'fora',\n",
       " 'fôramos',\n",
       " 'seja',\n",
       " 'sejamos',\n",
       " 'sejam',\n",
       " 'fosse',\n",
       " 'fôssemos',\n",
       " 'fossem',\n",
       " 'for',\n",
       " 'formos',\n",
       " 'forem',\n",
       " 'serei',\n",
       " 'será',\n",
       " 'seremos',\n",
       " 'serão',\n",
       " 'seria',\n",
       " 'seríamos',\n",
       " 'seriam',\n",
       " 'tenho',\n",
       " 'tem',\n",
       " 'temos',\n",
       " 'tém',\n",
       " 'tinha',\n",
       " 'tínhamos',\n",
       " 'tinham',\n",
       " 'tive',\n",
       " 'teve',\n",
       " 'tivemos',\n",
       " 'tiveram',\n",
       " 'tivera',\n",
       " 'tivéramos',\n",
       " 'tenha',\n",
       " 'tenhamos',\n",
       " 'tenham',\n",
       " 'tivesse',\n",
       " 'tivéssemos',\n",
       " 'tivessem',\n",
       " 'tiver',\n",
       " 'tivermos',\n",
       " 'tiverem',\n",
       " 'terei',\n",
       " 'terá',\n",
       " 'teremos',\n",
       " 'terão',\n",
       " 'teria',\n",
       " 'teríamos',\n",
       " 'teriam']"
      ]
     },
     "execution_count": 35,
     "metadata": {},
     "output_type": "execute_result"
    }
   ],
   "source": [
    "stopwords"
   ]
  },
  {
   "cell_type": "code",
   "execution_count": 36,
   "metadata": {},
   "outputs": [],
   "source": [
    "lula = ' '.join(list(poli[poli.user_name == 'Lula'].clean_text.apply(lambda x: ' '.join(x))))"
   ]
  },
  {
   "cell_type": "code",
   "execution_count": 37,
   "metadata": {},
   "outputs": [
    {
     "ename": "AttributeError",
     "evalue": "'list' object has no attribute 'words'",
     "output_type": "error",
     "traceback": [
      "\u001b[1;31m---------------------------------------------------------------------------\u001b[0m",
      "\u001b[1;31mAttributeError\u001b[0m                            Traceback (most recent call last)",
      "\u001b[1;32mc:\\Users\\mrggi\\Documents\\presid\\an.ipynb Cell 42'\u001b[0m in \u001b[0;36m<cell line: 1>\u001b[1;34m()\u001b[0m\n\u001b[1;32m----> <a href='vscode-notebook-cell:/c%3A/Users/mrggi/Documents/presid/an.ipynb#ch0000042?line=0'>1</a>\u001b[0m stop \u001b[39m=\u001b[39m stopwords\u001b[39m.\u001b[39;49mwords(\u001b[39m'\u001b[39m\u001b[39mportuguese\u001b[39m\u001b[39m'\u001b[39m)\n",
      "\u001b[1;31mAttributeError\u001b[0m: 'list' object has no attribute 'words'"
     ]
    }
   ],
   "source": [
    "stop = stopwords.words('portuguese')"
   ]
  },
  {
   "cell_type": "code",
   "execution_count": null,
   "metadata": {},
   "outputs": [],
   "source": [
    "lula"
   ]
  },
  {
   "cell_type": "code",
   "execution_count": 56,
   "metadata": {},
   "outputs": [],
   "source": [
    "def words_candidate(candidate_name: str):\n",
    "    candidate = ' '.join(list(poli[poli.user_name == candidate_name].clean_text.apply(lambda x: ' '.join(x))))\n",
    "    wordcloud = WordCloud(width=480, height=480, margin=0).generate(candidate)\n",
    "    plt.imshow(wordcloud, interpolation='bilinear')\n",
    "    plt.axis(\"off\")\n",
    "    plt.margins(x=0,y=0)\n",
    "    plt.show()\n",
    "    return candidate"
   ]
  },
  {
   "cell_type": "code",
   "execution_count": null,
   "metadata": {},
   "outputs": [
    {
     "name": "stderr",
     "output_type": "stream",
     "text": [
      "[nltk_data] Downloading package punkt to\n",
      "[nltk_data]     C:\\Users\\mrggi\\AppData\\Roaming\\nltk_data...\n",
      "[nltk_data]   Package punkt is already up-to-date!\n"
     ]
    },
    {
     "data": {
      "text/plain": [
       "True"
      ]
     },
     "execution_count": 114,
     "metadata": {},
     "output_type": "execute_result"
    }
   ],
   "source": [
    "nltk.download('punkt')"
   ]
  },
  {
   "cell_type": "code",
   "execution_count": null,
   "metadata": {},
   "outputs": [],
   "source": [
    "candidate = ' '.join(list(poli[poli.user_name == 'Ciro Gomes'].clean_text.apply(lambda x: ' '.join(x))))\n",
    "tokens = nltk.word_tokenize(candidate)\n",
    "freqs = nltk.FreqDist(tokens)\n",
    "blah_list = [(k, v) for k, v in freqs.items()]\n",
    "sorted_by_freq = sorted(blah_list, key=lambda tup: tup[1])\n",
    "print(sorted_by_freq)"
   ]
  },
  {
   "cell_type": "code",
   "execution_count": null,
   "metadata": {},
   "outputs": [],
   "source": [
    "words_candidate('Ciro Gomes')"
   ]
  },
  {
   "cell_type": "code",
   "execution_count": null,
   "metadata": {},
   "outputs": [],
   "source": [
    "wordcloud = WordCloud(width=480, height=480, margin=0).generate(lula)\n",
    "plt.imshow(wordcloud, interpolation='bilinear')\n",
    "plt.axis(\"off\")\n",
    "plt.margins(x=0,y=0)\n",
    "plt.show()"
   ]
  },
  {
   "cell_type": "markdown",
   "metadata": {},
   "source": [
    "## Temporal"
   ]
  },
  {
   "cell_type": "code",
   "execution_count": null,
   "metadata": {},
   "outputs": [
    {
     "data": {
      "text/plain": [
       "array(['Lula', 'Jair M. Bolsonaro', 'André Janones', 'Simone Tebet',\n",
       "       \"Felipe d'Avila\", 'Ciro Gomes', 'João Doria', 'Sergio Moro',\n",
       "       'Aldo Rebelo', 'Leo Péricles', 'Senador Alessandro Vieira'],\n",
       "      dtype=object)"
      ]
     },
     "execution_count": 118,
     "metadata": {},
     "output_type": "execute_result"
    }
   ],
   "source": [
    "poli.user_name.unique()"
   ]
  },
  {
   "cell_type": "code",
   "execution_count": null,
   "metadata": {},
   "outputs": [],
   "source": [
    "like_df=poli[['created_at','like_count']].copy()"
   ]
  },
  {
   "cell_type": "code",
   "execution_count": null,
   "metadata": {},
   "outputs": [
    {
     "data": {
      "text/html": [
       "<div>\n",
       "<style scoped>\n",
       "    .dataframe tbody tr th:only-of-type {\n",
       "        vertical-align: middle;\n",
       "    }\n",
       "\n",
       "    .dataframe tbody tr th {\n",
       "        vertical-align: top;\n",
       "    }\n",
       "\n",
       "    .dataframe thead th {\n",
       "        text-align: right;\n",
       "    }\n",
       "</style>\n",
       "<table border=\"1\" class=\"dataframe\">\n",
       "  <thead>\n",
       "    <tr style=\"text-align: right;\">\n",
       "      <th></th>\n",
       "      <th>Unnamed: 0</th>\n",
       "      <th>tweets_id</th>\n",
       "      <th>tweets_in_thread</th>\n",
       "      <th>created_at</th>\n",
       "      <th>text</th>\n",
       "      <th>retweet_count</th>\n",
       "      <th>like_count</th>\n",
       "      <th>reply_count</th>\n",
       "      <th>quote_count</th>\n",
       "      <th>user_id</th>\n",
       "      <th>username</th>\n",
       "      <th>user_name</th>\n",
       "      <th>user_picture</th>\n",
       "      <th>verified</th>\n",
       "      <th>clean_text</th>\n",
       "      <th>mentions</th>\n",
       "      <th>hashtags</th>\n",
       "      <th>emojis</th>\n",
       "    </tr>\n",
       "  </thead>\n",
       "  <tbody>\n",
       "    <tr>\n",
       "      <th>586</th>\n",
       "      <td>586</td>\n",
       "      <td>['1438838014004891650', '1438838687450734597',...</td>\n",
       "      <td>3</td>\n",
       "      <td>2021-09-17T12:11:29.000Z</td>\n",
       "      <td>- O investimento total, em 2021, tanto em leit...</td>\n",
       "      <td>3454</td>\n",
       "      <td>19161</td>\n",
       "      <td>581</td>\n",
       "      <td>35</td>\n",
       "      <td>128372940</td>\n",
       "      <td>jairbolsonaro</td>\n",
       "      <td>Jair M. Bolsonaro</td>\n",
       "      <td>https://pbs.twimg.com/profile_images/105763148...</td>\n",
       "      <td>True</td>\n",
       "      <td>[investimento, total, tanto, leito, uti, quant...</td>\n",
       "      <td>['@govbr', '@minsaude', '@mqueiroga2', '@secom...</td>\n",
       "      <td>nan</td>\n",
       "      <td>NaN</td>\n",
       "    </tr>\n",
       "    <tr>\n",
       "      <th>587</th>\n",
       "      <td>587</td>\n",
       "      <td>['1438947763237048323', '1438948310971293697',...</td>\n",
       "      <td>3</td>\n",
       "      <td>2021-09-17T19:27:35.000Z</td>\n",
       "      <td>- Somente no mês de agosto, o @JusticaGovBR (M...</td>\n",
       "      <td>6301</td>\n",
       "      <td>34476</td>\n",
       "      <td>853</td>\n",
       "      <td>114</td>\n",
       "      <td>128372940</td>\n",
       "      <td>jairbolsonaro</td>\n",
       "      <td>Jair M. Bolsonaro</td>\n",
       "      <td>https://pbs.twimg.com/profile_images/105763148...</td>\n",
       "      <td>True</td>\n",
       "      <td>[somente, mes, agostar, mjsp, arrecadar, milho...</td>\n",
       "      <td>['@JusticaGovBR', '@andersongtorres']</td>\n",
       "      <td>nan</td>\n",
       "      <td>NaN</td>\n",
       "    </tr>\n",
       "    <tr>\n",
       "      <th>588</th>\n",
       "      <td>588</td>\n",
       "      <td>['1438986684780195844']</td>\n",
       "      <td>1</td>\n",
       "      <td>2021-09-17T22:02:15.000Z</td>\n",
       "      <td>🇧🇷 Cerimônia de Lançamento do Projeto Pró-Água...</td>\n",
       "      <td>3986</td>\n",
       "      <td>18147</td>\n",
       "      <td>881</td>\n",
       "      <td>172</td>\n",
       "      <td>128372940</td>\n",
       "      <td>jairbolsonaro</td>\n",
       "      <td>Jair M. Bolsonaro</td>\n",
       "      <td>https://pbs.twimg.com/profile_images/105763148...</td>\n",
       "      <td>True</td>\n",
       "      <td>[cerimoniar, lancamento, projeto, proaguas, ur...</td>\n",
       "      <td>['@mdregional_br', '@rogeriosmarinho', '@govbr']</td>\n",
       "      <td>nan</td>\n",
       "      <td>['🇧🇷']</td>\n",
       "    </tr>\n",
       "    <tr>\n",
       "      <th>589</th>\n",
       "      <td>589</td>\n",
       "      <td>['1439185525274038273', '1439185591422308353']</td>\n",
       "      <td>2</td>\n",
       "      <td>2021-09-18T11:12:22.000Z</td>\n",
       "      <td>- O desempenho das contas públicas é resultado...</td>\n",
       "      <td>6256</td>\n",
       "      <td>34670</td>\n",
       "      <td>1235</td>\n",
       "      <td>122</td>\n",
       "      <td>128372940</td>\n",
       "      <td>jairbolsonaro</td>\n",
       "      <td>Jair M. Bolsonaro</td>\n",
       "      <td>https://pbs.twimg.com/profile_images/105763148...</td>\n",
       "      <td>True</td>\n",
       "      <td>[desempenhar, contar, publicar, resultar, comb...</td>\n",
       "      <td>['@govbr', '@BancoCentralBR', '@secomvc']</td>\n",
       "      <td>nan</td>\n",
       "      <td>NaN</td>\n",
       "    </tr>\n",
       "    <tr>\n",
       "      <th>590</th>\n",
       "      <td>590</td>\n",
       "      <td>['1439282512145100807']</td>\n",
       "      <td>1</td>\n",
       "      <td>2021-09-18T17:37:46.000Z</td>\n",
       "      <td>🇧🇷 Mara Rosa/GO, 17 Set 21.\\n- Ordem de serviç...</td>\n",
       "      <td>3819</td>\n",
       "      <td>18306</td>\n",
       "      <td>806</td>\n",
       "      <td>142</td>\n",
       "      <td>128372940</td>\n",
       "      <td>jairbolsonaro</td>\n",
       "      <td>Jair M. Bolsonaro</td>\n",
       "      <td>https://pbs.twimg.com/profile_images/105763148...</td>\n",
       "      <td>True</td>\n",
       "      <td>[mara, rosago, set, ordem, servico, iniciar, f...</td>\n",
       "      <td>NaN</td>\n",
       "      <td>nan</td>\n",
       "      <td>['🇧🇷']</td>\n",
       "    </tr>\n",
       "    <tr>\n",
       "      <th>...</th>\n",
       "      <td>...</td>\n",
       "      <td>...</td>\n",
       "      <td>...</td>\n",
       "      <td>...</td>\n",
       "      <td>...</td>\n",
       "      <td>...</td>\n",
       "      <td>...</td>\n",
       "      <td>...</td>\n",
       "      <td>...</td>\n",
       "      <td>...</td>\n",
       "      <td>...</td>\n",
       "      <td>...</td>\n",
       "      <td>...</td>\n",
       "      <td>...</td>\n",
       "      <td>...</td>\n",
       "      <td>...</td>\n",
       "      <td>...</td>\n",
       "      <td>...</td>\n",
       "    </tr>\n",
       "    <tr>\n",
       "      <th>1063</th>\n",
       "      <td>1063</td>\n",
       "      <td>['1502110958726098945', '1502110961334992947',...</td>\n",
       "      <td>3</td>\n",
       "      <td>2022-03-11T02:35:35.000Z</td>\n",
       "      <td>- Abaixo, aqueles que dizem ter sido vítimas d...</td>\n",
       "      <td>14773</td>\n",
       "      <td>73412</td>\n",
       "      <td>2672</td>\n",
       "      <td>473</td>\n",
       "      <td>128372940</td>\n",
       "      <td>jairbolsonaro</td>\n",
       "      <td>Jair M. Bolsonaro</td>\n",
       "      <td>https://pbs.twimg.com/profile_images/105763148...</td>\n",
       "      <td>True</td>\n",
       "      <td>[abaixar, dizer, ter, ser, vitimar, fake, news...</td>\n",
       "      <td>NaN</td>\n",
       "      <td>nan</td>\n",
       "      <td>['👍']</td>\n",
       "    </tr>\n",
       "    <tr>\n",
       "      <th>1064</th>\n",
       "      <td>1064</td>\n",
       "      <td>['1502207295111020544']</td>\n",
       "      <td>1</td>\n",
       "      <td>2022-03-11T08:58:23.000Z</td>\n",
       "      <td>- PARAÍBA / João Pessoa:  O @govbr inaugurou o...</td>\n",
       "      <td>3642</td>\n",
       "      <td>14390</td>\n",
       "      <td>1234</td>\n",
       "      <td>133</td>\n",
       "      <td>128372940</td>\n",
       "      <td>jairbolsonaro</td>\n",
       "      <td>Jair M. Bolsonaro</td>\n",
       "      <td>https://pbs.twimg.com/profile_images/105763148...</td>\n",
       "      <td>True</td>\n",
       "      <td>[paraiba, joao, pessoa, inaugurar, obrar, cbtu...</td>\n",
       "      <td>['@govbr', '@mdregional_br', '@rogeriosmarinho']</td>\n",
       "      <td>nan</td>\n",
       "      <td>NaN</td>\n",
       "    </tr>\n",
       "    <tr>\n",
       "      <th>1065</th>\n",
       "      <td>1065</td>\n",
       "      <td>['1502573731327184901', '1502573790634680325',...</td>\n",
       "      <td>3</td>\n",
       "      <td>2022-03-12T09:14:28.000Z</td>\n",
       "      <td>- O @govbr , por meio do @mdregional_br ,  rep...</td>\n",
       "      <td>7379</td>\n",
       "      <td>36579</td>\n",
       "      <td>1582</td>\n",
       "      <td>185</td>\n",
       "      <td>128372940</td>\n",
       "      <td>jairbolsonaro</td>\n",
       "      <td>Jair M. Bolsonaro</td>\n",
       "      <td>https://pbs.twimg.com/profile_images/105763148...</td>\n",
       "      <td>True</td>\n",
       "      <td>[mear, repassar, recurso, continuidade, obrar,...</td>\n",
       "      <td>['@govbr', '@mdregional_br']</td>\n",
       "      <td>nan</td>\n",
       "      <td>NaN</td>\n",
       "    </tr>\n",
       "    <tr>\n",
       "      <th>1066</th>\n",
       "      <td>1066</td>\n",
       "      <td>['1502934725840756740', '1502934728294506501',...</td>\n",
       "      <td>3</td>\n",
       "      <td>2022-03-13T09:08:56.000Z</td>\n",
       "      <td>- Da gestação até os 6 anos, a primeira infânc...</td>\n",
       "      <td>7867</td>\n",
       "      <td>39177</td>\n",
       "      <td>900</td>\n",
       "      <td>167</td>\n",
       "      <td>128372940</td>\n",
       "      <td>jairbolsonaro</td>\n",
       "      <td>Jair M. Bolsonaro</td>\n",
       "      <td>https://pbs.twimg.com/profile_images/105763148...</td>\n",
       "      <td>True</td>\n",
       "      <td>[gestacao, ano, primeiro, infancia, fase, plas...</td>\n",
       "      <td>['@govbr', '@MinCidadania', '@joaoromaneto']</td>\n",
       "      <td>nan</td>\n",
       "      <td>NaN</td>\n",
       "    </tr>\n",
       "    <tr>\n",
       "      <th>1067</th>\n",
       "      <td>1067</td>\n",
       "      <td>['1503036395354574848', '1503039040345583625']</td>\n",
       "      <td>2</td>\n",
       "      <td>2022-03-13T15:52:56.000Z</td>\n",
       "      <td>-ALAGOAS / Coqueiro Seco e região: Entregue re...</td>\n",
       "      <td>3224</td>\n",
       "      <td>13491</td>\n",
       "      <td>601</td>\n",
       "      <td>107</td>\n",
       "      <td>128372940</td>\n",
       "      <td>jairbolsonaro</td>\n",
       "      <td>Jair M. Bolsonaro</td>\n",
       "      <td>https://pbs.twimg.com/profile_images/105763148...</td>\n",
       "      <td>True</td>\n",
       "      <td>[alagoa, coqueiro, secar, regiao, entregar, re...</td>\n",
       "      <td>['@MTurismo', '@CulturaGovBr', '@IphanGovBr']</td>\n",
       "      <td>nan</td>\n",
       "      <td>NaN</td>\n",
       "    </tr>\n",
       "  </tbody>\n",
       "</table>\n",
       "<p>482 rows × 18 columns</p>\n",
       "</div>"
      ],
      "text/plain": [
       "      Unnamed: 0                                          tweets_id  \\\n",
       "586          586  ['1438838014004891650', '1438838687450734597',...   \n",
       "587          587  ['1438947763237048323', '1438948310971293697',...   \n",
       "588          588                            ['1438986684780195844']   \n",
       "589          589     ['1439185525274038273', '1439185591422308353']   \n",
       "590          590                            ['1439282512145100807']   \n",
       "...          ...                                                ...   \n",
       "1063        1063  ['1502110958726098945', '1502110961334992947',...   \n",
       "1064        1064                            ['1502207295111020544']   \n",
       "1065        1065  ['1502573731327184901', '1502573790634680325',...   \n",
       "1066        1066  ['1502934725840756740', '1502934728294506501',...   \n",
       "1067        1067     ['1503036395354574848', '1503039040345583625']   \n",
       "\n",
       "      tweets_in_thread                created_at  \\\n",
       "586                  3  2021-09-17T12:11:29.000Z   \n",
       "587                  3  2021-09-17T19:27:35.000Z   \n",
       "588                  1  2021-09-17T22:02:15.000Z   \n",
       "589                  2  2021-09-18T11:12:22.000Z   \n",
       "590                  1  2021-09-18T17:37:46.000Z   \n",
       "...                ...                       ...   \n",
       "1063                 3  2022-03-11T02:35:35.000Z   \n",
       "1064                 1  2022-03-11T08:58:23.000Z   \n",
       "1065                 3  2022-03-12T09:14:28.000Z   \n",
       "1066                 3  2022-03-13T09:08:56.000Z   \n",
       "1067                 2  2022-03-13T15:52:56.000Z   \n",
       "\n",
       "                                                   text  retweet_count  \\\n",
       "586   - O investimento total, em 2021, tanto em leit...           3454   \n",
       "587   - Somente no mês de agosto, o @JusticaGovBR (M...           6301   \n",
       "588   🇧🇷 Cerimônia de Lançamento do Projeto Pró-Água...           3986   \n",
       "589   - O desempenho das contas públicas é resultado...           6256   \n",
       "590   🇧🇷 Mara Rosa/GO, 17 Set 21.\\n- Ordem de serviç...           3819   \n",
       "...                                                 ...            ...   \n",
       "1063  - Abaixo, aqueles que dizem ter sido vítimas d...          14773   \n",
       "1064  - PARAÍBA / João Pessoa:  O @govbr inaugurou o...           3642   \n",
       "1065  - O @govbr , por meio do @mdregional_br ,  rep...           7379   \n",
       "1066  - Da gestação até os 6 anos, a primeira infânc...           7867   \n",
       "1067  -ALAGOAS / Coqueiro Seco e região: Entregue re...           3224   \n",
       "\n",
       "      like_count  reply_count  quote_count    user_id       username  \\\n",
       "586        19161          581           35  128372940  jairbolsonaro   \n",
       "587        34476          853          114  128372940  jairbolsonaro   \n",
       "588        18147          881          172  128372940  jairbolsonaro   \n",
       "589        34670         1235          122  128372940  jairbolsonaro   \n",
       "590        18306          806          142  128372940  jairbolsonaro   \n",
       "...          ...          ...          ...        ...            ...   \n",
       "1063       73412         2672          473  128372940  jairbolsonaro   \n",
       "1064       14390         1234          133  128372940  jairbolsonaro   \n",
       "1065       36579         1582          185  128372940  jairbolsonaro   \n",
       "1066       39177          900          167  128372940  jairbolsonaro   \n",
       "1067       13491          601          107  128372940  jairbolsonaro   \n",
       "\n",
       "              user_name                                       user_picture  \\\n",
       "586   Jair M. Bolsonaro  https://pbs.twimg.com/profile_images/105763148...   \n",
       "587   Jair M. Bolsonaro  https://pbs.twimg.com/profile_images/105763148...   \n",
       "588   Jair M. Bolsonaro  https://pbs.twimg.com/profile_images/105763148...   \n",
       "589   Jair M. Bolsonaro  https://pbs.twimg.com/profile_images/105763148...   \n",
       "590   Jair M. Bolsonaro  https://pbs.twimg.com/profile_images/105763148...   \n",
       "...                 ...                                                ...   \n",
       "1063  Jair M. Bolsonaro  https://pbs.twimg.com/profile_images/105763148...   \n",
       "1064  Jair M. Bolsonaro  https://pbs.twimg.com/profile_images/105763148...   \n",
       "1065  Jair M. Bolsonaro  https://pbs.twimg.com/profile_images/105763148...   \n",
       "1066  Jair M. Bolsonaro  https://pbs.twimg.com/profile_images/105763148...   \n",
       "1067  Jair M. Bolsonaro  https://pbs.twimg.com/profile_images/105763148...   \n",
       "\n",
       "      verified                                         clean_text  \\\n",
       "586       True  [investimento, total, tanto, leito, uti, quant...   \n",
       "587       True  [somente, mes, agostar, mjsp, arrecadar, milho...   \n",
       "588       True  [cerimoniar, lancamento, projeto, proaguas, ur...   \n",
       "589       True  [desempenhar, contar, publicar, resultar, comb...   \n",
       "590       True  [mara, rosago, set, ordem, servico, iniciar, f...   \n",
       "...        ...                                                ...   \n",
       "1063      True  [abaixar, dizer, ter, ser, vitimar, fake, news...   \n",
       "1064      True  [paraiba, joao, pessoa, inaugurar, obrar, cbtu...   \n",
       "1065      True  [mear, repassar, recurso, continuidade, obrar,...   \n",
       "1066      True  [gestacao, ano, primeiro, infancia, fase, plas...   \n",
       "1067      True  [alagoa, coqueiro, secar, regiao, entregar, re...   \n",
       "\n",
       "                                               mentions hashtags  emojis  \n",
       "586   ['@govbr', '@minsaude', '@mqueiroga2', '@secom...      nan     NaN  \n",
       "587               ['@JusticaGovBR', '@andersongtorres']      nan     NaN  \n",
       "588    ['@mdregional_br', '@rogeriosmarinho', '@govbr']      nan  ['🇧🇷']  \n",
       "589           ['@govbr', '@BancoCentralBR', '@secomvc']      nan     NaN  \n",
       "590                                                 NaN      nan  ['🇧🇷']  \n",
       "...                                                 ...      ...     ...  \n",
       "1063                                                NaN      nan   ['👍']  \n",
       "1064   ['@govbr', '@mdregional_br', '@rogeriosmarinho']      nan     NaN  \n",
       "1065                       ['@govbr', '@mdregional_br']      nan     NaN  \n",
       "1066       ['@govbr', '@MinCidadania', '@joaoromaneto']      nan     NaN  \n",
       "1067      ['@MTurismo', '@CulturaGovBr', '@IphanGovBr']      nan     NaN  \n",
       "\n",
       "[482 rows x 18 columns]"
      ]
     },
     "execution_count": 120,
     "metadata": {},
     "output_type": "execute_result"
    }
   ],
   "source": [
    "poli[poli.user_name=='Jair M. Bolsonaro']"
   ]
  },
  {
   "cell_type": "code",
   "execution_count": null,
   "metadata": {},
   "outputs": [],
   "source": [
    "def metric_curve(df: pd.DataFrame, metric: str, politicians=List[str], granularidade: str = \"m\") -> np.nan:\n",
    "    \"\"\"Generates count of hashtags appearence over time\n",
    "\n",
    "    Args:\n",
    "        df (pd.DataFrame): polititians dataframe\n",
    "        hashtag (List[str]): hashtag list to visualize\n",
    "        granularidade (str, optional): visualization scope Defaults to \"m\".\n",
    "        combine (bool, optional): combining hashtags\n",
    "\n",
    "    Returns:\n",
    "        np.nan: Doesn't return anything\n",
    "    \"\"\"\n",
    "\n",
    "    formats = {'d': '%d/%m/%Y',\n",
    "                'm': '%Y/%m',\n",
    "                'y': '%Y'}\n",
    "\n",
    "    pal = list(sns.color_palette(palette='viridis', n_colors=len(politicians)).as_hex())\n",
    "\n",
    "    fig = go.Figure()\n",
    "    for d,p in zip(politicians, pal):\n",
    "\n",
    "        filter = df.user_name == d\n",
    "\n",
    "        metric_df = df[filter][['created_at',metric, 'user_name']].copy()\n",
    "        \n",
    "        metric_df.created_at = metric_df.created_at.apply(lambda x: parser.parse(x).strftime(formats[granularidade]))\n",
    "\n",
    "        politician_df = metric_df[metric_df.user_name == d]\n",
    "\n",
    "        plot_df = politician_df.groupby(\"created_at\").sum().reset_index()\n",
    "\n",
    "        plot_df.created_at = pd.to_datetime(plot_df.created_at, format=formats[granularidade])\n",
    "\n",
    "        plot_df.sort_values('created_at', inplace=True)\n",
    "\n",
    "        print(plot_df)\n",
    "\n",
    "\n",
    "        fig.add_trace(go.Scatter(x = plot_df.created_at,\n",
    "                                y = plot_df[metric],\n",
    "                                name = d,\n",
    "                                line_color = p, \n",
    "                                fill=None))   #tozeroy \n",
    "                            \n",
    "    \n",
    "    fig.show()\n"
   ]
  },
  {
   "cell_type": "code",
   "execution_count": null,
   "metadata": {},
   "outputs": [
    {
     "name": "stdout",
     "output_type": "stream",
     "text": [
      "  created_at  like_count\n",
      "0 2021-10-01      211627\n",
      "1 2021-11-01     1615854\n",
      "2 2021-12-01     2002724\n",
      "3 2022-01-01     1505789\n",
      "4 2022-02-01     1534049\n",
      "5 2022-03-01      757618\n",
      "  created_at  like_count\n",
      "0 2021-09-01     1233217\n",
      "1 2021-10-01     2349608\n",
      "2 2021-11-01     1943334\n",
      "3 2021-12-01     1842220\n",
      "4 2022-01-01     2483832\n",
      "5 2022-02-01     3318123\n",
      "6 2022-03-01     1301403\n"
     ]
    },
    {
     "data": {
      "application/vnd.plotly.v1+json": {
       "config": {
        "plotlyServerURL": "https://plot.ly"
       },
       "data": [
        {
         "line": {
          "color": "#31688e"
         },
         "name": "Lula",
         "type": "scatter",
         "x": [
          "2021-10-01T00:00:00",
          "2021-11-01T00:00:00",
          "2021-12-01T00:00:00",
          "2022-01-01T00:00:00",
          "2022-02-01T00:00:00",
          "2022-03-01T00:00:00"
         ],
         "y": [
          211627,
          1615854,
          2002724,
          1505789,
          1534049,
          757618
         ]
        },
        {
         "line": {
          "color": "#35b779"
         },
         "name": "Jair M. Bolsonaro",
         "type": "scatter",
         "x": [
          "2021-09-01T00:00:00",
          "2021-10-01T00:00:00",
          "2021-11-01T00:00:00",
          "2021-12-01T00:00:00",
          "2022-01-01T00:00:00",
          "2022-02-01T00:00:00",
          "2022-03-01T00:00:00"
         ],
         "y": [
          1233217,
          2349608,
          1943334,
          1842220,
          2483832,
          3318123,
          1301403
         ]
        }
       ],
       "layout": {
        "template": {
         "data": {
          "bar": [
           {
            "error_x": {
             "color": "#2a3f5f"
            },
            "error_y": {
             "color": "#2a3f5f"
            },
            "marker": {
             "line": {
              "color": "#E5ECF6",
              "width": 0.5
             },
             "pattern": {
              "fillmode": "overlay",
              "size": 10,
              "solidity": 0.2
             }
            },
            "type": "bar"
           }
          ],
          "barpolar": [
           {
            "marker": {
             "line": {
              "color": "#E5ECF6",
              "width": 0.5
             },
             "pattern": {
              "fillmode": "overlay",
              "size": 10,
              "solidity": 0.2
             }
            },
            "type": "barpolar"
           }
          ],
          "carpet": [
           {
            "aaxis": {
             "endlinecolor": "#2a3f5f",
             "gridcolor": "white",
             "linecolor": "white",
             "minorgridcolor": "white",
             "startlinecolor": "#2a3f5f"
            },
            "baxis": {
             "endlinecolor": "#2a3f5f",
             "gridcolor": "white",
             "linecolor": "white",
             "minorgridcolor": "white",
             "startlinecolor": "#2a3f5f"
            },
            "type": "carpet"
           }
          ],
          "choropleth": [
           {
            "colorbar": {
             "outlinewidth": 0,
             "ticks": ""
            },
            "type": "choropleth"
           }
          ],
          "contour": [
           {
            "colorbar": {
             "outlinewidth": 0,
             "ticks": ""
            },
            "colorscale": [
             [
              0,
              "#0d0887"
             ],
             [
              0.1111111111111111,
              "#46039f"
             ],
             [
              0.2222222222222222,
              "#7201a8"
             ],
             [
              0.3333333333333333,
              "#9c179e"
             ],
             [
              0.4444444444444444,
              "#bd3786"
             ],
             [
              0.5555555555555556,
              "#d8576b"
             ],
             [
              0.6666666666666666,
              "#ed7953"
             ],
             [
              0.7777777777777778,
              "#fb9f3a"
             ],
             [
              0.8888888888888888,
              "#fdca26"
             ],
             [
              1,
              "#f0f921"
             ]
            ],
            "type": "contour"
           }
          ],
          "contourcarpet": [
           {
            "colorbar": {
             "outlinewidth": 0,
             "ticks": ""
            },
            "type": "contourcarpet"
           }
          ],
          "heatmap": [
           {
            "colorbar": {
             "outlinewidth": 0,
             "ticks": ""
            },
            "colorscale": [
             [
              0,
              "#0d0887"
             ],
             [
              0.1111111111111111,
              "#46039f"
             ],
             [
              0.2222222222222222,
              "#7201a8"
             ],
             [
              0.3333333333333333,
              "#9c179e"
             ],
             [
              0.4444444444444444,
              "#bd3786"
             ],
             [
              0.5555555555555556,
              "#d8576b"
             ],
             [
              0.6666666666666666,
              "#ed7953"
             ],
             [
              0.7777777777777778,
              "#fb9f3a"
             ],
             [
              0.8888888888888888,
              "#fdca26"
             ],
             [
              1,
              "#f0f921"
             ]
            ],
            "type": "heatmap"
           }
          ],
          "heatmapgl": [
           {
            "colorbar": {
             "outlinewidth": 0,
             "ticks": ""
            },
            "colorscale": [
             [
              0,
              "#0d0887"
             ],
             [
              0.1111111111111111,
              "#46039f"
             ],
             [
              0.2222222222222222,
              "#7201a8"
             ],
             [
              0.3333333333333333,
              "#9c179e"
             ],
             [
              0.4444444444444444,
              "#bd3786"
             ],
             [
              0.5555555555555556,
              "#d8576b"
             ],
             [
              0.6666666666666666,
              "#ed7953"
             ],
             [
              0.7777777777777778,
              "#fb9f3a"
             ],
             [
              0.8888888888888888,
              "#fdca26"
             ],
             [
              1,
              "#f0f921"
             ]
            ],
            "type": "heatmapgl"
           }
          ],
          "histogram": [
           {
            "marker": {
             "pattern": {
              "fillmode": "overlay",
              "size": 10,
              "solidity": 0.2
             }
            },
            "type": "histogram"
           }
          ],
          "histogram2d": [
           {
            "colorbar": {
             "outlinewidth": 0,
             "ticks": ""
            },
            "colorscale": [
             [
              0,
              "#0d0887"
             ],
             [
              0.1111111111111111,
              "#46039f"
             ],
             [
              0.2222222222222222,
              "#7201a8"
             ],
             [
              0.3333333333333333,
              "#9c179e"
             ],
             [
              0.4444444444444444,
              "#bd3786"
             ],
             [
              0.5555555555555556,
              "#d8576b"
             ],
             [
              0.6666666666666666,
              "#ed7953"
             ],
             [
              0.7777777777777778,
              "#fb9f3a"
             ],
             [
              0.8888888888888888,
              "#fdca26"
             ],
             [
              1,
              "#f0f921"
             ]
            ],
            "type": "histogram2d"
           }
          ],
          "histogram2dcontour": [
           {
            "colorbar": {
             "outlinewidth": 0,
             "ticks": ""
            },
            "colorscale": [
             [
              0,
              "#0d0887"
             ],
             [
              0.1111111111111111,
              "#46039f"
             ],
             [
              0.2222222222222222,
              "#7201a8"
             ],
             [
              0.3333333333333333,
              "#9c179e"
             ],
             [
              0.4444444444444444,
              "#bd3786"
             ],
             [
              0.5555555555555556,
              "#d8576b"
             ],
             [
              0.6666666666666666,
              "#ed7953"
             ],
             [
              0.7777777777777778,
              "#fb9f3a"
             ],
             [
              0.8888888888888888,
              "#fdca26"
             ],
             [
              1,
              "#f0f921"
             ]
            ],
            "type": "histogram2dcontour"
           }
          ],
          "mesh3d": [
           {
            "colorbar": {
             "outlinewidth": 0,
             "ticks": ""
            },
            "type": "mesh3d"
           }
          ],
          "parcoords": [
           {
            "line": {
             "colorbar": {
              "outlinewidth": 0,
              "ticks": ""
             }
            },
            "type": "parcoords"
           }
          ],
          "pie": [
           {
            "automargin": true,
            "type": "pie"
           }
          ],
          "scatter": [
           {
            "fillpattern": {
             "fillmode": "overlay",
             "size": 10,
             "solidity": 0.2
            },
            "type": "scatter"
           }
          ],
          "scatter3d": [
           {
            "line": {
             "colorbar": {
              "outlinewidth": 0,
              "ticks": ""
             }
            },
            "marker": {
             "colorbar": {
              "outlinewidth": 0,
              "ticks": ""
             }
            },
            "type": "scatter3d"
           }
          ],
          "scattercarpet": [
           {
            "marker": {
             "colorbar": {
              "outlinewidth": 0,
              "ticks": ""
             }
            },
            "type": "scattercarpet"
           }
          ],
          "scattergeo": [
           {
            "marker": {
             "colorbar": {
              "outlinewidth": 0,
              "ticks": ""
             }
            },
            "type": "scattergeo"
           }
          ],
          "scattergl": [
           {
            "marker": {
             "colorbar": {
              "outlinewidth": 0,
              "ticks": ""
             }
            },
            "type": "scattergl"
           }
          ],
          "scattermapbox": [
           {
            "marker": {
             "colorbar": {
              "outlinewidth": 0,
              "ticks": ""
             }
            },
            "type": "scattermapbox"
           }
          ],
          "scatterpolar": [
           {
            "marker": {
             "colorbar": {
              "outlinewidth": 0,
              "ticks": ""
             }
            },
            "type": "scatterpolar"
           }
          ],
          "scatterpolargl": [
           {
            "marker": {
             "colorbar": {
              "outlinewidth": 0,
              "ticks": ""
             }
            },
            "type": "scatterpolargl"
           }
          ],
          "scatterternary": [
           {
            "marker": {
             "colorbar": {
              "outlinewidth": 0,
              "ticks": ""
             }
            },
            "type": "scatterternary"
           }
          ],
          "surface": [
           {
            "colorbar": {
             "outlinewidth": 0,
             "ticks": ""
            },
            "colorscale": [
             [
              0,
              "#0d0887"
             ],
             [
              0.1111111111111111,
              "#46039f"
             ],
             [
              0.2222222222222222,
              "#7201a8"
             ],
             [
              0.3333333333333333,
              "#9c179e"
             ],
             [
              0.4444444444444444,
              "#bd3786"
             ],
             [
              0.5555555555555556,
              "#d8576b"
             ],
             [
              0.6666666666666666,
              "#ed7953"
             ],
             [
              0.7777777777777778,
              "#fb9f3a"
             ],
             [
              0.8888888888888888,
              "#fdca26"
             ],
             [
              1,
              "#f0f921"
             ]
            ],
            "type": "surface"
           }
          ],
          "table": [
           {
            "cells": {
             "fill": {
              "color": "#EBF0F8"
             },
             "line": {
              "color": "white"
             }
            },
            "header": {
             "fill": {
              "color": "#C8D4E3"
             },
             "line": {
              "color": "white"
             }
            },
            "type": "table"
           }
          ]
         },
         "layout": {
          "annotationdefaults": {
           "arrowcolor": "#2a3f5f",
           "arrowhead": 0,
           "arrowwidth": 1
          },
          "autotypenumbers": "strict",
          "coloraxis": {
           "colorbar": {
            "outlinewidth": 0,
            "ticks": ""
           }
          },
          "colorscale": {
           "diverging": [
            [
             0,
             "#8e0152"
            ],
            [
             0.1,
             "#c51b7d"
            ],
            [
             0.2,
             "#de77ae"
            ],
            [
             0.3,
             "#f1b6da"
            ],
            [
             0.4,
             "#fde0ef"
            ],
            [
             0.5,
             "#f7f7f7"
            ],
            [
             0.6,
             "#e6f5d0"
            ],
            [
             0.7,
             "#b8e186"
            ],
            [
             0.8,
             "#7fbc41"
            ],
            [
             0.9,
             "#4d9221"
            ],
            [
             1,
             "#276419"
            ]
           ],
           "sequential": [
            [
             0,
             "#0d0887"
            ],
            [
             0.1111111111111111,
             "#46039f"
            ],
            [
             0.2222222222222222,
             "#7201a8"
            ],
            [
             0.3333333333333333,
             "#9c179e"
            ],
            [
             0.4444444444444444,
             "#bd3786"
            ],
            [
             0.5555555555555556,
             "#d8576b"
            ],
            [
             0.6666666666666666,
             "#ed7953"
            ],
            [
             0.7777777777777778,
             "#fb9f3a"
            ],
            [
             0.8888888888888888,
             "#fdca26"
            ],
            [
             1,
             "#f0f921"
            ]
           ],
           "sequentialminus": [
            [
             0,
             "#0d0887"
            ],
            [
             0.1111111111111111,
             "#46039f"
            ],
            [
             0.2222222222222222,
             "#7201a8"
            ],
            [
             0.3333333333333333,
             "#9c179e"
            ],
            [
             0.4444444444444444,
             "#bd3786"
            ],
            [
             0.5555555555555556,
             "#d8576b"
            ],
            [
             0.6666666666666666,
             "#ed7953"
            ],
            [
             0.7777777777777778,
             "#fb9f3a"
            ],
            [
             0.8888888888888888,
             "#fdca26"
            ],
            [
             1,
             "#f0f921"
            ]
           ]
          },
          "colorway": [
           "#636efa",
           "#EF553B",
           "#00cc96",
           "#ab63fa",
           "#FFA15A",
           "#19d3f3",
           "#FF6692",
           "#B6E880",
           "#FF97FF",
           "#FECB52"
          ],
          "font": {
           "color": "#2a3f5f"
          },
          "geo": {
           "bgcolor": "white",
           "lakecolor": "white",
           "landcolor": "#E5ECF6",
           "showlakes": true,
           "showland": true,
           "subunitcolor": "white"
          },
          "hoverlabel": {
           "align": "left"
          },
          "hovermode": "closest",
          "mapbox": {
           "style": "light"
          },
          "paper_bgcolor": "white",
          "plot_bgcolor": "#E5ECF6",
          "polar": {
           "angularaxis": {
            "gridcolor": "white",
            "linecolor": "white",
            "ticks": ""
           },
           "bgcolor": "#E5ECF6",
           "radialaxis": {
            "gridcolor": "white",
            "linecolor": "white",
            "ticks": ""
           }
          },
          "scene": {
           "xaxis": {
            "backgroundcolor": "#E5ECF6",
            "gridcolor": "white",
            "gridwidth": 2,
            "linecolor": "white",
            "showbackground": true,
            "ticks": "",
            "zerolinecolor": "white"
           },
           "yaxis": {
            "backgroundcolor": "#E5ECF6",
            "gridcolor": "white",
            "gridwidth": 2,
            "linecolor": "white",
            "showbackground": true,
            "ticks": "",
            "zerolinecolor": "white"
           },
           "zaxis": {
            "backgroundcolor": "#E5ECF6",
            "gridcolor": "white",
            "gridwidth": 2,
            "linecolor": "white",
            "showbackground": true,
            "ticks": "",
            "zerolinecolor": "white"
           }
          },
          "shapedefaults": {
           "line": {
            "color": "#2a3f5f"
           }
          },
          "ternary": {
           "aaxis": {
            "gridcolor": "white",
            "linecolor": "white",
            "ticks": ""
           },
           "baxis": {
            "gridcolor": "white",
            "linecolor": "white",
            "ticks": ""
           },
           "bgcolor": "#E5ECF6",
           "caxis": {
            "gridcolor": "white",
            "linecolor": "white",
            "ticks": ""
           }
          },
          "title": {
           "x": 0.05
          },
          "xaxis": {
           "automargin": true,
           "gridcolor": "white",
           "linecolor": "white",
           "ticks": "",
           "title": {
            "standoff": 15
           },
           "zerolinecolor": "white",
           "zerolinewidth": 2
          },
          "yaxis": {
           "automargin": true,
           "gridcolor": "white",
           "linecolor": "white",
           "ticks": "",
           "title": {
            "standoff": 15
           },
           "zerolinecolor": "white",
           "zerolinewidth": 2
          }
         }
        }
       }
      }
     },
     "metadata": {},
     "output_type": "display_data"
    }
   ],
   "source": [
    "metric_curve(poli, 'like_count', ['Lula','Jair M. Bolsonaro'])"
   ]
  },
  {
   "cell_type": "code",
   "execution_count": null,
   "metadata": {},
   "outputs": [],
   "source": [
    "def activity_curve(df: pd.DataFrame, politicians=List[str], granularidade: str = \"m\") -> np.nan:\n",
    "    \"\"\"Generates count of hashtags appearence over time\n",
    "\n",
    "    Args:\n",
    "        df (pd.DataFrame): polititians dataframe\n",
    "        hashtag (List[str]): hashtag list to visualize\n",
    "        granularidade (str, optional): visualization scope Defaults to \"m\".\n",
    "        combine (bool, optional): combining hashtags\n",
    "\n",
    "    Returns:\n",
    "        np.nan: Doesn't return anything\n",
    "    \"\"\"\n",
    "\n",
    "    formats = {'d': '%d/%m/%Y',\n",
    "                'm': '%Y/%m',\n",
    "                'y': '%Y'}\n",
    "\n",
    "    pal = list(sns.color_palette(palette='viridis', n_colors=len(politicians)).as_hex())\n",
    "\n",
    "    fig = go.Figure()\n",
    "    for d,p in zip(politicians, pal):\n",
    "\n",
    "        filter = df.user_name == d\n",
    "\n",
    "        metric_df = df[filter][['created_at','user_name']].copy()\n",
    "        \n",
    "        metric_df.created_at = metric_df.created_at.apply(lambda x: parser.parse(x).strftime(formats[granularidade]))\n",
    "\n",
    "        politician_df = metric_df[metric_df.user_name == d]\n",
    "\n",
    "        plot_df = politician_df.groupby(\"created_at\").count().reset_index()\n",
    "\n",
    "        plot_df.created_at = pd.to_datetime(plot_df.created_at, format=formats[granularidade])\n",
    "\n",
    "        plot_df.sort_values('created_at', inplace=True)\n",
    "\n",
    "        print(plot_df)\n",
    "\n",
    "\n",
    "        fig.add_trace(go.Scatter(x = plot_df.created_at,\n",
    "                                y = plot_df.user_name,\n",
    "                                name = d,\n",
    "                                line_color = p, \n",
    "                                fill=None))   #tozeroy \n",
    "                            \n",
    "    \n",
    "    fig.show()"
   ]
  },
  {
   "cell_type": "code",
   "execution_count": null,
   "metadata": {},
   "outputs": [
    {
     "name": "stdout",
     "output_type": "stream",
     "text": [
      "  created_at  user_name\n",
      "0 2021-10-01         44\n",
      "1 2021-11-01        137\n",
      "2 2021-12-01        123\n",
      "3 2022-01-01         97\n",
      "4 2022-02-01        132\n",
      "5 2022-03-01         53\n",
      "  created_at  user_name\n",
      "0 2021-09-01         42\n",
      "1 2021-10-01         90\n",
      "2 2021-11-01         77\n",
      "3 2021-12-01         77\n",
      "4 2022-01-01         74\n",
      "5 2022-02-01         88\n",
      "6 2022-03-01         34\n"
     ]
    },
    {
     "data": {
      "application/vnd.plotly.v1+json": {
       "config": {
        "plotlyServerURL": "https://plot.ly"
       },
       "data": [
        {
         "line": {
          "color": "#31688e"
         },
         "name": "Lula",
         "type": "scatter",
         "x": [
          "2021-10-01T00:00:00",
          "2021-11-01T00:00:00",
          "2021-12-01T00:00:00",
          "2022-01-01T00:00:00",
          "2022-02-01T00:00:00",
          "2022-03-01T00:00:00"
         ],
         "y": [
          44,
          137,
          123,
          97,
          132,
          53
         ]
        },
        {
         "line": {
          "color": "#35b779"
         },
         "name": "Jair M. Bolsonaro",
         "type": "scatter",
         "x": [
          "2021-09-01T00:00:00",
          "2021-10-01T00:00:00",
          "2021-11-01T00:00:00",
          "2021-12-01T00:00:00",
          "2022-01-01T00:00:00",
          "2022-02-01T00:00:00",
          "2022-03-01T00:00:00"
         ],
         "y": [
          42,
          90,
          77,
          77,
          74,
          88,
          34
         ]
        }
       ],
       "layout": {
        "template": {
         "data": {
          "bar": [
           {
            "error_x": {
             "color": "#2a3f5f"
            },
            "error_y": {
             "color": "#2a3f5f"
            },
            "marker": {
             "line": {
              "color": "#E5ECF6",
              "width": 0.5
             },
             "pattern": {
              "fillmode": "overlay",
              "size": 10,
              "solidity": 0.2
             }
            },
            "type": "bar"
           }
          ],
          "barpolar": [
           {
            "marker": {
             "line": {
              "color": "#E5ECF6",
              "width": 0.5
             },
             "pattern": {
              "fillmode": "overlay",
              "size": 10,
              "solidity": 0.2
             }
            },
            "type": "barpolar"
           }
          ],
          "carpet": [
           {
            "aaxis": {
             "endlinecolor": "#2a3f5f",
             "gridcolor": "white",
             "linecolor": "white",
             "minorgridcolor": "white",
             "startlinecolor": "#2a3f5f"
            },
            "baxis": {
             "endlinecolor": "#2a3f5f",
             "gridcolor": "white",
             "linecolor": "white",
             "minorgridcolor": "white",
             "startlinecolor": "#2a3f5f"
            },
            "type": "carpet"
           }
          ],
          "choropleth": [
           {
            "colorbar": {
             "outlinewidth": 0,
             "ticks": ""
            },
            "type": "choropleth"
           }
          ],
          "contour": [
           {
            "colorbar": {
             "outlinewidth": 0,
             "ticks": ""
            },
            "colorscale": [
             [
              0,
              "#0d0887"
             ],
             [
              0.1111111111111111,
              "#46039f"
             ],
             [
              0.2222222222222222,
              "#7201a8"
             ],
             [
              0.3333333333333333,
              "#9c179e"
             ],
             [
              0.4444444444444444,
              "#bd3786"
             ],
             [
              0.5555555555555556,
              "#d8576b"
             ],
             [
              0.6666666666666666,
              "#ed7953"
             ],
             [
              0.7777777777777778,
              "#fb9f3a"
             ],
             [
              0.8888888888888888,
              "#fdca26"
             ],
             [
              1,
              "#f0f921"
             ]
            ],
            "type": "contour"
           }
          ],
          "contourcarpet": [
           {
            "colorbar": {
             "outlinewidth": 0,
             "ticks": ""
            },
            "type": "contourcarpet"
           }
          ],
          "heatmap": [
           {
            "colorbar": {
             "outlinewidth": 0,
             "ticks": ""
            },
            "colorscale": [
             [
              0,
              "#0d0887"
             ],
             [
              0.1111111111111111,
              "#46039f"
             ],
             [
              0.2222222222222222,
              "#7201a8"
             ],
             [
              0.3333333333333333,
              "#9c179e"
             ],
             [
              0.4444444444444444,
              "#bd3786"
             ],
             [
              0.5555555555555556,
              "#d8576b"
             ],
             [
              0.6666666666666666,
              "#ed7953"
             ],
             [
              0.7777777777777778,
              "#fb9f3a"
             ],
             [
              0.8888888888888888,
              "#fdca26"
             ],
             [
              1,
              "#f0f921"
             ]
            ],
            "type": "heatmap"
           }
          ],
          "heatmapgl": [
           {
            "colorbar": {
             "outlinewidth": 0,
             "ticks": ""
            },
            "colorscale": [
             [
              0,
              "#0d0887"
             ],
             [
              0.1111111111111111,
              "#46039f"
             ],
             [
              0.2222222222222222,
              "#7201a8"
             ],
             [
              0.3333333333333333,
              "#9c179e"
             ],
             [
              0.4444444444444444,
              "#bd3786"
             ],
             [
              0.5555555555555556,
              "#d8576b"
             ],
             [
              0.6666666666666666,
              "#ed7953"
             ],
             [
              0.7777777777777778,
              "#fb9f3a"
             ],
             [
              0.8888888888888888,
              "#fdca26"
             ],
             [
              1,
              "#f0f921"
             ]
            ],
            "type": "heatmapgl"
           }
          ],
          "histogram": [
           {
            "marker": {
             "pattern": {
              "fillmode": "overlay",
              "size": 10,
              "solidity": 0.2
             }
            },
            "type": "histogram"
           }
          ],
          "histogram2d": [
           {
            "colorbar": {
             "outlinewidth": 0,
             "ticks": ""
            },
            "colorscale": [
             [
              0,
              "#0d0887"
             ],
             [
              0.1111111111111111,
              "#46039f"
             ],
             [
              0.2222222222222222,
              "#7201a8"
             ],
             [
              0.3333333333333333,
              "#9c179e"
             ],
             [
              0.4444444444444444,
              "#bd3786"
             ],
             [
              0.5555555555555556,
              "#d8576b"
             ],
             [
              0.6666666666666666,
              "#ed7953"
             ],
             [
              0.7777777777777778,
              "#fb9f3a"
             ],
             [
              0.8888888888888888,
              "#fdca26"
             ],
             [
              1,
              "#f0f921"
             ]
            ],
            "type": "histogram2d"
           }
          ],
          "histogram2dcontour": [
           {
            "colorbar": {
             "outlinewidth": 0,
             "ticks": ""
            },
            "colorscale": [
             [
              0,
              "#0d0887"
             ],
             [
              0.1111111111111111,
              "#46039f"
             ],
             [
              0.2222222222222222,
              "#7201a8"
             ],
             [
              0.3333333333333333,
              "#9c179e"
             ],
             [
              0.4444444444444444,
              "#bd3786"
             ],
             [
              0.5555555555555556,
              "#d8576b"
             ],
             [
              0.6666666666666666,
              "#ed7953"
             ],
             [
              0.7777777777777778,
              "#fb9f3a"
             ],
             [
              0.8888888888888888,
              "#fdca26"
             ],
             [
              1,
              "#f0f921"
             ]
            ],
            "type": "histogram2dcontour"
           }
          ],
          "mesh3d": [
           {
            "colorbar": {
             "outlinewidth": 0,
             "ticks": ""
            },
            "type": "mesh3d"
           }
          ],
          "parcoords": [
           {
            "line": {
             "colorbar": {
              "outlinewidth": 0,
              "ticks": ""
             }
            },
            "type": "parcoords"
           }
          ],
          "pie": [
           {
            "automargin": true,
            "type": "pie"
           }
          ],
          "scatter": [
           {
            "fillpattern": {
             "fillmode": "overlay",
             "size": 10,
             "solidity": 0.2
            },
            "type": "scatter"
           }
          ],
          "scatter3d": [
           {
            "line": {
             "colorbar": {
              "outlinewidth": 0,
              "ticks": ""
             }
            },
            "marker": {
             "colorbar": {
              "outlinewidth": 0,
              "ticks": ""
             }
            },
            "type": "scatter3d"
           }
          ],
          "scattercarpet": [
           {
            "marker": {
             "colorbar": {
              "outlinewidth": 0,
              "ticks": ""
             }
            },
            "type": "scattercarpet"
           }
          ],
          "scattergeo": [
           {
            "marker": {
             "colorbar": {
              "outlinewidth": 0,
              "ticks": ""
             }
            },
            "type": "scattergeo"
           }
          ],
          "scattergl": [
           {
            "marker": {
             "colorbar": {
              "outlinewidth": 0,
              "ticks": ""
             }
            },
            "type": "scattergl"
           }
          ],
          "scattermapbox": [
           {
            "marker": {
             "colorbar": {
              "outlinewidth": 0,
              "ticks": ""
             }
            },
            "type": "scattermapbox"
           }
          ],
          "scatterpolar": [
           {
            "marker": {
             "colorbar": {
              "outlinewidth": 0,
              "ticks": ""
             }
            },
            "type": "scatterpolar"
           }
          ],
          "scatterpolargl": [
           {
            "marker": {
             "colorbar": {
              "outlinewidth": 0,
              "ticks": ""
             }
            },
            "type": "scatterpolargl"
           }
          ],
          "scatterternary": [
           {
            "marker": {
             "colorbar": {
              "outlinewidth": 0,
              "ticks": ""
             }
            },
            "type": "scatterternary"
           }
          ],
          "surface": [
           {
            "colorbar": {
             "outlinewidth": 0,
             "ticks": ""
            },
            "colorscale": [
             [
              0,
              "#0d0887"
             ],
             [
              0.1111111111111111,
              "#46039f"
             ],
             [
              0.2222222222222222,
              "#7201a8"
             ],
             [
              0.3333333333333333,
              "#9c179e"
             ],
             [
              0.4444444444444444,
              "#bd3786"
             ],
             [
              0.5555555555555556,
              "#d8576b"
             ],
             [
              0.6666666666666666,
              "#ed7953"
             ],
             [
              0.7777777777777778,
              "#fb9f3a"
             ],
             [
              0.8888888888888888,
              "#fdca26"
             ],
             [
              1,
              "#f0f921"
             ]
            ],
            "type": "surface"
           }
          ],
          "table": [
           {
            "cells": {
             "fill": {
              "color": "#EBF0F8"
             },
             "line": {
              "color": "white"
             }
            },
            "header": {
             "fill": {
              "color": "#C8D4E3"
             },
             "line": {
              "color": "white"
             }
            },
            "type": "table"
           }
          ]
         },
         "layout": {
          "annotationdefaults": {
           "arrowcolor": "#2a3f5f",
           "arrowhead": 0,
           "arrowwidth": 1
          },
          "autotypenumbers": "strict",
          "coloraxis": {
           "colorbar": {
            "outlinewidth": 0,
            "ticks": ""
           }
          },
          "colorscale": {
           "diverging": [
            [
             0,
             "#8e0152"
            ],
            [
             0.1,
             "#c51b7d"
            ],
            [
             0.2,
             "#de77ae"
            ],
            [
             0.3,
             "#f1b6da"
            ],
            [
             0.4,
             "#fde0ef"
            ],
            [
             0.5,
             "#f7f7f7"
            ],
            [
             0.6,
             "#e6f5d0"
            ],
            [
             0.7,
             "#b8e186"
            ],
            [
             0.8,
             "#7fbc41"
            ],
            [
             0.9,
             "#4d9221"
            ],
            [
             1,
             "#276419"
            ]
           ],
           "sequential": [
            [
             0,
             "#0d0887"
            ],
            [
             0.1111111111111111,
             "#46039f"
            ],
            [
             0.2222222222222222,
             "#7201a8"
            ],
            [
             0.3333333333333333,
             "#9c179e"
            ],
            [
             0.4444444444444444,
             "#bd3786"
            ],
            [
             0.5555555555555556,
             "#d8576b"
            ],
            [
             0.6666666666666666,
             "#ed7953"
            ],
            [
             0.7777777777777778,
             "#fb9f3a"
            ],
            [
             0.8888888888888888,
             "#fdca26"
            ],
            [
             1,
             "#f0f921"
            ]
           ],
           "sequentialminus": [
            [
             0,
             "#0d0887"
            ],
            [
             0.1111111111111111,
             "#46039f"
            ],
            [
             0.2222222222222222,
             "#7201a8"
            ],
            [
             0.3333333333333333,
             "#9c179e"
            ],
            [
             0.4444444444444444,
             "#bd3786"
            ],
            [
             0.5555555555555556,
             "#d8576b"
            ],
            [
             0.6666666666666666,
             "#ed7953"
            ],
            [
             0.7777777777777778,
             "#fb9f3a"
            ],
            [
             0.8888888888888888,
             "#fdca26"
            ],
            [
             1,
             "#f0f921"
            ]
           ]
          },
          "colorway": [
           "#636efa",
           "#EF553B",
           "#00cc96",
           "#ab63fa",
           "#FFA15A",
           "#19d3f3",
           "#FF6692",
           "#B6E880",
           "#FF97FF",
           "#FECB52"
          ],
          "font": {
           "color": "#2a3f5f"
          },
          "geo": {
           "bgcolor": "white",
           "lakecolor": "white",
           "landcolor": "#E5ECF6",
           "showlakes": true,
           "showland": true,
           "subunitcolor": "white"
          },
          "hoverlabel": {
           "align": "left"
          },
          "hovermode": "closest",
          "mapbox": {
           "style": "light"
          },
          "paper_bgcolor": "white",
          "plot_bgcolor": "#E5ECF6",
          "polar": {
           "angularaxis": {
            "gridcolor": "white",
            "linecolor": "white",
            "ticks": ""
           },
           "bgcolor": "#E5ECF6",
           "radialaxis": {
            "gridcolor": "white",
            "linecolor": "white",
            "ticks": ""
           }
          },
          "scene": {
           "xaxis": {
            "backgroundcolor": "#E5ECF6",
            "gridcolor": "white",
            "gridwidth": 2,
            "linecolor": "white",
            "showbackground": true,
            "ticks": "",
            "zerolinecolor": "white"
           },
           "yaxis": {
            "backgroundcolor": "#E5ECF6",
            "gridcolor": "white",
            "gridwidth": 2,
            "linecolor": "white",
            "showbackground": true,
            "ticks": "",
            "zerolinecolor": "white"
           },
           "zaxis": {
            "backgroundcolor": "#E5ECF6",
            "gridcolor": "white",
            "gridwidth": 2,
            "linecolor": "white",
            "showbackground": true,
            "ticks": "",
            "zerolinecolor": "white"
           }
          },
          "shapedefaults": {
           "line": {
            "color": "#2a3f5f"
           }
          },
          "ternary": {
           "aaxis": {
            "gridcolor": "white",
            "linecolor": "white",
            "ticks": ""
           },
           "baxis": {
            "gridcolor": "white",
            "linecolor": "white",
            "ticks": ""
           },
           "bgcolor": "#E5ECF6",
           "caxis": {
            "gridcolor": "white",
            "linecolor": "white",
            "ticks": ""
           }
          },
          "title": {
           "x": 0.05
          },
          "xaxis": {
           "automargin": true,
           "gridcolor": "white",
           "linecolor": "white",
           "ticks": "",
           "title": {
            "standoff": 15
           },
           "zerolinecolor": "white",
           "zerolinewidth": 2
          },
          "yaxis": {
           "automargin": true,
           "gridcolor": "white",
           "linecolor": "white",
           "ticks": "",
           "title": {
            "standoff": 15
           },
           "zerolinecolor": "white",
           "zerolinewidth": 2
          }
         }
        }
       }
      }
     },
     "metadata": {},
     "output_type": "display_data"
    }
   ],
   "source": [
    "activity_curve(poli, ['Lula','Jair M. Bolsonaro'])"
   ]
  },
  {
   "cell_type": "code",
   "execution_count": null,
   "metadata": {},
   "outputs": [],
   "source": [
    "def common_hours(df: pd.DataFrame, politicians=List[str], granularidade: str = \"m\") -> np.nan:\n",
    "    \"\"\"Generates count of hashtags appearence over time\n",
    "\n",
    "    Args:\n",
    "        df (pd.DataFrame): polititians dataframe\n",
    "        hashtag (List[str]): hashtag list to visualize\n",
    "        granularidade (str, optional): visualization scope Defaults to \"m\".\n",
    "        combine (bool, optional): combining hashtags\n",
    "\n",
    "    Returns:\n",
    "        np.nan: Doesn't return anything\n",
    "    \"\"\"\n",
    "\n",
    "    formats = {'d': '%d/%m/%Y',\n",
    "                'm': '%Y/%m',\n",
    "                'y': '%Y'}\n",
    "\n",
    "    pal = list(sns.color_palette(palette='viridis', n_colors=len(politicians)).as_hex())\n",
    "\n",
    "    fig = go.Figure()\n",
    "    for d,p in zip(politicians, pal):\n",
    "\n",
    "        filter = df.user_name == d\n",
    "\n",
    "        metric_df = df[filter][['created_at','user_name']].copy()\n",
    "        \n",
    "        metric_df.created_at = metric_df.created_at.apply(lambda x: parser.parse(x).strftime(formats[granularidade]))\n",
    "\n",
    "        politician_df = metric_df[metric_df.user_name == d]\n",
    "\n",
    "        plot_df = politician_df.groupby(\"created_at\").count().reset_index()\n",
    "\n",
    "        plot_df.created_at = pd.to_datetime(plot_df.created_at, format=formats[granularidade])\n",
    "\n",
    "        plot_df.sort_values('created_at', inplace=True)\n",
    "\n",
    "        print(plot_df)\n",
    "\n",
    "\n",
    "        fig.add_trace(go.Scatter(x = plot_df.created_at,\n",
    "                                y = plot_df.user_name,\n",
    "                                name = d,\n",
    "                                line_color = p, \n",
    "                                fill=None))   #tozeroy \n",
    "                            \n",
    "    \n",
    "    fig.show()"
   ]
  }
 ],
 "metadata": {
  "interpreter": {
   "hash": "8e502c3083077283654ee0db8689729377640bb97ef493668650ddc40e07c009"
  },
  "kernelspec": {
   "display_name": "Python 3.10.4 64-bit",
   "language": "python",
   "name": "python3"
  },
  "language_info": {
   "codemirror_mode": {
    "name": "ipython",
    "version": 3
   },
   "file_extension": ".py",
   "mimetype": "text/x-python",
   "name": "python",
   "nbconvert_exporter": "python",
   "pygments_lexer": "ipython3",
   "version": "3.10.4"
  },
  "orig_nbformat": 4
 },
 "nbformat": 4,
 "nbformat_minor": 2
}
