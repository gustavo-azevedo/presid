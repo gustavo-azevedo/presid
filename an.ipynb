{
 "cells": [
  {
   "cell_type": "code",
   "execution_count": 1,
   "metadata": {},
   "outputs": [],
   "source": [
    "import pandas as pd\n",
    "import matplotlib.pyplot as plt\n",
    "import emoji\n",
    "import re\n",
    "import nltk\n",
    "import mplcursors\n",
    "from nltk.corpus import stopwords\n",
    "from wordcloud import WordCloud\n",
    "import seaborn as sns\n",
    "import numpy as np\n",
    "from dateutil import parser\n",
    "from typing import List\n",
    "\n"
   ]
  },
  {
   "cell_type": "code",
   "execution_count": null,
   "metadata": {},
   "outputs": [
    {
     "name": "stderr",
     "output_type": "stream",
     "text": [
      "[nltk_data] Downloading package stopwords to\n",
      "[nltk_data]     C:\\Users\\mrggi\\AppData\\Roaming\\nltk_data...\n",
      "[nltk_data]   Package stopwords is already up-to-date!\n"
     ]
    },
    {
     "data": {
      "text/plain": [
       "True"
      ]
     },
     "execution_count": 265,
     "metadata": {},
     "output_type": "execute_result"
    }
   ],
   "source": [
    "nltk.download('stopwords')\n"
   ]
  },
  {
   "cell_type": "code",
   "execution_count": null,
   "metadata": {},
   "outputs": [],
   "source": [
    "poli = pd.read_csv('politicos.csv')"
   ]
  },
  {
   "cell_type": "code",
   "execution_count": null,
   "metadata": {},
   "outputs": [
    {
     "data": {
      "text/html": [
       "<div>\n",
       "<style scoped>\n",
       "    .dataframe tbody tr th:only-of-type {\n",
       "        vertical-align: middle;\n",
       "    }\n",
       "\n",
       "    .dataframe tbody tr th {\n",
       "        vertical-align: top;\n",
       "    }\n",
       "\n",
       "    .dataframe thead th {\n",
       "        text-align: right;\n",
       "    }\n",
       "</style>\n",
       "<table border=\"1\" class=\"dataframe\">\n",
       "  <thead>\n",
       "    <tr style=\"text-align: right;\">\n",
       "      <th></th>\n",
       "      <th>Unnamed: 0</th>\n",
       "      <th>tweets_id</th>\n",
       "      <th>tweets_in_thread</th>\n",
       "      <th>created_at</th>\n",
       "      <th>text</th>\n",
       "      <th>retweet_count</th>\n",
       "      <th>like_count</th>\n",
       "      <th>reply_count</th>\n",
       "      <th>quote_count</th>\n",
       "      <th>user_id</th>\n",
       "      <th>username</th>\n",
       "      <th>user_name</th>\n",
       "      <th>user_picture</th>\n",
       "      <th>verified</th>\n",
       "      <th>clean_text</th>\n",
       "      <th>mentions</th>\n",
       "      <th>hashtags</th>\n",
       "      <th>emojis</th>\n",
       "    </tr>\n",
       "  </thead>\n",
       "  <tbody>\n",
       "    <tr>\n",
       "      <th>0</th>\n",
       "      <td>0</td>\n",
       "      <td>['1453442766982287361']</td>\n",
       "      <td>1</td>\n",
       "      <td>2021-10-27T19:25:33.000Z</td>\n",
       "      <td>PARABÉNS, PRESIDENTE LULA | 76 anos com energi...</td>\n",
       "      <td>1423</td>\n",
       "      <td>16845</td>\n",
       "      <td>939</td>\n",
       "      <td>323</td>\n",
       "      <td>2670726740</td>\n",
       "      <td>LulaOficial</td>\n",
       "      <td>Lula</td>\n",
       "      <td>https://pbs.twimg.com/profile_images/145778941...</td>\n",
       "      <td>True</td>\n",
       "      <td>['parabens', 'presidente', 'lula', 'ano', 'ene...</td>\n",
       "      <td>NaN</td>\n",
       "      <td>['#equipelula']</td>\n",
       "      <td>NaN</td>\n",
       "    </tr>\n",
       "    <tr>\n",
       "      <th>1</th>\n",
       "      <td>1</td>\n",
       "      <td>['1453676921393324036']</td>\n",
       "      <td>1</td>\n",
       "      <td>2021-10-28T10:56:00.000Z</td>\n",
       "      <td>Ao vivo em instantes: https://t.co/DC3AqHTIDc</td>\n",
       "      <td>139</td>\n",
       "      <td>607</td>\n",
       "      <td>42</td>\n",
       "      <td>14</td>\n",
       "      <td>2670726740</td>\n",
       "      <td>LulaOficial</td>\n",
       "      <td>Lula</td>\n",
       "      <td>https://pbs.twimg.com/profile_images/145778941...</td>\n",
       "      <td>True</td>\n",
       "      <td>['viver', 'instante']</td>\n",
       "      <td>NaN</td>\n",
       "      <td>NaN</td>\n",
       "      <td>NaN</td>\n",
       "    </tr>\n",
       "    <tr>\n",
       "      <th>2</th>\n",
       "      <td>2</td>\n",
       "      <td>['1453681221603581952']</td>\n",
       "      <td>1</td>\n",
       "      <td>2021-10-28T11:13:05.000Z</td>\n",
       "      <td>Entrevista de Lula para a Rádio Jovem Pan de S...</td>\n",
       "      <td>630</td>\n",
       "      <td>3013</td>\n",
       "      <td>319</td>\n",
       "      <td>57</td>\n",
       "      <td>2670726740</td>\n",
       "      <td>LulaOficial</td>\n",
       "      <td>Lula</td>\n",
       "      <td>https://pbs.twimg.com/profile_images/145778941...</td>\n",
       "      <td>True</td>\n",
       "      <td>['entrevisto', 'lula', 'radiar', 'jovem', 'pan...</td>\n",
       "      <td>NaN</td>\n",
       "      <td>NaN</td>\n",
       "      <td>NaN</td>\n",
       "    </tr>\n",
       "    <tr>\n",
       "      <th>3</th>\n",
       "      <td>3</td>\n",
       "      <td>['1453682338941095940']</td>\n",
       "      <td>1</td>\n",
       "      <td>2021-10-28T11:17:32.000Z</td>\n",
       "      <td>Fiz 76 anos ontem com muito orgulho. Não sinto...</td>\n",
       "      <td>1702</td>\n",
       "      <td>27763</td>\n",
       "      <td>1853</td>\n",
       "      <td>318</td>\n",
       "      <td>2670726740</td>\n",
       "      <td>LulaOficial</td>\n",
       "      <td>Lula</td>\n",
       "      <td>https://pbs.twimg.com/profile_images/145778941...</td>\n",
       "      <td>True</td>\n",
       "      <td>['fazer', 'ano', 'ontem', 'orgulhar', 'sentir'...</td>\n",
       "      <td>NaN</td>\n",
       "      <td>NaN</td>\n",
       "      <td>NaN</td>\n",
       "    </tr>\n",
       "    <tr>\n",
       "      <th>4</th>\n",
       "      <td>4</td>\n",
       "      <td>['1453685308755746818']</td>\n",
       "      <td>1</td>\n",
       "      <td>2021-10-28T11:29:20.000Z</td>\n",
       "      <td>Para que a iniciativa privada se apodere do Es...</td>\n",
       "      <td>734</td>\n",
       "      <td>4697</td>\n",
       "      <td>302</td>\n",
       "      <td>66</td>\n",
       "      <td>2670726740</td>\n",
       "      <td>LulaOficial</td>\n",
       "      <td>Lula</td>\n",
       "      <td>https://pbs.twimg.com/profile_images/145778941...</td>\n",
       "      <td>True</td>\n",
       "      <td>['iniciativo', 'privar', 'apoderar', 'estar', ...</td>\n",
       "      <td>NaN</td>\n",
       "      <td>NaN</td>\n",
       "      <td>NaN</td>\n",
       "    </tr>\n",
       "  </tbody>\n",
       "</table>\n",
       "</div>"
      ],
      "text/plain": [
       "   Unnamed: 0                tweets_id  tweets_in_thread  \\\n",
       "0           0  ['1453442766982287361']                 1   \n",
       "1           1  ['1453676921393324036']                 1   \n",
       "2           2  ['1453681221603581952']                 1   \n",
       "3           3  ['1453682338941095940']                 1   \n",
       "4           4  ['1453685308755746818']                 1   \n",
       "\n",
       "                 created_at  \\\n",
       "0  2021-10-27T19:25:33.000Z   \n",
       "1  2021-10-28T10:56:00.000Z   \n",
       "2  2021-10-28T11:13:05.000Z   \n",
       "3  2021-10-28T11:17:32.000Z   \n",
       "4  2021-10-28T11:29:20.000Z   \n",
       "\n",
       "                                                text  retweet_count  \\\n",
       "0  PARABÉNS, PRESIDENTE LULA | 76 anos com energi...           1423   \n",
       "1      Ao vivo em instantes: https://t.co/DC3AqHTIDc            139   \n",
       "2  Entrevista de Lula para a Rádio Jovem Pan de S...            630   \n",
       "3  Fiz 76 anos ontem com muito orgulho. Não sinto...           1702   \n",
       "4  Para que a iniciativa privada se apodere do Es...            734   \n",
       "\n",
       "   like_count  reply_count  quote_count     user_id     username user_name  \\\n",
       "0       16845          939          323  2670726740  LulaOficial      Lula   \n",
       "1         607           42           14  2670726740  LulaOficial      Lula   \n",
       "2        3013          319           57  2670726740  LulaOficial      Lula   \n",
       "3       27763         1853          318  2670726740  LulaOficial      Lula   \n",
       "4        4697          302           66  2670726740  LulaOficial      Lula   \n",
       "\n",
       "                                        user_picture  verified  \\\n",
       "0  https://pbs.twimg.com/profile_images/145778941...      True   \n",
       "1  https://pbs.twimg.com/profile_images/145778941...      True   \n",
       "2  https://pbs.twimg.com/profile_images/145778941...      True   \n",
       "3  https://pbs.twimg.com/profile_images/145778941...      True   \n",
       "4  https://pbs.twimg.com/profile_images/145778941...      True   \n",
       "\n",
       "                                          clean_text mentions  \\\n",
       "0  ['parabens', 'presidente', 'lula', 'ano', 'ene...      NaN   \n",
       "1                              ['viver', 'instante']      NaN   \n",
       "2  ['entrevisto', 'lula', 'radiar', 'jovem', 'pan...      NaN   \n",
       "3  ['fazer', 'ano', 'ontem', 'orgulhar', 'sentir'...      NaN   \n",
       "4  ['iniciativo', 'privar', 'apoderar', 'estar', ...      NaN   \n",
       "\n",
       "          hashtags emojis  \n",
       "0  ['#equipelula']    NaN  \n",
       "1              NaN    NaN  \n",
       "2              NaN    NaN  \n",
       "3              NaN    NaN  \n",
       "4              NaN    NaN  "
      ]
     },
     "execution_count": 267,
     "metadata": {},
     "output_type": "execute_result"
    }
   ],
   "source": [
    "poli.head()"
   ]
  },
  {
   "cell_type": "code",
   "execution_count": null,
   "metadata": {},
   "outputs": [
    {
     "data": {
      "text/plain": [
       "Index(['Unnamed: 0', 'tweets_id', 'tweets_in_thread', 'created_at', 'text',\n",
       "       'retweet_count', 'like_count', 'reply_count', 'quote_count', 'user_id',\n",
       "       'username', 'user_name', 'user_picture', 'verified', 'clean_text',\n",
       "       'mentions', 'hashtags', 'emojis'],\n",
       "      dtype='object')"
      ]
     },
     "execution_count": 268,
     "metadata": {},
     "output_type": "execute_result"
    }
   ],
   "source": [
    "poli.columns"
   ]
  },
  {
   "cell_type": "code",
   "execution_count": null,
   "metadata": {},
   "outputs": [
    {
     "name": "stderr",
     "output_type": "stream",
     "text": [
      "C:\\Users\\mrggi\\AppData\\Local\\Temp\\ipykernel_8692\\3167007018.py:3: DeprecationWarning: `np.bool` is a deprecated alias for the builtin `bool`. To silence this warning, use `bool` by itself. Doing this will not modify any behavior and is safe. If you specifically wanted the numpy scalar type, use `np.bool_` here.\n",
      "Deprecated in NumPy 1.20; for more details and guidance: https://numpy.org/devdocs/release/1.20.0-notes.html#deprecations\n",
      "  sns.heatmap(corr, mask=np.zeros_like(corr, dtype=np.bool), cmap=sns.diverging_palette(220, 10, as_cmap=True),\n"
     ]
    },
    {
     "data": {
      "text/plain": [
       "<AxesSubplot:>"
      ]
     },
     "execution_count": 269,
     "metadata": {},
     "output_type": "execute_result"
    },
    {
     "data": {
      "image/png": "[encoded data removed]",
      "text/plain": [
       "<Figure size 720x576 with 2 Axes>"
      ]
     },
     "metadata": {
      "needs_background": "light"
     },
     "output_type": "display_data"
    }
   ],
   "source": [
    "f, ax = plt.subplots(figsize=(10, 8))\n",
    "corr = poli.corr()\n",
    "sns.heatmap(corr, mask=np.zeros_like(corr, dtype=np.bool), cmap=sns.diverging_palette(220, 10, as_cmap=True),\n",
    "            square=True, ax=ax)"
   ]
  },
  {
   "cell_type": "code",
   "execution_count": null,
   "metadata": {},
   "outputs": [
    {
     "data": {
      "text/plain": [
       "username\n",
       "AndreJanonesAdv    655\n",
       "LeoPericlesUP      417\n",
       "LulaOficial        586\n",
       "SF_Moro            714\n",
       "Sen_Alessandro     517\n",
       "SimoneTebetms      623\n",
       "aldorebelo         661\n",
       "cirogomes          630\n",
       "jairbolsonaro      482\n",
       "jdoriajr           687\n",
       "lfdavilaoficial    459\n",
       "Name: tweets_id, dtype: int64"
      ]
     },
     "execution_count": 270,
     "metadata": {},
     "output_type": "execute_result"
    }
   ],
   "source": [
    "poli.groupby(['username'])['tweets_id'].count()"
   ]
  },
  {
   "cell_type": "markdown",
   "metadata": {},
   "source": [
    "#### Hashtags"
   ]
  },
  {
   "cell_type": "code",
   "execution_count": null,
   "metadata": {},
   "outputs": [],
   "source": [
    "import string\n",
    "from sklearn.metrics.pairwise import cosine_similarity\n",
    "from sklearn.feature_extraction.text import CountVectorizer\n",
    "from nltk.corpus import stopwords\n",
    "stopwords =stopwords.words('portuguese')"
   ]
  },
  {
   "cell_type": "code",
   "execution_count": null,
   "metadata": {},
   "outputs": [
    {
     "data": {
      "text/plain": [
       "array(['Lula', 'Jair M. Bolsonaro', 'André Janones', 'Simone Tebet',\n",
       "       \"Felipe d'Avila\", 'Ciro Gomes', 'João Doria', 'Sergio Moro',\n",
       "       'Aldo Rebelo', 'Leo Péricles', 'Senador Alessandro Vieira'],\n",
       "      dtype=object)"
      ]
     },
     "execution_count": 272,
     "metadata": {},
     "output_type": "execute_result"
    }
   ],
   "source": [
    "poli['user_name'].unique()"
   ]
  },
  {
   "cell_type": "code",
   "execution_count": null,
   "metadata": {},
   "outputs": [],
   "source": [
    "poli.hashtags.fillna(' ')\n",
    "test = poli.hashtags.astype(str).apply(lambda x: x.replace('[','').replace(']','').replace('\\'','').strip())\n",
    "poli.hashtags = test"
   ]
  },
  {
   "cell_type": "markdown",
   "metadata": {},
   "source": [
    "*Bolsonaro nao usa hashtags?*"
   ]
  },
  {
   "cell_type": "code",
   "execution_count": null,
   "metadata": {},
   "outputs": [
    {
     "data": {
      "text/html": [
       "<div>\n",
       "<style scoped>\n",
       "    .dataframe tbody tr th:only-of-type {\n",
       "        vertical-align: middle;\n",
       "    }\n",
       "\n",
       "    .dataframe tbody tr th {\n",
       "        vertical-align: top;\n",
       "    }\n",
       "\n",
       "    .dataframe thead th {\n",
       "        text-align: right;\n",
       "    }\n",
       "</style>\n",
       "<table border=\"1\" class=\"dataframe\">\n",
       "  <thead>\n",
       "    <tr style=\"text-align: right;\">\n",
       "      <th></th>\n",
       "      <th>index</th>\n",
       "      <th>hashtags</th>\n",
       "    </tr>\n",
       "  </thead>\n",
       "  <tbody>\n",
       "    <tr>\n",
       "      <th>0</th>\n",
       "      <td>nan</td>\n",
       "      <td>482</td>\n",
       "    </tr>\n",
       "  </tbody>\n",
       "</table>\n",
       "</div>"
      ],
      "text/plain": [
       "  index  hashtags\n",
       "0   nan       482"
      ]
     },
     "execution_count": 274,
     "metadata": {},
     "output_type": "execute_result"
    }
   ],
   "source": [
    "# Lula\n",
    "poli[poli.user_name == 'Jair M. Bolsonaro'].hashtags.value_counts().reset_index()"
   ]
  },
  {
   "cell_type": "code",
   "execution_count": null,
   "metadata": {},
   "outputs": [
    {
     "data": {
      "text/html": [
       "<div>\n",
       "<style scoped>\n",
       "    .dataframe tbody tr th:only-of-type {\n",
       "        vertical-align: middle;\n",
       "    }\n",
       "\n",
       "    .dataframe tbody tr th {\n",
       "        vertical-align: top;\n",
       "    }\n",
       "\n",
       "    .dataframe thead th {\n",
       "        text-align: right;\n",
       "    }\n",
       "</style>\n",
       "<table border=\"1\" class=\"dataframe\">\n",
       "  <thead>\n",
       "    <tr style=\"text-align: right;\">\n",
       "      <th></th>\n",
       "      <th>index</th>\n",
       "      <th>hashtags</th>\n",
       "    </tr>\n",
       "  </thead>\n",
       "  <tbody>\n",
       "    <tr>\n",
       "      <th>1</th>\n",
       "      <td>#equipelula</td>\n",
       "      <td>61</td>\n",
       "    </tr>\n",
       "    <tr>\n",
       "      <th>2</th>\n",
       "      <td>#76fatossobrelula</td>\n",
       "      <td>26</td>\n",
       "    </tr>\n",
       "    <tr>\n",
       "      <th>3</th>\n",
       "      <td>#lulaaovivo</td>\n",
       "      <td>10</td>\n",
       "    </tr>\n",
       "    <tr>\n",
       "      <th>4</th>\n",
       "      <td>#pt42anos</td>\n",
       "      <td>10</td>\n",
       "    </tr>\n",
       "    <tr>\n",
       "      <th>5</th>\n",
       "      <td>#lulanacbnvale</td>\n",
       "      <td>9</td>\n",
       "    </tr>\n",
       "    <tr>\n",
       "      <th>...</th>\n",
       "      <td>...</td>\n",
       "      <td>...</td>\n",
       "    </tr>\n",
       "    <tr>\n",
       "      <th>70</th>\n",
       "      <td>#76fatossobrelula23</td>\n",
       "      <td>1</td>\n",
       "    </tr>\n",
       "    <tr>\n",
       "      <th>71</th>\n",
       "      <td>#76fatossobrelula22</td>\n",
       "      <td>1</td>\n",
       "    </tr>\n",
       "    <tr>\n",
       "      <th>72</th>\n",
       "      <td>#76fatossobrelula21</td>\n",
       "      <td>1</td>\n",
       "    </tr>\n",
       "    <tr>\n",
       "      <th>73</th>\n",
       "      <td>#76fatossobrelula20</td>\n",
       "      <td>1</td>\n",
       "    </tr>\n",
       "    <tr>\n",
       "      <th>74</th>\n",
       "      <td>#equipelula, #8m, #diainternacionaldamulher, #...</td>\n",
       "      <td>1</td>\n",
       "    </tr>\n",
       "  </tbody>\n",
       "</table>\n",
       "<p>74 rows × 2 columns</p>\n",
       "</div>"
      ],
      "text/plain": [
       "                                                index  hashtags\n",
       "1                                         #equipelula        61\n",
       "2                                   #76fatossobrelula        26\n",
       "3                                         #lulaaovivo        10\n",
       "4                                           #pt42anos        10\n",
       "5                                      #lulanacbnvale         9\n",
       "..                                                ...       ...\n",
       "70                                #76fatossobrelula23         1\n",
       "71                                #76fatossobrelula22         1\n",
       "72                                #76fatossobrelula21         1\n",
       "73                                #76fatossobrelula20         1\n",
       "74  #equipelula, #8m, #diainternacionaldamulher, #...         1\n",
       "\n",
       "[74 rows x 2 columns]"
      ]
     },
     "execution_count": 275,
     "metadata": {},
     "output_type": "execute_result"
    }
   ],
   "source": [
    "hashtags = poli[poli.user_name == 'Lula'].hashtags.value_counts().reset_index().drop(0)\n",
    "hashtags"
   ]
  },
  {
   "cell_type": "code",
   "execution_count": null,
   "metadata": {},
   "outputs": [
    {
     "data": {
      "text/plain": [
       "0        True\n",
       "1       False\n",
       "2       False\n",
       "3       False\n",
       "4       False\n",
       "        ...  \n",
       "6426    False\n",
       "6427    False\n",
       "6428    False\n",
       "6429    False\n",
       "6430    False\n",
       "Name: hashtags, Length: 6431, dtype: bool"
      ]
     },
     "execution_count": 276,
     "metadata": {},
     "output_type": "execute_result"
    }
   ],
   "source": [
    "poli.hashtags=='#equipelula'"
   ]
  },
  {
   "cell_type": "code",
   "execution_count": null,
   "metadata": {},
   "outputs": [],
   "source": [
    "\n",
    "mu = poli[(poli.hashtags=='#equipelula')].like_count.mean()\n",
    "sigma = poli[(poli.hashtags=='#equipelula')].like_count.std()"
   ]
  },
  {
   "cell_type": "code",
   "execution_count": null,
   "metadata": {},
   "outputs": [
    {
     "data": {
      "text/plain": [
       "<AxesSubplot:>"
      ]
     },
     "execution_count": 278,
     "metadata": {},
     "output_type": "execute_result"
    },
    {
     "data": {
      "image/png": "[encoded data removed]",
      "text/plain": [
       "<Figure size 432x288 with 1 Axes>"
      ]
     },
     "metadata": {
      "needs_background": "light"
     },
     "output_type": "display_data"
    }
   ],
   "source": [
    "poli[(poli.hashtags=='#equipelula')].like_count.hist(bins=100)"
   ]
  },
  {
   "cell_type": "code",
   "execution_count": null,
   "metadata": {},
   "outputs": [
    {
     "data": {
      "text/plain": [
       "<AxesSubplot:>"
      ]
     },
     "execution_count": 279,
     "metadata": {},
     "output_type": "execute_result"
    },
    {
     "data": {
      "image/png": "[encoded data removed]",
      "text/plain": [
       "<Figure size 432x288 with 1 Axes>"
      ]
     },
     "metadata": {
      "needs_background": "light"
     },
     "output_type": "display_data"
    }
   ],
   "source": [
    "poli[(poli.user_name == 'Lula')].like_count.hist(bins = 100)"
   ]
  },
  {
   "cell_type": "code",
   "execution_count": null,
   "metadata": {},
   "outputs": [
    {
     "data": {
      "text/plain": [
       "(586, 18)"
      ]
     },
     "execution_count": 280,
     "metadata": {},
     "output_type": "execute_result"
    }
   ],
   "source": [
    "poli[(poli.user_name == 'Lula')].shape"
   ]
  },
  {
   "cell_type": "code",
   "execution_count": null,
   "metadata": {},
   "outputs": [
    {
     "data": {
      "text/plain": [
       "<AxesSubplot:>"
      ]
     },
     "execution_count": 281,
     "metadata": {},
     "output_type": "execute_result"
    },
    {
     "data": {
      "image/png": "[encoded data removed]",
      "text/plain": [
       "<Figure size 432x288 with 1 Axes>"
      ]
     },
     "metadata": {
      "needs_background": "light"
     },
     "output_type": "display_data"
    }
   ],
   "source": [
    "poli[(poli.user_name == 'Lula') & (poli.hashtags != 'nan')].like_count.hist(bins = 100)"
   ]
  },
  {
   "cell_type": "code",
   "execution_count": null,
   "metadata": {},
   "outputs": [
    {
     "data": {
      "text/html": [
       "<div>\n",
       "<style scoped>\n",
       "    .dataframe tbody tr th:only-of-type {\n",
       "        vertical-align: middle;\n",
       "    }\n",
       "\n",
       "    .dataframe tbody tr th {\n",
       "        vertical-align: top;\n",
       "    }\n",
       "\n",
       "    .dataframe thead th {\n",
       "        text-align: right;\n",
       "    }\n",
       "</style>\n",
       "<table border=\"1\" class=\"dataframe\">\n",
       "  <thead>\n",
       "    <tr style=\"text-align: right;\">\n",
       "      <th></th>\n",
       "      <th>Unnamed: 0</th>\n",
       "      <th>tweets_id</th>\n",
       "      <th>tweets_in_thread</th>\n",
       "      <th>created_at</th>\n",
       "      <th>text</th>\n",
       "      <th>retweet_count</th>\n",
       "      <th>like_count</th>\n",
       "      <th>reply_count</th>\n",
       "      <th>quote_count</th>\n",
       "      <th>user_id</th>\n",
       "      <th>username</th>\n",
       "      <th>user_name</th>\n",
       "      <th>user_picture</th>\n",
       "      <th>verified</th>\n",
       "      <th>clean_text</th>\n",
       "      <th>mentions</th>\n",
       "      <th>hashtags</th>\n",
       "      <th>emojis</th>\n",
       "    </tr>\n",
       "  </thead>\n",
       "  <tbody>\n",
       "    <tr>\n",
       "      <th>0</th>\n",
       "      <td>0</td>\n",
       "      <td>['1453442766982287361']</td>\n",
       "      <td>1</td>\n",
       "      <td>2021-10-27T19:25:33.000Z</td>\n",
       "      <td>PARABÉNS, PRESIDENTE LULA | 76 anos com energi...</td>\n",
       "      <td>1423</td>\n",
       "      <td>16845</td>\n",
       "      <td>939</td>\n",
       "      <td>323</td>\n",
       "      <td>2670726740</td>\n",
       "      <td>LulaOficial</td>\n",
       "      <td>Lula</td>\n",
       "      <td>https://pbs.twimg.com/profile_images/145778941...</td>\n",
       "      <td>True</td>\n",
       "      <td>['parabens', 'presidente', 'lula', 'ano', 'ene...</td>\n",
       "      <td>NaN</td>\n",
       "      <td>#equipelula</td>\n",
       "      <td>NaN</td>\n",
       "    </tr>\n",
       "    <tr>\n",
       "      <th>1</th>\n",
       "      <td>1</td>\n",
       "      <td>['1453676921393324036']</td>\n",
       "      <td>1</td>\n",
       "      <td>2021-10-28T10:56:00.000Z</td>\n",
       "      <td>Ao vivo em instantes: https://t.co/DC3AqHTIDc</td>\n",
       "      <td>139</td>\n",
       "      <td>607</td>\n",
       "      <td>42</td>\n",
       "      <td>14</td>\n",
       "      <td>2670726740</td>\n",
       "      <td>LulaOficial</td>\n",
       "      <td>Lula</td>\n",
       "      <td>https://pbs.twimg.com/profile_images/145778941...</td>\n",
       "      <td>True</td>\n",
       "      <td>['viver', 'instante']</td>\n",
       "      <td>NaN</td>\n",
       "      <td>nan</td>\n",
       "      <td>NaN</td>\n",
       "    </tr>\n",
       "    <tr>\n",
       "      <th>2</th>\n",
       "      <td>2</td>\n",
       "      <td>['1453681221603581952']</td>\n",
       "      <td>1</td>\n",
       "      <td>2021-10-28T11:13:05.000Z</td>\n",
       "      <td>Entrevista de Lula para a Rádio Jovem Pan de S...</td>\n",
       "      <td>630</td>\n",
       "      <td>3013</td>\n",
       "      <td>319</td>\n",
       "      <td>57</td>\n",
       "      <td>2670726740</td>\n",
       "      <td>LulaOficial</td>\n",
       "      <td>Lula</td>\n",
       "      <td>https://pbs.twimg.com/profile_images/145778941...</td>\n",
       "      <td>True</td>\n",
       "      <td>['entrevisto', 'lula', 'radiar', 'jovem', 'pan...</td>\n",
       "      <td>NaN</td>\n",
       "      <td>nan</td>\n",
       "      <td>NaN</td>\n",
       "    </tr>\n",
       "    <tr>\n",
       "      <th>3</th>\n",
       "      <td>3</td>\n",
       "      <td>['1453682338941095940']</td>\n",
       "      <td>1</td>\n",
       "      <td>2021-10-28T11:17:32.000Z</td>\n",
       "      <td>Fiz 76 anos ontem com muito orgulho. Não sinto...</td>\n",
       "      <td>1702</td>\n",
       "      <td>27763</td>\n",
       "      <td>1853</td>\n",
       "      <td>318</td>\n",
       "      <td>2670726740</td>\n",
       "      <td>LulaOficial</td>\n",
       "      <td>Lula</td>\n",
       "      <td>https://pbs.twimg.com/profile_images/145778941...</td>\n",
       "      <td>True</td>\n",
       "      <td>['fazer', 'ano', 'ontem', 'orgulhar', 'sentir'...</td>\n",
       "      <td>NaN</td>\n",
       "      <td>nan</td>\n",
       "      <td>NaN</td>\n",
       "    </tr>\n",
       "    <tr>\n",
       "      <th>4</th>\n",
       "      <td>4</td>\n",
       "      <td>['1453685308755746818']</td>\n",
       "      <td>1</td>\n",
       "      <td>2021-10-28T11:29:20.000Z</td>\n",
       "      <td>Para que a iniciativa privada se apodere do Es...</td>\n",
       "      <td>734</td>\n",
       "      <td>4697</td>\n",
       "      <td>302</td>\n",
       "      <td>66</td>\n",
       "      <td>2670726740</td>\n",
       "      <td>LulaOficial</td>\n",
       "      <td>Lula</td>\n",
       "      <td>https://pbs.twimg.com/profile_images/145778941...</td>\n",
       "      <td>True</td>\n",
       "      <td>['iniciativo', 'privar', 'apoderar', 'estar', ...</td>\n",
       "      <td>NaN</td>\n",
       "      <td>nan</td>\n",
       "      <td>NaN</td>\n",
       "    </tr>\n",
       "    <tr>\n",
       "      <th>...</th>\n",
       "      <td>...</td>\n",
       "      <td>...</td>\n",
       "      <td>...</td>\n",
       "      <td>...</td>\n",
       "      <td>...</td>\n",
       "      <td>...</td>\n",
       "      <td>...</td>\n",
       "      <td>...</td>\n",
       "      <td>...</td>\n",
       "      <td>...</td>\n",
       "      <td>...</td>\n",
       "      <td>...</td>\n",
       "      <td>...</td>\n",
       "      <td>...</td>\n",
       "      <td>...</td>\n",
       "      <td>...</td>\n",
       "      <td>...</td>\n",
       "      <td>...</td>\n",
       "    </tr>\n",
       "    <tr>\n",
       "      <th>6426</th>\n",
       "      <td>6426</td>\n",
       "      <td>['1501213533261996034']</td>\n",
       "      <td>1</td>\n",
       "      <td>2022-03-08T15:09:32.000Z</td>\n",
       "      <td>A discussão sobre fertilizantes não exige mine...</td>\n",
       "      <td>140</td>\n",
       "      <td>1337</td>\n",
       "      <td>58</td>\n",
       "      <td>17</td>\n",
       "      <td>4250596815</td>\n",
       "      <td>Sen_Alessandro</td>\n",
       "      <td>Senador Alessandro Vieira</td>\n",
       "      <td>https://pbs.twimg.com/profile_images/111633750...</td>\n",
       "      <td>True</td>\n",
       "      <td>['discussao', 'sobrar', 'fertilizante', 'exigi...</td>\n",
       "      <td>NaN</td>\n",
       "      <td>nan</td>\n",
       "      <td>NaN</td>\n",
       "    </tr>\n",
       "    <tr>\n",
       "      <th>6427</th>\n",
       "      <td>6427</td>\n",
       "      <td>['1501241756448342024']</td>\n",
       "      <td>1</td>\n",
       "      <td>2022-03-08T17:01:41.000Z</td>\n",
       "      <td>Recebi a visita do amigo e governador @jdoriaj...</td>\n",
       "      <td>68</td>\n",
       "      <td>1651</td>\n",
       "      <td>412</td>\n",
       "      <td>28</td>\n",
       "      <td>4250596815</td>\n",
       "      <td>Sen_Alessandro</td>\n",
       "      <td>Senador Alessandro Vieira</td>\n",
       "      <td>https://pbs.twimg.com/profile_images/111633750...</td>\n",
       "      <td>True</td>\n",
       "      <td>['receber', 'visitar', 'amigar', 'governador',...</td>\n",
       "      <td>['@jdoriajr']</td>\n",
       "      <td>nan</td>\n",
       "      <td>NaN</td>\n",
       "    </tr>\n",
       "    <tr>\n",
       "      <th>6428</th>\n",
       "      <td>6428</td>\n",
       "      <td>['1501294583552126979']</td>\n",
       "      <td>1</td>\n",
       "      <td>2022-03-08T20:31:36.000Z</td>\n",
       "      <td>O governador Belivaldo consolida o seu total d...</td>\n",
       "      <td>18</td>\n",
       "      <td>215</td>\n",
       "      <td>10</td>\n",
       "      <td>3</td>\n",
       "      <td>4250596815</td>\n",
       "      <td>Sen_Alessandro</td>\n",
       "      <td>Senador Alessandro Vieira</td>\n",
       "      <td>https://pbs.twimg.com/profile_images/111633750...</td>\n",
       "      <td>True</td>\n",
       "      <td>['governador', 'belivaldo', 'consolidar', 'tot...</td>\n",
       "      <td>NaN</td>\n",
       "      <td>nan</td>\n",
       "      <td>NaN</td>\n",
       "    </tr>\n",
       "    <tr>\n",
       "      <th>6429</th>\n",
       "      <td>6429</td>\n",
       "      <td>['1501708638121086978']</td>\n",
       "      <td>1</td>\n",
       "      <td>2022-03-09T23:56:54.000Z</td>\n",
       "      <td>Sem educação não existe futuro. A aprovação do...</td>\n",
       "      <td>73</td>\n",
       "      <td>956</td>\n",
       "      <td>84</td>\n",
       "      <td>5</td>\n",
       "      <td>4250596815</td>\n",
       "      <td>Sen_Alessandro</td>\n",
       "      <td>Senador Alessandro Vieira</td>\n",
       "      <td>https://pbs.twimg.com/profile_images/111633750...</td>\n",
       "      <td>True</td>\n",
       "      <td>['educacao', 'existir', 'futurar', 'aprovacao'...</td>\n",
       "      <td>NaN</td>\n",
       "      <td>nan</td>\n",
       "      <td>NaN</td>\n",
       "    </tr>\n",
       "    <tr>\n",
       "      <th>6430</th>\n",
       "      <td>6430</td>\n",
       "      <td>['1502675435779411970']</td>\n",
       "      <td>1</td>\n",
       "      <td>2022-03-12T15:58:36.000Z</td>\n",
       "      <td>O Brasil exige renovação na política e o Cidad...</td>\n",
       "      <td>516</td>\n",
       "      <td>6376</td>\n",
       "      <td>928</td>\n",
       "      <td>203</td>\n",
       "      <td>4250596815</td>\n",
       "      <td>Sen_Alessandro</td>\n",
       "      <td>Senador Alessandro Vieira</td>\n",
       "      <td>https://pbs.twimg.com/profile_images/111633750...</td>\n",
       "      <td>True</td>\n",
       "      <td>['brasil', 'exigir', 'renovacao', 'politicar',...</td>\n",
       "      <td>NaN</td>\n",
       "      <td>nan</td>\n",
       "      <td>NaN</td>\n",
       "    </tr>\n",
       "  </tbody>\n",
       "</table>\n",
       "<p>6431 rows × 18 columns</p>\n",
       "</div>"
      ],
      "text/plain": [
       "      Unnamed: 0                tweets_id  tweets_in_thread  \\\n",
       "0              0  ['1453442766982287361']                 1   \n",
       "1              1  ['1453676921393324036']                 1   \n",
       "2              2  ['1453681221603581952']                 1   \n",
       "3              3  ['1453682338941095940']                 1   \n",
       "4              4  ['1453685308755746818']                 1   \n",
       "...          ...                      ...               ...   \n",
       "6426        6426  ['1501213533261996034']                 1   \n",
       "6427        6427  ['1501241756448342024']                 1   \n",
       "6428        6428  ['1501294583552126979']                 1   \n",
       "6429        6429  ['1501708638121086978']                 1   \n",
       "6430        6430  ['1502675435779411970']                 1   \n",
       "\n",
       "                    created_at  \\\n",
       "0     2021-10-27T19:25:33.000Z   \n",
       "1     2021-10-28T10:56:00.000Z   \n",
       "2     2021-10-28T11:13:05.000Z   \n",
       "3     2021-10-28T11:17:32.000Z   \n",
       "4     2021-10-28T11:29:20.000Z   \n",
       "...                        ...   \n",
       "6426  2022-03-08T15:09:32.000Z   \n",
       "6427  2022-03-08T17:01:41.000Z   \n",
       "6428  2022-03-08T20:31:36.000Z   \n",
       "6429  2022-03-09T23:56:54.000Z   \n",
       "6430  2022-03-12T15:58:36.000Z   \n",
       "\n",
       "                                                   text  retweet_count  \\\n",
       "0     PARABÉNS, PRESIDENTE LULA | 76 anos com energi...           1423   \n",
       "1         Ao vivo em instantes: https://t.co/DC3AqHTIDc            139   \n",
       "2     Entrevista de Lula para a Rádio Jovem Pan de S...            630   \n",
       "3     Fiz 76 anos ontem com muito orgulho. Não sinto...           1702   \n",
       "4     Para que a iniciativa privada se apodere do Es...            734   \n",
       "...                                                 ...            ...   \n",
       "6426  A discussão sobre fertilizantes não exige mine...            140   \n",
       "6427  Recebi a visita do amigo e governador @jdoriaj...             68   \n",
       "6428  O governador Belivaldo consolida o seu total d...             18   \n",
       "6429  Sem educação não existe futuro. A aprovação do...             73   \n",
       "6430  O Brasil exige renovação na política e o Cidad...            516   \n",
       "\n",
       "      like_count  reply_count  quote_count     user_id        username  \\\n",
       "0          16845          939          323  2670726740     LulaOficial   \n",
       "1            607           42           14  2670726740     LulaOficial   \n",
       "2           3013          319           57  2670726740     LulaOficial   \n",
       "3          27763         1853          318  2670726740     LulaOficial   \n",
       "4           4697          302           66  2670726740     LulaOficial   \n",
       "...          ...          ...          ...         ...             ...   \n",
       "6426        1337           58           17  4250596815  Sen_Alessandro   \n",
       "6427        1651          412           28  4250596815  Sen_Alessandro   \n",
       "6428         215           10            3  4250596815  Sen_Alessandro   \n",
       "6429         956           84            5  4250596815  Sen_Alessandro   \n",
       "6430        6376          928          203  4250596815  Sen_Alessandro   \n",
       "\n",
       "                      user_name  \\\n",
       "0                          Lula   \n",
       "1                          Lula   \n",
       "2                          Lula   \n",
       "3                          Lula   \n",
       "4                          Lula   \n",
       "...                         ...   \n",
       "6426  Senador Alessandro Vieira   \n",
       "6427  Senador Alessandro Vieira   \n",
       "6428  Senador Alessandro Vieira   \n",
       "6429  Senador Alessandro Vieira   \n",
       "6430  Senador Alessandro Vieira   \n",
       "\n",
       "                                           user_picture  verified  \\\n",
       "0     https://pbs.twimg.com/profile_images/145778941...      True   \n",
       "1     https://pbs.twimg.com/profile_images/145778941...      True   \n",
       "2     https://pbs.twimg.com/profile_images/145778941...      True   \n",
       "3     https://pbs.twimg.com/profile_images/145778941...      True   \n",
       "4     https://pbs.twimg.com/profile_images/145778941...      True   \n",
       "...                                                 ...       ...   \n",
       "6426  https://pbs.twimg.com/profile_images/111633750...      True   \n",
       "6427  https://pbs.twimg.com/profile_images/111633750...      True   \n",
       "6428  https://pbs.twimg.com/profile_images/111633750...      True   \n",
       "6429  https://pbs.twimg.com/profile_images/111633750...      True   \n",
       "6430  https://pbs.twimg.com/profile_images/111633750...      True   \n",
       "\n",
       "                                             clean_text       mentions  \\\n",
       "0     ['parabens', 'presidente', 'lula', 'ano', 'ene...            NaN   \n",
       "1                                 ['viver', 'instante']            NaN   \n",
       "2     ['entrevisto', 'lula', 'radiar', 'jovem', 'pan...            NaN   \n",
       "3     ['fazer', 'ano', 'ontem', 'orgulhar', 'sentir'...            NaN   \n",
       "4     ['iniciativo', 'privar', 'apoderar', 'estar', ...            NaN   \n",
       "...                                                 ...            ...   \n",
       "6426  ['discussao', 'sobrar', 'fertilizante', 'exigi...            NaN   \n",
       "6427  ['receber', 'visitar', 'amigar', 'governador',...  ['@jdoriajr']   \n",
       "6428  ['governador', 'belivaldo', 'consolidar', 'tot...            NaN   \n",
       "6429  ['educacao', 'existir', 'futurar', 'aprovacao'...            NaN   \n",
       "6430  ['brasil', 'exigir', 'renovacao', 'politicar',...            NaN   \n",
       "\n",
       "         hashtags emojis  \n",
       "0     #equipelula    NaN  \n",
       "1             nan    NaN  \n",
       "2             nan    NaN  \n",
       "3             nan    NaN  \n",
       "4             nan    NaN  \n",
       "...           ...    ...  \n",
       "6426          nan    NaN  \n",
       "6427          nan    NaN  \n",
       "6428          nan    NaN  \n",
       "6429          nan    NaN  \n",
       "6430          nan    NaN  \n",
       "\n",
       "[6431 rows x 18 columns]"
      ]
     },
     "execution_count": 282,
     "metadata": {},
     "output_type": "execute_result"
    }
   ],
   "source": [
    "poli"
   ]
  },
  {
   "cell_type": "code",
   "execution_count": null,
   "metadata": {},
   "outputs": [
    {
     "data": {
      "image/png": "[encoded data removed]",
      "text/plain": [
       "<Figure size 432x288 with 1 Axes>"
      ]
     },
     "metadata": {
      "needs_background": "light"
     },
     "output_type": "display_data"
    }
   ],
   "source": [
    "df = poli[(poli.hashtags=='#equipelula')][['like_count','created_at']].plot()\n",
    "\n",
    "\n"
   ]
  },
  {
   "cell_type": "code",
   "execution_count": null,
   "metadata": {},
   "outputs": [
    {
     "ename": "NameError",
     "evalue": "name 'extract_words' is not defined",
     "output_type": "error",
     "traceback": [
      "\u001b[1;31m---------------------------------------------------------------------------\u001b[0m",
      "\u001b[1;31mNameError\u001b[0m                                 Traceback (most recent call last)",
      "\u001b[1;32mc:\\Users\\mrggi\\Documents\\presid\\an.ipynb Cell 23'\u001b[0m in \u001b[0;36m<cell line: 1>\u001b[1;34m()\u001b[0m\n\u001b[1;32m----> <a href='vscode-notebook-cell:/c%3A/Users/mrggi/Documents/presid/an.ipynb#ch0000042?line=0'>1</a>\u001b[0m texts \u001b[39m=\u001b[39m \u001b[39mlist\u001b[39m(poli[(poli\u001b[39m.\u001b[39mhashtags\u001b[39m==\u001b[39m\u001b[39m'\u001b[39m\u001b[39m#equipelula\u001b[39m\u001b[39m'\u001b[39m) \u001b[39m&\u001b[39m (poli\u001b[39m.\u001b[39muser_name \u001b[39m==\u001b[39m \u001b[39m'\u001b[39m\u001b[39mLula\u001b[39m\u001b[39m'\u001b[39m)]\u001b[39m.\u001b[39mclean_text\u001b[39m.\u001b[39mapply(extract_words)\u001b[39m.\u001b[39mapply(\u001b[39mlambda\u001b[39;00m x: \u001b[39m'\u001b[39m\u001b[39m \u001b[39m\u001b[39m'\u001b[39m\u001b[39m.\u001b[39mjoin(x)))\n\u001b[0;32m      <a href='vscode-notebook-cell:/c%3A/Users/mrggi/Documents/presid/an.ipynb#ch0000042?line=1'>2</a>\u001b[0m vectorizer \u001b[39m=\u001b[39m CountVectorizer()\u001b[39m.\u001b[39mfit_transform(texts)\n\u001b[0;32m      <a href='vscode-notebook-cell:/c%3A/Users/mrggi/Documents/presid/an.ipynb#ch0000042?line=2'>3</a>\u001b[0m vectors \u001b[39m=\u001b[39m vectorizer\u001b[39m.\u001b[39mtoarray()\n",
      "\u001b[1;31mNameError\u001b[0m: name 'extract_words' is not defined"
     ]
    }
   ],
   "source": [
    "texts = list(poli[(poli.hashtags=='#equipelula') & (poli.user_name == 'Lula')].clean_text.apply(extract_words).apply(lambda x: ' '.join(x)))\n",
    "vectorizer = CountVectorizer().fit_transform(texts)\n",
    "vectors = vectorizer.toarray()\n",
    "csim = cosine_similarity(vectors)\n",
    "csim.shape"
   ]
  },
  {
   "cell_type": "code",
   "execution_count": null,
   "metadata": {},
   "outputs": [
    {
     "ename": "NameError",
     "evalue": "name 'csim' is not defined",
     "output_type": "error",
     "traceback": [
      "\u001b[1;31m---------------------------------------------------------------------------\u001b[0m",
      "\u001b[1;31mNameError\u001b[0m                                 Traceback (most recent call last)",
      "\u001b[1;32mc:\\Users\\mrggi\\Documents\\presid\\an.ipynb Cell 24'\u001b[0m in \u001b[0;36m<cell line: 1>\u001b[1;34m()\u001b[0m\n\u001b[1;32m----> <a href='vscode-notebook-cell:/c%3A/Users/mrggi/Documents/presid/an.ipynb#ch0000043?line=0'>1</a>\u001b[0m csim[\u001b[39m0\u001b[39m]\n",
      "\u001b[1;31mNameError\u001b[0m: name 'csim' is not defined"
     ]
    }
   ],
   "source": [
    "csim[0]"
   ]
  },
  {
   "cell_type": "code",
   "execution_count": null,
   "metadata": {},
   "outputs": [
    {
     "data": {
      "text/plain": [
       "0.9999999999999998"
      ]
     },
     "execution_count": 75,
     "metadata": {},
     "output_type": "execute_result"
    }
   ],
   "source": [
    "csim[5,5]"
   ]
  },
  {
   "cell_type": "code",
   "execution_count": null,
   "metadata": {},
   "outputs": [
    {
     "name": "stdout",
     "output_type": "stream",
     "text": [
      "True\n",
      "False\n"
     ]
    }
   ],
   "source": [
    "test = {1: [1, 2, 3],\n",
    "        2: [4, 5, 6]}\n",
    "\n",
    "for i in test.values():\n",
    "    print(2 in i)"
   ]
  },
  {
   "cell_type": "code",
   "execution_count": null,
   "metadata": {},
   "outputs": [
    {
     "data": {
      "text/plain": [
       "{13: [13],\n",
       " 33: [33, 41, 45, 46, 48, 58],\n",
       " 39: [39, 41, 45, 46, 48, 58],\n",
       " 41: [41, 39, 45, 46, 58],\n",
       " 42: [42],\n",
       " 45: [45, 39, 41, 48],\n",
       " 46: [46, 39, 41, 53, 58],\n",
       " 48: [48, 39, 45],\n",
       " 53: [53],\n",
       " 58: [58, 39, 41, 46]}"
      ]
     },
     "execution_count": 18,
     "metadata": {},
     "output_type": "execute_result"
    }
   ],
   "source": [
    "groups = []\n",
    "\n",
    "agg = {}\n",
    "\n",
    "for i, row in enumerate(csim):\n",
    "    for j, element in enumerate(row):\n",
    "        if element > 0.5 and i!=j:\n",
    "            groups.append((i,j))\n",
    "\n",
    "for i in groups:\n",
    "    if i[0] in agg.keys():\n",
    "        agg[i[0]].append(i[1])\n",
    "    else:\n",
    "        agg[i[0]] = [i[0]]\n",
    "\n",
    "agg\n",
    "\n",
    "# for i in agg.keys():\n",
    "#     for k,j in agg.items():\n",
    "#         if i in j:\n",
    "#             agg[k].append(agg[i])\n",
    "\n",
    "\n",
    "# agg"
   ]
  },
  {
   "cell_type": "code",
   "execution_count": null,
   "metadata": {},
   "outputs": [
    {
     "name": "stdout",
     "output_type": "stream",
     "text": [
      "Lula: ['#equipelula', '#76fatossobrelula', '#lulaaovivo', '#pt42anos', '#lulanacbnvale']\n",
      "\n",
      "Jair M. Bolsonaro: []\n",
      "\n",
      "André Janones: ['#naojogueopovonarua', '#distritaonao', '#cpidacovid', '#pazuelloday', '#tokyo2020']\n",
      "\n",
      "Simone Tebet: ['#cpidacovid', '#cpidacovid, #covaxin', '#sousimonesim, #frentedemocratica', '#sousimonesim, #frentedemocra, #tebetpresidente, #simonetebetms', '#simonetebet2022, #mdb, #mdbcomsimone2022']\n",
      "\n",
      "Felipe d'Avila: ['#ladod', '#debatelide', '#2022emdebate', '#maisfunda', '#lfdavila, #novo']\n",
      "\n",
      "Ciro Gomes: ['#cirogames', '#reactdocira', '#convenc', '#convenc, #cirorebeldiadaesperanc', '#cironacnn']\n",
      "\n",
      "João Doria: ['#transpare, #governosp', '#spmaisseguro', '#tbt', '#vacinassalvam', '#vacinaja']\n",
      "\n",
      "Sergio Moro: ['#moronoflow', '#moronoceara', '#abreascontasbolsolula', '#vacinasim', '#sqn']\n",
      "\n",
      "Aldo Rebelo: ['#darcyfaz99, #99anosdarcyribeiro']\n",
      "\n",
      "Leo Péricles: ['#forabolsonaro', '#leonardopericles, #leopericles2022, #unidadepopular, #socialismo, #poderpopular, #eleic, #presidenciaveis2022', '#vaidarup', '#unidadepopular, #up80', '#unidadepopular']\n",
      "\n",
      "Senador Alessandro Vieira: ['#alessandronorodaviva', '#cpidacovid', '#alessandronojornaldacnn', '#luto', '#lavajato']\n",
      "\n"
     ]
    }
   ],
   "source": [
    "polititians = poli['user_name'].unique()\n",
    "for polititian in polititians:\n",
    "    hashtags = poli[poli.user_name == polititian].hashtags.value_counts().reset_index()\n",
    "    print(polititian, end = ': ')\n",
    "    print(f'{list(hashtags[\"index\"][1:6])}')\n",
    "    print()\n"
   ]
  },
  {
   "cell_type": "code",
   "execution_count": null,
   "metadata": {},
   "outputs": [
    {
     "data": {
      "text/plain": [
       "array(['#equipelula', 'nan', '#76fatossobrelula1', '#76fatossobrelula2',\n",
       "       '#76fatossobrelula3', '#76fatossobrelula4', '#76fatossobrelula5',\n",
       "       '#76fatossobrelula6', '#76fatossobrelula7', '#76fatossobrelula8',\n",
       "       '#76fatossobrelula9', '#76fatossobrelula10', '#76fatossobrelula11',\n",
       "       '#76fatossobrelula12', '#76fatossobrelula13',\n",
       "       '#76fatossobrelula14', '#76fatossobrelula15',\n",
       "       '#76fatossobrelula16', '#equipelulavi', '#76fatossobrelula17',\n",
       "       '#76fatossobrelula18', '#76fatossobrelula19',\n",
       "       '#76fatossobrelula20', '#76fatossobrelula21',\n",
       "       '#76fatossobrelula22', '#76fatossobrelula23',\n",
       "       '#76fatossobrelula24', '#76fatossobrelula25',\n",
       "       '#76fatossobrelula26', '#76fatossobrelula27',\n",
       "       '#76fatossobrelula28', '#76fatossobrelula29',\n",
       "       '#76fatossobrelula30', '#76fatossobrelula31',\n",
       "       '#76fatossobrelula32', '#76fatossobrelula33',\n",
       "       '#76fatossobrelula34', '#76fatossobrelula35',\n",
       "       '#76fatossobrelula36', '#76fatossobrelula37',\n",
       "       '#76fatossobrelula38', '#76fatossobrelula39',\n",
       "       '#76fatossobrelula40', '#76fatossobrelula41',\n",
       "       '#76fatossobrelula42', '#76fatossobrelula43',\n",
       "       '#76fatossobrelula44', '#76fatossobrelula45',\n",
       "       '#76fatossobrelula46', '#76fatossobrelula', '#76fatossobrelula53',\n",
       "       '#76fatossobrelula, #sus', '#76fatossobrelula57', '#cop26',\n",
       "       '#diadaconsciencianegra', '#brazilafricaforum',\n",
       "       '#vacinaparatodosja', '#3mi',\n",
       "       '#anonovodosenovaate, #anonovodosenovaao, #anonovodosenovaos',\n",
       "       '#lulaaovivo', '#brizola100anos', '#mst38anos', '#lulanacbnvale',\n",
       "       '#justic, #equipelula', '#justic', '#pt42anos',\n",
       "       '#pt42anosquero, #pt42anos', '#pt42anos, #pt42anos',\n",
       "       '#pt42anos, #equipelula', '#corinthians',\n",
       "       '#vacinac, #vacinaja, #vacinasim, #sus', '#parabensrio',\n",
       "       '#equipelula, #lulalivre, #lulainocente',\n",
       "       '#equipelula, #8demarc, #8m2022',\n",
       "       '#equipelula, #8m, #diainternacionaldamulher, #diadamulher',\n",
       "       '#nempenseemmematar', '#ditaduranuncamais', '#tbt',\n",
       "       '#obrasilvaimudar, #pracimadeles, #tamojunto', '#despejozero',\n",
       "       '#pl3729nao', '#naojogueopovonarua',\n",
       "       '#cpidacovid, #naojogueopovonarua', '#cpidacovid', '#yadinho',\n",
       "       '#profissaoreporter', '#pazuelloday',\n",
       "       '#gosharks, #valorantmasters', '#diadoorgulhonerd, #diadatoalha',\n",
       "       '#govks', '#pracimadeles, #tamojunto', '#emendaantiprivile',\n",
       "       '#12setforabolsonaro',\n",
       "       '#dia1209euvou, #bolsonarocachorromorto, #12setforabolsonaro',\n",
       "       '#orempelopresidente', '#funda', '#fundaode6binao', '#tokyo2020',\n",
       "       '#skateboarding', '#tamojuntoate', '#distrita', '#distritaonao',\n",
       "       '#bra', '#12setpeloimpeachment', '#12seteuvou',\n",
       "       '#dia12peloimpeachment', '#domingoforabolsonaro', '#newprofilepic',\n",
       "       '#dia12vaisermuitomaior', '#pec5na', '#diadefuria',\n",
       "       '#stfsuspendebolsolao', '#f1nogaules', '#govk', '#pl5544nao',\n",
       "       '#tamojunto', '#todospelainovac, #pelofuturodaindu', '#veto52',\n",
       "       '#rezemosjuntos',\n",
       "       '#esperanc, #saude, #vacinacao, #covid, #planonacionalja',\n",
       "       '#sousimonesim, #frentedemocratica',\n",
       "       '#sousimonesim, #frentedemocra',\n",
       "       '#sousimonesim, #simonetebet, #frentedemocratica',\n",
       "       '#sousimonesim, #simonetebet, #frentedemocra', '#sousimonesim',\n",
       "       '#sousimonesim, #frentedemocra, #tebetpresidente, #simonetebetms',\n",
       "       '#sousimonesim, #simonetebet',\n",
       "       '#queroservacinado, #vidasbrasileirasimportam',\n",
       "       '#pl130sancionapresidente, #trabalhoigualsalarioigual, #desigualdadesalarialtemmulta, #bancadafeminina, #senadofederal',\n",
       "       '#cpidacovid, #covaxin', '#vacine',\n",
       "       '#simonetebet2022, #mdb, #mdbcomsimone2022',\n",
       "       '#simonetebet, #simonetebet2022, #mdb, #mdbcomsimone2022, #simonesim',\n",
       "       '#ladod', '#vacinasim, #vacinaparatodos', '#spotify, #deezer',\n",
       "       '#reformaadministrativaja', '#vamosmorrerate', '#2022emdebate',\n",
       "       '#2022emdebate, #prima', '#2022emdebate, #prima, #uniaopelobrasil',\n",
       "       '#afeganista, #taliban', '#taliban', '#taliban, #afeganista',\n",
       "       '#taliban, #afeganistao', '#afeganista, #taleban', '#cuba',\n",
       "       '#covid, #pandemia', '#fome, #desemprego', '#haiti',\n",
       "       '#impeachment', '#greatplacetowork', '#inflacao, #economia',\n",
       "       '#brasil, #politica, #economia, #desemprego',\n",
       "       '#virtutalks, #afeganista', '#terceiravia, #eleic',\n",
       "       '#bancocentral, #economia', '#resposta, #luizfux, #stf, #poli',\n",
       "       '#presidente', '#politica, #brasil', '#eleic', '#terceiravia',\n",
       "       '#eleic, #terceiravia', '#eleicoes2022, #terceiravia', '#calotena',\n",
       "       '#papeldoestado, #cidada, #cidadania', '#privatizac',\n",
       "       '#democracia, #redes', '#lfdavila, #novo',\n",
       "       '#democracia, #lfdavila', '#pecprecato', '#partidonovo', '#brasil',\n",
       "       '#democracia, #brasil, #eleic, #lfdavila',\n",
       "       '#casamento, #unia, #amor, #lfdavila', '#democracia, #brasil',\n",
       "       '#maisfundaona', '#lfdavila', '#debatelide', '#maisfunda',\n",
       "       '#diainternacionaldamulher', '#cironodatena', '#cironaglobonews',\n",
       "       '#cironacnn', '#cironomynews', '#cironouol', '#cironacbn',\n",
       "       '#cirogames', '#opetro', '#ciroemribeira',\n",
       "       '#ciroretrospectiva2021', '#15', '#cirogamese, #cirogames',\n",
       "       '#cirogames, #cirogames', '#cirogames, #cortescirogames',\n",
       "       '#ciromensagemdenatal', '#sosbahiaaproveito, #sosbahia',\n",
       "       '#cironoestada', '#cortescirogames',\n",
       "       '#cirogames, #ciroretrospectiva2021',\n",
       "       '#prefirociro, #ciroretrospectiva2021', '#cironocanallivre',\n",
       "       '#debateciroemoro', '#16', '#debateciroemoroainda', '#convenc',\n",
       "       '#cironoflow', '#forabolsonaro', '#racismoreverso', '#faltam4dias',\n",
       "       '#faltam3dias, #convenc', '#faltam3dias', '#17',\n",
       "       '#cirorebeldiadaesperanc, #convenc, #faltam2dias',\n",
       "       '#cirorebeldiadaesperanca, #faltam2dias, #convenc',\n",
       "       '#convenc, #falta1dia', '#tbtquem',\n",
       "       '#convenc, #cirorebeldiadaesperanc', '#convenc, #convenc', '#cafe',\n",
       "       '#cafe, #brizola100anos', '#cironabandnews',\n",
       "       '#fuirebeldequando, #fuirebeldequando, #fuirebeldequando',\n",
       "       '#cironodatenao, #cironodatena', '#cironodatenamas, #cironodatena',\n",
       "       '#fuirebeldequando', '#cironara', '#sa', '#18', '#reactdocira',\n",
       "       '#alianc', '#cironacnnacompanhe', '#cironanovabrasilfm',\n",
       "       '#cironanovabrasilfmacompanhe', '#minharebeldiavaipara',\n",
       "       '#cirorebeldiadaesperanc', '#osmilho',\n",
       "       '#justic, #justic, #justic, #justic', '#19',\n",
       "       '#reactdocira, #cirogames', '#cirogamesque, #cirogames',\n",
       "       '#cirogames, #reactdocira', '#sitedociro, #cirogames',\n",
       "       '#bbbdocira', '#rebeldequeadmiro', '#forabolsonaro, #bbbdocira',\n",
       "       '#20', '#tbt, #cirogames', '#bbbdocira, #cirogames',\n",
       "       '#ciroemminas', '#impressa', '#semanadeartemoderna',\n",
       "       '#diadegiselle', '#ciroemcuiaba',\n",
       "       '#diadegiselle, #teamo, #valentinesday', '#spciro', '#21',\n",
       "       '#cirocomcaminhoneiros', '#cironaruto', '#22',\n",
       "       '#ceoconference2022', '#fevereirodocira', '#brasilvoodea',\n",
       "       '#aforc', '#rebeldiadaesperanc', '#cirogames, #brasilvoodea',\n",
       "       '#prec', '#ciroplebiscito', '#cironabahia', '#pdtcoragemparamudar',\n",
       "       '#cirocommovimentosnegros', '#ciroemgoia', '#cirogames, #pdtnatv',\n",
       "       '#cironoartedaguerra', '#cironoartedaguerraassista',\n",
       "       '#cirogames, #diainternacionaldamulher, #pdtnatv',\n",
       "       '#diainternacionaldamulher, #aforc', '#24',\n",
       "       '#mulherescomciro, #cirogames', '#cirogames, #mulherescomciro',\n",
       "       '#cirotemraza', '#ta', '#nasruascomciro', '#paixa',\n",
       "       '#cirocontracorrupc, #cirocontracorrupc', '#vacinaja',\n",
       "       '#transpare, #governosp', '#poli, #bandidosnacadeia',\n",
       "       '#vacinapratodos', '#gpspoli', '#gesta', '#retomasp',\n",
       "       '#vacinanobrac', '#spmaisseguro', '#inclusa, #respeito',\n",
       "       '#dignidadei', '#butanvac, #e, #podeconfiar',\n",
       "       '#gesta, #planejamento, #trabalhofonte', '#sp, #ma',\n",
       "       '#menosimpostos, #maisempregos', '#trabalho, #planejamento',\n",
       "       '#vacinassalvam', '#trabalho, #calc', '#pre', '#vacinasalva',\n",
       "       '#vacinasim', '#menosimpostos, #maisdesenvolvimento', '#agrosp',\n",
       "       '#governosp', '#governosp, #missa', '#missa',\n",
       "       '#governosp, #meioambiente, #desenvolvimentosustenta, #energiasrenova',\n",
       "       '#cop26uk, #govermosp, #meioambiente, #reflorestasp',\n",
       "       '#habitac, #moradiapopular, #governosp', '#cufa, #governosp',\n",
       "       '#sppratodos', '#trabalho, #gesta, #planejamento',\n",
       "       '#vacinaja, #vacinapratodos', '#menosestado, #maisprivadoa',\n",
       "       '#vote451', '#trabalho, #planejamento, #gesta',\n",
       "       '#trabalho, #planejamento, #gesta, #governosp', '#juntospelasau',\n",
       "       '#tmj', '#juntospelobrasil', '#educac, #ensinopu, #governosp',\n",
       "       '#menosestado, #maisprivadoaqui',\n",
       "       '#trabalho, #planejamento, #governosp', '#transpare',\n",
       "       '#boravacinar', '#novoriopinheiros', '#boravacinarcrianc',\n",
       "       '#weremember', '#time, #planejamento, #trabalho, #gesta',\n",
       "       '#maisprivado, #menospu', '#timetrabalhador',\n",
       "       '#inacredita, #inadmissi, #impensa', '#transparencia', '#educac',\n",
       "       '#governoreformista', '#spmaishumano', '#diadasmulheres',\n",
       "       '#planejamento, #trabalho, #gesta', '#calc', '#avantelavajato',\n",
       "       '#brasilquercorruptospresos', '#deltannalavajato', '#parabensmoro',\n",
       "       '#cemmiledai', '#manhattanconnection', '#parabensmorodesejo',\n",
       "       '#moronoflow', '#abreascontasbolsolula', '#moronoceara', '#sextou',\n",
       "       '#agro, #moro, #soja', '#sqn', '#fe, #maringa',\n",
       "       '#darcyfaz99, #99anosdarcyribeiro', '#vaidarup',\n",
       "       '#bomdia, #fernandosantacruz, #ditaduranuncamais',\n",
       "       '#trump, #trumpdesbloqueavenezuela, #trumpdesbloqueieavenezuela',\n",
       "       '#vaudarup, #unidadepopular',\n",
       "       '#amazoniaurgente, #calabocabolsonaro, #unidadepopular',\n",
       "       '#trumpdesbloqueavenezuela, #trumpunblockvenezuela',\n",
       "       '#marxismo, #unidadepopular', '#vaidarupcurta',\n",
       "       '#chile, #grevegeral, #unidadepopular',\n",
       "       '#torturanuncamais, #abaixoaditadura, #abaixoogovernobolsonaro',\n",
       "       '#forabolsonaro, #abqixoogovernobolsonaro, #unidadepopular',\n",
       "       '#vaidarup, #socialismo, #marxismo, #luta, #contraoracismo, #novembronegro, #rac, #classe',\n",
       "       '#bolivia', '#up80', '#up80, #unidadepopular, #vaiavancar',\n",
       "       '#ai5nuncamais', '#unidadepopular, #up80',\n",
       "       '#unidadepopular, #fomezero, #natalsemfome, #reformaurbana',\n",
       "       '#up80, #unidadepopular', '#foraeuadoorientemedio, #notwar',\n",
       "       '#marighella', '#itatiaia, #moradia, #favela, #up80',\n",
       "       '#favela, #periferia, #olheparaoalto, #unidadepopular',\n",
       "       '#resistealtodaboavista, #olheparaoalto', '#somostodospetroleiros',\n",
       "       '#impeachmentdebolsonaro', '#mariellepresente, #unidadepopular',\n",
       "       '#up2020, #vaiavanc, #socialismo',\n",
       "       '#forabolsonaro, #forabolsonaros, #unidadepopular',\n",
       "       '#forabolsonaro, #unidadepopular, #18m', '#auditoriadadividaja',\n",
       "       '#forabolsonaro, #unidadepopular',\n",
       "       '#forabol卐onaro, #forabolsonaro, #unidadepopular',\n",
       "       '#periferiacontrabolsonaro, #forabolsonaro, #porumgovernopopular, #ditaduranuncamais, #covid19nasocupac, #covid19nasfavelas',\n",
       "       '#forabolsonaro, #porumgovernopopular, #covid19nasfavelas, #unidadepopular',\n",
       "       '#ditaduranuncamais, #forabolsonaro',\n",
       "       '#forabolsonaro, #porumgovernopopular',\n",
       "       '#imprensapopular, #unidadepopular, #averdade',\n",
       "       '#forabolsonaro, #porumgovernopopular, #unidadepopular',\n",
       "       '#morohipo, #forabolsonaro', '#trumpdesbloquieavenezuela',\n",
       "       '#adiaenem', '#adiaenem, #forabolsonaro, #foraweitraub',\n",
       "       '#federalizac, #justicaparamarielleeanderson',\n",
       "       '#quemmandoumatarmarielle, #justic, #ditaduranuncamais',\n",
       "       '#vidasnegrasimportam, #blacklivesmatter',\n",
       "       '#forabolsonaro, #porumgovernopopular, #impeachmentja',\n",
       "       '#ditaduranuncamais, #forabolsonaro, #vidasnegrasimportam',\n",
       "       '#justicaparamiguel',\n",
       "       '#forabolsonaro, #porumgovernopopular, #vidasnegrasimportamveja',\n",
       "       '#vidasnegrasimportam',\n",
       "       '#forabolsonaro, #unidadepopular, #vidasnegrasimportam',\n",
       "       '#verdadejustic, #forabolsonaro',\n",
       "       '#forabolsonaro, #unidadepopular, #porumgovernopopularsegue',\n",
       "       '#forabolsonaro, #porumgovernopopular, #vidasnegrasimportam',\n",
       "       '#upnasruas, #forabolsonaro, #porumgovernopopular, #vidasnegrasimportam, #antifascista',\n",
       "       '#upnasruas',\n",
       "       '#futebol, #torcidasorganizadas, #vidasnegrasimportam',\n",
       "       '#aularemotapraquem',\n",
       "       '#pride, #stopbolsonaro, #diadoorgulholgbt, #pride2020',\n",
       "       '#brequedosapps, #1diasemapp, #apoiebrequedosapps',\n",
       "       '#brequedosapps', '#reduzaja', '#irisquevergonha, #ocupasaomarcos',\n",
       "       '#unidadepopular, #vaidarup', '#forabolsonaro, #vaidarup',\n",
       "       '#unidadepopular', '#unidadepopular, #unidadepopular',\n",
       "       '#aprovafundeb, #forabolsonaro',\n",
       "       '#entregadoresantifascistas, #entregadores, #grevedosentregadores',\n",
       "       '#justicaporjosue', '#covid19, #despejozero', '#covid19',\n",
       "       '#belohorizonte, #unidadepopular, #fogonosracistas, #poderpopular, #forabolsonarofoto',\n",
       "       '#forainterventor, #forainterventorifrn',\n",
       "       '#zemagenocida, #despejozero',\n",
       "       '#salvequilombo, #despejozero, #zemagenocida',\n",
       "       '#zemacovarde, #salvequilombo, #despejozero',\n",
       "       '#zemacovarde, #despejozero, #salvequilombo', '#zemacovarde',\n",
       "       '#unidadepopular, #despejozero', '#aureacomleo',\n",
       "       '#entrevista, #brasil247, #unidadepopular', '#a',\n",
       "       '#torturanuncamais, #pelodireitoamemoria',\n",
       "       '#aureacomleo, #viravotobh, #unidadepopular, #up80',\n",
       "       '#justicapormariferrer', '#dia15voteup80', '#euvoude80',\n",
       "       '#sosamapa, #amapapedesocorro',\n",
       "       '#justicaporjoaoalberto, #vidasnegrasimportam',\n",
       "       '#unidadepopular, #virasp50, #boulos50', '#forazema, #covid19',\n",
       "       '#forabolsonarogenocida, #oxigenioparamanaus',\n",
       "       '#brumadinho2anos, #valeassassina', '#naoaautonomiadobc',\n",
       "       '#forabolsonarogenocida', '#vacinaja, #forabolsonaro',\n",
       "       '#vazajato, #forabolsonaro',\n",
       "       '#isolamentosocial, #covid19nasfavelas, #covid19, #forabolsonarogenocida',\n",
       "       '#vidasnegrasimportam, #forabolsonaro, #21m',\n",
       "       '#bolsonarogenocida, #bolsonaro300mil', '#forabolsonarogenocidae',\n",
       "       '#forabolsonarogenocida, #chacinadojacarezinho, #justicaporjacarezinho',\n",
       "       '#palestina, #palestinalivre, #freepalaestine, #israelterrorists',\n",
       "       '#forabolsonaro, #educacao', '#vacinaimprensa',\n",
       "       '#29m, #povonarua, #forabolsonaro',\n",
       "       '#forabolsonaro, #povonarua, #29mforabolsonaro',\n",
       "       '#forabolsonaro, #19j', '#forabolsonaro, #19jforabolsonaro',\n",
       "       '#10j, #forabolsonaro', '#elmundodicenoinforme, #elmundodiceno',\n",
       "       '#povonarua, #forabolsonaro', '#13j, #forabolsonaro',\n",
       "       '#cubanoestasola', '#forabolsonaro, #ditaduranuncamais',\n",
       "       '#negociazema, #zemarecebaasocupacoes',\n",
       "       '#zemarecebaasocupacoes, #ocupac',\n",
       "       '#libertemgaloegessica, #liberdadeparapauloegessica',\n",
       "       '#libertemgaloegessica', '#liberdadeparagalo', '#7sforabolsonaro',\n",
       "       '#forabolsonaro, #bolsonarovergonhadobrasil', '#fogonosracistas',\n",
       "       '#punic', '#braskemcriminosa', '#na', '#chiledecide',\n",
       "       '#oproblemadobrasile', '#chuvas',\n",
       "       '#leonardopericles, #leopericles2022, #unidadepopular, #socialismo, #poderpopular, #eleic, #presidenciaveis2022',\n",
       "       '#eleic, #presidenciaveis2022',\n",
       "       '#leonardopericles, #leopericles2022, #unidadepopular, #socialismo, #poderpopular, #eleic',\n",
       "       '#leonardopericles, #leopericles2022', '#leonardopericles',\n",
       "       '#justicaparamoise, #vidasnegrasimportam', '#nazismonao',\n",
       "       '#midiapopular, #jornalaverdade, #lenin', '#gasolina, #petrobras',\n",
       "       '#sus', '#vergonha', '#fa', '#bolsonaroe', '#churrascodamorte',\n",
       "       '#presidentefake', '#divulgatudocelsodemello', '#covidー19',\n",
       "       '#felipenetonorodaviva', '#liberaovideocelsodemello',\n",
       "       '#adiaenem2020', '#democracia',\n",
       "       '#chegadefakenews, #gabinetedoodionacadeia', '#queirozpreso',\n",
       "       '#lavajato', '#frentedarendaba, #rendaba', '#frentedarendaba',\n",
       "       '#fundebpermanente', '#frentedarendabasica',\n",
       "       '#fimdoforoprivilegiado', '#fundeb', '#luto', '#rendaba',\n",
       "       '#butanta, #vacinaja', '#auxilioemergencialja', '#assessoria',\n",
       "       '#daassessoria', '#assessoria, #senadoralessandrovieira, #covid19',\n",
       "       '#derrubavetoconectividadee, #derrubavetoconectividade, #derrubavetoconectividade',\n",
       "       '#cpi',\n",
       "       '#derrubavetopl3477os, #derrubavetopl3477garantir, #derrubavetopl3477',\n",
       "       '#stfvergonhanacional', '#cpidapandemia', '#eletrobras',\n",
       "       '#500milmortos', '#500milmortos, #cpidacovid', '#cpidarachadinha',\n",
       "       '#naovaitergolpe', '#arasnuncamais',\n",
       "       '#euacreditonademocracia, #umso', '#1000diasdementiras',\n",
       "       '#alessandronorodaviva', '#unidoscontraacorrupcao',\n",
       "       '#bolsola, #orc', '#bolsolao', '#pec23na', '#cpidobolsolao',\n",
       "       '#alessandronojornaldacnn', '#apagaonasaude'], dtype=object)"
      ]
     },
     "execution_count": 32,
     "metadata": {},
     "output_type": "execute_result"
    }
   ],
   "source": [
    "poli.hashtags.unique()"
   ]
  },
  {
   "cell_type": "markdown",
   "metadata": {},
   "source": [
    "## Contagem de hashtags ao longo do tempo"
   ]
  },
  {
   "cell_type": "code",
   "execution_count": null,
   "metadata": {},
   "outputs": [],
   "source": [
    "def hashtag_pattern(df: pd.DataFrame, hashtag: List[str], granularidade: str = \"m\") -> np.nan:\n",
    "    \"\"\"Generates count of hashtags appearence over time\n",
    "\n",
    "    Args:\n",
    "        df (pd.DataFrame): polititians dataframe\n",
    "        hashtag (List[str]): hashtag list to visualize\n",
    "        granularidade (str, optional): visualization scope Defaults to \"m\".\n",
    "\n",
    "    Returns:\n",
    "        np.nan: Doesn't return anything\n",
    "    \"\"\"\n",
    "\n",
    "\n",
    "    # format dictionary\n",
    "\n",
    "    formats = {'d': '%d/%m/%Y',\n",
    "                'm': '%Y/%m',\n",
    "                'y': '%Y'}\n",
    "\n",
    "\n",
    "    # coping columns to use\n",
    "\n",
    "    timeline_df = df[['created_at', 'hashtags']].copy()\n",
    "\n",
    "    fig, ax = plt.subplots(1,1)\n",
    "\n",
    "    # filtering for each hashtag\n",
    "\n",
    "    for hash in hashtag:\n",
    "\n",
    "        searcher = re.compile(hash)\n",
    "\n",
    "        hash_df = timeline_df.copy()\n",
    "\n",
    "        filter = hash_df.hashtags.apply(lambda x: True if searcher.search(x) else False)\n",
    "\n",
    "        hash_df.created_at = hash_df.created_at.apply(lambda x: parser.parse(x).strftime(formats[granularidade])).copy()\n",
    "\n",
    "        hashtag_df = hash_df[filter].groupby(\"created_at\").count().reset_index()\n",
    "\n",
    "        ax.plot(hashtag_df.created_at, hashtag_df.hashtags, label=hash)\n",
    "\n",
    "    plt.legend()\n",
    "    plt.show()\n",
    "    "
   ]
  },
  {
   "cell_type": "code",
   "execution_count": null,
   "metadata": {},
   "outputs": [
    {
     "data": {
      "image/png": "[encoded data removed]",
      "text/plain": [
       "<Figure size 432x288 with 1 Axes>"
      ]
     },
     "metadata": {
      "needs_background": "light"
     },
     "output_type": "display_data"
    }
   ],
   "source": [
    "hashtag_pattern(poli, ['equipelula', 'fatossobrelula'], granularidade='m')"
   ]
  },
  {
   "cell_type": "markdown",
   "metadata": {},
   "source": [
    "## Número de likes por hashtag"
   ]
  },
  {
   "cell_type": "code",
   "execution_count": null,
   "metadata": {},
   "outputs": [
    {
     "data": {
      "text/plain": [
       "Index(['Unnamed: 0', 'tweets_id', 'tweets_in_thread', 'created_at', 'text',\n",
       "       'retweet_count', 'like_count', 'reply_count', 'quote_count', 'user_id',\n",
       "       'username', 'user_name', 'user_picture', 'verified', 'clean_text',\n",
       "       'mentions', 'hashtags', 'emojis'],\n",
       "      dtype='object')"
      ]
     },
     "execution_count": 329,
     "metadata": {},
     "output_type": "execute_result"
    }
   ],
   "source": [
    "poli.columns"
   ]
  },
  {
   "cell_type": "code",
   "execution_count": null,
   "metadata": {},
   "outputs": [],
   "source": [
    "# box plot com média de likes\n",
    "%matplotlib widget\n",
    "\n",
    "def box_hash(df: pd.DataFrame, hashtag: List[str], metric: str, log: bool = True) -> np.nan:\n",
    "    \"\"\"_summary_\n",
    "\n",
    "    Args:\n",
    "        df (pd.DataFrame): polititians dataframe\n",
    "        hashtag (List[str]): list of hashtags to visualize\n",
    "        metric (str): metric to visualize\n",
    "        log (bool, optional): use log scale or not Defaults to True.\n",
    "\n",
    "    Returns:\n",
    "        np.nan: Doesn't return anything\n",
    "    \"\"\"\n",
    "\n",
    "    use_df = df.copy()\n",
    "    like_df = use_df[[metric,'hashtags']]\n",
    "\n",
    "\n",
    "    fig, ax = plt.subplots(1,1)\n",
    "\n",
    "    # filtering for each hashtag\n",
    "\n",
    "    metrics_dict = {h:[] for h in hashtag}\n",
    "\n",
    "    for hash in hashtag:\n",
    "\n",
    "        searcher = re.compile(hash)\n",
    "\n",
    "        hash_df = like_df.copy()\n",
    "\n",
    "        filter = hash_df.hashtags.apply(lambda x: True if searcher.search(x) else False)\n",
    "\n",
    "        metrics_dict[hash].extend(hash_df[filter][metric])\n",
    "\n",
    "\n",
    "    box = ax.boxplot(metrics_dict.values())\n",
    "    if log: ax.set_yscale('log') \n",
    "    ax.set_xticklabels(metrics_dict.keys())\n",
    "\n",
    "    \n",
    "    cursor = mplcursors.cursor(hover=mplcursors.HoverMode.Transient)\n",
    "    @cursor.connect(\"add\")\n",
    "    def on_add(sel):\n",
    "        sel.annotation.set(text=metrics_dict.keys([sel.target.index]))\n",
    "        \n",
    "\n",
    "    plt.show()\n",
    "\n",
    "    "
   ]
  },
  {
   "cell_type": "code",
   "execution_count": null,
   "metadata": {},
   "outputs": [
    {
     "data": {
      "application/vnd.jupyter.widget-view+json": {
       "model_id": "09d11f5239464d47b1b94053e020d024",
       "version_major": 2,
       "version_minor": 0
      },
      "image/png": "[encoded data removed]",
      "text/html": [
       "\n",
       "            <div style=\"display: inline-block;\">\n",
       "                <div class=\"jupyter-widgets widget-label\" style=\"text-align: center;\">\n",
       "                    Figure\n",
       "                </div>\n",
       "                <img src='data:image/png;base64,iVBORw0KGgoAAAANSUhEUgAAAoAAAAHgCAYAAAA10dzkAAAAOXRFWHRTb2Z0d2FyZQBNYXRwbG90bGliIHZlcnNpb24zLjUuMiwgaHR0cHM6Ly9tYXRwbG90bGliLm9yZy8qNh9FAAAACXBIWXMAAA9hAAAPYQGoP6dpAAAnQ0lEQVR4nO3df5DU9X348dfdEc8Dj/MHeEAEjwQRbjwPxYOIIUJKQoh1ct5cxoli0Iw0SY/8Os2M2CmmTSNtEUNitpq2X6VW0zplCE3BMGlICDQSg0dIpEDEFgJTATVRDg4CervfPzJcetVD2btjWd6PxwyDu5/Pffa1Dsw++eznR0kul8sFAADJKC30AAAAnFoCEAAgMQIQACAxAhAAIDECEAAgMQIQACAxAhAAIDECEAAgMQIQACAxAhAAIDECEAAgMQIQACAxAhAAIDECEAAgMQIQACAxAhAAIDECEAAgMQIQACAxAhAAIDECEAAgMQIQACAxAhAAIDECEAAgMQIQACAxAhAAIDECEAAgMQIQACAxAhAAIDECEAAgMQIQACAxAhAAIDECEAAgMQIQACAxAhAAIDECEAAgMQIQACAxAhAAIDECEAAgMQIQACAxAhAAIDECEAAgMQIQACAxAhAAIDECEAAgMQIQACAxAhAAIDECEAAgMQIQACAxAhAAIDECEAAgMQIQACAxAhAAIDECEAAgMQIQACAxAhAAIDECEAAgMQMKPcDp4PDhwzF+/Pj46Ec/Gvfdd9/b/rlsNhsvvPBCVFZWRklJST9OCAD0lVwuFwcPHowRI0ZEaWma+8IEYER85Stfife85z0n/XMvvPBCjBw5sh8mAgD62549e+Kiiy4q9BgFkXwA7tixI7Zv3x7XX399bNmy5aR+trKyMiJ+9wdo8ODB/TEeANDH2tvbY+TIkV2f4ykq6gBct25dLFq0KNra2mLv3r3x7W9/OxobG7utk8lkYtGiRbFv376or6+PBx54ICZNmtS1/M4774xFixbFU089ddKvf/xr38GDBwtAACgyKR++VdRffHd0dER9fX1kMpk3Xf7EE09Ea2tr3HPPPbFp06aor6+PmTNnxosvvhgREf/6r/8aY8eOjbFjx57KsQEACqokl8vlCj1EXygpKXnDHsDJkydHQ0NDfOMb34iI3520MXLkyPjMZz4Td911V8yfPz8ee+yxKCsri0OHDsVrr70Wd9xxRyxYsOBtvWZ7e3tUVVXFgQMH7AEEgCLh87vI9wCeyLFjx6KtrS1mzJjR9VxpaWnMmDEjNmzYEBERCxcujD179sSuXbvivvvui7lz554w/o4ePRrt7e3dfgEAFJszNgBffvnl6OzsjOrq6m7PV1dXx759+/La5sKFC6OqqqrrlzOAAYBiVNQngfSlW2+99S3XmT9/frS2tnY9Pn4WEQBAMTljA3DIkCFRVlYW+/fv7/b8/v37Y9iwYXlts7y8PMrLy/tiPACAgjljvwI+66yzYuLEibFmzZqu57LZbKxZsyauvvrqAk4GAFBYRb0H8NChQ/H88893Pd65c2ds3rw5zj///Bg1alS0trbGnDlz4qqrropJkybFkiVLoqOjI2677bZevW4mk4lMJhOdnZ29fQsAAKdcUV8GZu3atTF9+vQ3PD9nzpxYunRpRER84xvf6LoQ9IQJE+LrX/96TJ48uU9e32nk6ejs7Iz169fH3r17Y/jw4TF16tQoKysr9FgA5MHnd5EHYKH5A5SG5cuXxx133BG7du3qeq6mpiYWL14cTU1NhRsMgLz4/D6DjwGEvrB8+fJobm6Ourq62LBhQxw8eDA2bNgQdXV10dzcHMuXLy/0iABw0uwB7AX/gjizdXZ2xpgxY6Kuri5WrFgRpaW///dSNpuNxsbG2LJlS+zYscPXwQBFxOe3PYB5yWQyUVtbGw0NDYUehX60fv362LVrV9x9993d4i/id3eVmT9/fuzcuTPWr19foAkBID8CMA8tLS2xdevW2LhxY6FHoR/t3bs3IiIuu+yyN11+/Pnj6wFAsRCA0IPhw4dHRMSWLVvedPnx54+vBwDFQgBCD6ZOnRo1NTVx7733Rjab7bYsm83GwoULY/To0TF16tQCTQgA+RGA0IOysrJYvHhxrFy5MhobG7udBdzY2BgrV66M++67zwkgABSdor4TCPS3pqamWLZsWdxxxx0xZcqUrudHjx4dy5Ytcx1AAIqSy8Dk4X/fCu65555L+jTyVLgTCMCZw2VgBGCv+AMEAMXH57djAAEAkiMAAQASIwABABIjAAEAEiMAAQASIwDzkMlkora2NhoaGgo9CgDASXMZmF5wGjkAFB+f3/YAAgAkRwACACRGAAIAJEYAAgAkRgACACRGAAIAJEYA5sF1AAGAYuY6gL3gOkIAUHx8ftsDCACQHAEIAJAYAQgAkBgBCACQGAEIAJAYAQgAkBgBCACQGAEIAJAYAZgHdwIBAIqZO4H0giuJA0Dx8fltDyAAQHIGFHoAKAadnZ2xfv362Lt3bwwfPjymTp0aZWVlhR4LAPJiDyC8heXLl8eYMWNi+vTpcdNNN8X06dNjzJgxsXz58kKPBgB5EYBwAsuXL4/m5uaoq6uLDRs2xMGDB2PDhg1RV1cXzc3NIhCAouQkkF5wEOmZrbOzM8aMGRN1dXWxYsWKKC39/b+XstlsNDY2xpYtW2LHjh2+DgYoIj6/7QGEHq1fvz527doVd999d7f4i4goLS2N+fPnx86dO2P9+vUFmhAA8iMAoQd79+6NiIjLLrvsTZcff/74egBQLAQg9GD48OEREbFly5Y3XX78+ePrAUCxEIDQg6lTp0ZNTU3ce++9kc1muy3LZrOxcOHCGD16dEydOrVAEwJAfgQg9KCsrCwWL14cK1eujMbGxm5nATc2NsbKlSvjvvvucwIIAEXHhaDhBJqammLZsmVxxx13xJQpU7qeHz16dCxbtiyampoKOB0A5McewDxkMpmora2NhoaGQo/CKfJ/r5b0f78SBoBiIgDz0NLSElu3bo2NGzcWehT62fELQV9++eXdvgK+/PLLXQgagKLlQtC94EKSZzYXggY4M/n8tgcQevS/LwSdy+Vi7dq18U//9E+xdu3ayOVyLgQNQNFyEgj04PgFnv/rv/4rPvaxj8WuXbu6ltXU1MRf/MVfdFsPAIqFAIQeHL/A8y233BLXXXddfPGLX4yKioo4cuRIfPe7341bbrml23oAUCwcA9gLjiE4sx07diwGDRoUgwYNinPPPTd+9atfdS27+OKL49VXX42Ojo7o6OiIs846q4CTAnAyfH47BhB69NRTT8Xrr78eBw4ciD179nRbtmfPnjhw4EC8/vrr8dRTTxVoQgDIjwCEHvzP//xP13+Xl5d3W/a/H//v9QCgGAhA6MH+/fsjIqK+vj4OHDgQP/zhD+Nb3/pW/PCHP4wDBw7E5Zdf3m09ACgWTgKBHvz617+OiIiKioooKyuLadOmdS3LZrMxcODAbusBQLGwBxB6cPzCzz/5yU+isbGx251AGhsb4yc/+Um39QCgWPjkgh4c3+M3bty4+MUvfhFTpkyJwYMHx5QpU+LZZ5+NcePGdVsPAIqFy8D0gtPIz2ydnZ0xYsSIePHFF+O6666LWbNmdbsO4KpVq+LCCy+MF154wa3gAIqIz2/HAEKPysrK4sEHH4zm5ub4wQ9+EKtWrepaNnDgwCgpKYkHH3xQ/AFQdHwFDCfQ1NQUy5Yti+rq6m7PV1dXx7Jly6KpqalAkwFA/nwF3At2Iaejs7Mz1q9fH3v37o3hw4fH1KlT7fkDKFI+v+0BBABIjgDMQyaTidra2mhoaCj0KJwCy5cvjzFjxsT06dPjpptuiunTp8eYMWNi+fLlhR4NAPIiAPPQ0tISW7dujY0bNxZ6FPrZ8uXLo7m5Oerq6rpdB7Curi6am5tFIABFyTGAveAYgjNbZ2dnjBkzJurq6mLFihXdLviczWajsbExtmzZEjt27HA8IEAR8fltDyD0aP369bFr1664++6733C3j9LS0pg/f37s3Lkz1q9fX6AJASA/AhB6sHfv3oiIuOyyy950+fHnj68HAMVCAEIPhg8fHhERW7ZsedPlx58/vh4AFAsBCD2YOnVq1NTUxL333hvZbLbbsmw2GwsXLozRo0fH1KlTCzQhAORHAEIPysrKYvHixbFy5cpobGzsdhZwY2NjrFy5Mu677z4ngABQdNwLGE7g+K3g7rjjjpgyZUrX86NHj3YrOACKlsvA9ILTyNPhVnAAZw6f3/YAwttSVlYW06ZNK/QYANAnHAMIAJAYAQgAkBgBCACQGMcAQkQcPnw4tm/ffsJ1jhw5Ert27YqampqoqKg44brjxo2LgQMH9uWIANBnBCBExPbt22PixIl9tr22tra48sor+2x7ANCXBCDE7/bYtbW1nXCdbdu2xezZs+Oxxx6L8ePHv+X2AOB0JQAhIgYOHPi299iNHz/e3j0AipqTQAAAEiMAAQASIwABABIjAAEAEiMAAQASIwABABKTdAC++uqrcdVVV8WECRPisssui7/7u78r9EgAAP0u6esAVlZWxrp162LgwIHR0dERl112WTQ1NcUFF1xQ6NEA6CNu9QhvlHQAlpWVdf0lPnr0aORyucjlcgWeCoC+5FaP8EZFHYDr1q2LRYsWRVtbW+zduze+/e1vR2NjY7d1MplMLFq0KPbt2xf19fXxwAMPxKRJk7qWv/rqq3HttdfGjh07YtGiRTFkyJBT/C4A6E9u9QhvVNQB2NHREfX19fGJT3wimpqa3rD8iSeeiNbW1njooYdi8uTJsWTJkpg5c2b88pe/jAsvvDAiIs4999z4+c9/Hvv374+mpqZobm6O6urqU/1WAOgnbvUIb1TUAThr1qyYNWtWj8vvv//+mDt3btx2220REfHQQw/FqlWr4uGHH4677rqr27rV1dVRX18f69evj+bm5n6dm1Nrx44dcfDgwV5vZ9u2bd1+763Kysq45JJL+mRbAHAyijoAT+TYsWPR1tYW8+fP73qutLQ0ZsyYERs2bIiIiP3798fAgQOjsrIyDhw4EOvWrYtPf/rTPW7z6NGjcfTo0a7H7e3t/fcG6BM7duyIsWPH9uk2Z8+e3Wfbeu6550QgAKfcGRuAL7/8cnR2dr7h69zq6uqus8F+9atfxR/90R91nfzxmc98Jurq6nrc5sKFC+PP/uzP+nVu+tbxPX9v57iet3IyZwm+lePHG/XFnkkAOFlnbAC+HZMmTYrNmze/7fXnz58fra2tXY/b29tj5MiR/TAZfa2vjuu55ppr+mAaACisMzYAhwwZEmVlZbF///5uz+/fvz+GDRuW1zbLy8ujvLy8L8YDACiYM/ZOIGeddVZMnDgx1qxZ0/VcNpuNNWvWxNVXX13AyQAACquo9wAeOnQonn/++a7HO3fujM2bN8f5558fo0aNitbW1pgzZ05cddVVMWnSpFiyZEl0dHR0nRWcr0wmE5lMJjo7O3v7FgAATrmiDsBnnnkmpk+f3vX4+PF5c+bMiaVLl8aNN94YL730UixYsCD27dsXEyZMiNWrV/f6On8tLS3R0tIS7e3tUVVV1attAQCcakUdgNOmTXvLW7fNmzcv5s2bd4omAgA4/Z2xxwACAPDmBCAAQGIEIABAYgRgHjKZTNTW1kZDQ0OhRwEAOGkCMA8tLS2xdevW2LhxY6FHAQA4aQIQACAxAhAAIDFFfR1AeCslr/82rhhWGhWvPhfxwunz752KV5+LK4aVRsnrvy30KAAkSADmwa3gisfZh3bHpk+eE7HukxHrCj3N742PiE2fPCe2HdodEVMKPQ4AiRGAeXAruOLx23NGxZXfPBSPP/54jB83rtDjdNm2fXvcfPPN8f8+PKrQowCQIAHIGS034Oz42b5sHDl3bMSICYUep8uRfdn42b5s5AacXehRAEjQ6XNQFAAAp4QABABIjAAEAEiMAAQASIwAzIN7AQMAxUwA5sG9gAGAYiYAAQASIwABABIjAAEAEiMAAQASIwABABLjXsAAFK0dO3bEwYMHe72dbdu2dfu9tyorK+OSSy7pk21BfxCAechkMpHJZKKzs7PQowAka8eOHTF27Ng+3ebs2bP7bFvPPfecCOS0JQDz0NLSEi0tLdHe3h5VVVWFHgcgScf3/D322GMxfvz4Xm3ryJEjsWvXrqipqYmKiopebWvbtm0xe/bsPtkzCf1FAAJQ1MaPHx9XXnllr7dzzTXX9ME0UBycBAIAkBh7ADmjHT58OCIiNm3a1Ott9fVXRABQKAKQM9r27dsjImLu3LkFnuTNVVZWFnoEABIkADmjNTY2RkTEuHHjYuDAgb3a1vEDu/vigPMIl4kAoHAEIGe0IUOGxO23396n2+yrA84BoFCcBAIAkBgBCACQGAGYh0wmE7W1tdHQ0FDoUQAATpoAzENLS0ts3bo1Nm7cWOhRAABOmgAEAEiMAAQASIwABABIjAAEAEiMAAQASIwABABIjAAEAEiMAAQASIwABABIjAAEAEiMAAQASIwAzEMmk4na2tpoaGgo9CgAACdNAOahpaUltm7dGhs3biz0KAAAJ00AAgAkRgACACRGAAIAJEYAAgAkRgACACRGAAIAJEYAAgAkRgACACRGAAIAJEYAAgAkRgACACRGAAIAJEYAAgAkRgACACRGAAIAJEYAAgAkRgDmIZPJRG1tbTQ0NBR6FACAkyYA89DS0hJbt26NjRs3FnoUAICTJgABABIjAAEAEiMAAQASIwABABIjAAEAEiMAAQASIwABABIjAAEAEiMAAQASIwABABIjAAEAEiMAAQASIwABABIzoNADwOng8OHDsX379hOus23btm6/n8i4ceNi4MCBfTIbAPQ1AQgRsX379pg4ceLbWnf27NlvuU5bW1tceeWVvR0LAPqFAIT43R67tra2E65z5MiR2LVrV9TU1ERFRcVbbg8ATlcCECJi4MCBb2uP3TXXXHMKpgGA/uUkEACAxAhAAIDECEAAgMQIQACAxAhAAIDECEAAgMQkHYB79uyJadOmRW1tbVx++eXxL//yL4UeCQCg3yV9HcABAwbEkiVLYsKECbFv376YOHFifPjDH45BgwYVejQAgH6TdAAOHz48hg8fHhERw4YNiyFDhsRvfvMbAQgAnNGK+ivgdevWxfXXXx8jRoyIkpKSWLFixRvWyWQyUVNTE2effXZMnjw5fvrTn77pttra2qKzszNGjhzZz1MDABRWUQdgR0dH1NfXRyaTedPlTzzxRLS2tsY999wTmzZtivr6+pg5c2a8+OKL3db7zW9+Ex//+Mfjb//2b0/F2AAABVXUXwHPmjUrZs2a1ePy+++/P+bOnRu33XZbREQ89NBDsWrVqnj44YfjrrvuioiIo0ePRmNjY9x1110xZcqUE77e0aNH4+jRo12P29vb++BdAACcWkW9B/BEjh07Fm1tbTFjxoyu50pLS2PGjBmxYcOGiIjI5XJx6623xvvf//645ZZb3nKbCxcujKqqqq5fvi4GAIrRGRuAL7/8cnR2dkZ1dXW356urq2Pfvn0REfHjH/84nnjiiVixYkVMmDAhJkyYEM8++2yP25w/f34cOHCg69eePXv69T0AAPSHov4KuLfe+973Rjabfdvrl5eXR3l5eT9OBADQ/87YPYBDhgyJsrKy2L9/f7fn9+/fH8OGDSvQVAAAhXfG7gE866yzYuLEibFmzZpobGyMiIhsNhtr1qyJefPm9WrbmUwmMplMdHZ29sGkAOSj5PXfxhXDSqPi1eciXjh99mdUvPpcXDGsNEpe/22hR4EeFXUAHjp0KJ5//vmuxzt37ozNmzfH+eefH6NGjYrW1taYM2dOXHXVVTFp0qRYsmRJdHR0dJ0VnK+WlpZoaWmJ9vb2qKqq6u3bACAPZx/aHZs+eU7Euk9GrCv0NL83PiI2ffKc2HZod0Sc+OoSUChFHYDPPPNMTJ8+vetxa2trRETMmTMnli5dGjfeeGO89NJLsWDBgti3b19MmDAhVq9e/YYTQwAoPr89Z1Rc+c1D8fjjj8f4ceMKPU6Xbdu3x8033xz/78OjCj0K9KioA3DatGmRy+VOuM68efN6/ZUvAKef3ICz42f7snHk3LERIyYUepwuR/Zl42f7spEbcHahR4EenT4HTQAAcEoIQACAxAjAPGQymaitrY2GhoZCjwIAcNIEYB5aWlpi69atsXHjxkKPAgBw0gQgAEBiBCAAQGIEIABAYgQgAEBiBGAenAUMABQzAZgHZwEDAMVMAAIAJEYAAgAkRgACACRGAAIAJEYA5sFZwABAMROAeXAWMABQzAQgAEBiBCAAQGIEIABAYgQgAEBiBCAAQGIEIABAYgRgHlwHEAAoZgIwD64DCAAUMwEIAJAYAQgAkBgBCACQGAEIAJAYAQgAkBgBCACQGAEIAJAYAQgAkBgBmAd3AgEAipkAzIM7gQAAxUwAAgAkRgACACRGAAIAJEYAAgAkRgACACRGAAIAJEYAAgAkZkChBwCAfBw+fDgiIjZt2tTrbR05ciR27doVNTU1UVFR0attbdu2rdfzQH8TgAAUpe3bt0dExNy5cws8yZurrKws9AjQIwEIQFFqbGyMiIhx48bFwIEDe7Wtbdu2xezZs+Oxxx6L8ePH93q2ysrKuOSSS3q9HegvAhCAojRkyJC4/fbb+3Sb48ePjyuvvLJPtwmnIyeB5CGTyURtbW00NDQUehQAgJMmAPPQ0tISW7dujY0bNxZ6FACAkyYAAQASIwABABIjAAEAEiMAAQASIwABABIjAAEAEiMAAQASIwABABIjAAEAEiMAAQASIwABABIjAAEAEiMAAQASIwABABIjAAEAEiMAAQASIwDzkMlkora2NhoaGgo9CgDASROAeWhpaYmtW7fGxo0bCz0KAMBJE4AAAIkRgAAAiRGAAACJEYAAAIkRgAAAiRGAAACJEYAAAIkRgAAAiRGAAACJEYAAAIkRgAAAiRGAAACJEYAAAIkRgAAAiRGAAACJEYAAAIkRgAAAiRGAAACJEYAAAIkRgAAAiRGAAACJEYAAAIkRgAAAiUk+AG+44YY477zzorm5udCjAACcEskH4Oc+97l49NFHCz0GAMApk3wATps2LSorKws9BgDAKVPUAbhu3bq4/vrrY8SIEVFSUhIrVqx4wzqZTCZqamri7LPPjsmTJ8dPf/rTUz8oAMBppKgDsKOjI+rr6yOTybzp8ieeeCJaW1vjnnvuiU2bNkV9fX3MnDkzXnzxxVM8KQDA6WNAoQfojVmzZsWsWbN6XH7//ffH3Llz47bbbouIiIceeihWrVoVDz/8cNx1110n/XpHjx6No0ePdj1ub28/+aEBAAqsqPcAnsixY8eira0tZsyY0fVcaWlpzJgxIzZs2JDXNhcuXBhVVVVdv0aOHNlX4wIAnDJnbAC+/PLL0dnZGdXV1d2er66ujn379nU9njFjRnz0ox+NJ598Mi666KITxuH8+fPjwIEDXb/27NnTb/MDAPSXov4KuC98//vff9vrlpeXR3l5eT9OAwDQ/87YPYBDhgyJsrKy2L9/f7fn9+/fH8OGDSvQVAAAhXfGBuBZZ50VEydOjDVr1nQ9l81mY82aNXH11Vf3atuZTCZqa2ujoaGht2MCAJxyRf0V8KFDh+L555/verxz587YvHlznH/++TFq1KhobW2NOXPmxFVXXRWTJk2KJUuWREdHR9dZwflqaWmJlpaWaG9vj6qqqt6+DQCAU6qoA/CZZ56J6dOndz1ubW2NiIg5c+bE0qVL48Ybb4yXXnopFixYEPv27YsJEybE6tWr33BiCABASoo6AKdNmxa5XO6E68ybNy/mzZt3iiYCADj9nbHHAAIA8OYEIABAYgRgHpwFDAAUMwGYh5aWlti6dWts3Lix0KMAAJw0AQgAkBgBCACQGAEIAJAYAQgAkBgBmAdnAQMAxUwA5sFZwABAMROAAACJEYAAAIkRgAAAiRGAAACJEYB5cBYwAFDMBGAenAUMABQzAQgAkBgBCACQGAEIAJAYAQgAkBgBCACQGAEIAJAYAQgAkBgBmAcXggYAipkAzIMLQQMAxUwAAgAkRgACACRGAAIAJEYAAgAkRgACACRGAAIAJGZAoQcAgP50+PDh2L59+wnX2bZtW7ffT2TcuHExcODAPpkNCkUA5iGTyUQmk4nOzs5CjwLAW9i+fXtMnDjxba07e/bst1ynra0trrzyyt6OBQVVksvlcoUeoli1t7dHVVVVHDhwIAYPHlzocQB4E29nD+CRI0di165dUVNTExUVFSdc1x7A4ufzWwD2ij9AAFB8fH47CQQAIDkCEAAgMQIQACAxAhAAIDECEAAgMQIQACAxAhAAIDECEAAgMQIQACAxAhAAIDECMA+ZTCZqa2ujoaGh0KMAAJw09wLuBfcSBIDi4/PbHkAAgOQMKPQAxez4ztP29vYCTwIAvF3HP7dT/hJUAPbCwYMHIyJi5MiRBZ4EADhZBw8ejKqqqkKPURCOAeyFbDYbL7zwQlRWVkZJSUmhx6Gftbe3x8iRI2PPnj3JHjMCZyp/v9OSy+Xi4MGDMWLEiCgtTfNoOHsAe6G0tDQuuuiiQo/BKTZ48GAfEHCG8vc7Hanu+TsuzewFAEiYAAQASIwAhLepvLw87rnnnigvLy/0KEAf8/eb1DgJBAAgMfYAAgAkRgACACRGAAIAJEYAQkTceuut0djY2KfbXLp0aZx77rkn9TPTpk2Lz3/+8306BwD8Xy4EDRHxta99Lel7QgKQFgEI4YrwAKTFV8Cc9rLZbCxcuDBGjx4dFRUVUV9fH8uWLeta/uSTT8bYsWOjoqIipk+fHkuXLo2SkpJ49dVXIyLiS1/6UkyYMKHbNpcsWRI1NTVdj//vV8DTpk2LefPmxbx586KqqiqGDBkSf/qnf9ptL+HRo0fjzjvvjHe+850xaNCgmDx5cqxdu7bH9/FmXzN//vOfj2nTpvX4M//4j/8YV111VVRWVsawYcPipptuihdffLHH9YE3WrZsWdTV1UVFRUVccMEFMWPGjOjo6HjTQy4aGxvj1ltv7Xr8N3/zN3HJJZfE2WefHdXV1dHc3Hxqh4d+IgA57S1cuDAeffTReOihh+I///M/4wtf+ELMnj07fvSjH8WePXuiqakprr/++ti8eXPcfvvtcdddd/XJ6/7DP/xDDBgwIH7605/G1772tbj//vvj7//+77uWz5s3LzZs2BD//M//HL/4xS/iox/9aHzoQx+KHTt29MnrR0S89tpr8eUvfzl+/vOfx4oVK2LXrl3dPpyAE9u7d2987GMfi0984hOxbdu2WLt2bTQ1Nb2tQz6eeeaZ+OxnPxt//ud/Hr/85S9j9erV8b73ve8UTA39z1fAnNaOHj0a9957b3z/+9+Pq6++OiIi3vWud8V//Md/xDe/+c2oqamJd7/73bF48eKIiLj00kvj2Wefjb/6q7/q9WuPHDkyvvrVr0ZJSUnXdr/61a/G3LlzY/fu3fHII4/E7t27Y8SIERERceedd8bq1avjkUceiXvvvbfXrx8R8YlPfKLrv9/1rnfF17/+9WhoaIhDhw7FOeec0yevAWeyvXv3xuuvvx5NTU1x8cUXR0REXV3d2/rZ3bt3x6BBg+IP//APo7KyMi6++OK44oor+nNcOGUEIKe1559/Pg4fPhwf+MAHuj1/7NixuOKKK+LIkSMxefLkbsuOh2Jvvec974mSkpJu2128eHF0dnbGs88+G52dnTF27NhuP3P06NG44IIL+uT1IyLa2triS1/6Uvz85z+PV155JbLZbET87oOptra2z14HzlT19fXxB3/wB1FXVxczZ86MD37wg9Hc3BznnXfeW/7sBz7wgbj44ovjXe96V3zoQx+KD33oQ3HDDTfEwIEDT8Hk0L8EIKe1Q4cORUTEqlWr4p3vfGe3ZeXl5fHZz372LbdRWlr6hq97XnvttV7PVVZWFm1tbVFWVtZtWU975k52jo6Ojpg5c2bMnDkzHn/88Rg6dGjs3r07Zs6cGceOHevV/JCKsrKy+Pd///d46qmn4nvf+1488MAD8Sd/8ifx9NNPv+XfycrKyti0aVOsXbs2vve978WCBQviS1/6UmzcuPGkL/EEpxsByGmttrY2ysvLY/fu3XHttde+Yfn48ePjO9/5TrfnfvKTn3R7PHTo0Ni3b1/kcrmuPXqbN29+y9d++umn37DdSy65JMrKyuKKK66Izs7OePHFF2Pq1Klv670MHTo0tmzZ0u25zZs3xzve8Y43XX/79u3x61//Ov7yL/8yRo4cGRG/OyYJODklJSVxzTXXxDXXXBMLFiyIiy++OL797W/H0KFDY+/evV3rdXZ2xpYtW2L69Oldzw0YMCBmzJgRM2bMiHvuuSfOPffc+MEPfhBNTU2FeCvQZwQgp7XKysq488474wtf+EJks9l473vfGwcOHIgf//jHMXjw4PjUpz4Vixcvji9+8Ytx++23R1tbWyxdurTbNqZNmxYvvfRS/PVf/3U0NzfH6tWr47vf/W4MHjz4hK+9e/fuaG1tjU9+8pOxadOmeOCBB7qONRw7dmzcfPPN8fGPfzwWL14cV1xxRbz00kuxZs2auPzyy+O66657w/be//73x6JFi+LRRx+Nq6++Oh577LHYsmVLj8cUjRo1Ks4666x44IEH4lOf+lRs2bIlvvzlL+f3PxIS9fTTT8eaNWvigx/8YFx44YXx9NNPx0svvRTjx4+PQYMGRWtra6xatSre/e53x/3339919YCIiJUrV8Z///d/x/ve974477zz4sknn4xsNhuXXnpp4d4Q9JUcnOay2WxuyZIluUsvvTT3jne8Izd06NDczJkzcz/60Y9yuVwu92//9m+5MWPG5MrLy3NTp07NPfzww7mIyL3yyitd23jwwQdzI0eOzA0aNCj38Y9/PPeVr3wld/HFF3ctnzNnTu4jH/lI1+Nrr70298d//Me5T33qU7nBgwfnzjvvvNzdd9+dy2azXescO3Yst2DBglxNTU3uHe94R2748OG5G264IfeLX/wil8vlco888kiuqqqq23tZsGBBrrq6OldVVZX7whe+kJs3b17u2muv7fa6n/vc57oef+tb38rV1NTkysvLc1dffXXuO9/5Ti4icj/72c96+78VkrB169bczJkzc0OHDs2Vl5fnxo4dm3vggQdyudzv/g5/+tOfzp1//vm5Cy+8MLdw4cLcRz7ykdycOXNyuVwut379+ty1116bO++883IVFRW5yy+/PPfEE08U8N1A3ynJ5dz+gDPL2rVrY/r06fHKK6/kfZzOtGnTYsKECbFkyZI+nQ0ATgeuAwgAkBgBCACQGF8BAwAkxh5AAIDECEAAgMQIQACAxAhAAIDECEAAgMQIQACAxAhAAIDECEAAgMQIQACAxAhAAIDECEAAgMQIQACAxAhAAIDECEAAgMQIQACAxAhAAIDECEAAgMQIQACAxAhAAIDECEAAgMQIQACAxAhAAIDECEAAgMQIQACAxAhAAIDECEAAgMQIQACAxAhAAIDE/H8f6Gf8+7zKygAAAABJRU5ErkJggg==' width=640.0/>\n",
       "            </div>\n",
       "        "
      ],
      "text/plain": [
       "Canvas(toolbar=Toolbar(toolitems=[('Home', 'Reset original view', 'home', 'home'), ('Back', 'Back to previous …"
      ]
     },
     "metadata": {},
     "output_type": "display_data"
    }
   ],
   "source": [
    "box_hash(poli, ['equipelula','sus'], 'reply_count')"
   ]
  },
  {
   "cell_type": "markdown",
   "metadata": {},
   "source": [
    "#### Wordclouds"
   ]
  },
  {
   "cell_type": "code",
   "execution_count": null,
   "metadata": {},
   "outputs": [
    {
     "data": {
      "text/plain": [
       "[]"
      ]
     },
     "execution_count": 15,
     "metadata": {},
     "output_type": "execute_result"
    }
   ],
   "source": [
    "def extract_words(palavras: str):\n",
    "    pat = re.compile(\"(?<=\\')(.*?)(?=\\')\")\n",
    "    words = pat.findall(palavras)[::2]\n",
    "    return words\n",
    "\n",
    "extract_words(\"teste\")"
   ]
  },
  {
   "cell_type": "code",
   "execution_count": null,
   "metadata": {},
   "outputs": [],
   "source": [
    "extract_words(poli[poli.user_name == 'Lula'].clean_text[0])"
   ]
  },
  {
   "cell_type": "code",
   "execution_count": null,
   "metadata": {},
   "outputs": [],
   "source": [
    "poli[poli.user_name == 'Lula'].clean_text.apply(extract_words)"
   ]
  },
  {
   "cell_type": "code",
   "execution_count": null,
   "metadata": {},
   "outputs": [],
   "source": [
    "poli[poli.user_name == 'Lula'].clean_text"
   ]
  },
  {
   "cell_type": "code",
   "execution_count": null,
   "metadata": {},
   "outputs": [
    {
     "data": {
      "text/plain": [
       "''"
      ]
     },
     "execution_count": 51,
     "metadata": {},
     "output_type": "execute_result"
    }
   ],
   "source": [
    "' '.join([])"
   ]
  },
  {
   "cell_type": "code",
   "execution_count": null,
   "metadata": {},
   "outputs": [],
   "source": [
    "poli.clean_text = poli.clean_text.apply(extract_words)"
   ]
  },
  {
   "cell_type": "code",
   "execution_count": null,
   "metadata": {},
   "outputs": [],
   "source": []
  },
  {
   "cell_type": "code",
   "execution_count": null,
   "metadata": {},
   "outputs": [],
   "source": [
    "lula = ' '.join(list(poli[poli.user_name == 'Lula'].clean_text.apply(lambda x: ' '.join(x))))"
   ]
  },
  {
   "cell_type": "code",
   "execution_count": null,
   "metadata": {},
   "outputs": [],
   "source": [
    "stop = stopwords.words('portuguese')"
   ]
  },
  {
   "cell_type": "code",
   "execution_count": null,
   "metadata": {},
   "outputs": [],
   "source": [
    "lula"
   ]
  },
  {
   "cell_type": "code",
   "execution_count": null,
   "metadata": {},
   "outputs": [],
   "source": [
    "def words_candidate(candidate_name: str):\n",
    "    candidate = ' '.join(list(poli[poli.user_name == candidate_name].clean_text.apply(lambda x: ' '.join(x))))\n",
    "    wordcloud = WordCloud(width=480, height=480, margin=0).generate(candidate)\n",
    "    plt.imshow(wordcloud, interpolation='bilinear')\n",
    "    plt.axis(\"off\")\n",
    "    plt.margins(x=0,y=0)\n",
    "    plt.show()\n",
    "    return candidate"
   ]
  },
  {
   "cell_type": "code",
   "execution_count": null,
   "metadata": {},
   "outputs": [
    {
     "name": "stderr",
     "output_type": "stream",
     "text": [
      "[nltk_data] Downloading package punkt to\n",
      "[nltk_data]     C:\\Users\\mrggi\\AppData\\Roaming\\nltk_data...\n",
      "[nltk_data]   Unzipping tokenizers\\punkt.zip.\n"
     ]
    },
    {
     "data": {
      "text/plain": [
       "True"
      ]
     },
     "execution_count": 63,
     "metadata": {},
     "output_type": "execute_result"
    }
   ],
   "source": [
    "nltk.download('punkt')"
   ]
  },
  {
   "cell_type": "code",
   "execution_count": null,
   "metadata": {},
   "outputs": [],
   "source": [
    "candidate = ' '.join(list(poli[poli.user_name == 'Ciro Gomes'].clean_text.apply(lambda x: ' '.join(x))))\n",
    "tokens = nltk.word_tokenize(candidate)\n",
    "freqs = nltk.FreqDist(tokens)\n",
    "blah_list = [(k, v) for k, v in freqs.items()]\n",
    "sorted_by_freq = sorted(blah_list, key=lambda tup: tup[1])\n",
    "print(sorted_by_freq)"
   ]
  },
  {
   "cell_type": "code",
   "execution_count": null,
   "metadata": {},
   "outputs": [],
   "source": [
    "words_candidate('Ciro Gomes')"
   ]
  },
  {
   "cell_type": "code",
   "execution_count": null,
   "metadata": {},
   "outputs": [
    {
     "data": {
      "image/png": "[encoded data removed]",
      "text/plain": [
       "<Figure size 432x288 with 1 Axes>"
      ]
     },
     "metadata": {
      "needs_background": "light"
     },
     "output_type": "display_data"
    }
   ],
   "source": [
    "wordcloud = WordCloud(width=480, height=480, margin=0).generate(lula)\n",
    "plt.imshow(wordcloud, interpolation='bilinear')\n",
    "plt.axis(\"off\")\n",
    "plt.margins(x=0,y=0)\n",
    "plt.show()"
   ]
  },
  {
   "cell_type": "code",
   "execution_count": null,
   "metadata": {},
   "outputs": [],
   "source": []
  },
  {
   "cell_type": "markdown",
   "metadata": {},
   "source": [
    "#### Emojis"
   ]
  },
  {
   "cell_type": "code",
   "execution_count": null,
   "metadata": {},
   "outputs": [],
   "source": [
    "def extract_emojis(s):\n",
    "    return ''.join(c for c in s if c in emoji.UNICODE_EMOJI['en'])"
   ]
  },
  {
   "cell_type": "code",
   "execution_count": null,
   "metadata": {},
   "outputs": [
    {
     "data": {
      "text/plain": [
       "43         [👀]\n",
       "87         [📢]\n",
       "93         [📷]\n",
       "95      [📷, 🏼]\n",
       "100        [📷]\n",
       "         ...  \n",
       "6368       [😢]\n",
       "6408    [🙏, 🏻]\n",
       "6409    [🙏, 🏻]\n",
       "6420       [🎯]\n",
       "6421    [🙏, 🏻]\n",
       "Name: emojis, Length: 523, dtype: object"
      ]
     },
     "execution_count": 20,
     "metadata": {},
     "output_type": "execute_result"
    }
   ],
   "source": [
    "poli.emojis.dropna().apply(extract_emojis).apply(lambda x: list(set(x)))"
   ]
  },
  {
   "cell_type": "code",
   "execution_count": null,
   "metadata": {},
   "outputs": [
    {
     "data": {
      "text/plain": [
       "43             [, 👀, ]\n",
       "87           [, 📢📢📢, ]\n",
       "93             [, 📷, ]\n",
       "95      [, 🏼, , , 📷, ]\n",
       "100            [, 📷, ]\n",
       "             ...      \n",
       "6368           [, 😢, ]\n",
       "6408          [, 🙏🏻, ]\n",
       "6409          [, 🙏🏻, ]\n",
       "6420           [, 🎯, ]\n",
       "6421          [, 🙏🏻, ]\n",
       "Name: emojis, Length: 523, dtype: object"
      ]
     },
     "execution_count": 21,
     "metadata": {},
     "output_type": "execute_result"
    }
   ],
   "source": [
    "poli.emojis.dropna().apply(lambda x: x.replace('[','')).apply(lambda x: x.replace(']','')).apply(lambda x: x.split('\\''))"
   ]
  },
  {
   "cell_type": "code",
   "execution_count": null,
   "metadata": {},
   "outputs": [
    {
     "data": {
      "text/plain": [
       "43           ['👀']\n",
       "87         ['📢📢📢']\n",
       "93           ['📷']\n",
       "95      ['🏼', '📷']\n",
       "100          ['📷']\n",
       "           ...    \n",
       "6368         ['😢']\n",
       "6408        ['🙏🏻']\n",
       "6409        ['🙏🏻']\n",
       "6420         ['🎯']\n",
       "6421        ['🙏🏻']\n",
       "Name: emojis, Length: 523, dtype: object"
      ]
     },
     "execution_count": 22,
     "metadata": {},
     "output_type": "execute_result"
    }
   ],
   "source": [
    "poli.emojis.dropna().apply(lambda x: x)"
   ]
  },
  {
   "cell_type": "code",
   "execution_count": null,
   "metadata": {},
   "outputs": [],
   "source": []
  }
 ],
 "metadata": {
  "interpreter": {
   "hash": "8e502c3083077283654ee0db8689729377640bb97ef493668650ddc40e07c009"
  },
  "kernelspec": {
   "display_name": "Python 3.10.4 64-bit",
   "language": "python",
   "name": "python3"
  },
  "language_info": {
   "codemirror_mode": {
    "name": "ipython",
    "version": 3
   },
   "file_extension": ".py",
   "mimetype": "text/x-python",
   "name": "python",
   "nbconvert_exporter": "python",
   "pygments_lexer": "ipython3",
   "version": "3.10.4"
  },
  "orig_nbformat": 4
 },
 "nbformat": 4,
 "nbformat_minor": 2
}
