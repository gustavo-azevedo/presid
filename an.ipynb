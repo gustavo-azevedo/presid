{
 "cells": [
  {
   "cell_type": "code",
   "execution_count": 129,
   "metadata": {},
   "outputs": [],
   "source": [
    "import pandas as pd\n",
    "import matplotlib.pyplot as plt\n",
    "import emoji\n",
    "import re\n",
    "import nltk\n",
    "import mplcursors\n",
    "from nltk.corpus import stopwords\n",
    "from wordcloud import WordCloud\n",
    "import seaborn as sns\n",
    "import numpy as np\n",
    "from dateutil import parser\n",
    "from datetime import datetime\n",
    "from typing import List\n",
    "import plotly.graph_objects as go\n",
    "import plotly.express as px\n",
    "from plotly.subplots import make_subplots\n",
    "\n"
   ]
  },
  {
   "cell_type": "code",
   "execution_count": 130,
   "metadata": {},
   "outputs": [
    {
     "name": "stderr",
     "output_type": "stream",
     "text": [
      "[nltk_data] Downloading package stopwords to\n",
      "[nltk_data]     C:\\Users\\mrggi\\AppData\\Roaming\\nltk_data...\n",
      "[nltk_data]   Package stopwords is already up-to-date!\n"
     ]
    },
    {
     "data": {
      "text/plain": [
       "True"
      ]
     },
     "execution_count": 130,
     "metadata": {},
     "output_type": "execute_result"
    }
   ],
   "source": [
    "nltk.download('stopwords')\n"
   ]
  },
  {
   "cell_type": "code",
   "execution_count": 131,
   "metadata": {},
   "outputs": [],
   "source": [
    "poli = pd.read_csv('politicos.csv')"
   ]
  },
  {
   "cell_type": "code",
   "execution_count": 132,
   "metadata": {},
   "outputs": [
    {
     "data": {
      "text/html": [
       "<div>\n",
       "<style scoped>\n",
       "    .dataframe tbody tr th:only-of-type {\n",
       "        vertical-align: middle;\n",
       "    }\n",
       "\n",
       "    .dataframe tbody tr th {\n",
       "        vertical-align: top;\n",
       "    }\n",
       "\n",
       "    .dataframe thead th {\n",
       "        text-align: right;\n",
       "    }\n",
       "</style>\n",
       "<table border=\"1\" class=\"dataframe\">\n",
       "  <thead>\n",
       "    <tr style=\"text-align: right;\">\n",
       "      <th></th>\n",
       "      <th>Unnamed: 0</th>\n",
       "      <th>tweets_id</th>\n",
       "      <th>tweets_in_thread</th>\n",
       "      <th>created_at</th>\n",
       "      <th>text</th>\n",
       "      <th>retweet_count</th>\n",
       "      <th>like_count</th>\n",
       "      <th>reply_count</th>\n",
       "      <th>quote_count</th>\n",
       "      <th>user_id</th>\n",
       "      <th>username</th>\n",
       "      <th>user_name</th>\n",
       "      <th>user_picture</th>\n",
       "      <th>verified</th>\n",
       "      <th>clean_text</th>\n",
       "      <th>mentions</th>\n",
       "      <th>hashtags</th>\n",
       "      <th>emojis</th>\n",
       "    </tr>\n",
       "  </thead>\n",
       "  <tbody>\n",
       "    <tr>\n",
       "      <th>0</th>\n",
       "      <td>0</td>\n",
       "      <td>['1453442766982287361']</td>\n",
       "      <td>1</td>\n",
       "      <td>2021-10-27T19:25:33.000Z</td>\n",
       "      <td>PARABÉNS, PRESIDENTE LULA | 76 anos com energi...</td>\n",
       "      <td>1423</td>\n",
       "      <td>16845</td>\n",
       "      <td>939</td>\n",
       "      <td>323</td>\n",
       "      <td>2670726740</td>\n",
       "      <td>LulaOficial</td>\n",
       "      <td>Lula</td>\n",
       "      <td>https://pbs.twimg.com/profile_images/145778941...</td>\n",
       "      <td>True</td>\n",
       "      <td>['parabens', 'presidente', 'lula', 'ano', 'ene...</td>\n",
       "      <td>NaN</td>\n",
       "      <td>['#equipelula']</td>\n",
       "      <td>NaN</td>\n",
       "    </tr>\n",
       "    <tr>\n",
       "      <th>1</th>\n",
       "      <td>1</td>\n",
       "      <td>['1453676921393324036']</td>\n",
       "      <td>1</td>\n",
       "      <td>2021-10-28T10:56:00.000Z</td>\n",
       "      <td>Ao vivo em instantes: https://t.co/DC3AqHTIDc</td>\n",
       "      <td>139</td>\n",
       "      <td>607</td>\n",
       "      <td>42</td>\n",
       "      <td>14</td>\n",
       "      <td>2670726740</td>\n",
       "      <td>LulaOficial</td>\n",
       "      <td>Lula</td>\n",
       "      <td>https://pbs.twimg.com/profile_images/145778941...</td>\n",
       "      <td>True</td>\n",
       "      <td>['viver', 'instante']</td>\n",
       "      <td>NaN</td>\n",
       "      <td>NaN</td>\n",
       "      <td>NaN</td>\n",
       "    </tr>\n",
       "    <tr>\n",
       "      <th>2</th>\n",
       "      <td>2</td>\n",
       "      <td>['1453681221603581952']</td>\n",
       "      <td>1</td>\n",
       "      <td>2021-10-28T11:13:05.000Z</td>\n",
       "      <td>Entrevista de Lula para a Rádio Jovem Pan de S...</td>\n",
       "      <td>630</td>\n",
       "      <td>3013</td>\n",
       "      <td>319</td>\n",
       "      <td>57</td>\n",
       "      <td>2670726740</td>\n",
       "      <td>LulaOficial</td>\n",
       "      <td>Lula</td>\n",
       "      <td>https://pbs.twimg.com/profile_images/145778941...</td>\n",
       "      <td>True</td>\n",
       "      <td>['entrevisto', 'lula', 'radiar', 'jovem', 'pan...</td>\n",
       "      <td>NaN</td>\n",
       "      <td>NaN</td>\n",
       "      <td>NaN</td>\n",
       "    </tr>\n",
       "    <tr>\n",
       "      <th>3</th>\n",
       "      <td>3</td>\n",
       "      <td>['1453682338941095940']</td>\n",
       "      <td>1</td>\n",
       "      <td>2021-10-28T11:17:32.000Z</td>\n",
       "      <td>Fiz 76 anos ontem com muito orgulho. Não sinto...</td>\n",
       "      <td>1702</td>\n",
       "      <td>27763</td>\n",
       "      <td>1853</td>\n",
       "      <td>318</td>\n",
       "      <td>2670726740</td>\n",
       "      <td>LulaOficial</td>\n",
       "      <td>Lula</td>\n",
       "      <td>https://pbs.twimg.com/profile_images/145778941...</td>\n",
       "      <td>True</td>\n",
       "      <td>['fazer', 'ano', 'ontem', 'orgulhar', 'sentir'...</td>\n",
       "      <td>NaN</td>\n",
       "      <td>NaN</td>\n",
       "      <td>NaN</td>\n",
       "    </tr>\n",
       "    <tr>\n",
       "      <th>4</th>\n",
       "      <td>4</td>\n",
       "      <td>['1453685308755746818']</td>\n",
       "      <td>1</td>\n",
       "      <td>2021-10-28T11:29:20.000Z</td>\n",
       "      <td>Para que a iniciativa privada se apodere do Es...</td>\n",
       "      <td>734</td>\n",
       "      <td>4697</td>\n",
       "      <td>302</td>\n",
       "      <td>66</td>\n",
       "      <td>2670726740</td>\n",
       "      <td>LulaOficial</td>\n",
       "      <td>Lula</td>\n",
       "      <td>https://pbs.twimg.com/profile_images/145778941...</td>\n",
       "      <td>True</td>\n",
       "      <td>['iniciativo', 'privar', 'apoderar', 'estar', ...</td>\n",
       "      <td>NaN</td>\n",
       "      <td>NaN</td>\n",
       "      <td>NaN</td>\n",
       "    </tr>\n",
       "  </tbody>\n",
       "</table>\n",
       "</div>"
      ],
      "text/plain": [
       "   Unnamed: 0                tweets_id  tweets_in_thread  \\\n",
       "0           0  ['1453442766982287361']                 1   \n",
       "1           1  ['1453676921393324036']                 1   \n",
       "2           2  ['1453681221603581952']                 1   \n",
       "3           3  ['1453682338941095940']                 1   \n",
       "4           4  ['1453685308755746818']                 1   \n",
       "\n",
       "                 created_at  \\\n",
       "0  2021-10-27T19:25:33.000Z   \n",
       "1  2021-10-28T10:56:00.000Z   \n",
       "2  2021-10-28T11:13:05.000Z   \n",
       "3  2021-10-28T11:17:32.000Z   \n",
       "4  2021-10-28T11:29:20.000Z   \n",
       "\n",
       "                                                text  retweet_count  \\\n",
       "0  PARABÉNS, PRESIDENTE LULA | 76 anos com energi...           1423   \n",
       "1      Ao vivo em instantes: https://t.co/DC3AqHTIDc            139   \n",
       "2  Entrevista de Lula para a Rádio Jovem Pan de S...            630   \n",
       "3  Fiz 76 anos ontem com muito orgulho. Não sinto...           1702   \n",
       "4  Para que a iniciativa privada se apodere do Es...            734   \n",
       "\n",
       "   like_count  reply_count  quote_count     user_id     username user_name  \\\n",
       "0       16845          939          323  2670726740  LulaOficial      Lula   \n",
       "1         607           42           14  2670726740  LulaOficial      Lula   \n",
       "2        3013          319           57  2670726740  LulaOficial      Lula   \n",
       "3       27763         1853          318  2670726740  LulaOficial      Lula   \n",
       "4        4697          302           66  2670726740  LulaOficial      Lula   \n",
       "\n",
       "                                        user_picture  verified  \\\n",
       "0  https://pbs.twimg.com/profile_images/145778941...      True   \n",
       "1  https://pbs.twimg.com/profile_images/145778941...      True   \n",
       "2  https://pbs.twimg.com/profile_images/145778941...      True   \n",
       "3  https://pbs.twimg.com/profile_images/145778941...      True   \n",
       "4  https://pbs.twimg.com/profile_images/145778941...      True   \n",
       "\n",
       "                                          clean_text mentions  \\\n",
       "0  ['parabens', 'presidente', 'lula', 'ano', 'ene...      NaN   \n",
       "1                              ['viver', 'instante']      NaN   \n",
       "2  ['entrevisto', 'lula', 'radiar', 'jovem', 'pan...      NaN   \n",
       "3  ['fazer', 'ano', 'ontem', 'orgulhar', 'sentir'...      NaN   \n",
       "4  ['iniciativo', 'privar', 'apoderar', 'estar', ...      NaN   \n",
       "\n",
       "          hashtags emojis  \n",
       "0  ['#equipelula']    NaN  \n",
       "1              NaN    NaN  \n",
       "2              NaN    NaN  \n",
       "3              NaN    NaN  \n",
       "4              NaN    NaN  "
      ]
     },
     "execution_count": 132,
     "metadata": {},
     "output_type": "execute_result"
    }
   ],
   "source": [
    "poli.head()"
   ]
  },
  {
   "cell_type": "code",
   "execution_count": 133,
   "metadata": {},
   "outputs": [
    {
     "data": {
      "text/plain": [
       "Index(['Unnamed: 0', 'tweets_id', 'tweets_in_thread', 'created_at', 'text',\n",
       "       'retweet_count', 'like_count', 'reply_count', 'quote_count', 'user_id',\n",
       "       'username', 'user_name', 'user_picture', 'verified', 'clean_text',\n",
       "       'mentions', 'hashtags', 'emojis'],\n",
       "      dtype='object')"
      ]
     },
     "execution_count": 133,
     "metadata": {},
     "output_type": "execute_result"
    }
   ],
   "source": [
    "poli.columns"
   ]
  },
  {
   "cell_type": "code",
   "execution_count": 134,
   "metadata": {},
   "outputs": [
    {
     "name": "stderr",
     "output_type": "stream",
     "text": [
      "C:\\Users\\mrggi\\AppData\\Local\\Temp\\ipykernel_18376\\3167007018.py:3: DeprecationWarning:\n",
      "\n",
      "`np.bool` is a deprecated alias for the builtin `bool`. To silence this warning, use `bool` by itself. Doing this will not modify any behavior and is safe. If you specifically wanted the numpy scalar type, use `np.bool_` here.\n",
      "Deprecated in NumPy 1.20; for more details and guidance: https://numpy.org/devdocs/release/1.20.0-notes.html#deprecations\n",
      "\n"
     ]
    },
    {
     "data": {
      "text/plain": [
       "<AxesSubplot:>"
      ]
     },
     "execution_count": 134,
     "metadata": {},
     "output_type": "execute_result"
    },
    {
     "data": {
      "image/png": "[encoded data removed]",
      "text/plain": [
       "<Figure size 720x576 with 2 Axes>"
      ]
     },
     "metadata": {
      "needs_background": "light"
     },
     "output_type": "display_data"
    }
   ],
   "source": [
    "f, ax = plt.subplots(figsize=(10, 8))\n",
    "corr = poli.corr()\n",
    "sns.heatmap(corr, mask=np.zeros_like(corr, dtype=np.bool), cmap=sns.diverging_palette(220, 10, as_cmap=True),\n",
    "            square=True, ax=ax)"
   ]
  },
  {
   "cell_type": "code",
   "execution_count": 135,
   "metadata": {},
   "outputs": [
    {
     "data": {
      "text/plain": [
       "username\n",
       "AndreJanonesAdv    655\n",
       "LeoPericlesUP      417\n",
       "LulaOficial        586\n",
       "SF_Moro            714\n",
       "Sen_Alessandro     517\n",
       "SimoneTebetms      623\n",
       "aldorebelo         661\n",
       "cirogomes          630\n",
       "jairbolsonaro      482\n",
       "jdoriajr           687\n",
       "lfdavilaoficial    459\n",
       "Name: tweets_id, dtype: int64"
      ]
     },
     "execution_count": 135,
     "metadata": {},
     "output_type": "execute_result"
    }
   ],
   "source": [
    "poli.groupby(['username'])['tweets_id'].count()"
   ]
  },
  {
   "cell_type": "markdown",
   "metadata": {},
   "source": [
    "#### Hashtags"
   ]
  },
  {
   "cell_type": "code",
   "execution_count": 136,
   "metadata": {},
   "outputs": [],
   "source": [
    "import string\n",
    "from sklearn.metrics.pairwise import cosine_similarity\n",
    "from sklearn.feature_extraction.text import CountVectorizer\n",
    "from nltk.corpus import stopwords\n",
    "stopwords =stopwords.words('portuguese')"
   ]
  },
  {
   "cell_type": "code",
   "execution_count": 137,
   "metadata": {},
   "outputs": [
    {
     "data": {
      "text/plain": [
       "array(['Lula', 'Jair M. Bolsonaro', 'André Janones', 'Simone Tebet',\n",
       "       \"Felipe d'Avila\", 'Ciro Gomes', 'João Doria', 'Sergio Moro',\n",
       "       'Aldo Rebelo', 'Leo Péricles', 'Senador Alessandro Vieira'],\n",
       "      dtype=object)"
      ]
     },
     "execution_count": 137,
     "metadata": {},
     "output_type": "execute_result"
    }
   ],
   "source": [
    "poli['user_name'].unique()"
   ]
  },
  {
   "cell_type": "code",
   "execution_count": 138,
   "metadata": {},
   "outputs": [],
   "source": [
    "poli.hashtags.fillna(' ')\n",
    "test = poli.hashtags.astype(str).apply(lambda x: x.replace('[','').replace(']','').replace('\\'','').strip())\n",
    "poli.hashtags = test"
   ]
  },
  {
   "cell_type": "markdown",
   "metadata": {},
   "source": [
    "*Bolsonaro nao usa hashtags?*"
   ]
  },
  {
   "cell_type": "code",
   "execution_count": 139,
   "metadata": {},
   "outputs": [
    {
     "data": {
      "text/html": [
       "<div>\n",
       "<style scoped>\n",
       "    .dataframe tbody tr th:only-of-type {\n",
       "        vertical-align: middle;\n",
       "    }\n",
       "\n",
       "    .dataframe tbody tr th {\n",
       "        vertical-align: top;\n",
       "    }\n",
       "\n",
       "    .dataframe thead th {\n",
       "        text-align: right;\n",
       "    }\n",
       "</style>\n",
       "<table border=\"1\" class=\"dataframe\">\n",
       "  <thead>\n",
       "    <tr style=\"text-align: right;\">\n",
       "      <th></th>\n",
       "      <th>index</th>\n",
       "      <th>hashtags</th>\n",
       "    </tr>\n",
       "  </thead>\n",
       "  <tbody>\n",
       "    <tr>\n",
       "      <th>0</th>\n",
       "      <td>nan</td>\n",
       "      <td>482</td>\n",
       "    </tr>\n",
       "  </tbody>\n",
       "</table>\n",
       "</div>"
      ],
      "text/plain": [
       "  index  hashtags\n",
       "0   nan       482"
      ]
     },
     "execution_count": 139,
     "metadata": {},
     "output_type": "execute_result"
    }
   ],
   "source": [
    "# Lula\n",
    "poli[poli.user_name == 'Jair M. Bolsonaro'].hashtags.value_counts().reset_index()"
   ]
  },
  {
   "cell_type": "code",
   "execution_count": 140,
   "metadata": {},
   "outputs": [
    {
     "data": {
      "text/html": [
       "<div>\n",
       "<style scoped>\n",
       "    .dataframe tbody tr th:only-of-type {\n",
       "        vertical-align: middle;\n",
       "    }\n",
       "\n",
       "    .dataframe tbody tr th {\n",
       "        vertical-align: top;\n",
       "    }\n",
       "\n",
       "    .dataframe thead th {\n",
       "        text-align: right;\n",
       "    }\n",
       "</style>\n",
       "<table border=\"1\" class=\"dataframe\">\n",
       "  <thead>\n",
       "    <tr style=\"text-align: right;\">\n",
       "      <th></th>\n",
       "      <th>index</th>\n",
       "      <th>hashtags</th>\n",
       "    </tr>\n",
       "  </thead>\n",
       "  <tbody>\n",
       "    <tr>\n",
       "      <th>1</th>\n",
       "      <td>#equipelula</td>\n",
       "      <td>61</td>\n",
       "    </tr>\n",
       "    <tr>\n",
       "      <th>2</th>\n",
       "      <td>#76fatossobrelula</td>\n",
       "      <td>26</td>\n",
       "    </tr>\n",
       "    <tr>\n",
       "      <th>3</th>\n",
       "      <td>#lulaaovivo</td>\n",
       "      <td>10</td>\n",
       "    </tr>\n",
       "    <tr>\n",
       "      <th>4</th>\n",
       "      <td>#pt42anos</td>\n",
       "      <td>10</td>\n",
       "    </tr>\n",
       "    <tr>\n",
       "      <th>5</th>\n",
       "      <td>#lulanacbnvale</td>\n",
       "      <td>9</td>\n",
       "    </tr>\n",
       "    <tr>\n",
       "      <th>...</th>\n",
       "      <td>...</td>\n",
       "      <td>...</td>\n",
       "    </tr>\n",
       "    <tr>\n",
       "      <th>70</th>\n",
       "      <td>#76fatossobrelula23</td>\n",
       "      <td>1</td>\n",
       "    </tr>\n",
       "    <tr>\n",
       "      <th>71</th>\n",
       "      <td>#76fatossobrelula22</td>\n",
       "      <td>1</td>\n",
       "    </tr>\n",
       "    <tr>\n",
       "      <th>72</th>\n",
       "      <td>#76fatossobrelula21</td>\n",
       "      <td>1</td>\n",
       "    </tr>\n",
       "    <tr>\n",
       "      <th>73</th>\n",
       "      <td>#76fatossobrelula20</td>\n",
       "      <td>1</td>\n",
       "    </tr>\n",
       "    <tr>\n",
       "      <th>74</th>\n",
       "      <td>#equipelula, #8m, #diainternacionaldamulher, #...</td>\n",
       "      <td>1</td>\n",
       "    </tr>\n",
       "  </tbody>\n",
       "</table>\n",
       "<p>74 rows × 2 columns</p>\n",
       "</div>"
      ],
      "text/plain": [
       "                                                index  hashtags\n",
       "1                                         #equipelula        61\n",
       "2                                   #76fatossobrelula        26\n",
       "3                                         #lulaaovivo        10\n",
       "4                                           #pt42anos        10\n",
       "5                                      #lulanacbnvale         9\n",
       "..                                                ...       ...\n",
       "70                                #76fatossobrelula23         1\n",
       "71                                #76fatossobrelula22         1\n",
       "72                                #76fatossobrelula21         1\n",
       "73                                #76fatossobrelula20         1\n",
       "74  #equipelula, #8m, #diainternacionaldamulher, #...         1\n",
       "\n",
       "[74 rows x 2 columns]"
      ]
     },
     "execution_count": 140,
     "metadata": {},
     "output_type": "execute_result"
    }
   ],
   "source": [
    "hashtags = poli[poli.user_name == 'Lula'].hashtags.value_counts().reset_index().drop(0)\n",
    "hashtags"
   ]
  },
  {
   "cell_type": "code",
   "execution_count": 141,
   "metadata": {},
   "outputs": [
    {
     "data": {
      "text/plain": [
       "0        True\n",
       "1       False\n",
       "2       False\n",
       "3       False\n",
       "4       False\n",
       "        ...  \n",
       "6426    False\n",
       "6427    False\n",
       "6428    False\n",
       "6429    False\n",
       "6430    False\n",
       "Name: hashtags, Length: 6431, dtype: bool"
      ]
     },
     "execution_count": 141,
     "metadata": {},
     "output_type": "execute_result"
    }
   ],
   "source": [
    "poli.hashtags=='#equipelula'"
   ]
  },
  {
   "cell_type": "code",
   "execution_count": 142,
   "metadata": {},
   "outputs": [],
   "source": [
    "\n",
    "mu = poli[(poli.hashtags=='#equipelula')].like_count.mean()\n",
    "sigma = poli[(poli.hashtags=='#equipelula')].like_count.std()"
   ]
  },
  {
   "cell_type": "code",
   "execution_count": 143,
   "metadata": {},
   "outputs": [
    {
     "data": {
      "text/plain": [
       "<AxesSubplot:>"
      ]
     },
     "execution_count": 143,
     "metadata": {},
     "output_type": "execute_result"
    },
    {
     "data": {
      "image/png": "[encoded data removed]",
      "text/plain": [
       "<Figure size 432x288 with 1 Axes>"
      ]
     },
     "metadata": {
      "needs_background": "light"
     },
     "output_type": "display_data"
    }
   ],
   "source": [
    "poli[(poli.hashtags=='#equipelula')].like_count.hist(bins=100)"
   ]
  },
  {
   "cell_type": "code",
   "execution_count": 144,
   "metadata": {},
   "outputs": [
    {
     "data": {
      "text/plain": [
       "<AxesSubplot:>"
      ]
     },
     "execution_count": 144,
     "metadata": {},
     "output_type": "execute_result"
    },
    {
     "data": {
      "image/png": "[encoded data removed]",
      "text/plain": [
       "<Figure size 432x288 with 1 Axes>"
      ]
     },
     "metadata": {
      "needs_background": "light"
     },
     "output_type": "display_data"
    }
   ],
   "source": [
    "poli[(poli.user_name == 'Lula')].like_count.hist(bins = 100)"
   ]
  },
  {
   "cell_type": "code",
   "execution_count": 145,
   "metadata": {},
   "outputs": [
    {
     "data": {
      "text/plain": [
       "(586, 18)"
      ]
     },
     "execution_count": 145,
     "metadata": {},
     "output_type": "execute_result"
    }
   ],
   "source": [
    "poli[(poli.user_name == 'Lula')].shape"
   ]
  },
  {
   "cell_type": "code",
   "execution_count": 146,
   "metadata": {},
   "outputs": [
    {
     "data": {
      "text/plain": [
       "<AxesSubplot:>"
      ]
     },
     "execution_count": 146,
     "metadata": {},
     "output_type": "execute_result"
    },
    {
     "data": {
      "image/png": "[encoded data removed]",
      "text/plain": [
       "<Figure size 432x288 with 1 Axes>"
      ]
     },
     "metadata": {
      "needs_background": "light"
     },
     "output_type": "display_data"
    }
   ],
   "source": [
    "poli[(poli.user_name == 'Lula') & (poli.hashtags != 'nan')].like_count.hist(bins = 100)"
   ]
  },
  {
   "cell_type": "code",
   "execution_count": 147,
   "metadata": {},
   "outputs": [
    {
     "data": {
      "text/html": [
       "<div>\n",
       "<style scoped>\n",
       "    .dataframe tbody tr th:only-of-type {\n",
       "        vertical-align: middle;\n",
       "    }\n",
       "\n",
       "    .dataframe tbody tr th {\n",
       "        vertical-align: top;\n",
       "    }\n",
       "\n",
       "    .dataframe thead th {\n",
       "        text-align: right;\n",
       "    }\n",
       "</style>\n",
       "<table border=\"1\" class=\"dataframe\">\n",
       "  <thead>\n",
       "    <tr style=\"text-align: right;\">\n",
       "      <th></th>\n",
       "      <th>Unnamed: 0</th>\n",
       "      <th>tweets_id</th>\n",
       "      <th>tweets_in_thread</th>\n",
       "      <th>created_at</th>\n",
       "      <th>text</th>\n",
       "      <th>retweet_count</th>\n",
       "      <th>like_count</th>\n",
       "      <th>reply_count</th>\n",
       "      <th>quote_count</th>\n",
       "      <th>user_id</th>\n",
       "      <th>username</th>\n",
       "      <th>user_name</th>\n",
       "      <th>user_picture</th>\n",
       "      <th>verified</th>\n",
       "      <th>clean_text</th>\n",
       "      <th>mentions</th>\n",
       "      <th>hashtags</th>\n",
       "      <th>emojis</th>\n",
       "    </tr>\n",
       "  </thead>\n",
       "  <tbody>\n",
       "    <tr>\n",
       "      <th>0</th>\n",
       "      <td>0</td>\n",
       "      <td>['1453442766982287361']</td>\n",
       "      <td>1</td>\n",
       "      <td>2021-10-27T19:25:33.000Z</td>\n",
       "      <td>PARABÉNS, PRESIDENTE LULA | 76 anos com energi...</td>\n",
       "      <td>1423</td>\n",
       "      <td>16845</td>\n",
       "      <td>939</td>\n",
       "      <td>323</td>\n",
       "      <td>2670726740</td>\n",
       "      <td>LulaOficial</td>\n",
       "      <td>Lula</td>\n",
       "      <td>https://pbs.twimg.com/profile_images/145778941...</td>\n",
       "      <td>True</td>\n",
       "      <td>['parabens', 'presidente', 'lula', 'ano', 'ene...</td>\n",
       "      <td>NaN</td>\n",
       "      <td>#equipelula</td>\n",
       "      <td>NaN</td>\n",
       "    </tr>\n",
       "    <tr>\n",
       "      <th>1</th>\n",
       "      <td>1</td>\n",
       "      <td>['1453676921393324036']</td>\n",
       "      <td>1</td>\n",
       "      <td>2021-10-28T10:56:00.000Z</td>\n",
       "      <td>Ao vivo em instantes: https://t.co/DC3AqHTIDc</td>\n",
       "      <td>139</td>\n",
       "      <td>607</td>\n",
       "      <td>42</td>\n",
       "      <td>14</td>\n",
       "      <td>2670726740</td>\n",
       "      <td>LulaOficial</td>\n",
       "      <td>Lula</td>\n",
       "      <td>https://pbs.twimg.com/profile_images/145778941...</td>\n",
       "      <td>True</td>\n",
       "      <td>['viver', 'instante']</td>\n",
       "      <td>NaN</td>\n",
       "      <td>nan</td>\n",
       "      <td>NaN</td>\n",
       "    </tr>\n",
       "    <tr>\n",
       "      <th>2</th>\n",
       "      <td>2</td>\n",
       "      <td>['1453681221603581952']</td>\n",
       "      <td>1</td>\n",
       "      <td>2021-10-28T11:13:05.000Z</td>\n",
       "      <td>Entrevista de Lula para a Rádio Jovem Pan de S...</td>\n",
       "      <td>630</td>\n",
       "      <td>3013</td>\n",
       "      <td>319</td>\n",
       "      <td>57</td>\n",
       "      <td>2670726740</td>\n",
       "      <td>LulaOficial</td>\n",
       "      <td>Lula</td>\n",
       "      <td>https://pbs.twimg.com/profile_images/145778941...</td>\n",
       "      <td>True</td>\n",
       "      <td>['entrevisto', 'lula', 'radiar', 'jovem', 'pan...</td>\n",
       "      <td>NaN</td>\n",
       "      <td>nan</td>\n",
       "      <td>NaN</td>\n",
       "    </tr>\n",
       "    <tr>\n",
       "      <th>3</th>\n",
       "      <td>3</td>\n",
       "      <td>['1453682338941095940']</td>\n",
       "      <td>1</td>\n",
       "      <td>2021-10-28T11:17:32.000Z</td>\n",
       "      <td>Fiz 76 anos ontem com muito orgulho. Não sinto...</td>\n",
       "      <td>1702</td>\n",
       "      <td>27763</td>\n",
       "      <td>1853</td>\n",
       "      <td>318</td>\n",
       "      <td>2670726740</td>\n",
       "      <td>LulaOficial</td>\n",
       "      <td>Lula</td>\n",
       "      <td>https://pbs.twimg.com/profile_images/145778941...</td>\n",
       "      <td>True</td>\n",
       "      <td>['fazer', 'ano', 'ontem', 'orgulhar', 'sentir'...</td>\n",
       "      <td>NaN</td>\n",
       "      <td>nan</td>\n",
       "      <td>NaN</td>\n",
       "    </tr>\n",
       "    <tr>\n",
       "      <th>4</th>\n",
       "      <td>4</td>\n",
       "      <td>['1453685308755746818']</td>\n",
       "      <td>1</td>\n",
       "      <td>2021-10-28T11:29:20.000Z</td>\n",
       "      <td>Para que a iniciativa privada se apodere do Es...</td>\n",
       "      <td>734</td>\n",
       "      <td>4697</td>\n",
       "      <td>302</td>\n",
       "      <td>66</td>\n",
       "      <td>2670726740</td>\n",
       "      <td>LulaOficial</td>\n",
       "      <td>Lula</td>\n",
       "      <td>https://pbs.twimg.com/profile_images/145778941...</td>\n",
       "      <td>True</td>\n",
       "      <td>['iniciativo', 'privar', 'apoderar', 'estar', ...</td>\n",
       "      <td>NaN</td>\n",
       "      <td>nan</td>\n",
       "      <td>NaN</td>\n",
       "    </tr>\n",
       "    <tr>\n",
       "      <th>...</th>\n",
       "      <td>...</td>\n",
       "      <td>...</td>\n",
       "      <td>...</td>\n",
       "      <td>...</td>\n",
       "      <td>...</td>\n",
       "      <td>...</td>\n",
       "      <td>...</td>\n",
       "      <td>...</td>\n",
       "      <td>...</td>\n",
       "      <td>...</td>\n",
       "      <td>...</td>\n",
       "      <td>...</td>\n",
       "      <td>...</td>\n",
       "      <td>...</td>\n",
       "      <td>...</td>\n",
       "      <td>...</td>\n",
       "      <td>...</td>\n",
       "      <td>...</td>\n",
       "    </tr>\n",
       "    <tr>\n",
       "      <th>6426</th>\n",
       "      <td>6426</td>\n",
       "      <td>['1501213533261996034']</td>\n",
       "      <td>1</td>\n",
       "      <td>2022-03-08T15:09:32.000Z</td>\n",
       "      <td>A discussão sobre fertilizantes não exige mine...</td>\n",
       "      <td>140</td>\n",
       "      <td>1337</td>\n",
       "      <td>58</td>\n",
       "      <td>17</td>\n",
       "      <td>4250596815</td>\n",
       "      <td>Sen_Alessandro</td>\n",
       "      <td>Senador Alessandro Vieira</td>\n",
       "      <td>https://pbs.twimg.com/profile_images/111633750...</td>\n",
       "      <td>True</td>\n",
       "      <td>['discussao', 'sobrar', 'fertilizante', 'exigi...</td>\n",
       "      <td>NaN</td>\n",
       "      <td>nan</td>\n",
       "      <td>NaN</td>\n",
       "    </tr>\n",
       "    <tr>\n",
       "      <th>6427</th>\n",
       "      <td>6427</td>\n",
       "      <td>['1501241756448342024']</td>\n",
       "      <td>1</td>\n",
       "      <td>2022-03-08T17:01:41.000Z</td>\n",
       "      <td>Recebi a visita do amigo e governador @jdoriaj...</td>\n",
       "      <td>68</td>\n",
       "      <td>1651</td>\n",
       "      <td>412</td>\n",
       "      <td>28</td>\n",
       "      <td>4250596815</td>\n",
       "      <td>Sen_Alessandro</td>\n",
       "      <td>Senador Alessandro Vieira</td>\n",
       "      <td>https://pbs.twimg.com/profile_images/111633750...</td>\n",
       "      <td>True</td>\n",
       "      <td>['receber', 'visitar', 'amigar', 'governador',...</td>\n",
       "      <td>['@jdoriajr']</td>\n",
       "      <td>nan</td>\n",
       "      <td>NaN</td>\n",
       "    </tr>\n",
       "    <tr>\n",
       "      <th>6428</th>\n",
       "      <td>6428</td>\n",
       "      <td>['1501294583552126979']</td>\n",
       "      <td>1</td>\n",
       "      <td>2022-03-08T20:31:36.000Z</td>\n",
       "      <td>O governador Belivaldo consolida o seu total d...</td>\n",
       "      <td>18</td>\n",
       "      <td>215</td>\n",
       "      <td>10</td>\n",
       "      <td>3</td>\n",
       "      <td>4250596815</td>\n",
       "      <td>Sen_Alessandro</td>\n",
       "      <td>Senador Alessandro Vieira</td>\n",
       "      <td>https://pbs.twimg.com/profile_images/111633750...</td>\n",
       "      <td>True</td>\n",
       "      <td>['governador', 'belivaldo', 'consolidar', 'tot...</td>\n",
       "      <td>NaN</td>\n",
       "      <td>nan</td>\n",
       "      <td>NaN</td>\n",
       "    </tr>\n",
       "    <tr>\n",
       "      <th>6429</th>\n",
       "      <td>6429</td>\n",
       "      <td>['1501708638121086978']</td>\n",
       "      <td>1</td>\n",
       "      <td>2022-03-09T23:56:54.000Z</td>\n",
       "      <td>Sem educação não existe futuro. A aprovação do...</td>\n",
       "      <td>73</td>\n",
       "      <td>956</td>\n",
       "      <td>84</td>\n",
       "      <td>5</td>\n",
       "      <td>4250596815</td>\n",
       "      <td>Sen_Alessandro</td>\n",
       "      <td>Senador Alessandro Vieira</td>\n",
       "      <td>https://pbs.twimg.com/profile_images/111633750...</td>\n",
       "      <td>True</td>\n",
       "      <td>['educacao', 'existir', 'futurar', 'aprovacao'...</td>\n",
       "      <td>NaN</td>\n",
       "      <td>nan</td>\n",
       "      <td>NaN</td>\n",
       "    </tr>\n",
       "    <tr>\n",
       "      <th>6430</th>\n",
       "      <td>6430</td>\n",
       "      <td>['1502675435779411970']</td>\n",
       "      <td>1</td>\n",
       "      <td>2022-03-12T15:58:36.000Z</td>\n",
       "      <td>O Brasil exige renovação na política e o Cidad...</td>\n",
       "      <td>516</td>\n",
       "      <td>6376</td>\n",
       "      <td>928</td>\n",
       "      <td>203</td>\n",
       "      <td>4250596815</td>\n",
       "      <td>Sen_Alessandro</td>\n",
       "      <td>Senador Alessandro Vieira</td>\n",
       "      <td>https://pbs.twimg.com/profile_images/111633750...</td>\n",
       "      <td>True</td>\n",
       "      <td>['brasil', 'exigir', 'renovacao', 'politicar',...</td>\n",
       "      <td>NaN</td>\n",
       "      <td>nan</td>\n",
       "      <td>NaN</td>\n",
       "    </tr>\n",
       "  </tbody>\n",
       "</table>\n",
       "<p>6431 rows × 18 columns</p>\n",
       "</div>"
      ],
      "text/plain": [
       "      Unnamed: 0                tweets_id  tweets_in_thread  \\\n",
       "0              0  ['1453442766982287361']                 1   \n",
       "1              1  ['1453676921393324036']                 1   \n",
       "2              2  ['1453681221603581952']                 1   \n",
       "3              3  ['1453682338941095940']                 1   \n",
       "4              4  ['1453685308755746818']                 1   \n",
       "...          ...                      ...               ...   \n",
       "6426        6426  ['1501213533261996034']                 1   \n",
       "6427        6427  ['1501241756448342024']                 1   \n",
       "6428        6428  ['1501294583552126979']                 1   \n",
       "6429        6429  ['1501708638121086978']                 1   \n",
       "6430        6430  ['1502675435779411970']                 1   \n",
       "\n",
       "                    created_at  \\\n",
       "0     2021-10-27T19:25:33.000Z   \n",
       "1     2021-10-28T10:56:00.000Z   \n",
       "2     2021-10-28T11:13:05.000Z   \n",
       "3     2021-10-28T11:17:32.000Z   \n",
       "4     2021-10-28T11:29:20.000Z   \n",
       "...                        ...   \n",
       "6426  2022-03-08T15:09:32.000Z   \n",
       "6427  2022-03-08T17:01:41.000Z   \n",
       "6428  2022-03-08T20:31:36.000Z   \n",
       "6429  2022-03-09T23:56:54.000Z   \n",
       "6430  2022-03-12T15:58:36.000Z   \n",
       "\n",
       "                                                   text  retweet_count  \\\n",
       "0     PARABÉNS, PRESIDENTE LULA | 76 anos com energi...           1423   \n",
       "1         Ao vivo em instantes: https://t.co/DC3AqHTIDc            139   \n",
       "2     Entrevista de Lula para a Rádio Jovem Pan de S...            630   \n",
       "3     Fiz 76 anos ontem com muito orgulho. Não sinto...           1702   \n",
       "4     Para que a iniciativa privada se apodere do Es...            734   \n",
       "...                                                 ...            ...   \n",
       "6426  A discussão sobre fertilizantes não exige mine...            140   \n",
       "6427  Recebi a visita do amigo e governador @jdoriaj...             68   \n",
       "6428  O governador Belivaldo consolida o seu total d...             18   \n",
       "6429  Sem educação não existe futuro. A aprovação do...             73   \n",
       "6430  O Brasil exige renovação na política e o Cidad...            516   \n",
       "\n",
       "      like_count  reply_count  quote_count     user_id        username  \\\n",
       "0          16845          939          323  2670726740     LulaOficial   \n",
       "1            607           42           14  2670726740     LulaOficial   \n",
       "2           3013          319           57  2670726740     LulaOficial   \n",
       "3          27763         1853          318  2670726740     LulaOficial   \n",
       "4           4697          302           66  2670726740     LulaOficial   \n",
       "...          ...          ...          ...         ...             ...   \n",
       "6426        1337           58           17  4250596815  Sen_Alessandro   \n",
       "6427        1651          412           28  4250596815  Sen_Alessandro   \n",
       "6428         215           10            3  4250596815  Sen_Alessandro   \n",
       "6429         956           84            5  4250596815  Sen_Alessandro   \n",
       "6430        6376          928          203  4250596815  Sen_Alessandro   \n",
       "\n",
       "                      user_name  \\\n",
       "0                          Lula   \n",
       "1                          Lula   \n",
       "2                          Lula   \n",
       "3                          Lula   \n",
       "4                          Lula   \n",
       "...                         ...   \n",
       "6426  Senador Alessandro Vieira   \n",
       "6427  Senador Alessandro Vieira   \n",
       "6428  Senador Alessandro Vieira   \n",
       "6429  Senador Alessandro Vieira   \n",
       "6430  Senador Alessandro Vieira   \n",
       "\n",
       "                                           user_picture  verified  \\\n",
       "0     https://pbs.twimg.com/profile_images/145778941...      True   \n",
       "1     https://pbs.twimg.com/profile_images/145778941...      True   \n",
       "2     https://pbs.twimg.com/profile_images/145778941...      True   \n",
       "3     https://pbs.twimg.com/profile_images/145778941...      True   \n",
       "4     https://pbs.twimg.com/profile_images/145778941...      True   \n",
       "...                                                 ...       ...   \n",
       "6426  https://pbs.twimg.com/profile_images/111633750...      True   \n",
       "6427  https://pbs.twimg.com/profile_images/111633750...      True   \n",
       "6428  https://pbs.twimg.com/profile_images/111633750...      True   \n",
       "6429  https://pbs.twimg.com/profile_images/111633750...      True   \n",
       "6430  https://pbs.twimg.com/profile_images/111633750...      True   \n",
       "\n",
       "                                             clean_text       mentions  \\\n",
       "0     ['parabens', 'presidente', 'lula', 'ano', 'ene...            NaN   \n",
       "1                                 ['viver', 'instante']            NaN   \n",
       "2     ['entrevisto', 'lula', 'radiar', 'jovem', 'pan...            NaN   \n",
       "3     ['fazer', 'ano', 'ontem', 'orgulhar', 'sentir'...            NaN   \n",
       "4     ['iniciativo', 'privar', 'apoderar', 'estar', ...            NaN   \n",
       "...                                                 ...            ...   \n",
       "6426  ['discussao', 'sobrar', 'fertilizante', 'exigi...            NaN   \n",
       "6427  ['receber', 'visitar', 'amigar', 'governador',...  ['@jdoriajr']   \n",
       "6428  ['governador', 'belivaldo', 'consolidar', 'tot...            NaN   \n",
       "6429  ['educacao', 'existir', 'futurar', 'aprovacao'...            NaN   \n",
       "6430  ['brasil', 'exigir', 'renovacao', 'politicar',...            NaN   \n",
       "\n",
       "         hashtags emojis  \n",
       "0     #equipelula    NaN  \n",
       "1             nan    NaN  \n",
       "2             nan    NaN  \n",
       "3             nan    NaN  \n",
       "4             nan    NaN  \n",
       "...           ...    ...  \n",
       "6426          nan    NaN  \n",
       "6427          nan    NaN  \n",
       "6428          nan    NaN  \n",
       "6429          nan    NaN  \n",
       "6430          nan    NaN  \n",
       "\n",
       "[6431 rows x 18 columns]"
      ]
     },
     "execution_count": 147,
     "metadata": {},
     "output_type": "execute_result"
    }
   ],
   "source": [
    "poli"
   ]
  },
  {
   "cell_type": "code",
   "execution_count": 148,
   "metadata": {},
   "outputs": [
    {
     "data": {
      "image/png": "[encoded data removed]",
      "text/plain": [
       "<Figure size 432x288 with 1 Axes>"
      ]
     },
     "metadata": {
      "needs_background": "light"
     },
     "output_type": "display_data"
    }
   ],
   "source": [
    "df = poli[(poli.hashtags=='#equipelula')][['like_count','created_at']].plot()\n",
    "\n",
    "\n"
   ]
  },
  {
   "cell_type": "code",
   "execution_count": 149,
   "metadata": {},
   "outputs": [
    {
     "name": "stdout",
     "output_type": "stream",
     "text": [
      "Lula: ['#equipelula', '#76fatossobrelula', '#lulaaovivo', '#pt42anos', '#lulanacbnvale']\n",
      "\n",
      "Jair M. Bolsonaro: []\n",
      "\n",
      "André Janones: ['#naojogueopovonarua', '#distritaonao', '#cpidacovid', '#pazuelloday', '#tokyo2020']\n",
      "\n",
      "Simone Tebet: ['#cpidacovid', '#cpidacovid, #covaxin', '#sousimonesim, #frentedemocratica', '#sousimonesim, #frentedemocra, #tebetpresidente, #simonetebetms', '#simonetebet2022, #mdb, #mdbcomsimone2022']\n",
      "\n",
      "Felipe d'Avila: ['#ladod', '#debatelide', '#2022emdebate', '#maisfunda', '#lfdavila, #novo']\n",
      "\n",
      "Ciro Gomes: ['#cirogames', '#reactdocira', '#convenc', '#convenc, #cirorebeldiadaesperanc', '#cironacnn']\n",
      "\n",
      "João Doria: ['#transpare, #governosp', '#spmaisseguro', '#tbt', '#vacinassalvam', '#vacinaja']\n",
      "\n",
      "Sergio Moro: ['#moronoflow', '#moronoceara', '#abreascontasbolsolula', '#vacinasim', '#sqn']\n",
      "\n",
      "Aldo Rebelo: ['#darcyfaz99, #99anosdarcyribeiro']\n",
      "\n",
      "Leo Péricles: ['#forabolsonaro', '#leonardopericles, #leopericles2022, #unidadepopular, #socialismo, #poderpopular, #eleic, #presidenciaveis2022', '#vaidarup', '#unidadepopular, #up80', '#unidadepopular']\n",
      "\n",
      "Senador Alessandro Vieira: ['#alessandronorodaviva', '#cpidacovid', '#alessandronojornaldacnn', '#luto', '#lavajato']\n",
      "\n"
     ]
    }
   ],
   "source": [
    "polititians = poli['user_name'].unique()\n",
    "for polititian in polititians:\n",
    "    hashtags = poli[poli.user_name == polititian].hashtags.value_counts().reset_index()\n",
    "    print(polititian, end = ': ')\n",
    "    print(f'{list(hashtags[\"index\"][1:6])}')\n",
    "    print()\n"
   ]
  },
  {
   "cell_type": "code",
   "execution_count": 150,
   "metadata": {},
   "outputs": [
    {
     "data": {
      "text/plain": [
       "array(['#equipelula', 'nan', '#76fatossobrelula1', '#76fatossobrelula2',\n",
       "       '#76fatossobrelula3', '#76fatossobrelula4', '#76fatossobrelula5',\n",
       "       '#76fatossobrelula6', '#76fatossobrelula7', '#76fatossobrelula8',\n",
       "       '#76fatossobrelula9', '#76fatossobrelula10', '#76fatossobrelula11',\n",
       "       '#76fatossobrelula12', '#76fatossobrelula13',\n",
       "       '#76fatossobrelula14', '#76fatossobrelula15',\n",
       "       '#76fatossobrelula16', '#equipelulavi', '#76fatossobrelula17',\n",
       "       '#76fatossobrelula18', '#76fatossobrelula19',\n",
       "       '#76fatossobrelula20', '#76fatossobrelula21',\n",
       "       '#76fatossobrelula22', '#76fatossobrelula23',\n",
       "       '#76fatossobrelula24', '#76fatossobrelula25',\n",
       "       '#76fatossobrelula26', '#76fatossobrelula27',\n",
       "       '#76fatossobrelula28', '#76fatossobrelula29',\n",
       "       '#76fatossobrelula30', '#76fatossobrelula31',\n",
       "       '#76fatossobrelula32', '#76fatossobrelula33',\n",
       "       '#76fatossobrelula34', '#76fatossobrelula35',\n",
       "       '#76fatossobrelula36', '#76fatossobrelula37',\n",
       "       '#76fatossobrelula38', '#76fatossobrelula39',\n",
       "       '#76fatossobrelula40', '#76fatossobrelula41',\n",
       "       '#76fatossobrelula42', '#76fatossobrelula43',\n",
       "       '#76fatossobrelula44', '#76fatossobrelula45',\n",
       "       '#76fatossobrelula46', '#76fatossobrelula', '#76fatossobrelula53',\n",
       "       '#76fatossobrelula, #sus', '#76fatossobrelula57', '#cop26',\n",
       "       '#diadaconsciencianegra', '#brazilafricaforum',\n",
       "       '#vacinaparatodosja', '#3mi',\n",
       "       '#anonovodosenovaate, #anonovodosenovaao, #anonovodosenovaos',\n",
       "       '#lulaaovivo', '#brizola100anos', '#mst38anos', '#lulanacbnvale',\n",
       "       '#justic, #equipelula', '#justic', '#pt42anos',\n",
       "       '#pt42anosquero, #pt42anos', '#pt42anos, #pt42anos',\n",
       "       '#pt42anos, #equipelula', '#corinthians',\n",
       "       '#vacinac, #vacinaja, #vacinasim, #sus', '#parabensrio',\n",
       "       '#equipelula, #lulalivre, #lulainocente',\n",
       "       '#equipelula, #8demarc, #8m2022',\n",
       "       '#equipelula, #8m, #diainternacionaldamulher, #diadamulher',\n",
       "       '#nempenseemmematar', '#ditaduranuncamais', '#tbt',\n",
       "       '#obrasilvaimudar, #pracimadeles, #tamojunto', '#despejozero',\n",
       "       '#pl3729nao', '#naojogueopovonarua',\n",
       "       '#cpidacovid, #naojogueopovonarua', '#cpidacovid', '#yadinho',\n",
       "       '#profissaoreporter', '#pazuelloday',\n",
       "       '#gosharks, #valorantmasters', '#diadoorgulhonerd, #diadatoalha',\n",
       "       '#govks', '#pracimadeles, #tamojunto', '#emendaantiprivile',\n",
       "       '#12setforabolsonaro',\n",
       "       '#dia1209euvou, #bolsonarocachorromorto, #12setforabolsonaro',\n",
       "       '#orempelopresidente', '#funda', '#fundaode6binao', '#tokyo2020',\n",
       "       '#skateboarding', '#tamojuntoate', '#distrita', '#distritaonao',\n",
       "       '#bra', '#12setpeloimpeachment', '#12seteuvou',\n",
       "       '#dia12peloimpeachment', '#domingoforabolsonaro', '#newprofilepic',\n",
       "       '#dia12vaisermuitomaior', '#pec5na', '#diadefuria',\n",
       "       '#stfsuspendebolsolao', '#f1nogaules', '#govk', '#pl5544nao',\n",
       "       '#tamojunto', '#todospelainovac, #pelofuturodaindu', '#veto52',\n",
       "       '#rezemosjuntos',\n",
       "       '#esperanc, #saude, #vacinacao, #covid, #planonacionalja',\n",
       "       '#sousimonesim, #frentedemocratica',\n",
       "       '#sousimonesim, #frentedemocra',\n",
       "       '#sousimonesim, #simonetebet, #frentedemocratica',\n",
       "       '#sousimonesim, #simonetebet, #frentedemocra', '#sousimonesim',\n",
       "       '#sousimonesim, #frentedemocra, #tebetpresidente, #simonetebetms',\n",
       "       '#sousimonesim, #simonetebet',\n",
       "       '#queroservacinado, #vidasbrasileirasimportam',\n",
       "       '#pl130sancionapresidente, #trabalhoigualsalarioigual, #desigualdadesalarialtemmulta, #bancadafeminina, #senadofederal',\n",
       "       '#cpidacovid, #covaxin', '#vacine',\n",
       "       '#simonetebet2022, #mdb, #mdbcomsimone2022',\n",
       "       '#simonetebet, #simonetebet2022, #mdb, #mdbcomsimone2022, #simonesim',\n",
       "       '#ladod', '#vacinasim, #vacinaparatodos', '#spotify, #deezer',\n",
       "       '#reformaadministrativaja', '#vamosmorrerate', '#2022emdebate',\n",
       "       '#2022emdebate, #prima', '#2022emdebate, #prima, #uniaopelobrasil',\n",
       "       '#afeganista, #taliban', '#taliban', '#taliban, #afeganista',\n",
       "       '#taliban, #afeganistao', '#afeganista, #taleban', '#cuba',\n",
       "       '#covid, #pandemia', '#fome, #desemprego', '#haiti',\n",
       "       '#impeachment', '#greatplacetowork', '#inflacao, #economia',\n",
       "       '#brasil, #politica, #economia, #desemprego',\n",
       "       '#virtutalks, #afeganista', '#terceiravia, #eleic',\n",
       "       '#bancocentral, #economia', '#resposta, #luizfux, #stf, #poli',\n",
       "       '#presidente', '#politica, #brasil', '#eleic', '#terceiravia',\n",
       "       '#eleic, #terceiravia', '#eleicoes2022, #terceiravia', '#calotena',\n",
       "       '#papeldoestado, #cidada, #cidadania', '#privatizac',\n",
       "       '#democracia, #redes', '#lfdavila, #novo',\n",
       "       '#democracia, #lfdavila', '#pecprecato', '#partidonovo', '#brasil',\n",
       "       '#democracia, #brasil, #eleic, #lfdavila',\n",
       "       '#casamento, #unia, #amor, #lfdavila', '#democracia, #brasil',\n",
       "       '#maisfundaona', '#lfdavila', '#debatelide', '#maisfunda',\n",
       "       '#diainternacionaldamulher', '#cironodatena', '#cironaglobonews',\n",
       "       '#cironacnn', '#cironomynews', '#cironouol', '#cironacbn',\n",
       "       '#cirogames', '#opetro', '#ciroemribeira',\n",
       "       '#ciroretrospectiva2021', '#15', '#cirogamese, #cirogames',\n",
       "       '#cirogames, #cirogames', '#cirogames, #cortescirogames',\n",
       "       '#ciromensagemdenatal', '#sosbahiaaproveito, #sosbahia',\n",
       "       '#cironoestada', '#cortescirogames',\n",
       "       '#cirogames, #ciroretrospectiva2021',\n",
       "       '#prefirociro, #ciroretrospectiva2021', '#cironocanallivre',\n",
       "       '#debateciroemoro', '#16', '#debateciroemoroainda', '#convenc',\n",
       "       '#cironoflow', '#forabolsonaro', '#racismoreverso', '#faltam4dias',\n",
       "       '#faltam3dias, #convenc', '#faltam3dias', '#17',\n",
       "       '#cirorebeldiadaesperanc, #convenc, #faltam2dias',\n",
       "       '#cirorebeldiadaesperanca, #faltam2dias, #convenc',\n",
       "       '#convenc, #falta1dia', '#tbtquem',\n",
       "       '#convenc, #cirorebeldiadaesperanc', '#convenc, #convenc', '#cafe',\n",
       "       '#cafe, #brizola100anos', '#cironabandnews',\n",
       "       '#fuirebeldequando, #fuirebeldequando, #fuirebeldequando',\n",
       "       '#cironodatenao, #cironodatena', '#cironodatenamas, #cironodatena',\n",
       "       '#fuirebeldequando', '#cironara', '#sa', '#18', '#reactdocira',\n",
       "       '#alianc', '#cironacnnacompanhe', '#cironanovabrasilfm',\n",
       "       '#cironanovabrasilfmacompanhe', '#minharebeldiavaipara',\n",
       "       '#cirorebeldiadaesperanc', '#osmilho',\n",
       "       '#justic, #justic, #justic, #justic', '#19',\n",
       "       '#reactdocira, #cirogames', '#cirogamesque, #cirogames',\n",
       "       '#cirogames, #reactdocira', '#sitedociro, #cirogames',\n",
       "       '#bbbdocira', '#rebeldequeadmiro', '#forabolsonaro, #bbbdocira',\n",
       "       '#20', '#tbt, #cirogames', '#bbbdocira, #cirogames',\n",
       "       '#ciroemminas', '#impressa', '#semanadeartemoderna',\n",
       "       '#diadegiselle', '#ciroemcuiaba',\n",
       "       '#diadegiselle, #teamo, #valentinesday', '#spciro', '#21',\n",
       "       '#cirocomcaminhoneiros', '#cironaruto', '#22',\n",
       "       '#ceoconference2022', '#fevereirodocira', '#brasilvoodea',\n",
       "       '#aforc', '#rebeldiadaesperanc', '#cirogames, #brasilvoodea',\n",
       "       '#prec', '#ciroplebiscito', '#cironabahia', '#pdtcoragemparamudar',\n",
       "       '#cirocommovimentosnegros', '#ciroemgoia', '#cirogames, #pdtnatv',\n",
       "       '#cironoartedaguerra', '#cironoartedaguerraassista',\n",
       "       '#cirogames, #diainternacionaldamulher, #pdtnatv',\n",
       "       '#diainternacionaldamulher, #aforc', '#24',\n",
       "       '#mulherescomciro, #cirogames', '#cirogames, #mulherescomciro',\n",
       "       '#cirotemraza', '#ta', '#nasruascomciro', '#paixa',\n",
       "       '#cirocontracorrupc, #cirocontracorrupc', '#vacinaja',\n",
       "       '#transpare, #governosp', '#poli, #bandidosnacadeia',\n",
       "       '#vacinapratodos', '#gpspoli', '#gesta', '#retomasp',\n",
       "       '#vacinanobrac', '#spmaisseguro', '#inclusa, #respeito',\n",
       "       '#dignidadei', '#butanvac, #e, #podeconfiar',\n",
       "       '#gesta, #planejamento, #trabalhofonte', '#sp, #ma',\n",
       "       '#menosimpostos, #maisempregos', '#trabalho, #planejamento',\n",
       "       '#vacinassalvam', '#trabalho, #calc', '#pre', '#vacinasalva',\n",
       "       '#vacinasim', '#menosimpostos, #maisdesenvolvimento', '#agrosp',\n",
       "       '#governosp', '#governosp, #missa', '#missa',\n",
       "       '#governosp, #meioambiente, #desenvolvimentosustenta, #energiasrenova',\n",
       "       '#cop26uk, #govermosp, #meioambiente, #reflorestasp',\n",
       "       '#habitac, #moradiapopular, #governosp', '#cufa, #governosp',\n",
       "       '#sppratodos', '#trabalho, #gesta, #planejamento',\n",
       "       '#vacinaja, #vacinapratodos', '#menosestado, #maisprivadoa',\n",
       "       '#vote451', '#trabalho, #planejamento, #gesta',\n",
       "       '#trabalho, #planejamento, #gesta, #governosp', '#juntospelasau',\n",
       "       '#tmj', '#juntospelobrasil', '#educac, #ensinopu, #governosp',\n",
       "       '#menosestado, #maisprivadoaqui',\n",
       "       '#trabalho, #planejamento, #governosp', '#transpare',\n",
       "       '#boravacinar', '#novoriopinheiros', '#boravacinarcrianc',\n",
       "       '#weremember', '#time, #planejamento, #trabalho, #gesta',\n",
       "       '#maisprivado, #menospu', '#timetrabalhador',\n",
       "       '#inacredita, #inadmissi, #impensa', '#transparencia', '#educac',\n",
       "       '#governoreformista', '#spmaishumano', '#diadasmulheres',\n",
       "       '#planejamento, #trabalho, #gesta', '#calc', '#avantelavajato',\n",
       "       '#brasilquercorruptospresos', '#deltannalavajato', '#parabensmoro',\n",
       "       '#cemmiledai', '#manhattanconnection', '#parabensmorodesejo',\n",
       "       '#moronoflow', '#abreascontasbolsolula', '#moronoceara', '#sextou',\n",
       "       '#agro, #moro, #soja', '#sqn', '#fe, #maringa',\n",
       "       '#darcyfaz99, #99anosdarcyribeiro', '#vaidarup',\n",
       "       '#bomdia, #fernandosantacruz, #ditaduranuncamais',\n",
       "       '#trump, #trumpdesbloqueavenezuela, #trumpdesbloqueieavenezuela',\n",
       "       '#vaudarup, #unidadepopular',\n",
       "       '#amazoniaurgente, #calabocabolsonaro, #unidadepopular',\n",
       "       '#trumpdesbloqueavenezuela, #trumpunblockvenezuela',\n",
       "       '#marxismo, #unidadepopular', '#vaidarupcurta',\n",
       "       '#chile, #grevegeral, #unidadepopular',\n",
       "       '#torturanuncamais, #abaixoaditadura, #abaixoogovernobolsonaro',\n",
       "       '#forabolsonaro, #abqixoogovernobolsonaro, #unidadepopular',\n",
       "       '#vaidarup, #socialismo, #marxismo, #luta, #contraoracismo, #novembronegro, #rac, #classe',\n",
       "       '#bolivia', '#up80', '#up80, #unidadepopular, #vaiavancar',\n",
       "       '#ai5nuncamais', '#unidadepopular, #up80',\n",
       "       '#unidadepopular, #fomezero, #natalsemfome, #reformaurbana',\n",
       "       '#up80, #unidadepopular', '#foraeuadoorientemedio, #notwar',\n",
       "       '#marighella', '#itatiaia, #moradia, #favela, #up80',\n",
       "       '#favela, #periferia, #olheparaoalto, #unidadepopular',\n",
       "       '#resistealtodaboavista, #olheparaoalto', '#somostodospetroleiros',\n",
       "       '#impeachmentdebolsonaro', '#mariellepresente, #unidadepopular',\n",
       "       '#up2020, #vaiavanc, #socialismo',\n",
       "       '#forabolsonaro, #forabolsonaros, #unidadepopular',\n",
       "       '#forabolsonaro, #unidadepopular, #18m', '#auditoriadadividaja',\n",
       "       '#forabolsonaro, #unidadepopular',\n",
       "       '#forabol卐onaro, #forabolsonaro, #unidadepopular',\n",
       "       '#periferiacontrabolsonaro, #forabolsonaro, #porumgovernopopular, #ditaduranuncamais, #covid19nasocupac, #covid19nasfavelas',\n",
       "       '#forabolsonaro, #porumgovernopopular, #covid19nasfavelas, #unidadepopular',\n",
       "       '#ditaduranuncamais, #forabolsonaro',\n",
       "       '#forabolsonaro, #porumgovernopopular',\n",
       "       '#imprensapopular, #unidadepopular, #averdade',\n",
       "       '#forabolsonaro, #porumgovernopopular, #unidadepopular',\n",
       "       '#morohipo, #forabolsonaro', '#trumpdesbloquieavenezuela',\n",
       "       '#adiaenem', '#adiaenem, #forabolsonaro, #foraweitraub',\n",
       "       '#federalizac, #justicaparamarielleeanderson',\n",
       "       '#quemmandoumatarmarielle, #justic, #ditaduranuncamais',\n",
       "       '#vidasnegrasimportam, #blacklivesmatter',\n",
       "       '#forabolsonaro, #porumgovernopopular, #impeachmentja',\n",
       "       '#ditaduranuncamais, #forabolsonaro, #vidasnegrasimportam',\n",
       "       '#justicaparamiguel',\n",
       "       '#forabolsonaro, #porumgovernopopular, #vidasnegrasimportamveja',\n",
       "       '#vidasnegrasimportam',\n",
       "       '#forabolsonaro, #unidadepopular, #vidasnegrasimportam',\n",
       "       '#verdadejustic, #forabolsonaro',\n",
       "       '#forabolsonaro, #unidadepopular, #porumgovernopopularsegue',\n",
       "       '#forabolsonaro, #porumgovernopopular, #vidasnegrasimportam',\n",
       "       '#upnasruas, #forabolsonaro, #porumgovernopopular, #vidasnegrasimportam, #antifascista',\n",
       "       '#upnasruas',\n",
       "       '#futebol, #torcidasorganizadas, #vidasnegrasimportam',\n",
       "       '#aularemotapraquem',\n",
       "       '#pride, #stopbolsonaro, #diadoorgulholgbt, #pride2020',\n",
       "       '#brequedosapps, #1diasemapp, #apoiebrequedosapps',\n",
       "       '#brequedosapps', '#reduzaja', '#irisquevergonha, #ocupasaomarcos',\n",
       "       '#unidadepopular, #vaidarup', '#forabolsonaro, #vaidarup',\n",
       "       '#unidadepopular', '#unidadepopular, #unidadepopular',\n",
       "       '#aprovafundeb, #forabolsonaro',\n",
       "       '#entregadoresantifascistas, #entregadores, #grevedosentregadores',\n",
       "       '#justicaporjosue', '#covid19, #despejozero', '#covid19',\n",
       "       '#belohorizonte, #unidadepopular, #fogonosracistas, #poderpopular, #forabolsonarofoto',\n",
       "       '#forainterventor, #forainterventorifrn',\n",
       "       '#zemagenocida, #despejozero',\n",
       "       '#salvequilombo, #despejozero, #zemagenocida',\n",
       "       '#zemacovarde, #salvequilombo, #despejozero',\n",
       "       '#zemacovarde, #despejozero, #salvequilombo', '#zemacovarde',\n",
       "       '#unidadepopular, #despejozero', '#aureacomleo',\n",
       "       '#entrevista, #brasil247, #unidadepopular', '#a',\n",
       "       '#torturanuncamais, #pelodireitoamemoria',\n",
       "       '#aureacomleo, #viravotobh, #unidadepopular, #up80',\n",
       "       '#justicapormariferrer', '#dia15voteup80', '#euvoude80',\n",
       "       '#sosamapa, #amapapedesocorro',\n",
       "       '#justicaporjoaoalberto, #vidasnegrasimportam',\n",
       "       '#unidadepopular, #virasp50, #boulos50', '#forazema, #covid19',\n",
       "       '#forabolsonarogenocida, #oxigenioparamanaus',\n",
       "       '#brumadinho2anos, #valeassassina', '#naoaautonomiadobc',\n",
       "       '#forabolsonarogenocida', '#vacinaja, #forabolsonaro',\n",
       "       '#vazajato, #forabolsonaro',\n",
       "       '#isolamentosocial, #covid19nasfavelas, #covid19, #forabolsonarogenocida',\n",
       "       '#vidasnegrasimportam, #forabolsonaro, #21m',\n",
       "       '#bolsonarogenocida, #bolsonaro300mil', '#forabolsonarogenocidae',\n",
       "       '#forabolsonarogenocida, #chacinadojacarezinho, #justicaporjacarezinho',\n",
       "       '#palestina, #palestinalivre, #freepalaestine, #israelterrorists',\n",
       "       '#forabolsonaro, #educacao', '#vacinaimprensa',\n",
       "       '#29m, #povonarua, #forabolsonaro',\n",
       "       '#forabolsonaro, #povonarua, #29mforabolsonaro',\n",
       "       '#forabolsonaro, #19j', '#forabolsonaro, #19jforabolsonaro',\n",
       "       '#10j, #forabolsonaro', '#elmundodicenoinforme, #elmundodiceno',\n",
       "       '#povonarua, #forabolsonaro', '#13j, #forabolsonaro',\n",
       "       '#cubanoestasola', '#forabolsonaro, #ditaduranuncamais',\n",
       "       '#negociazema, #zemarecebaasocupacoes',\n",
       "       '#zemarecebaasocupacoes, #ocupac',\n",
       "       '#libertemgaloegessica, #liberdadeparapauloegessica',\n",
       "       '#libertemgaloegessica', '#liberdadeparagalo', '#7sforabolsonaro',\n",
       "       '#forabolsonaro, #bolsonarovergonhadobrasil', '#fogonosracistas',\n",
       "       '#punic', '#braskemcriminosa', '#na', '#chiledecide',\n",
       "       '#oproblemadobrasile', '#chuvas',\n",
       "       '#leonardopericles, #leopericles2022, #unidadepopular, #socialismo, #poderpopular, #eleic, #presidenciaveis2022',\n",
       "       '#eleic, #presidenciaveis2022',\n",
       "       '#leonardopericles, #leopericles2022, #unidadepopular, #socialismo, #poderpopular, #eleic',\n",
       "       '#leonardopericles, #leopericles2022', '#leonardopericles',\n",
       "       '#justicaparamoise, #vidasnegrasimportam', '#nazismonao',\n",
       "       '#midiapopular, #jornalaverdade, #lenin', '#gasolina, #petrobras',\n",
       "       '#sus', '#vergonha', '#fa', '#bolsonaroe', '#churrascodamorte',\n",
       "       '#presidentefake', '#divulgatudocelsodemello', '#covidー19',\n",
       "       '#felipenetonorodaviva', '#liberaovideocelsodemello',\n",
       "       '#adiaenem2020', '#democracia',\n",
       "       '#chegadefakenews, #gabinetedoodionacadeia', '#queirozpreso',\n",
       "       '#lavajato', '#frentedarendaba, #rendaba', '#frentedarendaba',\n",
       "       '#fundebpermanente', '#frentedarendabasica',\n",
       "       '#fimdoforoprivilegiado', '#fundeb', '#luto', '#rendaba',\n",
       "       '#butanta, #vacinaja', '#auxilioemergencialja', '#assessoria',\n",
       "       '#daassessoria', '#assessoria, #senadoralessandrovieira, #covid19',\n",
       "       '#derrubavetoconectividadee, #derrubavetoconectividade, #derrubavetoconectividade',\n",
       "       '#cpi',\n",
       "       '#derrubavetopl3477os, #derrubavetopl3477garantir, #derrubavetopl3477',\n",
       "       '#stfvergonhanacional', '#cpidapandemia', '#eletrobras',\n",
       "       '#500milmortos', '#500milmortos, #cpidacovid', '#cpidarachadinha',\n",
       "       '#naovaitergolpe', '#arasnuncamais',\n",
       "       '#euacreditonademocracia, #umso', '#1000diasdementiras',\n",
       "       '#alessandronorodaviva', '#unidoscontraacorrupcao',\n",
       "       '#bolsola, #orc', '#bolsolao', '#pec23na', '#cpidobolsolao',\n",
       "       '#alessandronojornaldacnn', '#apagaonasaude'], dtype=object)"
      ]
     },
     "execution_count": 150,
     "metadata": {},
     "output_type": "execute_result"
    }
   ],
   "source": [
    "poli.hashtags.unique()"
   ]
  },
  {
   "cell_type": "markdown",
   "metadata": {},
   "source": [
    "## Contagem de hashtags ao longo do tempo"
   ]
  },
  {
   "cell_type": "code",
   "execution_count": 151,
   "metadata": {},
   "outputs": [],
   "source": [
    "def hashtag_pattern(df: pd.DataFrame, hashtag: List[str], granularidade: str = \"m\") -> np.nan:\n",
    "    \"\"\"Generates count of hashtags appearence over time\n",
    "\n",
    "    Args:\n",
    "        df (pd.DataFrame): polititians dataframe\n",
    "        hashtag (List[str]): hashtag list to visualize\n",
    "        granularidade (str, optional): visualization scope Defaults to \"m\".\n",
    "        combine (bool, optional): combining hashtags\n",
    "\n",
    "    Returns:\n",
    "        np.nan: Doesn't return anything\n",
    "    \"\"\"\n",
    "\n",
    "    formats = {'d': '%d/%m/%Y',\n",
    "                'm': '%Y/%m',\n",
    "                'y': '%Y'}\n",
    "\n",
    "\n",
    "    timeline_df = df[['created_at', 'hashtags']].copy()\n",
    "\n",
    "    pal = list(sns.color_palette(palette='viridis', n_colors=len(hashtag)).as_hex())\n",
    "\n",
    "    fig = go.Figure()\n",
    "    for d,p in zip(hashtag, pal):\n",
    "\n",
    "        searcher = re.compile(d)\n",
    "\n",
    "        hash_df = timeline_df.copy()\n",
    "\n",
    "        filter = hash_df.hashtags.apply(lambda x: True if searcher.search(x) else False)\n",
    "\n",
    "        hash_df.created_at = hash_df.created_at.apply(lambda x: parser.parse(x).strftime(formats[granularidade]))\n",
    "\n",
    "        hashtag_df = hash_df[filter].groupby(\"created_at\").count().reset_index()\n",
    "\n",
    "        hashtag_df.created_at = pd.to_datetime(hashtag_df.created_at, format=formats[granularidade])\n",
    "\n",
    "        hashtag_df.sort_values('created_at', inplace=True)\n",
    "\n",
    "        print(hashtag_df)\n",
    "\n",
    "\n",
    "        fig.add_trace(go.Scatter(x = hashtag_df.created_at,\n",
    "                                y = hashtag_df.hashtags,\n",
    "                                name = d,\n",
    "                                line_color = p, \n",
    "                                fill=None))   #tozeroy \n",
    "                            \n",
    "    \n",
    "    fig.show()\n",
    "\n",
    "    \n",
    "    \n",
    "    "
   ]
  },
  {
   "cell_type": "code",
   "execution_count": 152,
   "metadata": {},
   "outputs": [
    {
     "name": "stdout",
     "output_type": "stream",
     "text": [
      "  created_at  hashtags\n",
      "4 2021-10-31        29\n",
      "0 2021-11-01        14\n",
      "1 2021-11-02        14\n",
      "2 2021-11-03         9\n",
      "3 2021-11-04         9\n",
      "   created_at  hashtags\n",
      "47 2021-10-27         1\n",
      "53 2021-10-31         1\n",
      "14 2021-11-09         1\n",
      "18 2021-11-10         1\n",
      "27 2021-11-15         3\n",
      "29 2021-11-16         1\n",
      "31 2021-11-17         1\n",
      "35 2021-11-18         1\n",
      "36 2021-11-19         1\n",
      "37 2021-11-20         2\n",
      "40 2021-11-21         1\n",
      "50 2021-11-29         1\n",
      "51 2021-11-30         1\n",
      "0  2021-12-01         1\n",
      "4  2021-12-03         2\n",
      "5  2021-12-04         2\n",
      "7  2021-12-06         1\n",
      "10 2021-12-07         1\n",
      "15 2021-12-09         2\n",
      "19 2021-12-10         1\n",
      "23 2021-12-12         1\n",
      "32 2021-12-17         1\n",
      "49 2021-12-28         2\n",
      "20 2022-01-11         1\n",
      "22 2022-01-12         1\n",
      "24 2022-01-14         1\n",
      "30 2022-01-17         2\n",
      "33 2022-01-18         1\n",
      "38 2022-01-21         1\n",
      "42 2022-01-23         1\n",
      "44 2022-01-24         2\n",
      "46 2022-01-27         2\n",
      "48 2022-01-28         1\n",
      "52 2022-01-31         2\n",
      "1  2022-02-02         1\n",
      "3  2022-02-03         1\n",
      "8  2022-02-07         1\n",
      "11 2022-02-08         1\n",
      "16 2022-02-10         1\n",
      "25 2022-02-14         1\n",
      "26 2022-02-15         1\n",
      "28 2022-02-16         1\n",
      "34 2022-02-18         1\n",
      "39 2022-02-21         1\n",
      "41 2022-02-22         1\n",
      "43 2022-02-23         2\n",
      "45 2022-02-24         1\n",
      "2  2022-03-02         1\n",
      "6  2022-03-05         2\n",
      "9  2022-03-07         2\n",
      "12 2022-03-08         3\n",
      "13 2022-03-09         1\n",
      "17 2022-03-10         1\n",
      "21 2022-03-11         1\n"
     ]
    },
    {
     "data": {
      "application/vnd.plotly.v1+json": {
       "config": {
        "plotlyServerURL": "https://plot.ly"
       },
       "data": [
        {
         "line": {
          "color": "#31688e"
         },
         "name": "fatossobrelula",
         "type": "scatter",
         "x": [
          "2021-10-31T00:00:00",
          "2021-11-01T00:00:00",
          "2021-11-02T00:00:00",
          "2021-11-03T00:00:00",
          "2021-11-04T00:00:00"
         ],
         "y": [
          29,
          14,
          14,
          9,
          9
         ]
        },
        {
         "line": {
          "color": "#35b779"
         },
         "name": "equipelula",
         "type": "scatter",
         "x": [
          "2021-10-27T00:00:00",
          "2021-10-31T00:00:00",
          "2021-11-09T00:00:00",
          "2021-11-10T00:00:00",
          "2021-11-15T00:00:00",
          "2021-11-16T00:00:00",
          "2021-11-17T00:00:00",
          "2021-11-18T00:00:00",
          "2021-11-19T00:00:00",
          "2021-11-20T00:00:00",
          "2021-11-21T00:00:00",
          "2021-11-29T00:00:00",
          "2021-11-30T00:00:00",
          "2021-12-01T00:00:00",
          "2021-12-03T00:00:00",
          "2021-12-04T00:00:00",
          "2021-12-06T00:00:00",
          "2021-12-07T00:00:00",
          "2021-12-09T00:00:00",
          "2021-12-10T00:00:00",
          "2021-12-12T00:00:00",
          "2021-12-17T00:00:00",
          "2021-12-28T00:00:00",
          "2022-01-11T00:00:00",
          "2022-01-12T00:00:00",
          "2022-01-14T00:00:00",
          "2022-01-17T00:00:00",
          "2022-01-18T00:00:00",
          "2022-01-21T00:00:00",
          "2022-01-23T00:00:00",
          "2022-01-24T00:00:00",
          "2022-01-27T00:00:00",
          "2022-01-28T00:00:00",
          "2022-01-31T00:00:00",
          "2022-02-02T00:00:00",
          "2022-02-03T00:00:00",
          "2022-02-07T00:00:00",
          "2022-02-08T00:00:00",
          "2022-02-10T00:00:00",
          "2022-02-14T00:00:00",
          "2022-02-15T00:00:00",
          "2022-02-16T00:00:00",
          "2022-02-18T00:00:00",
          "2022-02-21T00:00:00",
          "2022-02-22T00:00:00",
          "2022-02-23T00:00:00",
          "2022-02-24T00:00:00",
          "2022-03-02T00:00:00",
          "2022-03-05T00:00:00",
          "2022-03-07T00:00:00",
          "2022-03-08T00:00:00",
          "2022-03-09T00:00:00",
          "2022-03-10T00:00:00",
          "2022-03-11T00:00:00"
         ],
         "y": [
          1,
          1,
          1,
          1,
          3,
          1,
          1,
          1,
          1,
          2,
          1,
          1,
          1,
          1,
          2,
          2,
          1,
          1,
          2,
          1,
          1,
          1,
          2,
          1,
          1,
          1,
          2,
          1,
          1,
          1,
          2,
          2,
          1,
          2,
          1,
          1,
          1,
          1,
          1,
          1,
          1,
          1,
          1,
          1,
          1,
          2,
          1,
          1,
          2,
          2,
          3,
          1,
          1,
          1
         ]
        }
       ],
       "layout": {
        "template": {
         "data": {
          "bar": [
           {
            "error_x": {
             "color": "#2a3f5f"
            },
            "error_y": {
             "color": "#2a3f5f"
            },
            "marker": {
             "line": {
              "color": "#E5ECF6",
              "width": 0.5
             },
             "pattern": {
              "fillmode": "overlay",
              "size": 10,
              "solidity": 0.2
             }
            },
            "type": "bar"
           }
          ],
          "barpolar": [
           {
            "marker": {
             "line": {
              "color": "#E5ECF6",
              "width": 0.5
             },
             "pattern": {
              "fillmode": "overlay",
              "size": 10,
              "solidity": 0.2
             }
            },
            "type": "barpolar"
           }
          ],
          "carpet": [
           {
            "aaxis": {
             "endlinecolor": "#2a3f5f",
             "gridcolor": "white",
             "linecolor": "white",
             "minorgridcolor": "white",
             "startlinecolor": "#2a3f5f"
            },
            "baxis": {
             "endlinecolor": "#2a3f5f",
             "gridcolor": "white",
             "linecolor": "white",
             "minorgridcolor": "white",
             "startlinecolor": "#2a3f5f"
            },
            "type": "carpet"
           }
          ],
          "choropleth": [
           {
            "colorbar": {
             "outlinewidth": 0,
             "ticks": ""
            },
            "type": "choropleth"
           }
          ],
          "contour": [
           {
            "colorbar": {
             "outlinewidth": 0,
             "ticks": ""
            },
            "colorscale": [
             [
              0,
              "#0d0887"
             ],
             [
              0.1111111111111111,
              "#46039f"
             ],
             [
              0.2222222222222222,
              "#7201a8"
             ],
             [
              0.3333333333333333,
              "#9c179e"
             ],
             [
              0.4444444444444444,
              "#bd3786"
             ],
             [
              0.5555555555555556,
              "#d8576b"
             ],
             [
              0.6666666666666666,
              "#ed7953"
             ],
             [
              0.7777777777777778,
              "#fb9f3a"
             ],
             [
              0.8888888888888888,
              "#fdca26"
             ],
             [
              1,
              "#f0f921"
             ]
            ],
            "type": "contour"
           }
          ],
          "contourcarpet": [
           {
            "colorbar": {
             "outlinewidth": 0,
             "ticks": ""
            },
            "type": "contourcarpet"
           }
          ],
          "heatmap": [
           {
            "colorbar": {
             "outlinewidth": 0,
             "ticks": ""
            },
            "colorscale": [
             [
              0,
              "#0d0887"
             ],
             [
              0.1111111111111111,
              "#46039f"
             ],
             [
              0.2222222222222222,
              "#7201a8"
             ],
             [
              0.3333333333333333,
              "#9c179e"
             ],
             [
              0.4444444444444444,
              "#bd3786"
             ],
             [
              0.5555555555555556,
              "#d8576b"
             ],
             [
              0.6666666666666666,
              "#ed7953"
             ],
             [
              0.7777777777777778,
              "#fb9f3a"
             ],
             [
              0.8888888888888888,
              "#fdca26"
             ],
             [
              1,
              "#f0f921"
             ]
            ],
            "type": "heatmap"
           }
          ],
          "heatmapgl": [
           {
            "colorbar": {
             "outlinewidth": 0,
             "ticks": ""
            },
            "colorscale": [
             [
              0,
              "#0d0887"
             ],
             [
              0.1111111111111111,
              "#46039f"
             ],
             [
              0.2222222222222222,
              "#7201a8"
             ],
             [
              0.3333333333333333,
              "#9c179e"
             ],
             [
              0.4444444444444444,
              "#bd3786"
             ],
             [
              0.5555555555555556,
              "#d8576b"
             ],
             [
              0.6666666666666666,
              "#ed7953"
             ],
             [
              0.7777777777777778,
              "#fb9f3a"
             ],
             [
              0.8888888888888888,
              "#fdca26"
             ],
             [
              1,
              "#f0f921"
             ]
            ],
            "type": "heatmapgl"
           }
          ],
          "histogram": [
           {
            "marker": {
             "pattern": {
              "fillmode": "overlay",
              "size": 10,
              "solidity": 0.2
             }
            },
            "type": "histogram"
           }
          ],
          "histogram2d": [
           {
            "colorbar": {
             "outlinewidth": 0,
             "ticks": ""
            },
            "colorscale": [
             [
              0,
              "#0d0887"
             ],
             [
              0.1111111111111111,
              "#46039f"
             ],
             [
              0.2222222222222222,
              "#7201a8"
             ],
             [
              0.3333333333333333,
              "#9c179e"
             ],
             [
              0.4444444444444444,
              "#bd3786"
             ],
             [
              0.5555555555555556,
              "#d8576b"
             ],
             [
              0.6666666666666666,
              "#ed7953"
             ],
             [
              0.7777777777777778,
              "#fb9f3a"
             ],
             [
              0.8888888888888888,
              "#fdca26"
             ],
             [
              1,
              "#f0f921"
             ]
            ],
            "type": "histogram2d"
           }
          ],
          "histogram2dcontour": [
           {
            "colorbar": {
             "outlinewidth": 0,
             "ticks": ""
            },
            "colorscale": [
             [
              0,
              "#0d0887"
             ],
             [
              0.1111111111111111,
              "#46039f"
             ],
             [
              0.2222222222222222,
              "#7201a8"
             ],
             [
              0.3333333333333333,
              "#9c179e"
             ],
             [
              0.4444444444444444,
              "#bd3786"
             ],
             [
              0.5555555555555556,
              "#d8576b"
             ],
             [
              0.6666666666666666,
              "#ed7953"
             ],
             [
              0.7777777777777778,
              "#fb9f3a"
             ],
             [
              0.8888888888888888,
              "#fdca26"
             ],
             [
              1,
              "#f0f921"
             ]
            ],
            "type": "histogram2dcontour"
           }
          ],
          "mesh3d": [
           {
            "colorbar": {
             "outlinewidth": 0,
             "ticks": ""
            },
            "type": "mesh3d"
           }
          ],
          "parcoords": [
           {
            "line": {
             "colorbar": {
              "outlinewidth": 0,
              "ticks": ""
             }
            },
            "type": "parcoords"
           }
          ],
          "pie": [
           {
            "automargin": true,
            "type": "pie"
           }
          ],
          "scatter": [
           {
            "fillpattern": {
             "fillmode": "overlay",
             "size": 10,
             "solidity": 0.2
            },
            "type": "scatter"
           }
          ],
          "scatter3d": [
           {
            "line": {
             "colorbar": {
              "outlinewidth": 0,
              "ticks": ""
             }
            },
            "marker": {
             "colorbar": {
              "outlinewidth": 0,
              "ticks": ""
             }
            },
            "type": "scatter3d"
           }
          ],
          "scattercarpet": [
           {
            "marker": {
             "colorbar": {
              "outlinewidth": 0,
              "ticks": ""
             }
            },
            "type": "scattercarpet"
           }
          ],
          "scattergeo": [
           {
            "marker": {
             "colorbar": {
              "outlinewidth": 0,
              "ticks": ""
             }
            },
            "type": "scattergeo"
           }
          ],
          "scattergl": [
           {
            "marker": {
             "colorbar": {
              "outlinewidth": 0,
              "ticks": ""
             }
            },
            "type": "scattergl"
           }
          ],
          "scattermapbox": [
           {
            "marker": {
             "colorbar": {
              "outlinewidth": 0,
              "ticks": ""
             }
            },
            "type": "scattermapbox"
           }
          ],
          "scatterpolar": [
           {
            "marker": {
             "colorbar": {
              "outlinewidth": 0,
              "ticks": ""
             }
            },
            "type": "scatterpolar"
           }
          ],
          "scatterpolargl": [
           {
            "marker": {
             "colorbar": {
              "outlinewidth": 0,
              "ticks": ""
             }
            },
            "type": "scatterpolargl"
           }
          ],
          "scatterternary": [
           {
            "marker": {
             "colorbar": {
              "outlinewidth": 0,
              "ticks": ""
             }
            },
            "type": "scatterternary"
           }
          ],
          "surface": [
           {
            "colorbar": {
             "outlinewidth": 0,
             "ticks": ""
            },
            "colorscale": [
             [
              0,
              "#0d0887"
             ],
             [
              0.1111111111111111,
              "#46039f"
             ],
             [
              0.2222222222222222,
              "#7201a8"
             ],
             [
              0.3333333333333333,
              "#9c179e"
             ],
             [
              0.4444444444444444,
              "#bd3786"
             ],
             [
              0.5555555555555556,
              "#d8576b"
             ],
             [
              0.6666666666666666,
              "#ed7953"
             ],
             [
              0.7777777777777778,
              "#fb9f3a"
             ],
             [
              0.8888888888888888,
              "#fdca26"
             ],
             [
              1,
              "#f0f921"
             ]
            ],
            "type": "surface"
           }
          ],
          "table": [
           {
            "cells": {
             "fill": {
              "color": "#EBF0F8"
             },
             "line": {
              "color": "white"
             }
            },
            "header": {
             "fill": {
              "color": "#C8D4E3"
             },
             "line": {
              "color": "white"
             }
            },
            "type": "table"
           }
          ]
         },
         "layout": {
          "annotationdefaults": {
           "arrowcolor": "#2a3f5f",
           "arrowhead": 0,
           "arrowwidth": 1
          },
          "autotypenumbers": "strict",
          "coloraxis": {
           "colorbar": {
            "outlinewidth": 0,
            "ticks": ""
           }
          },
          "colorscale": {
           "diverging": [
            [
             0,
             "#8e0152"
            ],
            [
             0.1,
             "#c51b7d"
            ],
            [
             0.2,
             "#de77ae"
            ],
            [
             0.3,
             "#f1b6da"
            ],
            [
             0.4,
             "#fde0ef"
            ],
            [
             0.5,
             "#f7f7f7"
            ],
            [
             0.6,
             "#e6f5d0"
            ],
            [
             0.7,
             "#b8e186"
            ],
            [
             0.8,
             "#7fbc41"
            ],
            [
             0.9,
             "#4d9221"
            ],
            [
             1,
             "#276419"
            ]
           ],
           "sequential": [
            [
             0,
             "#0d0887"
            ],
            [
             0.1111111111111111,
             "#46039f"
            ],
            [
             0.2222222222222222,
             "#7201a8"
            ],
            [
             0.3333333333333333,
             "#9c179e"
            ],
            [
             0.4444444444444444,
             "#bd3786"
            ],
            [
             0.5555555555555556,
             "#d8576b"
            ],
            [
             0.6666666666666666,
             "#ed7953"
            ],
            [
             0.7777777777777778,
             "#fb9f3a"
            ],
            [
             0.8888888888888888,
             "#fdca26"
            ],
            [
             1,
             "#f0f921"
            ]
           ],
           "sequentialminus": [
            [
             0,
             "#0d0887"
            ],
            [
             0.1111111111111111,
             "#46039f"
            ],
            [
             0.2222222222222222,
             "#7201a8"
            ],
            [
             0.3333333333333333,
             "#9c179e"
            ],
            [
             0.4444444444444444,
             "#bd3786"
            ],
            [
             0.5555555555555556,
             "#d8576b"
            ],
            [
             0.6666666666666666,
             "#ed7953"
            ],
            [
             0.7777777777777778,
             "#fb9f3a"
            ],
            [
             0.8888888888888888,
             "#fdca26"
            ],
            [
             1,
             "#f0f921"
            ]
           ]
          },
          "colorway": [
           "#636efa",
           "#EF553B",
           "#00cc96",
           "#ab63fa",
           "#FFA15A",
           "#19d3f3",
           "#FF6692",
           "#B6E880",
           "#FF97FF",
           "#FECB52"
          ],
          "font": {
           "color": "#2a3f5f"
          },
          "geo": {
           "bgcolor": "white",
           "lakecolor": "white",
           "landcolor": "#E5ECF6",
           "showlakes": true,
           "showland": true,
           "subunitcolor": "white"
          },
          "hoverlabel": {
           "align": "left"
          },
          "hovermode": "closest",
          "mapbox": {
           "style": "light"
          },
          "paper_bgcolor": "white",
          "plot_bgcolor": "#E5ECF6",
          "polar": {
           "angularaxis": {
            "gridcolor": "white",
            "linecolor": "white",
            "ticks": ""
           },
           "bgcolor": "#E5ECF6",
           "radialaxis": {
            "gridcolor": "white",
            "linecolor": "white",
            "ticks": ""
           }
          },
          "scene": {
           "xaxis": {
            "backgroundcolor": "#E5ECF6",
            "gridcolor": "white",
            "gridwidth": 2,
            "linecolor": "white",
            "showbackground": true,
            "ticks": "",
            "zerolinecolor": "white"
           },
           "yaxis": {
            "backgroundcolor": "#E5ECF6",
            "gridcolor": "white",
            "gridwidth": 2,
            "linecolor": "white",
            "showbackground": true,
            "ticks": "",
            "zerolinecolor": "white"
           },
           "zaxis": {
            "backgroundcolor": "#E5ECF6",
            "gridcolor": "white",
            "gridwidth": 2,
            "linecolor": "white",
            "showbackground": true,
            "ticks": "",
            "zerolinecolor": "white"
           }
          },
          "shapedefaults": {
           "line": {
            "color": "#2a3f5f"
           }
          },
          "ternary": {
           "aaxis": {
            "gridcolor": "white",
            "linecolor": "white",
            "ticks": ""
           },
           "baxis": {
            "gridcolor": "white",
            "linecolor": "white",
            "ticks": ""
           },
           "bgcolor": "#E5ECF6",
           "caxis": {
            "gridcolor": "white",
            "linecolor": "white",
            "ticks": ""
           }
          },
          "title": {
           "x": 0.05
          },
          "xaxis": {
           "automargin": true,
           "gridcolor": "white",
           "linecolor": "white",
           "ticks": "",
           "title": {
            "standoff": 15
           },
           "zerolinecolor": "white",
           "zerolinewidth": 2
          },
          "yaxis": {
           "automargin": true,
           "gridcolor": "white",
           "linecolor": "white",
           "ticks": "",
           "title": {
            "standoff": 15
           },
           "zerolinecolor": "white",
           "zerolinewidth": 2
          }
         }
        }
       }
      }
     },
     "metadata": {},
     "output_type": "display_data"
    }
   ],
   "source": [
    "hashtag_pattern(poli, ['fatossobrelula', 'equipelula'], granularidade='d')"
   ]
  },
  {
   "cell_type": "markdown",
   "metadata": {},
   "source": [
    "## Número de likes por hashtag"
   ]
  },
  {
   "cell_type": "code",
   "execution_count": 153,
   "metadata": {},
   "outputs": [
    {
     "data": {
      "text/plain": [
       "Index(['Unnamed: 0', 'tweets_id', 'tweets_in_thread', 'created_at', 'text',\n",
       "       'retweet_count', 'like_count', 'reply_count', 'quote_count', 'user_id',\n",
       "       'username', 'user_name', 'user_picture', 'verified', 'clean_text',\n",
       "       'mentions', 'hashtags', 'emojis'],\n",
       "      dtype='object')"
      ]
     },
     "execution_count": 153,
     "metadata": {},
     "output_type": "execute_result"
    }
   ],
   "source": [
    "poli.columns"
   ]
  },
  {
   "cell_type": "code",
   "execution_count": 154,
   "metadata": {},
   "outputs": [],
   "source": [
    "# box plot com média de likes\n",
    "\n",
    "def box_hash(df: pd.DataFrame, hashtag: List[str], metric: str, log: bool = True) -> np.nan:\n",
    "    \"\"\"_summary_\n",
    "\n",
    "    Args:\n",
    "        df (pd.DataFrame): polititians dataframe\n",
    "        hashtag (List[str]): list of hashtags to visualize\n",
    "        metric (str): metric to visualize\n",
    "        log (bool, optional): use log scale or not Defaults to True.\n",
    "\n",
    "    Returns:\n",
    "        np.nan: Doesn't return anything\n",
    "    \"\"\"\n",
    "\n",
    "\n",
    "\n",
    "\n",
    "    like_df = df[[metric, 'hashtags']].copy()\n",
    "\n",
    "    fig = go.Figure()\n",
    "    \n",
    "    \n",
    "\n",
    "    for hash in hashtag:\n",
    "\n",
    "        searcher = re.compile(hash)\n",
    "\n",
    "        hash_df = like_df.copy()\n",
    "\n",
    "        filter = hash_df.hashtags.apply(lambda x: True if searcher.search(x) else False)\n",
    "\n",
    "        fig.add_trace(go.Box(y=hash_df[filter][metric], name=hash))\n",
    "\n",
    "    if log:\n",
    "        fig.update_layout(yaxis_type=\"log\")          \n",
    "\n",
    "    fig.show()\n",
    "\n",
    "\n",
    "    "
   ]
  },
  {
   "cell_type": "code",
   "execution_count": 155,
   "metadata": {},
   "outputs": [
    {
     "data": {
      "application/vnd.plotly.v1+json": {
       "config": {
        "plotlyServerURL": "https://plot.ly"
       },
       "data": [
        {
         "name": "equipelula",
         "type": "box",
         "y": [
          939,
          237,
          1106,
          947,
          212,
          164,
          1314,
          2760,
          2496,
          409,
          672,
          237,
          194,
          1412,
          248,
          359,
          418,
          176,
          877,
          508,
          1178,
          484,
          916,
          201,
          880,
          140,
          916,
          436,
          571,
          467,
          467,
          1186,
          1360,
          7835,
          589,
          796,
          2382,
          783,
          664,
          919,
          1375,
          275,
          928,
          572,
          595,
          430,
          455,
          690,
          321,
          494,
          1844,
          950,
          767,
          3344,
          1125,
          629,
          736,
          791,
          2317,
          1288,
          1079,
          1024,
          520,
          612,
          437,
          451,
          913,
          522,
          734,
          958
         ]
        },
        {
         "name": "sus",
         "type": "box",
         "y": [
          72,
          1100,
          19,
          4,
          104,
          634
         ]
        }
       ],
       "layout": {
        "template": {
         "data": {
          "bar": [
           {
            "error_x": {
             "color": "#2a3f5f"
            },
            "error_y": {
             "color": "#2a3f5f"
            },
            "marker": {
             "line": {
              "color": "#E5ECF6",
              "width": 0.5
             },
             "pattern": {
              "fillmode": "overlay",
              "size": 10,
              "solidity": 0.2
             }
            },
            "type": "bar"
           }
          ],
          "barpolar": [
           {
            "marker": {
             "line": {
              "color": "#E5ECF6",
              "width": 0.5
             },
             "pattern": {
              "fillmode": "overlay",
              "size": 10,
              "solidity": 0.2
             }
            },
            "type": "barpolar"
           }
          ],
          "carpet": [
           {
            "aaxis": {
             "endlinecolor": "#2a3f5f",
             "gridcolor": "white",
             "linecolor": "white",
             "minorgridcolor": "white",
             "startlinecolor": "#2a3f5f"
            },
            "baxis": {
             "endlinecolor": "#2a3f5f",
             "gridcolor": "white",
             "linecolor": "white",
             "minorgridcolor": "white",
             "startlinecolor": "#2a3f5f"
            },
            "type": "carpet"
           }
          ],
          "choropleth": [
           {
            "colorbar": {
             "outlinewidth": 0,
             "ticks": ""
            },
            "type": "choropleth"
           }
          ],
          "contour": [
           {
            "colorbar": {
             "outlinewidth": 0,
             "ticks": ""
            },
            "colorscale": [
             [
              0,
              "#0d0887"
             ],
             [
              0.1111111111111111,
              "#46039f"
             ],
             [
              0.2222222222222222,
              "#7201a8"
             ],
             [
              0.3333333333333333,
              "#9c179e"
             ],
             [
              0.4444444444444444,
              "#bd3786"
             ],
             [
              0.5555555555555556,
              "#d8576b"
             ],
             [
              0.6666666666666666,
              "#ed7953"
             ],
             [
              0.7777777777777778,
              "#fb9f3a"
             ],
             [
              0.8888888888888888,
              "#fdca26"
             ],
             [
              1,
              "#f0f921"
             ]
            ],
            "type": "contour"
           }
          ],
          "contourcarpet": [
           {
            "colorbar": {
             "outlinewidth": 0,
             "ticks": ""
            },
            "type": "contourcarpet"
           }
          ],
          "heatmap": [
           {
            "colorbar": {
             "outlinewidth": 0,
             "ticks": ""
            },
            "colorscale": [
             [
              0,
              "#0d0887"
             ],
             [
              0.1111111111111111,
              "#46039f"
             ],
             [
              0.2222222222222222,
              "#7201a8"
             ],
             [
              0.3333333333333333,
              "#9c179e"
             ],
             [
              0.4444444444444444,
              "#bd3786"
             ],
             [
              0.5555555555555556,
              "#d8576b"
             ],
             [
              0.6666666666666666,
              "#ed7953"
             ],
             [
              0.7777777777777778,
              "#fb9f3a"
             ],
             [
              0.8888888888888888,
              "#fdca26"
             ],
             [
              1,
              "#f0f921"
             ]
            ],
            "type": "heatmap"
           }
          ],
          "heatmapgl": [
           {
            "colorbar": {
             "outlinewidth": 0,
             "ticks": ""
            },
            "colorscale": [
             [
              0,
              "#0d0887"
             ],
             [
              0.1111111111111111,
              "#46039f"
             ],
             [
              0.2222222222222222,
              "#7201a8"
             ],
             [
              0.3333333333333333,
              "#9c179e"
             ],
             [
              0.4444444444444444,
              "#bd3786"
             ],
             [
              0.5555555555555556,
              "#d8576b"
             ],
             [
              0.6666666666666666,
              "#ed7953"
             ],
             [
              0.7777777777777778,
              "#fb9f3a"
             ],
             [
              0.8888888888888888,
              "#fdca26"
             ],
             [
              1,
              "#f0f921"
             ]
            ],
            "type": "heatmapgl"
           }
          ],
          "histogram": [
           {
            "marker": {
             "pattern": {
              "fillmode": "overlay",
              "size": 10,
              "solidity": 0.2
             }
            },
            "type": "histogram"
           }
          ],
          "histogram2d": [
           {
            "colorbar": {
             "outlinewidth": 0,
             "ticks": ""
            },
            "colorscale": [
             [
              0,
              "#0d0887"
             ],
             [
              0.1111111111111111,
              "#46039f"
             ],
             [
              0.2222222222222222,
              "#7201a8"
             ],
             [
              0.3333333333333333,
              "#9c179e"
             ],
             [
              0.4444444444444444,
              "#bd3786"
             ],
             [
              0.5555555555555556,
              "#d8576b"
             ],
             [
              0.6666666666666666,
              "#ed7953"
             ],
             [
              0.7777777777777778,
              "#fb9f3a"
             ],
             [
              0.8888888888888888,
              "#fdca26"
             ],
             [
              1,
              "#f0f921"
             ]
            ],
            "type": "histogram2d"
           }
          ],
          "histogram2dcontour": [
           {
            "colorbar": {
             "outlinewidth": 0,
             "ticks": ""
            },
            "colorscale": [
             [
              0,
              "#0d0887"
             ],
             [
              0.1111111111111111,
              "#46039f"
             ],
             [
              0.2222222222222222,
              "#7201a8"
             ],
             [
              0.3333333333333333,
              "#9c179e"
             ],
             [
              0.4444444444444444,
              "#bd3786"
             ],
             [
              0.5555555555555556,
              "#d8576b"
             ],
             [
              0.6666666666666666,
              "#ed7953"
             ],
             [
              0.7777777777777778,
              "#fb9f3a"
             ],
             [
              0.8888888888888888,
              "#fdca26"
             ],
             [
              1,
              "#f0f921"
             ]
            ],
            "type": "histogram2dcontour"
           }
          ],
          "mesh3d": [
           {
            "colorbar": {
             "outlinewidth": 0,
             "ticks": ""
            },
            "type": "mesh3d"
           }
          ],
          "parcoords": [
           {
            "line": {
             "colorbar": {
              "outlinewidth": 0,
              "ticks": ""
             }
            },
            "type": "parcoords"
           }
          ],
          "pie": [
           {
            "automargin": true,
            "type": "pie"
           }
          ],
          "scatter": [
           {
            "fillpattern": {
             "fillmode": "overlay",
             "size": 10,
             "solidity": 0.2
            },
            "type": "scatter"
           }
          ],
          "scatter3d": [
           {
            "line": {
             "colorbar": {
              "outlinewidth": 0,
              "ticks": ""
             }
            },
            "marker": {
             "colorbar": {
              "outlinewidth": 0,
              "ticks": ""
             }
            },
            "type": "scatter3d"
           }
          ],
          "scattercarpet": [
           {
            "marker": {
             "colorbar": {
              "outlinewidth": 0,
              "ticks": ""
             }
            },
            "type": "scattercarpet"
           }
          ],
          "scattergeo": [
           {
            "marker": {
             "colorbar": {
              "outlinewidth": 0,
              "ticks": ""
             }
            },
            "type": "scattergeo"
           }
          ],
          "scattergl": [
           {
            "marker": {
             "colorbar": {
              "outlinewidth": 0,
              "ticks": ""
             }
            },
            "type": "scattergl"
           }
          ],
          "scattermapbox": [
           {
            "marker": {
             "colorbar": {
              "outlinewidth": 0,
              "ticks": ""
             }
            },
            "type": "scattermapbox"
           }
          ],
          "scatterpolar": [
           {
            "marker": {
             "colorbar": {
              "outlinewidth": 0,
              "ticks": ""
             }
            },
            "type": "scatterpolar"
           }
          ],
          "scatterpolargl": [
           {
            "marker": {
             "colorbar": {
              "outlinewidth": 0,
              "ticks": ""
             }
            },
            "type": "scatterpolargl"
           }
          ],
          "scatterternary": [
           {
            "marker": {
             "colorbar": {
              "outlinewidth": 0,
              "ticks": ""
             }
            },
            "type": "scatterternary"
           }
          ],
          "surface": [
           {
            "colorbar": {
             "outlinewidth": 0,
             "ticks": ""
            },
            "colorscale": [
             [
              0,
              "#0d0887"
             ],
             [
              0.1111111111111111,
              "#46039f"
             ],
             [
              0.2222222222222222,
              "#7201a8"
             ],
             [
              0.3333333333333333,
              "#9c179e"
             ],
             [
              0.4444444444444444,
              "#bd3786"
             ],
             [
              0.5555555555555556,
              "#d8576b"
             ],
             [
              0.6666666666666666,
              "#ed7953"
             ],
             [
              0.7777777777777778,
              "#fb9f3a"
             ],
             [
              0.8888888888888888,
              "#fdca26"
             ],
             [
              1,
              "#f0f921"
             ]
            ],
            "type": "surface"
           }
          ],
          "table": [
           {
            "cells": {
             "fill": {
              "color": "#EBF0F8"
             },
             "line": {
              "color": "white"
             }
            },
            "header": {
             "fill": {
              "color": "#C8D4E3"
             },
             "line": {
              "color": "white"
             }
            },
            "type": "table"
           }
          ]
         },
         "layout": {
          "annotationdefaults": {
           "arrowcolor": "#2a3f5f",
           "arrowhead": 0,
           "arrowwidth": 1
          },
          "autotypenumbers": "strict",
          "coloraxis": {
           "colorbar": {
            "outlinewidth": 0,
            "ticks": ""
           }
          },
          "colorscale": {
           "diverging": [
            [
             0,
             "#8e0152"
            ],
            [
             0.1,
             "#c51b7d"
            ],
            [
             0.2,
             "#de77ae"
            ],
            [
             0.3,
             "#f1b6da"
            ],
            [
             0.4,
             "#fde0ef"
            ],
            [
             0.5,
             "#f7f7f7"
            ],
            [
             0.6,
             "#e6f5d0"
            ],
            [
             0.7,
             "#b8e186"
            ],
            [
             0.8,
             "#7fbc41"
            ],
            [
             0.9,
             "#4d9221"
            ],
            [
             1,
             "#276419"
            ]
           ],
           "sequential": [
            [
             0,
             "#0d0887"
            ],
            [
             0.1111111111111111,
             "#46039f"
            ],
            [
             0.2222222222222222,
             "#7201a8"
            ],
            [
             0.3333333333333333,
             "#9c179e"
            ],
            [
             0.4444444444444444,
             "#bd3786"
            ],
            [
             0.5555555555555556,
             "#d8576b"
            ],
            [
             0.6666666666666666,
             "#ed7953"
            ],
            [
             0.7777777777777778,
             "#fb9f3a"
            ],
            [
             0.8888888888888888,
             "#fdca26"
            ],
            [
             1,
             "#f0f921"
            ]
           ],
           "sequentialminus": [
            [
             0,
             "#0d0887"
            ],
            [
             0.1111111111111111,
             "#46039f"
            ],
            [
             0.2222222222222222,
             "#7201a8"
            ],
            [
             0.3333333333333333,
             "#9c179e"
            ],
            [
             0.4444444444444444,
             "#bd3786"
            ],
            [
             0.5555555555555556,
             "#d8576b"
            ],
            [
             0.6666666666666666,
             "#ed7953"
            ],
            [
             0.7777777777777778,
             "#fb9f3a"
            ],
            [
             0.8888888888888888,
             "#fdca26"
            ],
            [
             1,
             "#f0f921"
            ]
           ]
          },
          "colorway": [
           "#636efa",
           "#EF553B",
           "#00cc96",
           "#ab63fa",
           "#FFA15A",
           "#19d3f3",
           "#FF6692",
           "#B6E880",
           "#FF97FF",
           "#FECB52"
          ],
          "font": {
           "color": "#2a3f5f"
          },
          "geo": {
           "bgcolor": "white",
           "lakecolor": "white",
           "landcolor": "#E5ECF6",
           "showlakes": true,
           "showland": true,
           "subunitcolor": "white"
          },
          "hoverlabel": {
           "align": "left"
          },
          "hovermode": "closest",
          "mapbox": {
           "style": "light"
          },
          "paper_bgcolor": "white",
          "plot_bgcolor": "#E5ECF6",
          "polar": {
           "angularaxis": {
            "gridcolor": "white",
            "linecolor": "white",
            "ticks": ""
           },
           "bgcolor": "#E5ECF6",
           "radialaxis": {
            "gridcolor": "white",
            "linecolor": "white",
            "ticks": ""
           }
          },
          "scene": {
           "xaxis": {
            "backgroundcolor": "#E5ECF6",
            "gridcolor": "white",
            "gridwidth": 2,
            "linecolor": "white",
            "showbackground": true,
            "ticks": "",
            "zerolinecolor": "white"
           },
           "yaxis": {
            "backgroundcolor": "#E5ECF6",
            "gridcolor": "white",
            "gridwidth": 2,
            "linecolor": "white",
            "showbackground": true,
            "ticks": "",
            "zerolinecolor": "white"
           },
           "zaxis": {
            "backgroundcolor": "#E5ECF6",
            "gridcolor": "white",
            "gridwidth": 2,
            "linecolor": "white",
            "showbackground": true,
            "ticks": "",
            "zerolinecolor": "white"
           }
          },
          "shapedefaults": {
           "line": {
            "color": "#2a3f5f"
           }
          },
          "ternary": {
           "aaxis": {
            "gridcolor": "white",
            "linecolor": "white",
            "ticks": ""
           },
           "baxis": {
            "gridcolor": "white",
            "linecolor": "white",
            "ticks": ""
           },
           "bgcolor": "#E5ECF6",
           "caxis": {
            "gridcolor": "white",
            "linecolor": "white",
            "ticks": ""
           }
          },
          "title": {
           "x": 0.05
          },
          "xaxis": {
           "automargin": true,
           "gridcolor": "white",
           "linecolor": "white",
           "ticks": "",
           "title": {
            "standoff": 15
           },
           "zerolinecolor": "white",
           "zerolinewidth": 2
          },
          "yaxis": {
           "automargin": true,
           "gridcolor": "white",
           "linecolor": "white",
           "ticks": "",
           "title": {
            "standoff": 15
           },
           "zerolinecolor": "white",
           "zerolinewidth": 2
          }
         }
        },
        "yaxis": {
         "type": "log"
        }
       }
      }
     },
     "metadata": {},
     "output_type": "display_data"
    }
   ],
   "source": [
    "box_hash(poli, ['equipelula','sus'], 'reply_count')"
   ]
  },
  {
   "cell_type": "markdown",
   "metadata": {},
   "source": [
    "#### Wordclouds"
   ]
  },
  {
   "cell_type": "code",
   "execution_count": 156,
   "metadata": {},
   "outputs": [
    {
     "data": {
      "text/plain": [
       "[]"
      ]
     },
     "execution_count": 156,
     "metadata": {},
     "output_type": "execute_result"
    }
   ],
   "source": [
    "def extract_words(palavras: str):\n",
    "    pat = re.compile(\"(?<=\\')(.*?)(?=\\')\")\n",
    "    words = pat.findall(palavras)[::2]\n",
    "    return words\n",
    "\n",
    "extract_words(\"teste\")"
   ]
  },
  {
   "cell_type": "code",
   "execution_count": 157,
   "metadata": {},
   "outputs": [
    {
     "data": {
      "text/plain": [
       "['parabens',\n",
       " 'presidente',\n",
       " 'lula',\n",
       " 'ano',\n",
       " 'energia',\n",
       " 'esperanca',\n",
       " 'foto',\n",
       " 'ricardo',\n",
       " 'stuckert']"
      ]
     },
     "execution_count": 157,
     "metadata": {},
     "output_type": "execute_result"
    }
   ],
   "source": [
    "extract_words(poli.clean_text.iloc[0])"
   ]
  },
  {
   "cell_type": "code",
   "execution_count": 158,
   "metadata": {},
   "outputs": [
    {
     "data": {
      "text/plain": [
       "(61, 61)"
      ]
     },
     "execution_count": 158,
     "metadata": {},
     "output_type": "execute_result"
    }
   ],
   "source": [
    "texts = list(poli[(poli.hashtags=='#equipelula') & (poli.user_name == 'Lula')].clean_text.apply(extract_words).apply(lambda x: ' '.join(x)))\n",
    "vectorizer = CountVectorizer().fit_transform(texts)\n",
    "vectors = vectorizer.toarray()\n",
    "csim = cosine_similarity(vectors)\n",
    "csim.shape"
   ]
  },
  {
   "cell_type": "code",
   "execution_count": 159,
   "metadata": {},
   "outputs": [],
   "source": [
    "def words_candidate(candidate_name: str):\n",
    "    candidate = ' '.join(list(poli[poli.user_name == candidate_name].clean_text.apply(lambda x: ' '.join(extract_words(x)))))\n",
    "    wordcloud = WordCloud(width=480, height=480, margin=0).generate(candidate)\n",
    "    plt.imshow(wordcloud, interpolation='bilinear')\n",
    "    plt.axis(\"off\")\n",
    "    plt.margins(x=0,y=0)\n",
    "    plt.show()\n",
    "    return candidate"
   ]
  },
  {
   "cell_type": "code",
   "execution_count": 160,
   "metadata": {},
   "outputs": [
    {
     "name": "stderr",
     "output_type": "stream",
     "text": [
      "[nltk_data] Downloading package punkt to\n",
      "[nltk_data]     C:\\Users\\mrggi\\AppData\\Roaming\\nltk_data...\n",
      "[nltk_data]   Package punkt is already up-to-date!\n"
     ]
    },
    {
     "data": {
      "text/plain": [
       "True"
      ]
     },
     "execution_count": 160,
     "metadata": {},
     "output_type": "execute_result"
    }
   ],
   "source": [
    "nltk.download('punkt')"
   ]
  },
  {
   "cell_type": "code",
   "execution_count": 161,
   "metadata": {},
   "outputs": [
    {
     "data": {
      "image/png": "[encoded data removed]",
      "text/plain": [
       "<Figure size 432x288 with 1 Axes>"
      ]
     },
     "metadata": {
      "needs_background": "light"
     },
     "output_type": "display_data"
    },
    {
     "data": {
      "text/plain": [
       "'ciro estara viver datena dentro minuto ver ir dizer sobrar absurdo perseguicao policiar federal tempo canalha bolsonaro policiar federal vir casar nunca ano ninguem levantar suspeito achar cidadao acima lei achar todo mundo poder dever ser investigar qualquer tipo denunciar acusacaotrocaram delegar superintendente daqui fato delacao acontecer sobrar fato acontecer envolver porque proprio delator dizer nunca falar comigo envolver nisso explicacao todo homem publicar obrigacao defender ter ser acusar injustamente ser preocupar capaz demonstrar violencia sofrer dispositivo bolsonarista tomar contar partir instituicoes obrigar presidente estar policial bolsonaro ameaca democracia todo democrata considerar obrigacao dar todo esclarecimento necessarios respeitar povo brasileiro fazer logo horar estar entrevisto talar fazer josias sousa fabiola cidral assim fazer programar datena ir explicar detalhe policiar federal bolsonaro fazer armacao prejudicar obrigar presidente seguir firmar lutar brasil contra arbitrariedade daqui pouco cecilia flesch miriam leitao marcelo lins valdo cruz ana flor ir estar estudio ir pra falar sobrar absurdo envolver acao policiar federal bolsonaro desta manha obrigar irmaos camilo randolfe glenn orlar silvar lutar favor estar direito unir todo democrata obrigar flavio dino guilherme boulos rodrigar maio gleisi hoffmann paulo pimenta brasil submeter jamais tirania menor duvidar ser vitimar grande arbitrariedade intencao constranger calar bocar abater disposicao oferecer brasil proposto comeca dizer brasil poder contemporizar corrupcao logo estar daniela limar renata agostini iuri pitta leandro resende kenzo machida acompanhar ouca pra falar sobrar arbitrariedade cometido policiar federal bolsonaro obrigar heloisa silvio kennedy alencar duda sarto perpetuar almeida juliano medeiro reconstruir democracia tarefar todo obrigar todo companheiro companheiro partir liderar amigar irmao violencia contra projeto absurdo seguir firme lutar brasil daqui pouco estar viver myriam clark pra falar sobrar arbitrariedade inominavel policiar bolsonarista contra mim ficar ligar absurdo operacao policiar federal bolsonaro provar partir instituicoes ser criminosamente manipular ofender homem publicar honrar falar contra ameaca democracia estar direito entrevisto dar uol noticiar sobrar bastidor policiar federal apo operacao feito contra mim deixar duvidar pf render interesse bolsonaro constrangido absurdo cometer obrigar palavra querido ir seguir junto garantir democracia superfaturamento obrar castelao acusar delator exercer nenhum cargo publicar epoca existir buscar apreensao apurar denunciar ano atro cnn expor todo elemento compoem farsa armar contra mim obrigar ir seguir denunciar todo arbitrariedade mundo ir proteger democracia brasileiro querer agradecer tico aldo rebelar jandira barbar gancia luciana santo frota manifestacoes solidariedade ir seguir lutar defeso brasil obrigar fabiano contarato kajuru alessandro molon reinaldo azevedo bruno brelaz mensagem seguir lutar brasileiro reconstruir democracia dever todo dia muito labutar poder deixar agradecer turma bom todo apoiar manifestar hoje sempre combustivel diario continuar lutar democracia justica verdade entrevisto cbn descrever absurdo operacao buscar apreensao casar contar receber ligacoes gente policiar admitir constrangimento farsa acaso policiar federal cancelar coletiva tentar justificar circo agradeco apoiar todo bancada pdt camara deputar historiar trabalhismo sempre lutar favor povo brasileiro contra interesse poderoso obrigar cabo daciolo palavra carinhoso abraco fraterno ontem deus iluminar passo atencao turma estar hoje ribeirao preto ir encontrar fazer festa bonito democracia defeso brasil educacao filiacao exreitora usp suely vilela lincoln fernandes presidente partir nenhum golpe estar ultimos ano brasil contra corrupcao sim contra inclusao morar instrumentar dessar estruturar valer peno conferir pontar visto escritor professor jesse souza convidar ultimar terca cada momento surgir provar desmando cercar medir abusivo tomar contra mim senador renomada jornalista revelar nesta reportagem ministerio publicar dar parecer contra invasao casar ler concluir amigar eduardo moreira exibir provar neste video crime monstruoso ver video fim ficar tao chocar quantum olhar bom nervo bom estomagar conheco bem tipo chacinar terca professor escritor jesse souza contundente escravidao nunca deixar brasil continuar ai refeito mesmo condenar sempre modelar opressao preciso ser debater orgulhar ser bacharel direito advogar ativo oab cear professor universitario honrar ter ser monitor grande professor paulo bonavides aprender importancia dessar vocacao sociedade obrigar wilson gomar senador jean henrique fontano isa penna mensagem ontem ir firme lutar brasil obrigar querido marcio franco daniel munduruku senador weverton mauro filhar apoiar lutar contra arbitrariedade desmando policiar federal bolsonarista vivo papar francisco nunca mundo preciso conhecer praticar ensinamento jesus cristo lutar contra desigualdade contra miseria espalhar amor santidade aniversariar hoje ser incansavel levar palavra todo canto planetadeixo aqui mensagem marcante mim acreditar futurar farar maos coracao amor paixoes sonho outro eleito primeiro dia convocar conselho administracao petrobras pecar mudanca politicar precos combustiveis ir deixar empresar refem acionistas viciar lucro exorbitante nesse penultimo episodiar explicar tudo leoenosso obrigar dr damiao ligia feliciano glauber braga axel grael solidariedade contra acao abusivo contra mim obrigar leandro demori isabella roldao benicio goura mensagem solidariedade ultimar quartafeira seguir lutar democracia justica verdade papar super bacana professor escritor jesse souza falar acao hackers ministerio saude pedir likes desafiar lula bolsonaro morar pra debater assim conferir melhorar momento deixar joinha dia dessar dancando estrar vidar hino milionario jose rico dono nadir ribeirao preto honrar ai aprovar pe valsar opreto concordar ignorancia ganhar novo status brasil algum tempo ser bruto iletrado sinal identificacao povo manifestar indignacao discursar fazer ribeirao preto durante filiacao exreitora usp suely vilela pdt nunca vir tanto fome miseria brasil doi ver criancas passar indignidade pai assunto entrevisto jornalista roberto davila globonews the economist dizer sobral dever ser exemplo mundo importante publicacoes mundo fazer artigo elogioso sobrar modelar educacao publicar sobral ano melhor brasil hoje aniversariar homem coragem fe determinacao parabens querer amigar deus abencoe hoje sempre junto sempre lucidar ministrar gilmar mendes fazer importante alertar sobrar usar politicar espetacularizacao justica abusar poder acao abusivo manipulador contra mim mostrar pai ainda livrar dar mal batizado lavajatismo apenas sulamericanos todo democrata mundo festejar vitoriar gabriel boric chile afugentar perigar manchar extremadireita mapa democracia mundial novo petrobras possivel petrobras ligar interesse povo brasileiro lider processar transicao energetica cursar mundo temer abordar nesse ultimar episodiar seriar energia futurar leoenosso ultimar ano prometer ir receber tres grande nome advogar criminalista antonio carlos almeida kakay jurista luiz moreira economista garantir debater alto nivel nesta terca ultimar ano prometer ir receber tres grande nome advogar criminalista antonio carlos almeida kakay jurista luiz moreira economista garantir debater alto nivel hoje obrigar reconhecer manchete vir dizer ano dizer enfasar dar nesta precampanha brasil pai menos crescer mundo comeco mostrar hoje retrospectivo ano maior crise economica politicar social historiar recente reagir tudo forcar verdade conferir aqui esqueca deixar like ir comecar ultimar ano curto video o youtube deixar comentario compartilhar turma ciro gamar antonio carlos kakay luiz moreira eduardo moreira advogar criminalista antonio carlos almeida kakay jurista luiz moreira on achar gente viver pai democratico democracia muito defeito defeito gravissimos hoje duvidar bolsonaro transformar brasil estar policial oculto sob falso capar legalidade querer arrastar valar comum bandidagem apodrecer corrupcao generalizar vidar publicar brasileiro limpar honrar nunca praticar qualquer tipo atar ilicito nunca receber propinar pedir vantagem indevido ninguem intencao calar prejudicar politicamente deus maior povo brasileiro ir ver razao poder existir motivar acao dessar chegar proximo eleicao advogar nesse processar lavar latir metodo necessario coragem fazer enfrentamento antonio carlos kakay claro sergio morar ganhar porque conseguir eleger presidente poder esquecer ser ministrar separar sair governar brigar quadrilha questao intelectual antonio carlos kakay sergio morar ir debater ciro porque acostumar agir proteger cargo juiz rei literalmente nu estar nu poder dizer juiz federal nenhum instituicao protegelo luiz moreira on ultimar ano saber quantum economia brasil encolher ano passar dois outro economia cairam maior mundo india italia cairam primeiro mentir paulo guedes sofrer economia cair cair porque moeda desvalorizar mundo mentir enorme horar questionar logica sistema medo existir superioridade intelectual querer passar poder segurar marrar sistema escravizar oprimir saquear realmente capaz produzir pequeno medios empresarios poder aceitar ano passar ano mal momento economia brasileiro decadas causar pandemia banco ter semestre bilhoes lucrar pago contar hoje pago contar pessoa pobre rico perder inflacao porque taxar juro vir perto pobre destrocar perda poder comprar causar inflacao obrigar caro apoiar todo todo dao forcar seguir lutar projeto nacional desenvolvimento forte abraco querido estar voltar brasil andar tao apatico fato autoridade monetarias guardar dinheiro paraisos fiscal encarar algo banal ninguem levantar ninguem insurgir ir acordar brasil opreto kakay maior advogar criminalista pai duvidar morar corrupto aceitar corromper sistema justica trocar cargo governar bolsonaro ver grande trecho ultimar ano enquanto brasileiro morrer falto vacinar oxigenio bolsonaro morrer rir reacao video bolsonaro traidor logo alcancou milhao visualizacoes nesse episodiar mostrar outro momento marcante ano ultimar emocao indignacao contra violencia cometer contra mim familia convidar muito lucidos afiar advogar kakay jurista luiz moreira economista menino jesus fazer sentir acaso nascer brasil hoje mensagem dar dia trazer reflexao mostrar poder perder esperanca esperanca cheio amor coragem energia lutar feliz natal brasil giuliano eriston brilhar temporada the voice brasil vir belo cruz interior cear conquistar pai talento sensibilidade parabens conquistar baguncinha bom bom dia bom domingo todo todo morte arcebispo tutu deixar mundo triste desamparar imagem guerreiro contra apartheid favor direito comunidade pobre negro jamais extinguir fim ano triste dificil bahia chuva intenso vir castigar estar desde iniciar mes querer deixar aqui todo solidariedade apoiar muito familias sofrer tragediar climatica forcar baiano deixar aqui algum movimento campanha doacao poder ajudar importante intelectual artista politicos renome internacional divulgar cartaalerta mundo sobrar abuso estar policial bolsonarista contra mim advertir risco democracia brasileiro brasileiro pobre massacrar guerra canudo brasileiro pobre ser massacrar dia hoje afinal precisar fazer pra mudar historiar proposto reflexoes nesse terceirar episodiar retrospectivo recentemente projeto pirililili onde responder perguntar sobrar educacao saude publicar economia mear ambientar geracao empregar video contar cristiely carvalho qual proposto expansao ensinar superior brasil situacao continuar tragica triste sul bahia corrente solidariedade ampliar precisar fortalecela ainda ir todo juntar coletivo entidade negro ajudar quilombolas indigenas voz amor pobre ecoar bem forte homenagem grande padrar julio lancellotti neste aniversariar parabens querer brasileiro morar conseguir querer eleger bolsonaro trocar ministerio acontecer brigar quadrilha opiniao advogar kakay tudo considerar exjuiz propria fake news ver ultimar ano giselle querido companheiro todo horar obrigar tudo foto pouco noite tercafeira ir ficar saudade dia janeiro voltar bater recarregar video gravar pirililili contar beatriz pretender gerar novo emprego aqui brasil acreditar maior emergencias hoje logo caro propor comentariossera apenas comeco paulo guedes dizer pai crescer economista desmontar mentir sob bolsonaro brasil crescer antar crescer agora ir crescer ver aqui cortar ultimar ano jornalismo independente brasileiro trabalhismo lamentar morte companheiro jose maria rabelo combater bom combater criar dirigir jornal ajudar lider brizola fundar pdt sentimento familia amigo capitular triste historiar descredito afastamento sociedade bolsonaro escrever forcar armar populacao baiano sofrer maior catastrofe historiar mobilizacao militar escasso quase nenhum ainda projeto pirililili gabriel perguntar sobrar pensar reformar agraria probabilidade disso acontecer gestao respostar simples direta agendar merecer prioridade maxima saber ministrar fazenda itamar franco oportunidade criar lei garantir trabalhador participacao lucro resultar empresar achandose acima bem mal dono destinar brasil brasileiro presidente criminoso acabar recusar ajudar humanitaria argentino flagelar baiano assim fazer venezuela apice falto oxigenio manaus daciolo sentimento unir temalem afeto sincero irmaos bastante amor deus querer brasil durante ano encontrar dar voz sofrer injusticas brasil movimento negro visitar casar pessoa oprimir crise economica ver nesse quartar episodiar retrospectivo conhecer historiar canal trabalhador governador cear comandar projeto livrar fortalezar regiao metropolitano ameaca ficar aguar km construidos dia orgulhar fazer partir dessar historiar perguntar projeto pirililili maria eduarda pedir pra falar sobrar auxiliar brasil impactar cofre publicos continuidade programar longo prazo duvidar valer peno assistir video compartilhar turma mudanca palavra sentimento sentimento certeza certeza brasil querer ir mudar melhor ir junto mudar brasil feliz ano novo feliz brasil novo acreditar assunto educacao nado resolver curtir prazo cear outro governador ultimar decadas seguir mesmo agendar prioridade total educacao resultar ai cear melhor educacao publicar brasil ir o turma bom tornar realidade profecia simbolica dar numeros ir ir quantum leitor qualidade ganhar alegrar todo mundo preparar primeiro segundafeira grande colaborador nelson marconi fazer sintese proposto area economica artigo hoje titulo trazer essencia precisar coragem mudar modelar economico fracassar pai manha setembro bolsonaro ameacava democracia noite estrear tornar maior democratica live politicar pai live cirao temer quintar episodiar retrospectivo assim sofia santino entender tecnologia ferramenta fundamental vidar todo mundo o pirililili perguntar gestao poder viabilizar ensinar tecnologico todo jovem brasileiro tal deixar falar obviedades ver debater economia viver comigo papagaiar tweet facil explicar porque ir debater falto conteudo coragem dois coisa junto governador cear procurar cercar pessoa entender assunto tomar decisoes ouvir melhorar especialista sabedoria povo acreditar caminhar parabens luca saber idade empunhar bandeiro favor brasil achar demais brasil cobrar centavo cada real brasileiro rico ganhar pois bem achar saber porque brasil virar paraiso fiscal super rico opreto feliz aniversariar amigar paulo rabello castrar ano muito luzir paz debater construcao brasil menos desigual semana vir primeiro ano o bora matar saudade contar melhor episodiar pra poder faltar aqui gente sintese pensamento economico lulismo pobre cinicamente produzir guido mantega hoje folhar peco hipocritas ambiguas visto misturar cartar brasileiro envergonhar nacional desenvolvimentismo araquese brasil depender dar senhor sair atoleiro ir afundar vez questao central mudanca modelar economico virar perguntar minuscula covardeou fugir culpar imenso lulismo reeditar famoso alibi heranca maldizer agora sinal inverter duplicar temer proposto economica petismo ficar ainda frustrar menos mesmoesconde vergonhosamente dilma manipular numeros transferir todo culpar execravel igualmente culpar bolsonaro economista mostrar dar chocante ultimar brasil oito vezar pobre haiti chocante ainda classe medir pagar contar descalabro financeiro governar bolsonaro caro marcio franco viver tempo estranho neste pai jogar interesse politicos atropelar norma codigos contar solidariedade sentimento valoroso amigar colaborador vicente gioielli morte mae escritor magui pompear mulher imenso forcar espiritual criativanos ultimos tempo conseguir driblar heroicamente doenca degenerativo escrever comovente biografia publicar infantojuvenil grande luiz gamo tragediar causar descasar governar bolsonaro gestao pandemia saude publicar tornar maior preocupacoes povo luca aproveitar espaco perguntar qual plano querer sus hoje aniversariar instigante inteligencias qual conviver joao santana privilegiar contar inigualavel talento lutar desigual mudar brasil privilegiar ter amizade caro aliviar ler artigo pastorar escrever morar folhar saber brasileiro sofrer agrura postar ipiranga bolsonaro vao colocar velho postar texaco atlantic lugaro brasil aprender pai funcionar presidente entender nado economia comer mao professorar submetido interesse velho escola banqueiro sanguessugasnao adiantar fazer pastorar ver panela cheio bom intencoes oferecer mesmo receitar outro temperar diferente modelar falir brasil tomar sentimento indignacao querer deixar aqui apelar ir tomar vacinar gente gracas grande maioria infeccoes evoluir representar risco maior saudee chocante tanto gente vestir testar positivar pra covid ultimos dia valer lembrar mear tsunami novo caso seguir informacoes testagem massa qualquer direcionamento governar federal beirar inacreditavel jingle bombando rede projecoes predios adesivacos movimentar preferir ciro agitar variar capitar outubro chegar lideranca mundial trending topics ir ver nesse ultimar episodiar retrospectivo lembrancas governador cear receber nome povo premio mundial combater mortalidade infantil unicef vir povo profundo identidade povo pai passar fome juventude criar sertao cear estudar escola publicar contar tudo atar filiacao exreitora usp suely vilela pdt opreto pai desigual brasil distribuicao render preciso ser guiar tres pilar politicar acelerar salariar minimo reestruturacao base produtivo revolucao educacional porque existir riqueza nacao escolarizacao qualificar achar gifs ver aqui pra frase hoje pra meme concordar brasileiro brasileiro comum lutar tanto pra receber tao pouco voltar cidadao preciso ser vestir governar pessoa ser fortalecido oportunidade aprender trabalhar empreenderso diminuir desigualdade estimular grande movimentar superar injustica mediocridade onda qualificacao profissional aparato produtivo ter mentir transformacao necessaria ocorrer passar passar longe fantasiar revolucionar chuva causar tanto tragediar bahia agora gerar inumeras perda minar gerar seguir oracao vitimar cobrar autoridade principalmente criminoso bolsonaro ajudar urgente bom dia todo mundo preparar voltar nesta tercafeira derrotar bolsonaro objetivo todo democrata prezar ir ter clareza neste derrotar modelar gerar aberracao assim brasil mudo verdade opreto filosofar professor roberto mangabeira unger super convidar primeiro ano perder nado ir conhecer mentir brilhante brasil mundo nesta terca brasil pai unico mundo cabimento cincar pessoa acumular fortuna equivalente milhoes pobre povo preciso entender aumentar impor sobrar rico ir mandar investidor embora porque mundo inteirar fazer filosofar professor roberto mangabeira unger super convidar primeiro ano perder nado ir conhecer mentir brilhante brasil mundo hoje pecar minimo consciencia liderar progressista dar pai brasil exigir lutar contra despolitizacao ir fazer amplo generoso debater sobrar problema solucoes brasila tarefar maior derrotar bolsonaro porque resultar velho problema colapso pai projeto nacional recentemente responder internauta sobrar proposto reerguer industriar nacional ver compartilhar aproveitar pra mandar perguntar live ir selecionar algum responder viver participar hoje caro mario kertesz oportunidade morar mostrar corajoso bem preparar organizar debater programar qualquer dia preferencia ainda semana otimo morar debater bom momento mostrar porque planar real lavar jato fracassar topar favor tentar falar sobrar saber economia sobrar fracassar corrupcao aumentar preco combustiveis assaltar bolsar povo querer saber ocorrer ver seriar sobrar desmontar petrobras morar agora desculpar mario kertesz prontificar realizar debater dois dia horar querer agora ir ficar feio fugir garantir aceito debater qualquer gente querido instante ir comecar primeiro ano deixar like inscrever canal ater sino notificacoes ciro gamar roberto mangabeira unger ano ir ser grande virar superacao todo tragediar vivenciando mundo especialmente brasileiro precisar gente faca grande esclarecedor debater todo todo brasil reconciliar sentimento muito revolto demonstracao completar falto responsabilidade falto empatia bolsonaro povo brasileiro mundo cair bahia minar passear jet ski dar cavalar pau parque diversoes professor mangabeira unger on acompanhar ciro unico candidatar verdadeiramente antissistema brasil frente falsar antissistema bolsonaro praticar mantar politicar dominante elemento venenoso ciro verdadeiro antissistema mangabeira unger fazer dia fracao bolsonarista policiar federal fazer operacao espetaculosa casar o pra ca saber acontecer nado apresentar nenhum provar chamar esclarecer nado alar pf bolsonaro vao chamar resolver dois sombra precarizacao informalidade lado endividamento outro brasil poder aflorar poder dedicar tarefar capacitacao brasileiro qualificacao aparato produtivo mangabeira unger ciro gamar roberto mangabeira unger conhecer verdadeiramente brasil acreditar nacao poder ser tratar formar centralizar mesmo institucionalidade mesmo ferramentaria juridica instrumental economico caber apesar coracao estar apertar irmaos bahia irmaos minar gerar cheio energia transformar tristeza lutar entusiasmar levantar povo brasileiro obrigar todo todo acompanhar primeiro ano converso inspirador grande professor mangabeira unger presenca especial filhar yuri sergio morar passar todo dia ontem responder topar debater comigo dizer entrevisto aceito debater qualquer aproveitar ciro gamar ontem pra reforcar convite esperar retornar ai morar querer ver morar propoe tamanho absurdo puro ignorancia fazer partir estrategia entreguista destruicao patrimonio nacional comecou lavar jato receber nenhum respostar morar temer gostar debater intencao absurdo privatizar petrobras crime duplo guedesbolsonaro cometer hoje dia celebrar vidar querido irma liar gomar exemplo forcar determinacao cuidar povo cearense feliz aniversariar olhar lista aprovar concurso ita dificeis concorrido brasil cear estar maior numerar aprovar somar todo outro estar excecao paulo esquerdo hoje brasil mundo limitar ser apenas face menos selvagem projeto direta ver analisar professor mangabeira unger ontem deixar aqui comentario concordar discordar hoje pra lembrar exemplo melhor qualquer converso honrar servir povo ministrar fazenda durante governar itamar momento decisivo economia sofrer inflacao desempregar carestia querer saber pobrismo financismo tanto emperrar desenvolvimento economico brasil entao assistir explicacao professor roberto mangabeira unger desta semana economia conhecimento investir densamente ciencia tecnologia inovacao trazer grande desafiar mundo brasil incluir grande massa trabalhador empresar deixar ser ainda hoje ilhar gerar exclusao desigualdade surpreso amplo mudanca ministerio virar bolsonaro tentar camuflar capitulacao final alardear fazer collor ministerio notaveis tragediar repetir comediaquem acompanhar agoniar final governar collor saber semelhancas ocorrer bolsonaro forte diferenca cair impeachment separar pois forcar diverso impor cassacao lento irreversiveligual collor bolsonaro ser asfixiar perceber proprios aliar centrao tomar redeas congresso ir pouco tomar areas comandar todo governar rasteiro guedes capitular importantemas atar final desta tragicomedia candidatura bolsonaro destruido politicar fisicamente nenhum chance eleitoral destrocar presidente assim direito politicos simbolicamente cassar sociedade pessoal sexto dia ir ter convencao nacional pdt primeiro online partir brasileiro ir fazer discursar forte mostrar novo caro precampanha iniciar transmissao youtube contar audiencia aopdt movimentar evangelico representar brasil aceito ser tutelar elite brasil basear solidariedade crista autoajuda ainda carecer voz politicar ver reflexao professor mangabeira unger desta semana sextou gente nessa escalar sentir hoje brasil classe medir sentir pago dobrar pra viver razao simples inflacao descontrolar imposto exorbitante falto confianca servicos governar perguntar vir agora publi dessar precisar nado cantar mal espantar bom dia bom domingo pra todo mundo status sentir pronto racismo reversar conceito tao equivocar desproporcional chamar monstrengo assimetrico levar pouco cometer mesmo desumanidade assinar tesar tao estapafurdia chocar ovar serpentar intolerancia hoje cear comemorar ano emancipacao estar muito lutar gente trabalhador determinar nunca perder esperanca vivo capital educacao terra luzir debater reconstrucao brasil ir receber dois grande homem publicos exdeputado exministro aldo rebelar economista mauro benevides filhar atual secretariar planejamento cear nesta terca faltar dia pra conhecer novo caro precampanha projeto nacional desenvolvimento ficar fiar legal valer peno conferir encontrar importante cufa prefeito fortalezar periferia brasileiro vivo trabalhar arte desenvolvimento ideia coragem fortalecer parceria criar oportunidade povo brasileiro hoje fazer ano iniciar vacinacao contra covid enfrentar negacionismo boicotar governar bolsonaro tornar paises vacinar mundo parabens populacao dar provar inteligencia apegar ciencia maluquice genocida debater reconstrucao brasil ir receber dois grande homem publicos exdeputado exministro aldo rebelar economista deputar federal mauro benevides filhar esperar hoje rebeldia caminhar querer saber entao aguardar convencao nacional pdt nesta sexto partir transmissao direta rede aopdt hoje sucesso cearense educacao destacar estar alto indice aprovar ita atrair aluno outro lugar pai provar quantum educacao aqui cear levar seriar todo niveis escola publicar privadaslink materia precisar consertar quatro motor importante reerguer economia consumir familias investimento empresarial investimento publicar politicar industrial comerciar exterior saber cercar consumir produzir brasil vir familias consumir produto imediato tres fatores empregar render creditar defender programar refinanciamento governamental ajudar povo limpar nome spc serasa todo mundo animar encontrar convencao nacional pdt colocar despertador sextafeira transmissao todo rede hoje dia aqui rede pra ainda ta saber presenca dois convidar super especial aldo rebelar mauro benevides filhar logo pipocar ir subir hashtag ciro gamar aldo rebelar mauro benevides filhar on acompanhar acordar estudar recem publicar nacoes unir onu desempenhar economia brasileiro prever ir ser mal mundo dever ficar frente mianmar guinar equatorial brasil nenhum controlo despesa financeiro juro amortizacao dividir renegociacoes hoje ser controlar nivel inflacao despesa melhorar qualidade vidar povo brasileiromauro brasil teto gasto controlar despesa atingir todo brasileiro brasileiro controlo despesa educacao saude infraestrutura seguranca publicar despesa obrigatorias despesa pessoal previdencia outro teto gasto controlar nado realidade acontecer manter teto nivel inflacao despesa continuar aumentandoja investimento talvez item despesa melhor aplicacao orcamento significar construcao escola melhoria infraestrutura hospital posto saude impossibilitar ser expandir on acompanhar pouquissimos brasileiro poderoso conseguir subornar pagar impor querer pagar impor maldade porque hoje quase milhoes criancas brasil passar fome aldo rebelar favoravel amplo frente pai setores produtivo mundo trabalhar classe medir produtor rural tudo retomar crescimento economia alianca ganhar eleicao agradecimento querido todo acompanhar honrar conversar dois convidar representar politicar melhor termo carater competencia compromisso brasil ansiedade tanto decidir antecipar logomarca frase slogan lema vidar surpreso sexto ir ir aopdt aopdt povo preciso entender teto gasto verdadeiro ilusao enquanto investimento qualidade vidar familias parar despesa financeiro seguir nenhum tipo controlo aqui brasil conversar sobrar conferir alar praticamente conhecer brasil historiar povo figurar curriculo exjuiz sergio morar capacidade liderar pai certeza ver trecho converso ultimar horar chegar amanhar partir fazer forte discursar convencao nacional pdt pra acompanhar acessar rede oficiar youtube face twitter instar aopdt problema brasil povo terra ceu problema aqui ano modelar economico governanca politicar apoiar conchavar corrupcao falto pra gente mudar tarefar aceitar muito dedicacao conviccao gracas deus esforco muito gente envolvido bemsucedida hoje projeto beneficiar milhoes pessoa regiao conhecer lutar povo nordestino saber importancia obrar enterrar industriar seco tragediar precisar ir embora buscar ganhapaocomo ministrar integracao nacional tirar papel obrar falar desde tempo imperio transposicao rir francisco brasil perder voz forte representativo mundialmente conhecido elza soar eleito maior artista mundo vidar marcar superacao historiar simbolo lutar direito mulher negro pobre hoje turma bom partir encontrar imperdivel convencao nacional pdt cobertura aqui rede evento contar atar lancamento precandidatura presidencia aopdt aqui clipe completar rebeldia esperanca vibrante humanar brasil poder voltar ser homenagear inesquecivel amigar grande rebelde belchior aopdt pesames bolsonaro perda mae maior divergencias momento superar barreirar gente querido encontrar logo convencao nacional pdt deixar comentario curto video compartilhar amigo comecou acompanhar viver convencao nacional pdt lancamento precandidatura presidencia aopdt presidente partir aopdtcom rebeldia ciro trazer esperanca coisa poder ser diferente outro caminhar possivel ir sair dessar maior crise social politicar economica moral historiapara ciro trazer projeto concreto pnd projeto nacional desenvolvimento nascer contribuicao centena pessoa experiencia ciro acumular ano vidar publicar limpo honesto totalmente dedicar combater injusticaso pnd ciro ciro pdt pdt brasil aopdt rebeldia esperanca rebeldia causar esperanca rebeldia sonhar nascer moribundo juntar rebeldia esperanca novo projeto nacional desenvolvimento firmar corrente capaz eletrizar brasil levalo adiantar aopdt querer ajudar libertar brasil garro odio mediocridade paralisante ajudar brasil retomar destinar colocalo centrar decisoes mundial querer ser presidente rebeldia esperanca aopdt patrao povo patria unica patrão aopdt collor escancarar porteiro fernando henrique preparar mesa banquete lula condimentar melhor prato servir tubaroes lula distribuir compaixao filantropo sobrar pobre aopdt personalidade estilo diferente presidente repetir querer continuar repetir mesmo historiar modelar economico mesmo governanca apoiar conchavar corrupcao aopdt inimigo combater pobreza violencia fome desigualdade desempregar subemprego pessima educacao saude precaria baixar crescimento corrupcao racismo opressao mulher destruicao pessoa mear ambientar aopdt saber bem importancia pai viver inflacao equilibrio fiscal saber fazelo aopdt prometer acabar ficcao fraudulento chamar teto gasto colocar lugar modelar ir tocar pai adiantar inflacao equilibrio fiscal verdadeiro aopdt chegar dessar discussao farsante primar estar minimo estar maximo interessar estar inteligente aopdt mudar criminoso politicar precos gestao petrobras tremer medo tubaroes querer tomala brasileiro vibrar alegria milhoes compatriota pagarao combustivel baratar poderao gritar novo petroleo aopdt corrupcao brasil expresso alianca acertar parcelar elite politicar economicas capturar dominar destinar pai aopdt cultura vir antar tudo sobreviver tudo alimentar criar recriar politicar alimentar criar recriar espiritar povo politicar cultural eixo centrar governar aopdt querer governar todo brasileiro principalmente querido heroicas mulher aopdt brasil preciso simples faxinar maquiagem puxado defender outro concorrente nacao desejar profundamente mudar apenas modelar politicar economico regime moral aopdt esperanca porque rebelde assim junto igual ir mudar brasil deus abencoe deus abencoe grande nacao brasileiro aopdt hoje comemorar centenario maior brasileiro lider imortal grande mestre leonel mouro brizola homem lutar ninguem nacao igualdade povo todo homenagem grande cidadao poucasbrizola representar coragem amor pobre compromisso democracia acima tudo obstinar conviccao educacao ir libertar povo brasileiro sempre rebelde sempre esperanca companheiro inseparavel vivo brizolapra comemorar grande dia estar amigar edicao especial comlupi lancamento seriar brizola razao hoje partir canal youtube participar muito apresentar liderar viver imerso mar picaretagem oportunismo ignorancia manter decadas modelar economico paralisar pai ampliar desigualdade bem diferente aqui video dizer porque aopdt acompanhar viver edicao especial comlupi sobrar ano brizola david miranda historiar muito lutar superacao mostrar brasil exemplo bom educacao publicar transformar vidar assim estudar ciep idealizar construido brizola obrigar ver lutar juntar conosco tiradentes rebelde gandhi rebelde getulio rebelde rebelde transformar mundo lugar melhor porque movido esperanca nunca desistir ciro assim ciro rebeldia esperanca aopdt dizer brizola querer subir vidar estudar politicos imediatista costumar apostar educacao colheita resultar poder demorar pensar diferente apostar inteligencia brasileiro comlupi gente querido logo estar jornal eduardo castrar assistir compartilhar esperar comecou viver bandnewstv todo brasil acompanhar turma bom arrasar criatividade antar durante convencao pdt querer mandar abraco pra todo mundo fazer card meme etc ir frente bom domingo todo todo aopdt facil desfritar ovar morar conseguir provar comer granir odebrecht oas outro condenar lavar jato revelacao responsaveis faturamento empresar socio apenas comecoha tanto coisa ainda aparecer investigacao feito tribunal contar uniao imprensar amigavel conseguir disfarcar fazer agora colocar escandalo pe paginar manchete enquanto juiz mentiroso tentar criar tipo alquimiar contabil conseguir separar lucrar total dividir socios origem cada centavo orar morar dizer gota dinheiro sujar apodrecer todo caixa empresar ver ai integrar respostar luis costa pintar conhecer lula reporter tv blog logo discursar abordar temer importante brasil saber saber controlar rebeldia esperanca junto aliar vao sacudir pai unir nacao tornar projeto nacional desenvolvimento preparar transformar profundamente brasil ver falar sobrar aopdt prefeitura paulo antecipar noite dar domingo dar alarmante ultimar censo dois ano crescimento populacao ruir infelizmente novo realidade brasil familias inteiro perder empregar casar bem desafiar velho politicar cear eleito prefeito capital governador jovem bem avaliar brasilvamos continuar corrente contar momento vidar rebelde participar atraves hashtag porque assim movido rebeldia esperanca ir mudar brasil construir apenas dia contrariar todo prognosticos canal trabalhador salvar fortalezar regiao metropolitano sofrer colapso abastecimento aguar unico precandidato projeto pronto pra ser debater brasileiro esconder ninguem pretender fazer exemplo ir taxar sim grande fortuna ir mudar atual criminoso politicar precos petrobras aopdt turma logo ir conversar viver ficar ligar comeca comecou assistir viver esperancoso rebeldia ver trabalhador acordar madrugar trabalhar horar semanal precarizado tudo acontecer pai esperanca rebeldia transformar grande movimentar pra gente mudar brasil morar encher bolsar dolar agora ser investigar dizer quantum ganhar dizer explicar trabalhar multinacional americano cujo ser novo iorque trabalhar washington morar confraternizar formar ilegal sistema seguranca informacao eua experiencia morar responder problema brasil conhecer nado brasil problema brasil tao gravar tao profundar envolver povo consciencia problema construcao solucoes poder calar diante acontecer brasil gravar ameaca comprometer futurar deus abencoe gente faca dessar disputar eleitoral chocar esteril ideologia odios paixoes grande fraterno debater sobrar causar trazer tragediar sobrar esperancosa proposto novo solucao novo projeto nacional desenvolvimento jornalista paulo markun ir falar recurso final livrodenuncia sobrar lavajatismo morte reitor luiz carlos cancellier economista nelson marconi ir mostrar porque brasil parar ir debater rebeldia esperanca terca estudar direito fortalezar precisar morar convento privilegiar conviver frei conhecer portugal antar conhecer fortalezar vencer concurso redacao sobrar fazer alpercata cinto venderresolvi entrar onda curiosidade sobrar mim conhecer item dessar lista filmar favorito blade tatuagem pequeno escondido braco direito    jornalista paulo markun ir falar recurso final livrodenuncia sobrar lavajatismo morte reitor luiz carlos cancellier economista nelson marconi ir mostrar porque brasil parar ir debater rebeldia esperanca hoje alguem algum duvidar ler documentar materia glenn greenwald victor pougy operacao abusivo contra mim remanescente acao dar grupar foradalei comandar morar delagnol gente querido hoje estar radiar gaucha andressa xavier rosana oliveira programar viver diogauchaacompanhe participar agora programar atualidade radiar gaucha diogaucha acompanhar viver brasil literalmente parar ultimos dez ano crescimento igual zero querer provar maior modelar politicar economico ai servir pra beneficiar pequeno elite enquanto condenar povo estagnacao miseria aopdt gravar denunciar hoje talvez muito gente saber modelar economico definir ir ter empregar salariar juro crediario preco gasolina ai pra perceber modelar funcionar falar sobrar entrevisto parabens querido paulo terra garoa cidade brasileiro todo acolher gente todo lugar importancia central desenvolvimento pai salvar ano ir estrear novo quadrar bem quentar hoje tratase react ciro personagem dia indefectivel sergio morar surpreendente reflexoes pai crescer mundo repente comecamos andar pra tras acontecer antar seguir viver debaixo ceu azul abencoado cruzeiro respostar simples ver aqui aopdt hoje dia querer filhar yuri contagiar todo familia sorriso alegria ciro gamar paulo markun nelson marconi poder concordar proposto ai exposto luzir dia aberto discussao aperfeicoamentos pontar irmao irma exigir proposto candidatar aceitar fugir debater jornalista on acompanhar ir ser rebelde causar tanto brasileiro movido esperanca coragem desafiar sistema falar brasileiro tiradentes zumbir lelia gonzalez getulio varga abdias nascimento dom helder camara darcy brizola professor economista nelson marconi on paulo markun existir projeto politicar instituicao casar partir ministerio publicar setores justica dever ter paulo markun intencao livrar recurso final fazer libelo denunciar achar historiar reitor luiz carlos cancellier devidamente contar nelson marconi governar estrategia fracassar porque crescer combater inflacao primeiro politicar economica governar fazer formar nenhum orientar crescimentosegundo governar fazer seriar politicar tentar combater inflacao fundir acabar atrapalhar ainda ir comecar react entrevisto sergio morar flow podcast todo mundo on sergio morar faltar verdade dizer auxiliar moradia salariar mentir todo saber verba indenizatoria dever aplicar residencia cidade trabalhar morar receber indevidamente auxiliar moradia hoje especial qualidade convidar primeiro fazer condicao oficial precandidato presidencia brasil estrear reacts debater questoes importante sobrar pai obrigar todo acompanhar pnd projeto nacional desenvolvimento limitar apontar problema cronicos brasil apresentar solucoes pra cada ver trecho apresentar aopdt conferir lamentar falecimento amigar colega deputar narcelio limaverde contribuir cear democratizacao informacao radios sentimento familia amigo galera pedir comentar entrevisto morar flow chamar react fazer ontem ir mostrar resultar cincar partir primeiro nela comentar cinismo morar tentar justificar porque receber auxiliar moradia precisar cear exemplo assunto educacao colocar ensinar publicar qualidade prioridade valorizacao professor profissionalizacao gestao envolvimento familia estimular pensamento criticar decoreba modelar querer brasil morar deixar claro daqueles defender privatizacao petrobras conviccao completar ignorancia sobrar assunto pensar maior partir petroleo mundo explorar empresar privar deus ceu virar primeiro react completar ta fazer maior sucesso youtube ver querer rever correr o canal aproveitar inscrever acompanhar outro conteudos imperdiveis arrepiar qualquer jurista seriar entrevisto flow morar admitir maior inocencia mundo poder mudar peno lula ano saber ir gerar piar associar fato expresidente ter dedo ver aqui comentario ver querer ver novo ver ver logo reacts bater recorde visualizacoes rede oficiar rede grande militancia alar turma bom verdade falar sobrar formacao novo arebelde gente querido hoje noite estar viver ir conversar william waack partir esperar comecou conversar agora william waack viver brasil ficar decada primeiro vez ano crescer nado horar trocar disputar personalidade ideia projeto precisar radical mudanca educacao publicar brasil cear produzir melhor educacao publicar pai onde jovem estudar tempo integral ensinar profissional sair estagiar empresar remuneracao pago governar ministrar fazenda comandar economia brasil governar cear oitavar estar brasileiro prefeito fortalezar quinto maior cidade pai unico homem publicar brasileiro nunca gastar arrecadar unico dia sequer bem planejado modelar reestruturacao financas ir cortar todo renunciar fiscal abusivo brasil ir voltar cobrar cobrar ministrar impor sobrar superlucros lucro dividendo empresarial brasil estonia cobrar precisar lembrar hoje milhoes pessoa desempregar trabalhar nenhum direito precarizacao precisar lembrar milhoes brasileiro vao dormir passar fome pai produzir comido mundo bom dia logo estar viver encontrar comeco dia converso mauro tagliaferri michelle trombelli desmanchar amor povo brasileiro entrar agora padaria paulo olhar mandar pra mesa olhar absurdo morar achar paises basear crescimento investimento publicar dar certar despreparo explicacao conselheiro economico expresidente banco central entregar brasil inflacao ano ir governar povo eleger desde deixar bem claro projeto governar concordar pra saber assistir trecho entrevisto william waack gostar cortar entrevisto ver entrevisto inteiro minuto garantir ir parecer longo historiar povo brasileiro dar variar demonstracoes rebeldia esperanca dois energia precisar ser despertar superar ilusoes passar tragediar presentar aopdt cassar lutar oficial herois darcy assumir mesmo identidade digital negar atestar obito desaparecido poroes ditadura militarnegacao presidente negacionista vocacao estupido natureza bolsonaro mandar cancelar decreto pesar assinar antecessor lutar morte darcy ribeiropara bolsonaro facinoras mito herois historiar criminoso indefensaveis tipo decretar historiar ninguem conseguir cancelar neste dia dever acender alertar coracao cada indicar riscar permanente dano autoritarismo racismo poder causar vezar formar lento vezar subitoa humanidade nunca ir esquecer deixar chorar vitimar inocente holocausto tampouco deixar condenar autor ideologia capaz perpetrar tao horroroso crime react continuar aqui comentar verdadeiro razoar morar fugir debater comigo concordar dizer entao tomar coragem vir debater comigo hoje aniversariar filhar ciro desejar muito bencaos saude energia principalmente seguir cuidar pequeno gabriel neto fome possivel pai maior produtor mundo cobrar precos abusivo cidadaos comido enquanto preparar show tentar explicar inexplicavel falsar moralista sergio morar receber outro denunciar lombo provar receber mil notorio trambiqueiro internacional dar parecer acao bilionaria contra valea denunciar verdade capaz surpreender pouco incauto ainda veem algum sombra moralidade morar pois modus operandi aliarse capital internacional contra interesse empresar brasileirastriste pôr merecer fim enriquecer lavar jato querer ampliar lucro fama politicar desmedir jogar gananciar desonestidade moral vaidade ah sim incompetenciapois parecer mal redigir morar adiantar nado beny steinmetz alar ver perder todo instancias condenar ano prisao suica triste fim falsar moralista sentencas anular parecer derrotar fracassar politicar mentir exagerar dizer ultimos presidente excecao impor tipo governanca conchavar fisiologia corrupcao eixo centrar acreditar tragico exagerar realidade aopdt parabens dani importante participacao vitoriar debater problema nacional interessar politicar lutar brasil parabens todo outro participante demonstrar muito paixao dedicacao justar perguntar onde ir tirar dinheiro pra fazer reformar pai preciso assim entrevisto william waack cnn brasil pois bem ver aqui respostar nacao dever acompanhar maximo atencao desenrolar novo crise institucional criar bolsonaro decidir confrontar formar irresponsavel autoritaria decisao stfe capitular escalar gerar conflito impasse tumultuar tentar inviabilizar cursar normal eleicoes sentir antecipadamente derrotadoo congresso nacional forcar armar sociedade civil comunidade internacional devir colocar grau permanente alertar episodiar superar outro surgirao pois bolsonaro fazer pausar meramente taticas desde ano passadodesnecessario dizer presidente cometer crime inclusive responsabilidade sequencia punicao sentir cada vez poderoso sensacao basear mero delirio psicotico poder pobreza violencia desempregar corrupcao saude educacao precarias algum inimigo ir combater projeto nacional desenvolvimento capaz transformar profundamente nacao aopdt candidatar agradeco apoiar querer brasileiro aplaudir coragem acertar nestas afirmacoes sobrar sistema financeiro aliar agora saber morar menos ano ganhar milhoes escritorio americano administrar massa falir odebrecht levar nove ano ganhar quantiar juizpergunto haver enriquecimento tao rapido lavar jato dizer apenas ganho mear esquisito obter pra engolir balela divulgar dar transparenciasim morar enganir gostar transparencia tardio malandro encurralar esvaziar pressa apenas bolsar pra livrar flagrante outro bolso moroos bolso parecer escroque auxiliar moradia diarias abusivo etc ir mostralos assim borrar significar expressao combater corrupcao agora contaminar sentir palavra transparencia ultimar decadas brasil ser empurrar pro quintal mundo aceitar tudo passivamente bolsonaro resultar dessar sucessao erro enganacao manipulacao grosseiro aopdt existir espaco discussao farsante primar estar minimo estar maximo interessar estar inteligente resolver problema saber investir areas estrategicas abrir juntar setor privar portar economia conhecimento lutar afirmacao visibilidade trans poder ser apenas datar calendario lutar permanente contra preconceito violencia especialmente inclusao politicar economicana lutar afirmarse pai moderno igualitario brasil preciso deixar ser pai matar homem mulher trans tornar incluir economica politicamente brasil realidade continuar superar ficcao seriedade comica humor ver genial montagem dario avila brilhante paginar ciro flow querer ajudar brasil libertar garro odio mediocridade paralisante junto poder acelerar cumprimentar generoso profecia sobrar povo querido nacao aopdt encerrar final semana energia o cima embalar rebeldia esperanca todo mundo ai ver clipe completar compartilhar momento fe meditacao giselle cabo daciolo culto igreja senhor jesus fortalezar saber quanto ano trabalhador receber salariominimo precisar trabalhar ganhar milhoes morar ganhar mês americano ano esdesergiomoro solidariedade familias desabrigar perder ente querido durante forte chuva atingir paulomesmo apo tanto tragediar acontecer bahia minar gerar governar federal continuar ser criminosamente omisso todo dever seguir denunciar exigir apoiar municipios atingir gente querido hoje estar radiar grande fm matar grosso sul acompanhar viver facebook youtube radiar horario horario brasilia comecou viver radiar grande fm matar grosso sul assistir compartilhar garantir planar combater corrupcao colocar debater marcar abrir espaco pra efeito especial dessar fazer fama morar turma aopdt poder perder historiar vidar cientista gustavo cabral lutar desenvolver vacinar nacional contra covid react bolsonaro ir ser imperdivel nesta terca ninguem discordar precisar mudar formar velho corrupto governar projeto coragem experiencia pra colocar praticar aopdt poder perder historiar vidar cientista gustavo cabral lutar desenvolver vacinar nacional contra covid react bolsonaro ir ser imperdivel hoje bom dia turma logo ir ir conversar jornalista radiar maxima fm guaratingueta sp acompanhar viver acompanhar entrevisto radiar maxima fm guaratingueta sp enquanto herois medicos profissional saude enfrentar todo tipo riscar conter epidemiar ganhar abaixar merecer exjuiz enricar supostamente combater corrupcao encher bolso dolares esdesergiomoro pai todo mundo achar poder fazer lei interpretala jeito querer abusador momento delegar policiar federal william tito modo sui generis dizer bolsonaro prevaricar casar covaxinpara autoridade dever denunciar orgaos investigacao denunciar chegar supremo decertar ir barrar tesar poncio pilatos contrariar aceitar depravacao moral sentimento revolto muito dor morte moise kabamgabe congoles vir brasil buscar vidar melhor trabalhador assassinar formar brutal rir janeiro cobrar salariar atrasar aparamoiseessa tragediar trazer todo ingrediente coquetel amargar ser servir nestes tempo finar bolsonaro miliciano destruicao pessoa profundo falto empatia aparamoisemas remedio justica punicao exemplar autor diretos forcar votar punir mudar mandante exemplo criminosamente vir alto barbarie instalar base aparamoiseprecisamos encerrar odio matar pai solidariedade familia amigo moise aparamoise brasil ir conhecer breve moderno planar seguranca publicar ir fazer ninguem ainda coragem fazer combater crime organizar milicias raiz criminalidade aopdt estar brasileiro preciso garantir minimas condicoes vidar pessoa sob riscar perder completar respeitar internacional status pai garantidor direito humanosja lamentar assassinato congoles moise kabagambe analisar sob otica regime odio implantar bolsonarismo precisar denunciar situacao pavoroso viver outro refugiar pai haitiano angolano venezuelano boliviano outro ciro gamar cientista gustavo cabral idear quanto ano trabalhador brasileiro receber salariominimo precisar trabalhar pra ganhar morar ganhar nesses mês trabalhar multinacional norteamericana ano professor redar publicar ano medicar sus ano policial militar ano operario anoso morar idear particular sobrar riqueza porque antar revelar montanha dinheiro ganhar americano dizer fazer fortuna nesse trabalhoquem ganhar milhoes mil real mês trabalhar aqui brasil agora grande perguntar continuar respostar consultoria americano resolver pagar fortuna pro morar cientista gustavo cabral on acompanhar cientista gustavo cabral brasil maior potenciar mundo poder produzir vacinar todo duvidar disso turma acabar lancar site poder conferir primeiro mao comecou sobrar mentira bolsonaro acompanhar mostrar comentar interagir cena maravilhoso garoto enquadrar calar bolsonaro pleno cercadinho aproveitar autoconvidar ir cercadinho aceito bolsonaro querer debater bolsonaro querer poder responder aqui falar politicar preco eletricidade petrobras explodir inflacao brasil incapacidade organizar politicar preco abastecimento armazenamento distribuicao alimento fazer alimento explodir brasil encerrar live rebeldia esperanca lancamos site oficial converso esclarecedor cientista gustavo cabral segundar sobrar mentira bolsonaro mal presidente historiar virar segundar comentar mentira bolsonaro ainda cereja bolar sergio morar professorar preparar futurar suor rostir esforco devidamente recompensar enquanto falso moralista sergio morar afundir lama passar ganhar milhoes formar suspeito esdesergiomoro bolsonaro armar encenacao grosseiro sob direcao carluxo farsante querer posar popular povo nenhum educacao comer vergonha falto compostura presidente maior nacoes mundo lancamos durante ta bombando video artigo proposto projeto nacional desenvolvimento downloads etc visitar cadastrar pra receber tudo primeiro mao vir juntar rebeldia esperanca vitimar lavajatismo turma ir intimidar homem honestar confiar justica aopdt dificil contar quanto mentira bolsonaro capaz disparar menos minutar falir associar explosao vender armar quedo homicidios bom exemplo enganacao atro outro bom dia turma logo estar radiar capital fm cuiaba mt poder acompanhar facebook youtube radiar horario cuiaba horario brasilia viver radiar capital fm cuiaba mt acompanhar motorista aplicativo sofrer cada vez preco gasolina falto direito trabalhista minimos sentir ouvir sergio morar radiar carro mentir sobrar fortuna fazer partir lavar jato esdesergiomoro ver caro pau live bozo dizer inflacao brasil tao alto quantum outro paises mentir alto mundo culpar afinal mantar preco combustiveis dolarizado diferente um outro proposto apresentar brasil comeco mear fim resultar estudar paixao realismo responsabilidade ainda assim legitimar duvidar sobrar ir fazer responder titubear aopdt bozo dever estar disputar algum campeonato mundial mentir leviandade explicar capaz dizer estar fraudar internacao paciente covid pra ganhar dinheiro sus hoje provar lider lula vetar dilma provar colocar pai xepa temer usurpar quartar todo perder direito estalecas ai vir bolsonaro indicar brasileiro pro castigar monstro agora ta todo mundo paredao brasil ta ver policiar militar colocar vidar riscar todo dia ganhar baixo salarios enquanto exjuiz exministro justica passar vidar pensar fama poder ganhar milhoes moleza empresar americano esdesergiomoro muitissimo obrigar querer nil agro restar gente converso terca fazer perguntar simples morar canal livrar band propoe pra brasil tao empobrecer respostar deixar nenhum duvidar morar verdadeiro clonar rolar lero ver tirar proprias conclusoes aproveitar tradicional quinto caranguejo daqui fortalezar amigar brunir engracado contar sobrar charme calvo ir colecionando momento tamo juntar imaginar proximo encontrar aqui fortalezar disso selar verificar sair alar chegar site ciro simplesmente absurdo versao misogina vir ser divulgar certar grupar acidentar abrir cratera obrar metro sp ocorrer porque trecho comandar equipar majoritariamente femininasum video divulgar versao asqueroso circular anonimamente rede anonimato entanto poder ser quebrar observar atencao twitter abaixar rebeldia nascer esperanca esperanca mundo melhor brasil melhor porque ser rebelde pensar diferente combater comodismo opressao injustica conformar apontar caminhar novo fazer historiar andar pra frentea rebeldia fogo alimentar paixao coragem fe ser rebelde brasil hoje libertar ilusoes passar pesadelo presentar olhar pro futurar dizer brasil poder maistenha esperanca rebelde einstein gandhi mandela maria quiteria dom helder camara carolino jesus getulio varga glauber rocha brizola leila diniz abdias nascimento darcy ribeiro tanto outro variar entidade lancaram noto repudiar ataque gabinete odio mulher brasileiro denunciar aqui ceder importante protesto ficar restrito areas tecnicas desgovernar bolsonaro seguir marchar tornar brasil parir ambiental desmatamento terra publicar aumentar ultimos tres ano tragico preocupante recordar clamar acao lutar todosa justica ministerio publicar vao assistir indiferente numerar estarrecedor divulgar instituto pesquisar ambiental amazonia ir continuar dependente pressoes internacional mover cultura mim tudo alimentar imaginacao humano alimentar criar recriar politicar alimentar criar recriar espiritar povo politicar cultural eixo centrar governar aopdt cientista gustavo cabral liderar pesquisar tornar covid lamentar altura ainda gente brasil discutir importancia vacinacao provar vacinar saida sintetico fundamentar contundente depoimento deputar espanhol inigo errejon partir pai sobrar papel central estar desenvolvimento economico tecnologico turma bom orgulhar olhar sequencia figura receber zap encaminhar grupo alianca rebelde dia todo mundo ai entrar o pra receber conteudos exclusivo primeiro mao basto cadastrar site aqui querer amigar grande prefeito rir janeiro todo secretariar debater brasil lado presidente pdt prefeito niteroi precandidato governar construcao projeto brasil passar entendimento sobrar solucoes rir janeiro importante encontrar hoje pra iriar votar hoje paredao total falto afinidade votar certamente iriar jair bolsonaro pouco gente saber economia diretamente associar dolar entao subir dolar ir subir tudo porque pao trigar trigar dolar ver trecho converso menino entender melhor significar dessar frase terca semana imperdivel ir ter humor papar sobrar politicar comediante alar tao pedir react falir lula anoto ai agendar tercafeira partir todo rede rebelde porque recusar perder esperanca esperanca porque rebelde dar ultimar gota suor sangue energia pra reerguer brasil aopdt hoje dia nacional lutar povo indigenas datar todo poder refletir debater exigir governo respeitar reconhecimento paz populacoes tradicionaiso pdt contar movimentar indigena liderar rafael weree trabalhar atua resistencia principalmente contra ataque bolsonaro conheca site hoje partir esperar papar super bacana comediante muito gente pedir ir ter react falir lula transmissao ir ser todo rede esperar o hoje dia celebrar vidar dessar grande mulher grande brasileiro companheiro fiel lutar povo marino figurar competente lucidar honesto honrar conhecer deus cobrir bencaos amigo feliz aniversariar gente querido logo estar viver radiar bandeirante rir grande sul oziris marins sergio stock guilherme macalossi acompanhar youtube comecou entrevisto viver radiar bandeirante rir grande sul acompanhar fome emergencia mortal atingir milhoes familias brasil justificar fato maior produtor mundial alimento viver cenario desabastecimento miseria inflacao controleo brasil simplesmente destruir politicar planejamento alimentar abastecimento hoje vigor lei selva pago levar povo virar achar justar precisar devolver governar tarefar manter estoque reguladoresou estocar corretamente lavourar base alimentar governar proteger produtor safra excedente tempo combater fome manter estoque dia ficar estabelecido politicar precos minimos mercar simples assim hoje chegar vigesima edicao live cirao pra comemorar react lula dois convidar super especial comediante agora contar quanto ponto marcar nesse checklist comentar aqui pra gente saber tolerancia grande virtude humano respeitar pluralismo liberdade expressao poder ser tal formar largo permitir existencia organizacoes ideologia destruir sob nenhum pretextar poder defender criacao partir nazista nazismo negacao apenas democracia propria vidahouvesse pouco leitura pouco menos vontade chocar proprio juventude monark cometer tao grosseiro errar ciro gamar nil agro gustavo mendes ta on acompanhar ai turma bom dizer agora aqui tres figura escolhido pra votar preferir ta on acompanhar ir debater melhorar pai jogar aqui pra frente ciro unico caro agora proposto limitar humor graca acabar ferir alegrar fugir proposito piar ir pegar fazer piar homofobica racista pra bater populacao sofrer questao bom senso comecou hoje sobrar ultimar falir lula acompanhar ainda ver preciso ver acreditar lula confessar cuidar pobre coisa facil barato governar porque pedir pouco contentar pra sobreviver enquanto rico custar caro malagradecido falar sobrar assunto aqui rede querer reiterar nazismo mal doenca social humanidade produzir precisar ter consciencia disso passar panar apoiar popular decisivo todo horar todo minuto governar principalmente primeiro ano ver porque aopdt turma hoje estar radiar itatiaia valer aco minar gerar esperar acompanhar youtube atencao minar gerar entrevisto viver radiar itatiaia valer aco assistir compartilhar fe mover montanha sergio rolar lero morar sob dominio mbl continuar fugir debater agora posar falsar machao mascarar enganador entanto despregar rostir deixar frouxidao caro escolher horar local temer ver onde chegar soberbo falto respeitar lula aqui tentar desqualificar criticar politicar ter ter covid dessar jeito ir debater futurar brasil prazer receber aqui casar galera simpatica irreverente camisa canal querido lembrar tempo comentarista esportivo sobral futebol arte sempre paixoes ai acompanhar lula comentar algum contradicoes expresidente agradecimento natureza criar covid momento dizer cuidar pobre facil dificil cuidar rico parabens amigar conterraneo todo fazer grande trabalhar camara deputar dizer pro lula entregar furna eduardo cunhar dizer pra mim ir fazer fazer agora vir dizer pmdb responsavel ascensao cunhar muito caro pau alguem poder abrir bocar dizer ainda bem coronavirus permitir cego enxergar estar poder resolver crise lula dizer aqui parecer desvario tao radical quantum negacionismo argumentar diferente hoje recente registro ultimar tercafeira comemorar vigesima edicao obrigar todo gente desde comeco dar forcar seguir frente lula dizer brincar dilma sobrar ter nascer cumprir ordem dar ordem verdade desqualificar dilma seriar pra querer ouvir conferir dizer achar portar pecem hoje importante brasil representar realizacao projeto construido muito maos representar bem forcar idear aqui cear paulo guedes anunciar semana banco digital caixa economica federal caixa poder ser privatizar bilhoes quase ano atro entrevisto denunciar loucura acontecer proteger brasil dessar roubalheira perder armar pra assaltante rir janeiro bolsonaro exibicao promover usar vender pai mostrar atirar saber ver vergonha semana lula roubar projetos ciro jair apropriar projeto lula originalmente ciro morar projeto roubar geografia exposed todo brasil ta ver brasil poder flopar marie curie grande simbolo sabedoria martirio afirmacao mulher ciencia vitoriar coletiva quantidade imenso cientista agradecer louvar neste dia internacional mulher menino ciencia gente querido ir bater papar viver jornalista radiar super fm minar gerar acompanhar entrevisto viver radiar super fm minar gerar assistir compartilhar ir o passar fazer tanto tempo assim lembrar base governo lula dilma poder adiantar algum temer geddel renan calheiros eduardo cunhar agora dizer acontecer gente repetir mesmo receitar ver concluir visitar manha juntar deputar mario heringer prefeito contagem marilia campo pt conversar sobrar desafio cidade minar gerar brasil participar agora solenidade novo filiacoes pdt contagem mg fortalecer lutar mudar brasil nenhum duvidar democracia brasil mundo preciso ser aperfeicoada participacao popular poder ficar restrito tao somente epoca eleicoes aopdt hoje dia celebrar vidar grande amigar caro inteligente aguerrir honrar acompanhar perto feliz aniversariar irmao entrevisto viver radiar itatiaia minar gerar acompanhar visitar ocupacao guarani kaiowa minar gerar vir perto sofrimento dessar familias assim milhoes brasileiro viver periferia grande cidade papel terra condicoes financiamento exposto viver areas riscar querer desejar feliz aniversariar grande deputar chico dangelo exemplo lutar comprometimento rir janeiro brasil vivo chico parabens querer amigar deus iluminar caminhar hoje sempre visitar tardar belo horizonte prefeito psd juntar conversar sobrar capital mineiro sobrar brasil atencao turma bom minar gerar neste sabado dia fevereiro rodar converso camara municipal uberlandia chamar todo mundo vir mascarar comeca rimar galera ficar olhar hoje agendar aqui minar bom dia bom sabado pra todo mundo conversar populacao uberaba nesta manha sobrar caminho mudar brasil rebelde porque recusar perder esperanca esperanca porque rebelde junto ir construir verdadeiro mudanca pai trem rebeldia esperanca reabastecer feijoada bar alair contagem mg forte presenca fazer refletir seguir ainda esperanca lutar contra sistema economico social explorar povo enriquecer elite cada vez apartar realidade brasileiraconheci hoje uberaba mg madalena gordiano mulher viver ano sob exploracao trabalhar analogo escravidao gente querido ir gravar todo rodar converso uberlandia mg divulgar seguir canal youtube batepapo turma bom mineiro camara municipal uberlandia ir junto colocar patria pe grande movimentar rebeldia esperanca feliz honrar ter receber titulo cidadao honorario uberlandia cidade tanto respeitar gratidao ir pagar trabalhar reconhecimento mineiro dar encerrar agendar minar muito felicidade gratidao coracao pra embalar noite sabado ir clipe completar rebeldia esperanca compartilhar amigo todo dia dia cuscuz marcar origem movimentar modernista semana arte moderno completar cem ano hoje mostrar voz rebeldia poder sobreviver formar transformador contradicoes esteticas politicar social buscar conciliar moderno arcaico feliz aniversariar prefeito sarto querer amigar grande administrador trabalhar firmar povo fortalezar muito saude forcar seguir lutar tava aqui pensar lula ta copiar impressao odociro conversar sobrar futebol sempre prazer obrigar menino papar noto mil divertir relembrar tempo comentarista esportivo esquete ourar radiar time nunca perder falar sobrar esporte aqui brasil nordeste cear ano rebelde tomar emprestar lindo verso amigar caetano homenagearte agradecer exaltar grande amor neste dia ve assim pensar filhamas verdade bem mae bolsonaro entender tanto politicar externo quantum economia saude publicar nado melhor hipoteses ir russia mear momento delicado geopolitica mundial passar indecente turismo recurso publicosse bolsonaro falar dever corriqueiro colocar brasil posicao delicado parceiro comerciar importante desejar exibicao autopromocao poder custar caro pai taxar exportacao equivocar tributacao progressivo terra preciso ser debatido sim celeridade saber iptu arrecadar cidade paulo mes maior arrecadar impor territorial rural brasil inteirar ano desta terca ir contar presenca grande amigar senador exgovernador ir falar sobrar brasil forcar idear trazer exemplo cear encontrar partir aqui rede defender amigar daniel ortega grande ditador lula provar favor esquerdismo corrupto compensar conservadorismo aqui dentro poder vacilar regime autoritarios festa todo dia hoje dia ainda especial hoje dia ir receber senador exgovernador grande amigar pra falar sobrar cenario politicar bozo morar lula estrear novo quadrar contraponto pra rebater fake news encontrar unico defender mandar contar pro andar cima hoje brasil estonia isentar empresar milionarias tributacao lucro dividendo rebelar contra absurdo ver pra saber ir acontecer turma hoje ir conversar viver jornalista aldo vilela encontrar aqui entrevisto viver assistir compartilhar perguntar sobrar projeto tirar nome pessoa spc explicar gesto demagogia caridade medir fundamental recuperar consumir familias consequentemente economia brasileiro video explicar direito hoje ir ter honrar receber amigoirmao homem iniciar revolucao politicar administrativo cear estrear novo quadrar contraponto esperar aqui rede preparar pra hoje chamar todo mundo porque live ficar melhor cada tercafeira ir ter estrear quadrar contraponto pra desmentir fake news sair sobrar mim comeca aqui rede arte ciro gamar tasso jereissati senador on acompanhar russia bolsonaro ir hungria encontrar viktor orban simplesmente encontrar dois execraveis presidente mundo ocidental francamente vao conversar saber certeza absoluto coisa bom senador lembrar assembleia legislativo ce fazer palestrar impressionar destacar jovem ano relacao conhecimento realidade nacional desenvoltura eloquencia relacao problemasera pontar curar ciro gomar conversar encontrar muito afinidade sobrar dever ser fazer cear brasil pouco gente saber criar programar agente comunitario saude familia criar cear expandir brasil inteirar base ir novo iorque buscar premio mundial combater mortalidade infantil senador indice vergonhoso cear epoca indice mortalidade infantil absurdo solucao simples sorar aguar sal acucar balanca pesar criancas trabalhar chamar atencao unicef senador achar governar existir governar projeto bolsonaro fazer cada ir pra lado paulo guedes completamente perder literalmente perder desmoralizar solidariedade povo petropolis regiao serrano rir janeiro ir cobrar governo fornecam todo ajudar assistencia alguem caro pau abrir bocar pra perguntar dizer brasil precisar reformar sistema tributario previdencia social educacao saudesinceramente setor vidar povo brasileiro preciso reformar amor deus lula brasil viver mal crise historiar resultar modelar economico governanca politicar levar fundir povo adiantar trocar maria chico jeito fazer politicar governar precisar ter coragem rebeldia pensar alar encontrar ontem fortalezar embaixador paises baixo andre driessen conversar sobrar brasil relacao paises hoje dia encontrar bolsonaro putin russia recomendacoes adiamento diante tensoes ucrania melhor hipoteses viagem ir dar nado revoltante mamata turma gostar fazer custar dinheiro povo virar novo perolar sergio morar vestir saber diferenca gafar verbal apologia nazismo morar grande fraudar brasileiro ver cercadinho bolsonaro reinar desvario agora reclamar pros seguidor brasil sofrer ditadura caneta horar dessar ir nesse cercadinho pra rebater loucura brasileiro frente tempo orgulhar pedetista historico darcy ribeiro maior pensador estudioso exemplo lutar educacao povo indigenas gente querido hoje ir conversar amigo caminhoneiros cuidacast acompanhar partir rede luiz aragao bozo nenhum besta saber ir perder eleicoes seguir agendar absurdo mentira ameacas olhar bolsonaro ir sim respeitar vontade povo resultar urna outubro ai acompanhar ultimar pra ainda ver seguir link fiar resumao comecou ir conversar caminhoneiros caminhoneiras brasil acompanhar poder discutir caminhoneiros somente fretar pedagio preco combustiveis tudo importante entender acontecer coisa ficar assim caminhoneiros sofrer alto preco combustiveis pq atrelar dolar caminhoneiros receber trabalhar real comprar diesel dolar aguentar ir mudar politicar precos petrobras sheila bellaver autonomo ser extinguir vao sobrar grande empresarios usufruiram beneficios procaminhoneiro dever tanto regrar exigencias pouco render acabar ser aprovar aprovar grandoes brasil preciso sair retoricar converso fiar sentar debater qualquer promessa imediato poder ajudar curtir prazo resolver solucao caminhoneiro novo projeto pai acreditar nisso terminar dia converso noto obrigar convite amigo cuidar cast pra fechar chave ourar mensagem importante categoria carregar brasil bolear quarentar ano vidar publicar nunca enfrentar processar corrupcao recusar beneficios comum classe politicar aposentadoria direito exdeputado exprefeito exgovernador imoral ano tres aposentadoria dinheiro publicar hoje aniversariar querer irmao lucio gomar muito felicidade saude deus abencoe hoje sempre reajustar salariominimo acima inflacao fundamental pra admitir tanto ano aumentar real brasil hoje segundar mal salariominimo paises membro ocde perder mexico pra rebelar contra absurdo atar falhar pra acreditar lula ir enganar povo vez periodo eleitoral ta chegar assunto gerar preocupacao fabricar fake news pleno funcionamento brasil todo mundo saber mentira unico proposito sujar nome destruir reputacoes alertar tempo pt vir fazer partir psb psol usar metodo rolar compressor ver dizer lula entrevisto sobrar dessar partir tirar propria conclusao viagem minar gerar especial receber acolhido amigo populacao geral politicos outro partir verdadeiro democrata deixar levar onda odio polarizacao empurrar brasil pro buracar primeiro dia possivel governar ir acabar dolarizacao preco combustiveis cobranca basear especulacao internacional descolar cringe gente divertir achar conheco bem animar saber naruto assim rebelde desistir lutar confirmar joao pedrar arte comover duplamente forcar criativo vidar luzir amoroso lembranca obrigar desde 20 fevereiro datar marcar onu dia mundial justica social ir aproveitar cair hoje domingo ler refletir pouco sobrar temer tao importante todo humanidade vivo liberdade igualdade respeitar limpar nome caminhoneiros todo precisar caridade menos demagogia prioridade restaurar principal motor ativacao economia consumir familias dizer algo bem simples fazer exito aqui cear desta terca ir ser diferente superespecial direto auditorio paulo plateia interagir comigo giselle grande convidar anunciar afastamento temporario rede pra preservar saude mental terca basto apontar corrupcao impunidade dois grave problema brasil precisar entender raiz dessar praga ter coragem enfrentalas marcar ir anunciar programar inovador prevencao repressao corrupcao acompanhar solucao problema brasil ir cair ceu luzir fim tunel todo brasileiro lutar lutar organizar basear agendar praticar objetiva participar agora encontrar empresarios empresar lidar cear otima oportunidade debater futurar brasil absurdo solidariedade querido amigo juliano brizola garantir seguranca familia alar identificacao punicao agressor hoje ir paulo interagir plateia noite superespecial grande ir falar sobrar afastamento temporario rede social ir ter react presenca presidente pdtsp bocao caminhoneiros conversar comigo cuidar cast comentar sobrar grande injustica fazer categoria cobranca posto gasolina passar noite o concordar inteiramente possivel viavel solucao ver idear central retomar obrar licitar paralisar iniciar especialmente relacionar habitacao saneamento transportar mobilidade gerar empregar render rapidamente impactar diretamente qualidade vidar populacaotrabalho render dignidade disso povo brasileiro precisar planar emergencial empregar defender pretender gerar milhoes vago trabalhar dois primeiro ano governar datar hoje cheio simbologia tanto palindromo quantum ambigrama rotacional correr dicionario please rsrsrs explicar tanto fazer ler esquerdo direito direito esquerdo cabeca baixar momento maior indignacao nunca duvidar verdade justica prevalecer sobrar arbitrio manipulacao prepotencia decisao honrar judiciario brasileiro cair balela petrobras privatizar precos combustiveis baixar contrariar grupo internacional ditar precos abusivo ver explicacao dar amigo caminhoneiros logo ir receber ir explicar porque dar tempo rede amigar participar primeiro live auditorio esquentar olhar animacao ficar bem bacana ciro gamar tico santo cruz grande on acompanhar milicias bolsonaristas vir atuando cima mim fake news pateticas pegar porque muito gente desinformar organizar perigoso formar atuam fazer ataque absurdo contrantes show querer on brasileiro ficar medir dia internet poder abalar qualquer emocional bom gente saber saude mental paz tranquilidade emotividade equilibrar comecou ovar ver agora prestar atencao todo declaracoes render brasileiro prontuarios eletronicos logica cidadao relacao previdencia social tudo processar estruturar dar governar federal dataprev preparar privatizacao tico santo cruz dar importante testemunhar sobrar maleficios usar excessivo rede social poder causar saude mental proprio sentir pelar resolver dar tempo rede ver aqui depoimento dessar grande artista sergio rolar lero morar insuperavel minima formacao comecou campanha dizer sandice apo sandice tornar alunar refem mbl aceitar decorar frase pronto agora alar sandice dizer absurdosvamos ficar dois absurdo passar defender privatizacao petrobras dizer contra taxar grande fortuna falar disparate conviccao canalha fazer vassalagem entreguista antibrasil antipobreno fundir passar oportunista antar tudo covarde repetir aqui milesima vez convite ir debater morar jurar ir lembrar agreste cearense papel sol nordeste brasil pt deixar pessoa acumular render milhoes brasileiro pobre hoje brasil familias envidar milhoes brasileiro spc desempregar ainda milhoes empresar serasa pra indignar cumprimentar respeitosamente ministro edson fachin alexandre moraes posse tribunal superior eleitoral presidente vicepresidente respectivamente ano gravar historiar brasileiro reafirmacao valorar estar democratico direitoseguro maos honrar brasil garantir povo eleicoes limpo permitir achar caminho retomar desenvolvimento enfrentamento terriveis mal social humilhar maioria povo achar primeiro participacao plateia reflexoes importante ainda ainda ver querer rever react completar aqui link abrir desta terca falar importante decisao tribunal regional unanimidade anular operacao buscar apreensao policiar federal fazer dezembro casar justica prevalecer participar agora ceo conference organizar btg pactual importante momento debater brasil mostrar pai preciso projeto nacional desenvolvimento voltar crescer reduzir desigualdade ninguem acreditar previsoes guedes perder desmoralizar entregar delirio brasil ir bem preve crescimento pai ano contrariar todo previsoes economicas real acontecer ir acontecer bem diferente hoje ceo conference paulo acreditar dar respostar definitivo conversinha sempre sobrar parir ver aqui deixar comentarios mundo atual existir guerra distante consequencias limitar precisar preparar portanto reflexo conflito russia ucrania especialmente termo umgoverno fragil despreparado perdidopara ficar aspecto preocupante basto lembrar barril petroleo passar dolares ir atingir cheio termo politicar absurdo precos rigidamente atrelar mercar internacionala sociedade outro poder precisar estar alertar fiscalizar executivo politicar interno externo cheio equivocos desvario desequilibrio ordem internacional poder gerar efeito outro tipo pandemia especial neste brasil hoje tao vulneravel cidadao ocupar cargo equivalente ministrar cultura brasil conseguir responder questionamento sobrar gasto viagem novo iorque partir ofenso retratar acabar governar bolsonaro vir frente nesse ano eleitoral participar ontem ceo conference organizar btg pactual poder assistir importante debater sobrar brasil aqui link apesar triste noticiar sobrar guerra mundo poder deixar lembrar celebrar ano dia conquistar votar feminino brasilo trabalhismo protagonista lutar mulher desde sempre instituido iniciar ano presenca feminino espacos decisao politicar extremamente necessaria consolidacao democraciaoutra coisa embora votar relevante precisar ir alar debater profundamente representatividade condicoes igualdade participacao mulher ambientar politicoeste ano milhoes mulher devir votar eleicoes outubro 52 eleitorado feminino representar apenas conquistar mandato horar mudar cenario junto mulher brasileiro governante brasileiro desperdicaram oportunidade ourar fazer reformar pai tanto precisar preciso porque projeto poder pai diferente poder gostar proposto ai falir ir fazer fazer debater lei rouanet ultimar dar otima idear sobrar poder ser utilizar apoiar artista menor visibilidade conferir aqui deixar comentario debater importante quase mil inscrito o youtube querer ir alar vir fazer partir canal oficial compartilhar turma bolsonaro manipular valorar sagrar todo deus patria familia liberdade exatamente fazer ditador benito mussolini tatica nazifascista conhecer bem obrigacao denunciar combater nesse trecho participacao explicar nenhum pai mundo desenvolver solidar participacao estar infraestrutura areas carente onde iniciativo privar interessar participar tudo anotar brasil pai crescer mundo crescimento ano 1980 cair pra ficar mal 2010 2020 antar pandemia primeiro vez crescimento zero conhecer bolsonaro ambos deputar federar naquela epoca roubar verba gasolina tipo comportamento revelar carater pessoa exemplo alguem receber auxiliar moradia ter moradia propria picareta solidariedade familia amigo dida sampaio grande fotografar nascer aqui cear transformar expoente fotojornalismo brasileiro morte prematuro entristecer todo achar ta certar presidente republicar saber responder absolutamente nado governar questao mear ambientar central brasil ir resolvela reprimir populacoes outro dia estimular desmatar criar alternativo viver florestar sumir estabelecer desenvolvimento sustentavel meter prioritaria politicar ultimosminutos programar roubar voltar primeiro maxima encaixar luva atuais benesse duplo bolsonaroguedes sonhar vao segundar mandatodepois passar quase quatro ano fazer nado dever comecam agora propor diminuicao imposto auxilios generoso outro piroctenias todo confuso efeito colateral povo trouxa saber debaixo dar angu muito enganacao gente filmar enquanto algum medo debater outro nadar mear tubaroes querer animar terca carnaval entao vir pra giselle ir receber cibele florencio diarista potiguar destacar nacional internacional xadrez react ir ver primeiro mao algum insercoes nacional nesta terca selar qualidade turma conferir participacao ceo conference promovido btg pactual ainda ver assistir o oportunidade falar sobrar algum principal proposto brasil brasil deixar arrecadar bilhoes ano renunciar fiscal muito absolutamente indefensaveis alguem achar justar filar mignon salmao queijar suico ser isento imposto outro produto cesta basica fato brasil perder saber pensar deixar pensar algum principal protagonista dessar campanhahoje querer falar sobrar assunto considerar extremo importancia democracia querer saber opiniao pra quantum importante precandidatos presidencia ter projetos proposto cada areade partir reiterar apelar querer debater todo qualquer onde projeto pai meter prazo recurso bem definir terca emocao gambito rei vir direto rir grande norte ir conversar cibele jovem campea xadrez exemplo coragem determinacao novo formato primeiro mao insercoes partir tv brasil dever repudiar meio palavra invasao ucrania federacao russo tratase violacao frontal direito internacional cartar nacoes unir principiar basico tradicao politicar exteriorno casar principiar sagrar respeitar soberania integridade territorial estadosdiante dessar agressao qualquer contraponto argumento motivacoes arriscar soar justificativo agressao armar russia contra povo ucranianoenquanto brasil brasil jamais ficar neutro diante tal violencianem pôr esquecer quadrar maior confrontar atual esforco grande potenciar subjugar paises menor projetar esfera influenciar confrontar pretensoes hegemonicas poer perigar sobrevivencia humanidadepara brasileiro rebelarnos contra imposicao dessar hegemonia compromisso abstrato imperativo vidar dignidade defender espaco grandeza futuro fevereiro correr cirogames reacts agendar viagem encontro ainda sobrar tempo pra entrar graça internet querer ver aqui marcar feliz aniversariar lideranca indigena grande amigar professor escritor ganhador premios jabuti vidar longo muito saude amor literatura querer animar terca carnaval entao vir pra ir receber cibele florencio diarista potiguar destacar nacional internacional xadrez react ir ver primeiro mao algum insercoes nacional hoje rir janeiro continuar lindar vivo cidade maravilhoso cheio encanto mil berco tom jobim machadar assis vinicius dono ivone lara cartola tanto outro artista ilustre essencial almo construcao identidade brasil parabens rir tanto riso oh quantum alegria muito saudade tempo carnaval grande farra familias brasileiro certeza ano ir dar voltar cima vazar pra midia ir fazer aqui antecipacao antecipacao filmar voar aguiar estrear noite radios tv todo brasil vir filme ai ir ser emocao cima emocao guiar brasil paises hostil mulher mostrar todo indicador representacao congresso feminicidios etc pra mudar fundamental mulher ter presenca politicar adamulher hoje prometer giselle honrar conversar cibele florencio gambito rei vidar real novo formato apresentacao primeiro mao primeiro programar tv comeca partir precipicio outro filmar estrear noite todo brasil visual arrebatador explicar formar direta porque ano brasil juro alto baixo crescimento mundo  cibele florencio campea xadrez historiar incrivel on acompanhar jogar xadrez cibele florencio acompanhar destacar liderar pdt lembrar mulher capaz desempenhar bem qualquer funcao todo pai valorizar mulher crescer melhor adamulher bom dia gente querido hoje ir conversar radiar tardar fm bahia esperar viver comecou entrevisto viver radiar tardar fm bahia acompanhar ai dizer gente espantar impossivel fazer politicar dessar sistema verdadevou comecar obviar unico precandidato assumir compromisso romper sistema politicar ano basear conchavar corrupcaoe possivel sim governar formar limpo transparentar inumeros exemplo disso poder citar governar cear presidente itamar franco servir ministrar fazendano fundir ceticismo relacao temer causar misto tristeza indignacao porque simbolizar acomodacao geral modelar apodrecer tempoeu aceitar acomodacao exatamente lema precampanha rebeldia esperanca assistir insercoes nacional pdt comecaram veicular nesta terca radios tv todo brasilpara conseguir ver pra querer rever compartilhar amigo correr aqui link oficial playlist youtube saber crescer zero reacts falar sobrar primeiro comercial pdt gua veicular nesta terca radios tv todo brasil assistir precisar dar oportunidade abrir caminho criar obstaculos mulher participar politicar chave pdt pensar orgulhar defender forcar poder mulher brasileiro adamulher bom dia turma comeco quintafeira entrevisto radiar tv sagre goias acompanhar partir viver radiar tv sagre goias assistir aqui familias brasileiro endividar causar juro alto governar insistir assim controlar inflacao claro assim ver aqui react filmar pdt falir sobrar turma logo ir conversar thiago varella radiar brasil campino acompanhar comecou entrevisto viver radiar brasil campino assistir aqui hoje segundar dia insercoes nacional ir estrear novo filme contra preco absurdo combustiveis saber primeiro denunciar politicar criminoso precos petrobras bolsonaro odoscombustiveis atencao gente querido santo catarino daqui pouco entrevisto assistir entrevisto viver santo catarino acompanhar terca estrear novo formato comentar video positivar reagir insercoes nacional pdt video jovem baiano aprovar medicinar encontrar tubaroes pernambuco viralizou rede conferir acontecer ano fazer piar mau gostar patricia pillar epoca companheiro desculpar publicamente vidar seguir menos haters sempre parir acrescentar camada fake news aqui voltar esclarecer tudo novamente compartilhar lamentar falecimento grande fisico amigar luiz pinguelli rosar coope algum vezar trabalhar pesquisar exemplo maravilhoso brasil geopolitica acreditar algum principios devir guiar sempre brasil tradicao pacificar definir sabedoria acumular grande estadista ir lembrar bom converso sobrar politicar externo jornalista acompanhar youtube comecou entrevisto sobrar politicar externo jornalista acompanhar novo filmar estrear amanhar tv aberto ir defender introducao plebiscito instrumentar participacao popular modernizacao saneamento relacoes politicar sintonia democracia desenvolvido atencao baixar santista hoje tardar encontrar tv cultura litoral esperar compartilhar entrevisto viver tv cultura litoral acompanhar sim possivel governar corrupcao conchavo significar governar apoiar congresso nacional ver pretender aprovar reformar brasil tanto preciso responder luciano achar explicar claramente motivo rebeldia revolto situacao brasil resolver destacar aqui porque saber muito vao concordar continuar acompanhar irmao amarrar lista rebeldia semana turma logo estar viver jornal band fm sorocaba comeca participar agora jornal band fm sorocaba assistir compartilhar neto maria claro vacinar obrigar profissional sus seguir lutar saude brasileiro vacinar todo vidar limpo acumular experiencia conheco brasil fibra coracao aqui propor construcao movimentar uniao lutar estabeleca base novo emancipador projeto pai novo filmar estrear hoje tv denunciar absurdo imposto pai brasil piorar sistema tributarios mundo imposto alto injusto pobre classe medir pagar rico acreditar turma bom sempre dar show dessar vez fazer gamar comigo nadar tubaroes inspirar naquele video fazer sucesso semana passar aqui jogar contar quanto diamante pegar cartar comovente contundente jamil chade expresso tudo qualquer ser humanar poder dizer sobrar triste vergonhoso episodiar lente amor aqui insercao nacional pdt lembrar discriminacoes violencia mulher sofrer brasil apontar saidas aumentar participacao feminino politicar adamulher sentimento solidariedade familia povo potiguar falecimento ex governador exsenador geraldo melar politicar orador talento cultura produzir periferia grande cidade funcionar alternativo vidar render trabalhar muito jovem ameacados violencia conhecer coletivos atuam salvador paulo ficar impressionar vir proposto comeco mear fim meter prazo recurso bem definir todo livrar projeto nacional dever esperanca brasileiro votar mim ideia assim pretender reformar pai s querer dizer levar tres ano esfolar povo encher bolsar baroes agora ta oleo pescoco querer bancar salvador patria cinico canalha reduzir imposto pobre classe medir aumentar rico brasil modelo tributacao injusto mundo conseguir entender arrocho imposto vir sempre bolsar trabalhador livrar superricos dia internacional mulher ir receber algum liderancas feminino pra papar sincero sobrar situacao mulher brasil hoje react rodar comerciar terca cear provar possivel oferecer educacao publicar tao bom quantum escola particular entao poder adotar modelar todo brasil temer debater representante varios movimento negro bahia ver algum trecho turma hoje ir conversar sobrar brasil defeso nacional robinson farinazzo oficial marinho brasil acompanhar viver canal arte guerra youtube comecou converso sobrar brasil defeso nacional robinson farinazzo rogerio anitablian compartilhar ir receber algum principal liderancas feminino pdt debater afirmacao igualdade diversidade ir ter react rodar comerciar hoje hoje algum liderancas feminino mandar aqui recadar todo pai valorizar mulher crescer melhor ver insercao nacional partir adamulher otima bandar percussao reconhecido dentro brasil dida movimentar englobar lutar antirracista emancipacao feminino inclusao social giselle visitar ser salvador ficar encantar vir hoje renovar compromisso governar todo brasileiro principalmente ainda sofrer todo tipo preconceito opressao brasil ter consciencia orgulhar ser pai feminino atencao gente queridalogo apo entrevisto pra acompanhar converso bom sobrar pai hoje ciro gamar forcar mulher izolda cela dar chamar atencao brasil subrepresentacao mulher todo campo vidar politicar prefeito eleito apenas mulher mulher ocupar vago congresso governador brasil defensor publicar poder publicar preparar mulher independente pq creche escola tempo integral entao mulher ir ser independente ir estudar estar propiciar condicoes deputar mulher filhar homem preocupar homem formar entregar sociedade ensinar filhar relacao respeitar mulher deputar gente conseguir enfrentar preconceito apenas forcar pessoal competencia gente tras gente estruturar aceito preconceito vicegovernadora cear izolda cela dia marcar convocacao estrar mulher situar forcar respeitar expandir espacos atuacao todo areas sociedade brasileiro vicegovernadora paraiba ligia feliciano querer igualdade homem mulher querer conquistar espaco querer dar mulher oportunidade crescimento unir muito forcar ligia feliciano vicegovernadora paraiba achar maior avanco termo lei sentimento acreditar mulher vir avancando saber poder fazer diferenca poder ocupar lugar querer on gleides sodre miguelina vecchio acompanhar viceprefeita recife coisa motivar entrar politicar efetivamente ter filho filhar compreender esforco filho precisar fazer ter direito filhar ser homem nascer ter vicepresidente nacional pdt miguelina vecchio gente sofrer violencia politicar pq alguem resolver estabelecer lugar onde poder fazer politicar gente passar dessar lugar sair pra caixa gente bemvinda exreitora usp suely vilelanos vivenciamos sociedade onde padroes valorar masculino mundo trabalhar fazer preparar homem entao mulher romper muito barreirar ocupar diferente posto trabalhar pdt diversidade servir quebrar paradigma quebrar identitarismo chulo mostrar sim lutar pautar civilizatoria cidadania pleno todo populacoes especificidade cisgeneras transexual gleides sodre vicepresidente pdtsp sempre achar fundamental participacao sociedade transformador mudar realidade mulher viver viceprefeita salvador poder falar avancos legar praticar gente verificar grau pobreza falto desenvolvimento economico social gente perceber violencia contra mulher falto direito vereador pessoa perguntar mulher transexual conseguir ser pessoa votar historiar bh dizer construcao dar justamente proposto solidar dizer concretizalas bom dia comeco quartafeira entrevisto radiar sarandi rir grande sulacompanhe partir conversar agora jornalista radiar sarandi rir grande sul acompanhar vez ficar primeiro lugar pesquisar sobrar comentarios positivo rede social obrigar querido turma bom todo chegar ultimar semana interessar conhecer debater projeto brasil quatro paises mundo indicador piorar brasil crime contra mulher fato termo presidente bolsonaro fazer piorar terrivel quadrar desigualdade poder insistir modelar destruir confianca populacao sistema politicar ninguem tentar mudar porque sempre interessar reeleicao assumir compromisso eleito ir disputar segundar mandatar presenca discursar caetano hoje senado moldurar historica instaurar novo formar enfrentamento marchar devastador algum setores promover contra mear ambientar ver ouvir algum coisa reagir indiferenca calmo revolto hoje poupar contundencia porque conheco estudar problema pra ficar engolir cinismo jair bolsonaro ver razao justar pagar ipva carro moto super rico pagar nado jatinho iate justar pagar imposto ligacao celular prepago super rico pagar nado lucro dividendo desejar muito saude bencaos felicidade querer deputar federal professor phd economia orgulhar telo lado lutar brasil querer convencer fazer conchavo ceder corrupcao impossivel governar mentir pretender provar governar dialogar congresso sim chamar povo participar grande decisoes garfar cruel bolsar brasileiro brasileiro causar famigerado politicar precos petrobras bolsonaro lembrar pistola remarcacao precos supermercado epoca hiperinflacao terceiro ver ver certo figurar dessar suposto terceiro ver sergio morar importar consequencia eleitoral inimigo republicar dialogar caro querer ir paraiso dira entendimento politicar chatear razao ir pagar combustivel caro diretoria petrobras comemorar enquanto baroes acionistas petrobras lucrar bilhoes povo sofrer prejuizo tamanho diante aumentar absurdo preco combustiveis bem dizer enquanto bolsonaro aproveitar dinheiro publicar ferir hoje principal causar empobrecimento nacao destruicao industriar fato denunciar ano saber gente comprar estrangeirar item basicos poder ser produzir aqui patrocinar proprio desenvolvimento jeito governar diferente ai conhecer todo item dessar lista solidariedade familia amigo grande fotografar orlar britar deixar hoje lente registrar arte inspiracao grande momento historiar politicar brasileiro acontecer brasil assaltar idear acabar dolarizacao preco combustiveis primeiro providenciar custar real basear custar producao lucrar linha eficiente petroleiro redor mundo muitocaro turma bom mobilizar atar militante todo brasil vao participar divulgar projeto nacional desenvolvimentoconfira cidade confirmar publicar foto hashtag pra gente compartilhar enquanto povo brasileiro cortar carnar pao leite algum pouco enriquecer aumentar abusivo combustiveis ir seguir denunciar segundo estar paulo lado estudioso independente debater proposto temer desafiar politicar brasileiro longo historiar pra oferecer projeto nacional desenvolvimento ano experiencia curriculo limpar amor brasil opelobrasil ministrar fazenda governar itamar franco governador cear prefeito fortalezar nunca gastar arrecadar provavel unico homem publicar brasileiro produzir dia sequer deficit terca assunto poder ser outro tragica politicar precos petrobras converso ir receber felipe coutinho patricia laier claudio duarte integrante associacao engenheiro petrobras esperar partir chegar algum registro atar mobilizar turma bom sabado avante acreditar lutar contra racismo base muito outro lutar porque depender construcao pai justar precisar aprofundar politicar afirmativo novo modelar desenvolvimento comprometer superar miseria desigualdade vir fazer ano projeto nacional desenvolvimento querer debater ouvir criticar sugestoes aperfeicoar proposto compareca participar esqueca passaporte vacinal aojesse souza heloisa heleno walter maierovitch brunir carazza raquel pimenta cair mario pereira neto martim della valle alessandro octaviani estudioso debaterao proposto combater corrupcao cantar mal espantar bom domingo todo todo hoje dia celebrar vidar dessar mulher extraordinaria presidente pdt diversidade pra saber partir pioneiro criar movimentar lutar diversidade brasil muito luzir saude seguir nessa lutar tao importante turma bom reunir neste sabado acao territorial brasil quantum orgulhar seguir junto lutar projeto nacional desenvolvimento poesia invadir politicar sinal caminhar certar trilhar esperanca lutar politicar tocar almo juvenil sinal vivo rebeldia esperanca belo video jovem rebelde esperanca alguem saber autor foto crianca esperanca'"
      ]
     },
     "execution_count": 161,
     "metadata": {},
     "output_type": "execute_result"
    }
   ],
   "source": [
    "words_candidate('Ciro Gomes')"
   ]
  },
  {
   "cell_type": "code",
   "execution_count": 162,
   "metadata": {},
   "outputs": [],
   "source": [
    "def words_hashtag(df: pd.DataFrame, candidate: str, hashtag: str):\n",
    "\n",
    "    searcher = re.compile(hashtag)\n",
    "    hash_df = df.copy()\n",
    "    filter = hash_df.hashtags.apply(lambda x: True if searcher.search(x) else False)\n",
    "    hash_df.clean_text = hash_df.clean_text.apply(lambda x: extract_words(x))\n",
    "    hash_df[(hash_df.user_name == candidate) * filter].clean_text.apply(lambda x: x.remove(candidate) if (candidate in x) else x)\n",
    "    hash_df[(hash_df.user_name == candidate) * filter].clean_text.apply(lambda x: x.remove(candidate.lower()) if (candidate.lower() in x) else x)\n",
    "    candidate = ' '.join(list(hash_df[(hash_df.user_name == candidate) * filter].clean_text.apply(lambda x: ' '.join(x))))\n",
    "    wordcloud = WordCloud(width=480, height=480, margin=0).generate(candidate)\n",
    "    plt.imshow(wordcloud, interpolation='bilinear')\n",
    "    plt.axis(\"off\")\n",
    "    plt.margins(x=0,y=0)\n",
    "    plt.show()"
   ]
  },
  {
   "cell_type": "code",
   "execution_count": 163,
   "metadata": {},
   "outputs": [
    {
     "data": {
      "image/png": "[encoded data removed]",
      "text/plain": [
       "<Figure size 432x288 with 1 Axes>"
      ]
     },
     "metadata": {
      "needs_background": "light"
     },
     "output_type": "display_data"
    }
   ],
   "source": [
    "words_hashtag(poli, 'Lula', 'equipelula')"
   ]
  },
  {
   "cell_type": "markdown",
   "metadata": {},
   "source": [
    "#### Sankey"
   ]
  },
  {
   "cell_type": "code",
   "execution_count": 164,
   "metadata": {},
   "outputs": [
    {
     "data": {
      "text/plain": [
       "Index(['Unnamed: 0', 'tweets_id', 'tweets_in_thread', 'created_at', 'text',\n",
       "       'retweet_count', 'like_count', 'reply_count', 'quote_count', 'user_id',\n",
       "       'username', 'user_name', 'user_picture', 'verified', 'clean_text',\n",
       "       'mentions', 'hashtags', 'emojis'],\n",
       "      dtype='object')"
      ]
     },
     "execution_count": 164,
     "metadata": {},
     "output_type": "execute_result"
    }
   ],
   "source": [
    "poli.columns"
   ]
  },
  {
   "cell_type": "code",
   "execution_count": 165,
   "metadata": {},
   "outputs": [],
   "source": [
    "def hash_sankey(df, hashtag, candidate, general = True):\n",
    "\n",
    "    candidate_df = df[df.user_name==candidate].copy()\n",
    "\n",
    "    hash_dict = {i:[] for i in hashtag}\n",
    "\n",
    "    if general:\n",
    "        limit = candidate_df.reply_count.mean()\n",
    "        candidate_df['high_reply'] = candidate_df.reply_count > limit\n",
    "\n",
    "    for hash in hashtag:\n",
    "        searcher = re.compile(hash)\n",
    "        filter = candidate_df.hashtags.apply(lambda x: True if searcher.search(x) else False)\n",
    "        hash_df = candidate_df[filter].copy()\n",
    "        if not(general):\n",
    "            limit = hash_df.reply_count.mean()\n",
    "            hash_df['high_reply'] = hash_df.reply_count > limit\n",
    "        plot_df = hash_df.groupby(\"high_reply\").count().reset_index()\n",
    "        false = plot_df[plot_df.high_reply==False].reply_count.iloc[0] if len(plot_df[plot_df.high_reply==False].reply_count) > 0 else 0\n",
    "        true = plot_df[plot_df.high_reply==True].reply_count.iloc[0] if len(plot_df[plot_df.high_reply==True].reply_count) > 0 else 0\n",
    "        hash_dict[hash].extend([true,false])\n",
    "        print(hash_dict)\n",
    "\n",
    "    source = []\n",
    "    target = []\n",
    "    value = []\n",
    "\n",
    "    for i, hash in enumerate(hashtag):\n",
    "        source.extend(2*[i])\n",
    "        value.extend(hash_dict[hash])\n",
    "\n",
    "    target.extend(len(hashtag)*[len(hashtag), len(hashtag)+1])\n",
    "\n",
    "    \n",
    "    print(source)\n",
    "    print(target)\n",
    "    print(value)\n",
    "    hashtag.extend(['popular','impopular'])\n",
    "    print(hashtag)\n",
    "    pal = list(sns.color_palette(palette='viridis', n_colors=len(hashtag)).as_hex())\n",
    "\n",
    "    fig = go.Figure(data=[go.Sankey(\n",
    "        node = dict(\n",
    "        pad = 15,\n",
    "        thickness = 20,\n",
    "        line = dict(color = \"black\", width = 0.5),\n",
    "        label = hashtag,\n",
    "        color = pal\n",
    "        ),\n",
    "        link = dict(\n",
    "        source = source, \n",
    "        target = target,\n",
    "        value = value\n",
    "    ))])\n",
    "\n",
    "    fig.show()"
   ]
  },
  {
   "cell_type": "code",
   "execution_count": 166,
   "metadata": {},
   "outputs": [
    {
     "name": "stdout",
     "output_type": "stream",
     "text": [
      "{'equipelula': [21, 49], 'fatossobrelula': [], 'lulaaovivo': []}\n",
      "{'equipelula': [21, 49], 'fatossobrelula': [23, 52], 'lulaaovivo': []}\n",
      "{'equipelula': [21, 49], 'fatossobrelula': [23, 52], 'lulaaovivo': [5, 5]}\n",
      "[0, 0, 1, 1, 2, 2]\n",
      "[3, 4, 3, 4, 3, 4]\n",
      "[21, 49, 23, 52, 5, 5]\n",
      "['equipelula', 'fatossobrelula', 'lulaaovivo', 'popular', 'impopular']\n"
     ]
    },
    {
     "data": {
      "application/vnd.plotly.v1+json": {
       "config": {
        "plotlyServerURL": "https://plot.ly"
       },
       "data": [
        {
         "link": {
          "source": [
           0,
           0,
           1,
           1,
           2,
           2
          ],
          "target": [
           3,
           4,
           3,
           4,
           3,
           4
          ],
          "value": [
           21,
           49,
           23,
           52,
           5,
           5
          ]
         },
         "node": {
          "color": [
           "#443983",
           "#31688e",
           "#21918c",
           "#35b779",
           "#90d743"
          ],
          "label": [
           "equipelula",
           "fatossobrelula",
           "lulaaovivo",
           "popular",
           "impopular"
          ],
          "line": {
           "color": "black",
           "width": 0.5
          },
          "pad": 15,
          "thickness": 20
         },
         "type": "sankey"
        }
       ],
       "layout": {
        "template": {
         "data": {
          "bar": [
           {
            "error_x": {
             "color": "#2a3f5f"
            },
            "error_y": {
             "color": "#2a3f5f"
            },
            "marker": {
             "line": {
              "color": "#E5ECF6",
              "width": 0.5
             },
             "pattern": {
              "fillmode": "overlay",
              "size": 10,
              "solidity": 0.2
             }
            },
            "type": "bar"
           }
          ],
          "barpolar": [
           {
            "marker": {
             "line": {
              "color": "#E5ECF6",
              "width": 0.5
             },
             "pattern": {
              "fillmode": "overlay",
              "size": 10,
              "solidity": 0.2
             }
            },
            "type": "barpolar"
           }
          ],
          "carpet": [
           {
            "aaxis": {
             "endlinecolor": "#2a3f5f",
             "gridcolor": "white",
             "linecolor": "white",
             "minorgridcolor": "white",
             "startlinecolor": "#2a3f5f"
            },
            "baxis": {
             "endlinecolor": "#2a3f5f",
             "gridcolor": "white",
             "linecolor": "white",
             "minorgridcolor": "white",
             "startlinecolor": "#2a3f5f"
            },
            "type": "carpet"
           }
          ],
          "choropleth": [
           {
            "colorbar": {
             "outlinewidth": 0,
             "ticks": ""
            },
            "type": "choropleth"
           }
          ],
          "contour": [
           {
            "colorbar": {
             "outlinewidth": 0,
             "ticks": ""
            },
            "colorscale": [
             [
              0,
              "#0d0887"
             ],
             [
              0.1111111111111111,
              "#46039f"
             ],
             [
              0.2222222222222222,
              "#7201a8"
             ],
             [
              0.3333333333333333,
              "#9c179e"
             ],
             [
              0.4444444444444444,
              "#bd3786"
             ],
             [
              0.5555555555555556,
              "#d8576b"
             ],
             [
              0.6666666666666666,
              "#ed7953"
             ],
             [
              0.7777777777777778,
              "#fb9f3a"
             ],
             [
              0.8888888888888888,
              "#fdca26"
             ],
             [
              1,
              "#f0f921"
             ]
            ],
            "type": "contour"
           }
          ],
          "contourcarpet": [
           {
            "colorbar": {
             "outlinewidth": 0,
             "ticks": ""
            },
            "type": "contourcarpet"
           }
          ],
          "heatmap": [
           {
            "colorbar": {
             "outlinewidth": 0,
             "ticks": ""
            },
            "colorscale": [
             [
              0,
              "#0d0887"
             ],
             [
              0.1111111111111111,
              "#46039f"
             ],
             [
              0.2222222222222222,
              "#7201a8"
             ],
             [
              0.3333333333333333,
              "#9c179e"
             ],
             [
              0.4444444444444444,
              "#bd3786"
             ],
             [
              0.5555555555555556,
              "#d8576b"
             ],
             [
              0.6666666666666666,
              "#ed7953"
             ],
             [
              0.7777777777777778,
              "#fb9f3a"
             ],
             [
              0.8888888888888888,
              "#fdca26"
             ],
             [
              1,
              "#f0f921"
             ]
            ],
            "type": "heatmap"
           }
          ],
          "heatmapgl": [
           {
            "colorbar": {
             "outlinewidth": 0,
             "ticks": ""
            },
            "colorscale": [
             [
              0,
              "#0d0887"
             ],
             [
              0.1111111111111111,
              "#46039f"
             ],
             [
              0.2222222222222222,
              "#7201a8"
             ],
             [
              0.3333333333333333,
              "#9c179e"
             ],
             [
              0.4444444444444444,
              "#bd3786"
             ],
             [
              0.5555555555555556,
              "#d8576b"
             ],
             [
              0.6666666666666666,
              "#ed7953"
             ],
             [
              0.7777777777777778,
              "#fb9f3a"
             ],
             [
              0.8888888888888888,
              "#fdca26"
             ],
             [
              1,
              "#f0f921"
             ]
            ],
            "type": "heatmapgl"
           }
          ],
          "histogram": [
           {
            "marker": {
             "pattern": {
              "fillmode": "overlay",
              "size": 10,
              "solidity": 0.2
             }
            },
            "type": "histogram"
           }
          ],
          "histogram2d": [
           {
            "colorbar": {
             "outlinewidth": 0,
             "ticks": ""
            },
            "colorscale": [
             [
              0,
              "#0d0887"
             ],
             [
              0.1111111111111111,
              "#46039f"
             ],
             [
              0.2222222222222222,
              "#7201a8"
             ],
             [
              0.3333333333333333,
              "#9c179e"
             ],
             [
              0.4444444444444444,
              "#bd3786"
             ],
             [
              0.5555555555555556,
              "#d8576b"
             ],
             [
              0.6666666666666666,
              "#ed7953"
             ],
             [
              0.7777777777777778,
              "#fb9f3a"
             ],
             [
              0.8888888888888888,
              "#fdca26"
             ],
             [
              1,
              "#f0f921"
             ]
            ],
            "type": "histogram2d"
           }
          ],
          "histogram2dcontour": [
           {
            "colorbar": {
             "outlinewidth": 0,
             "ticks": ""
            },
            "colorscale": [
             [
              0,
              "#0d0887"
             ],
             [
              0.1111111111111111,
              "#46039f"
             ],
             [
              0.2222222222222222,
              "#7201a8"
             ],
             [
              0.3333333333333333,
              "#9c179e"
             ],
             [
              0.4444444444444444,
              "#bd3786"
             ],
             [
              0.5555555555555556,
              "#d8576b"
             ],
             [
              0.6666666666666666,
              "#ed7953"
             ],
             [
              0.7777777777777778,
              "#fb9f3a"
             ],
             [
              0.8888888888888888,
              "#fdca26"
             ],
             [
              1,
              "#f0f921"
             ]
            ],
            "type": "histogram2dcontour"
           }
          ],
          "mesh3d": [
           {
            "colorbar": {
             "outlinewidth": 0,
             "ticks": ""
            },
            "type": "mesh3d"
           }
          ],
          "parcoords": [
           {
            "line": {
             "colorbar": {
              "outlinewidth": 0,
              "ticks": ""
             }
            },
            "type": "parcoords"
           }
          ],
          "pie": [
           {
            "automargin": true,
            "type": "pie"
           }
          ],
          "scatter": [
           {
            "fillpattern": {
             "fillmode": "overlay",
             "size": 10,
             "solidity": 0.2
            },
            "type": "scatter"
           }
          ],
          "scatter3d": [
           {
            "line": {
             "colorbar": {
              "outlinewidth": 0,
              "ticks": ""
             }
            },
            "marker": {
             "colorbar": {
              "outlinewidth": 0,
              "ticks": ""
             }
            },
            "type": "scatter3d"
           }
          ],
          "scattercarpet": [
           {
            "marker": {
             "colorbar": {
              "outlinewidth": 0,
              "ticks": ""
             }
            },
            "type": "scattercarpet"
           }
          ],
          "scattergeo": [
           {
            "marker": {
             "colorbar": {
              "outlinewidth": 0,
              "ticks": ""
             }
            },
            "type": "scattergeo"
           }
          ],
          "scattergl": [
           {
            "marker": {
             "colorbar": {
              "outlinewidth": 0,
              "ticks": ""
             }
            },
            "type": "scattergl"
           }
          ],
          "scattermapbox": [
           {
            "marker": {
             "colorbar": {
              "outlinewidth": 0,
              "ticks": ""
             }
            },
            "type": "scattermapbox"
           }
          ],
          "scatterpolar": [
           {
            "marker": {
             "colorbar": {
              "outlinewidth": 0,
              "ticks": ""
             }
            },
            "type": "scatterpolar"
           }
          ],
          "scatterpolargl": [
           {
            "marker": {
             "colorbar": {
              "outlinewidth": 0,
              "ticks": ""
             }
            },
            "type": "scatterpolargl"
           }
          ],
          "scatterternary": [
           {
            "marker": {
             "colorbar": {
              "outlinewidth": 0,
              "ticks": ""
             }
            },
            "type": "scatterternary"
           }
          ],
          "surface": [
           {
            "colorbar": {
             "outlinewidth": 0,
             "ticks": ""
            },
            "colorscale": [
             [
              0,
              "#0d0887"
             ],
             [
              0.1111111111111111,
              "#46039f"
             ],
             [
              0.2222222222222222,
              "#7201a8"
             ],
             [
              0.3333333333333333,
              "#9c179e"
             ],
             [
              0.4444444444444444,
              "#bd3786"
             ],
             [
              0.5555555555555556,
              "#d8576b"
             ],
             [
              0.6666666666666666,
              "#ed7953"
             ],
             [
              0.7777777777777778,
              "#fb9f3a"
             ],
             [
              0.8888888888888888,
              "#fdca26"
             ],
             [
              1,
              "#f0f921"
             ]
            ],
            "type": "surface"
           }
          ],
          "table": [
           {
            "cells": {
             "fill": {
              "color": "#EBF0F8"
             },
             "line": {
              "color": "white"
             }
            },
            "header": {
             "fill": {
              "color": "#C8D4E3"
             },
             "line": {
              "color": "white"
             }
            },
            "type": "table"
           }
          ]
         },
         "layout": {
          "annotationdefaults": {
           "arrowcolor": "#2a3f5f",
           "arrowhead": 0,
           "arrowwidth": 1
          },
          "autotypenumbers": "strict",
          "coloraxis": {
           "colorbar": {
            "outlinewidth": 0,
            "ticks": ""
           }
          },
          "colorscale": {
           "diverging": [
            [
             0,
             "#8e0152"
            ],
            [
             0.1,
             "#c51b7d"
            ],
            [
             0.2,
             "#de77ae"
            ],
            [
             0.3,
             "#f1b6da"
            ],
            [
             0.4,
             "#fde0ef"
            ],
            [
             0.5,
             "#f7f7f7"
            ],
            [
             0.6,
             "#e6f5d0"
            ],
            [
             0.7,
             "#b8e186"
            ],
            [
             0.8,
             "#7fbc41"
            ],
            [
             0.9,
             "#4d9221"
            ],
            [
             1,
             "#276419"
            ]
           ],
           "sequential": [
            [
             0,
             "#0d0887"
            ],
            [
             0.1111111111111111,
             "#46039f"
            ],
            [
             0.2222222222222222,
             "#7201a8"
            ],
            [
             0.3333333333333333,
             "#9c179e"
            ],
            [
             0.4444444444444444,
             "#bd3786"
            ],
            [
             0.5555555555555556,
             "#d8576b"
            ],
            [
             0.6666666666666666,
             "#ed7953"
            ],
            [
             0.7777777777777778,
             "#fb9f3a"
            ],
            [
             0.8888888888888888,
             "#fdca26"
            ],
            [
             1,
             "#f0f921"
            ]
           ],
           "sequentialminus": [
            [
             0,
             "#0d0887"
            ],
            [
             0.1111111111111111,
             "#46039f"
            ],
            [
             0.2222222222222222,
             "#7201a8"
            ],
            [
             0.3333333333333333,
             "#9c179e"
            ],
            [
             0.4444444444444444,
             "#bd3786"
            ],
            [
             0.5555555555555556,
             "#d8576b"
            ],
            [
             0.6666666666666666,
             "#ed7953"
            ],
            [
             0.7777777777777778,
             "#fb9f3a"
            ],
            [
             0.8888888888888888,
             "#fdca26"
            ],
            [
             1,
             "#f0f921"
            ]
           ]
          },
          "colorway": [
           "#636efa",
           "#EF553B",
           "#00cc96",
           "#ab63fa",
           "#FFA15A",
           "#19d3f3",
           "#FF6692",
           "#B6E880",
           "#FF97FF",
           "#FECB52"
          ],
          "font": {
           "color": "#2a3f5f"
          },
          "geo": {
           "bgcolor": "white",
           "lakecolor": "white",
           "landcolor": "#E5ECF6",
           "showlakes": true,
           "showland": true,
           "subunitcolor": "white"
          },
          "hoverlabel": {
           "align": "left"
          },
          "hovermode": "closest",
          "mapbox": {
           "style": "light"
          },
          "paper_bgcolor": "white",
          "plot_bgcolor": "#E5ECF6",
          "polar": {
           "angularaxis": {
            "gridcolor": "white",
            "linecolor": "white",
            "ticks": ""
           },
           "bgcolor": "#E5ECF6",
           "radialaxis": {
            "gridcolor": "white",
            "linecolor": "white",
            "ticks": ""
           }
          },
          "scene": {
           "xaxis": {
            "backgroundcolor": "#E5ECF6",
            "gridcolor": "white",
            "gridwidth": 2,
            "linecolor": "white",
            "showbackground": true,
            "ticks": "",
            "zerolinecolor": "white"
           },
           "yaxis": {
            "backgroundcolor": "#E5ECF6",
            "gridcolor": "white",
            "gridwidth": 2,
            "linecolor": "white",
            "showbackground": true,
            "ticks": "",
            "zerolinecolor": "white"
           },
           "zaxis": {
            "backgroundcolor": "#E5ECF6",
            "gridcolor": "white",
            "gridwidth": 2,
            "linecolor": "white",
            "showbackground": true,
            "ticks": "",
            "zerolinecolor": "white"
           }
          },
          "shapedefaults": {
           "line": {
            "color": "#2a3f5f"
           }
          },
          "ternary": {
           "aaxis": {
            "gridcolor": "white",
            "linecolor": "white",
            "ticks": ""
           },
           "baxis": {
            "gridcolor": "white",
            "linecolor": "white",
            "ticks": ""
           },
           "bgcolor": "#E5ECF6",
           "caxis": {
            "gridcolor": "white",
            "linecolor": "white",
            "ticks": ""
           }
          },
          "title": {
           "x": 0.05
          },
          "xaxis": {
           "automargin": true,
           "gridcolor": "white",
           "linecolor": "white",
           "ticks": "",
           "title": {
            "standoff": 15
           },
           "zerolinecolor": "white",
           "zerolinewidth": 2
          },
          "yaxis": {
           "automargin": true,
           "gridcolor": "white",
           "linecolor": "white",
           "ticks": "",
           "title": {
            "standoff": 15
           },
           "zerolinecolor": "white",
           "zerolinewidth": 2
          }
         }
        }
       }
      }
     },
     "metadata": {},
     "output_type": "display_data"
    }
   ],
   "source": [
    "hash_sankey(poli, ['equipelula','fatossobrelula','lulaaovivo'], 'Lula', general = False)"
   ]
  },
  {
   "cell_type": "markdown",
   "metadata": {},
   "source": [
    "#### Spider chart"
   ]
  },
  {
   "cell_type": "code",
   "execution_count": 167,
   "metadata": {},
   "outputs": [],
   "source": [
    "def spider_metric(df, hashtag, candidate):\n",
    "    \n",
    "    candidate_df = df[df.user_name==candidate].copy()\n",
    "\n",
    "    for hash in hashtag:\n",
    "\n",
    "        searcher = re.compile(hash)\n",
    "\n",
    "        filter = candidate_df.hashtags.apply(lambda x: True if searcher.search(x) else False)\n",
    "        \n",
    "        fig = px.line_polar(df, r='r', theta='theta', line_close=True)\n",
    "\n",
    "    fig = px.line_polar(df, r='r', theta='theta', line_close=True)\n",
    "    fig.show()\n"
   ]
  },
  {
   "cell_type": "markdown",
   "metadata": {},
   "source": [
    "## Temporal"
   ]
  },
  {
   "cell_type": "code",
   "execution_count": 168,
   "metadata": {},
   "outputs": [
    {
     "data": {
      "text/plain": [
       "array(['Lula', 'Jair M. Bolsonaro', 'André Janones', 'Simone Tebet',\n",
       "       \"Felipe d'Avila\", 'Ciro Gomes', 'João Doria', 'Sergio Moro',\n",
       "       'Aldo Rebelo', 'Leo Péricles', 'Senador Alessandro Vieira'],\n",
       "      dtype=object)"
      ]
     },
     "execution_count": 168,
     "metadata": {},
     "output_type": "execute_result"
    }
   ],
   "source": [
    "poli.user_name.unique()"
   ]
  },
  {
   "cell_type": "code",
   "execution_count": 169,
   "metadata": {},
   "outputs": [],
   "source": [
    "like_df=poli[['created_at','like_count']].copy()"
   ]
  },
  {
   "cell_type": "code",
   "execution_count": 170,
   "metadata": {},
   "outputs": [
    {
     "data": {
      "text/html": [
       "<div>\n",
       "<style scoped>\n",
       "    .dataframe tbody tr th:only-of-type {\n",
       "        vertical-align: middle;\n",
       "    }\n",
       "\n",
       "    .dataframe tbody tr th {\n",
       "        vertical-align: top;\n",
       "    }\n",
       "\n",
       "    .dataframe thead th {\n",
       "        text-align: right;\n",
       "    }\n",
       "</style>\n",
       "<table border=\"1\" class=\"dataframe\">\n",
       "  <thead>\n",
       "    <tr style=\"text-align: right;\">\n",
       "      <th></th>\n",
       "      <th>Unnamed: 0</th>\n",
       "      <th>tweets_id</th>\n",
       "      <th>tweets_in_thread</th>\n",
       "      <th>created_at</th>\n",
       "      <th>text</th>\n",
       "      <th>retweet_count</th>\n",
       "      <th>like_count</th>\n",
       "      <th>reply_count</th>\n",
       "      <th>quote_count</th>\n",
       "      <th>user_id</th>\n",
       "      <th>username</th>\n",
       "      <th>user_name</th>\n",
       "      <th>user_picture</th>\n",
       "      <th>verified</th>\n",
       "      <th>clean_text</th>\n",
       "      <th>mentions</th>\n",
       "      <th>hashtags</th>\n",
       "      <th>emojis</th>\n",
       "    </tr>\n",
       "  </thead>\n",
       "  <tbody>\n",
       "    <tr>\n",
       "      <th>586</th>\n",
       "      <td>586</td>\n",
       "      <td>['1438838014004891650', '1438838687450734597',...</td>\n",
       "      <td>3</td>\n",
       "      <td>2021-09-17T12:11:29.000Z</td>\n",
       "      <td>- O investimento total, em 2021, tanto em leit...</td>\n",
       "      <td>3454</td>\n",
       "      <td>19161</td>\n",
       "      <td>581</td>\n",
       "      <td>35</td>\n",
       "      <td>128372940</td>\n",
       "      <td>jairbolsonaro</td>\n",
       "      <td>Jair M. Bolsonaro</td>\n",
       "      <td>https://pbs.twimg.com/profile_images/105763148...</td>\n",
       "      <td>True</td>\n",
       "      <td>['investimento', 'total', 'tanto', 'leito', 'u...</td>\n",
       "      <td>['@govbr', '@minsaude', '@mqueiroga2', '@secom...</td>\n",
       "      <td>nan</td>\n",
       "      <td>NaN</td>\n",
       "    </tr>\n",
       "    <tr>\n",
       "      <th>587</th>\n",
       "      <td>587</td>\n",
       "      <td>['1438947763237048323', '1438948310971293697',...</td>\n",
       "      <td>3</td>\n",
       "      <td>2021-09-17T19:27:35.000Z</td>\n",
       "      <td>- Somente no mês de agosto, o @JusticaGovBR (M...</td>\n",
       "      <td>6301</td>\n",
       "      <td>34476</td>\n",
       "      <td>853</td>\n",
       "      <td>114</td>\n",
       "      <td>128372940</td>\n",
       "      <td>jairbolsonaro</td>\n",
       "      <td>Jair M. Bolsonaro</td>\n",
       "      <td>https://pbs.twimg.com/profile_images/105763148...</td>\n",
       "      <td>True</td>\n",
       "      <td>['somente', 'mes', 'agostar', 'mjsp', 'arrecad...</td>\n",
       "      <td>['@JusticaGovBR', '@andersongtorres']</td>\n",
       "      <td>nan</td>\n",
       "      <td>NaN</td>\n",
       "    </tr>\n",
       "    <tr>\n",
       "      <th>588</th>\n",
       "      <td>588</td>\n",
       "      <td>['1438986684780195844']</td>\n",
       "      <td>1</td>\n",
       "      <td>2021-09-17T22:02:15.000Z</td>\n",
       "      <td>🇧🇷 Cerimônia de Lançamento do Projeto Pró-Água...</td>\n",
       "      <td>3986</td>\n",
       "      <td>18147</td>\n",
       "      <td>881</td>\n",
       "      <td>172</td>\n",
       "      <td>128372940</td>\n",
       "      <td>jairbolsonaro</td>\n",
       "      <td>Jair M. Bolsonaro</td>\n",
       "      <td>https://pbs.twimg.com/profile_images/105763148...</td>\n",
       "      <td>True</td>\n",
       "      <td>['cerimoniar', 'lancamento', 'projeto', 'proag...</td>\n",
       "      <td>['@mdregional_br', '@rogeriosmarinho', '@govbr']</td>\n",
       "      <td>nan</td>\n",
       "      <td>['🇧🇷']</td>\n",
       "    </tr>\n",
       "    <tr>\n",
       "      <th>589</th>\n",
       "      <td>589</td>\n",
       "      <td>['1439185525274038273', '1439185591422308353']</td>\n",
       "      <td>2</td>\n",
       "      <td>2021-09-18T11:12:22.000Z</td>\n",
       "      <td>- O desempenho das contas públicas é resultado...</td>\n",
       "      <td>6256</td>\n",
       "      <td>34670</td>\n",
       "      <td>1235</td>\n",
       "      <td>122</td>\n",
       "      <td>128372940</td>\n",
       "      <td>jairbolsonaro</td>\n",
       "      <td>Jair M. Bolsonaro</td>\n",
       "      <td>https://pbs.twimg.com/profile_images/105763148...</td>\n",
       "      <td>True</td>\n",
       "      <td>['desempenhar', 'contar', 'publicar', 'resulta...</td>\n",
       "      <td>['@govbr', '@BancoCentralBR', '@secomvc']</td>\n",
       "      <td>nan</td>\n",
       "      <td>NaN</td>\n",
       "    </tr>\n",
       "    <tr>\n",
       "      <th>590</th>\n",
       "      <td>590</td>\n",
       "      <td>['1439282512145100807']</td>\n",
       "      <td>1</td>\n",
       "      <td>2021-09-18T17:37:46.000Z</td>\n",
       "      <td>🇧🇷 Mara Rosa/GO, 17 Set 21.\\n- Ordem de serviç...</td>\n",
       "      <td>3819</td>\n",
       "      <td>18306</td>\n",
       "      <td>806</td>\n",
       "      <td>142</td>\n",
       "      <td>128372940</td>\n",
       "      <td>jairbolsonaro</td>\n",
       "      <td>Jair M. Bolsonaro</td>\n",
       "      <td>https://pbs.twimg.com/profile_images/105763148...</td>\n",
       "      <td>True</td>\n",
       "      <td>['mara', 'rosago', 'set', 'ordem', 'servico', ...</td>\n",
       "      <td>NaN</td>\n",
       "      <td>nan</td>\n",
       "      <td>['🇧🇷']</td>\n",
       "    </tr>\n",
       "    <tr>\n",
       "      <th>...</th>\n",
       "      <td>...</td>\n",
       "      <td>...</td>\n",
       "      <td>...</td>\n",
       "      <td>...</td>\n",
       "      <td>...</td>\n",
       "      <td>...</td>\n",
       "      <td>...</td>\n",
       "      <td>...</td>\n",
       "      <td>...</td>\n",
       "      <td>...</td>\n",
       "      <td>...</td>\n",
       "      <td>...</td>\n",
       "      <td>...</td>\n",
       "      <td>...</td>\n",
       "      <td>...</td>\n",
       "      <td>...</td>\n",
       "      <td>...</td>\n",
       "      <td>...</td>\n",
       "    </tr>\n",
       "    <tr>\n",
       "      <th>1063</th>\n",
       "      <td>1063</td>\n",
       "      <td>['1502110958726098945', '1502110961334992947',...</td>\n",
       "      <td>3</td>\n",
       "      <td>2022-03-11T02:35:35.000Z</td>\n",
       "      <td>- Abaixo, aqueles que dizem ter sido vítimas d...</td>\n",
       "      <td>14773</td>\n",
       "      <td>73412</td>\n",
       "      <td>2672</td>\n",
       "      <td>473</td>\n",
       "      <td>128372940</td>\n",
       "      <td>jairbolsonaro</td>\n",
       "      <td>Jair M. Bolsonaro</td>\n",
       "      <td>https://pbs.twimg.com/profile_images/105763148...</td>\n",
       "      <td>True</td>\n",
       "      <td>['abaixar', 'dizer', 'ter', 'ser', 'vitimar', ...</td>\n",
       "      <td>NaN</td>\n",
       "      <td>nan</td>\n",
       "      <td>['👍']</td>\n",
       "    </tr>\n",
       "    <tr>\n",
       "      <th>1064</th>\n",
       "      <td>1064</td>\n",
       "      <td>['1502207295111020544']</td>\n",
       "      <td>1</td>\n",
       "      <td>2022-03-11T08:58:23.000Z</td>\n",
       "      <td>- PARAÍBA / João Pessoa:  O @govbr inaugurou o...</td>\n",
       "      <td>3642</td>\n",
       "      <td>14390</td>\n",
       "      <td>1234</td>\n",
       "      <td>133</td>\n",
       "      <td>128372940</td>\n",
       "      <td>jairbolsonaro</td>\n",
       "      <td>Jair M. Bolsonaro</td>\n",
       "      <td>https://pbs.twimg.com/profile_images/105763148...</td>\n",
       "      <td>True</td>\n",
       "      <td>['paraiba', 'joao', 'pessoa', 'inaugurar', 'ob...</td>\n",
       "      <td>['@govbr', '@mdregional_br', '@rogeriosmarinho']</td>\n",
       "      <td>nan</td>\n",
       "      <td>NaN</td>\n",
       "    </tr>\n",
       "    <tr>\n",
       "      <th>1065</th>\n",
       "      <td>1065</td>\n",
       "      <td>['1502573731327184901', '1502573790634680325',...</td>\n",
       "      <td>3</td>\n",
       "      <td>2022-03-12T09:14:28.000Z</td>\n",
       "      <td>- O @govbr , por meio do @mdregional_br ,  rep...</td>\n",
       "      <td>7379</td>\n",
       "      <td>36579</td>\n",
       "      <td>1582</td>\n",
       "      <td>185</td>\n",
       "      <td>128372940</td>\n",
       "      <td>jairbolsonaro</td>\n",
       "      <td>Jair M. Bolsonaro</td>\n",
       "      <td>https://pbs.twimg.com/profile_images/105763148...</td>\n",
       "      <td>True</td>\n",
       "      <td>['mear', 'repassar', 'recurso', 'continuidade'...</td>\n",
       "      <td>['@govbr', '@mdregional_br']</td>\n",
       "      <td>nan</td>\n",
       "      <td>NaN</td>\n",
       "    </tr>\n",
       "    <tr>\n",
       "      <th>1066</th>\n",
       "      <td>1066</td>\n",
       "      <td>['1502934725840756740', '1502934728294506501',...</td>\n",
       "      <td>3</td>\n",
       "      <td>2022-03-13T09:08:56.000Z</td>\n",
       "      <td>- Da gestação até os 6 anos, a primeira infânc...</td>\n",
       "      <td>7867</td>\n",
       "      <td>39177</td>\n",
       "      <td>900</td>\n",
       "      <td>167</td>\n",
       "      <td>128372940</td>\n",
       "      <td>jairbolsonaro</td>\n",
       "      <td>Jair M. Bolsonaro</td>\n",
       "      <td>https://pbs.twimg.com/profile_images/105763148...</td>\n",
       "      <td>True</td>\n",
       "      <td>['gestacao', 'ano', 'primeiro', 'infancia', 'f...</td>\n",
       "      <td>['@govbr', '@MinCidadania', '@joaoromaneto']</td>\n",
       "      <td>nan</td>\n",
       "      <td>NaN</td>\n",
       "    </tr>\n",
       "    <tr>\n",
       "      <th>1067</th>\n",
       "      <td>1067</td>\n",
       "      <td>['1503036395354574848', '1503039040345583625']</td>\n",
       "      <td>2</td>\n",
       "      <td>2022-03-13T15:52:56.000Z</td>\n",
       "      <td>-ALAGOAS / Coqueiro Seco e região: Entregue re...</td>\n",
       "      <td>3224</td>\n",
       "      <td>13491</td>\n",
       "      <td>601</td>\n",
       "      <td>107</td>\n",
       "      <td>128372940</td>\n",
       "      <td>jairbolsonaro</td>\n",
       "      <td>Jair M. Bolsonaro</td>\n",
       "      <td>https://pbs.twimg.com/profile_images/105763148...</td>\n",
       "      <td>True</td>\n",
       "      <td>['alagoa', 'coqueiro', 'secar', 'regiao', 'ent...</td>\n",
       "      <td>['@MTurismo', '@CulturaGovBr', '@IphanGovBr']</td>\n",
       "      <td>nan</td>\n",
       "      <td>NaN</td>\n",
       "    </tr>\n",
       "  </tbody>\n",
       "</table>\n",
       "<p>482 rows × 18 columns</p>\n",
       "</div>"
      ],
      "text/plain": [
       "      Unnamed: 0                                          tweets_id  \\\n",
       "586          586  ['1438838014004891650', '1438838687450734597',...   \n",
       "587          587  ['1438947763237048323', '1438948310971293697',...   \n",
       "588          588                            ['1438986684780195844']   \n",
       "589          589     ['1439185525274038273', '1439185591422308353']   \n",
       "590          590                            ['1439282512145100807']   \n",
       "...          ...                                                ...   \n",
       "1063        1063  ['1502110958726098945', '1502110961334992947',...   \n",
       "1064        1064                            ['1502207295111020544']   \n",
       "1065        1065  ['1502573731327184901', '1502573790634680325',...   \n",
       "1066        1066  ['1502934725840756740', '1502934728294506501',...   \n",
       "1067        1067     ['1503036395354574848', '1503039040345583625']   \n",
       "\n",
       "      tweets_in_thread                created_at  \\\n",
       "586                  3  2021-09-17T12:11:29.000Z   \n",
       "587                  3  2021-09-17T19:27:35.000Z   \n",
       "588                  1  2021-09-17T22:02:15.000Z   \n",
       "589                  2  2021-09-18T11:12:22.000Z   \n",
       "590                  1  2021-09-18T17:37:46.000Z   \n",
       "...                ...                       ...   \n",
       "1063                 3  2022-03-11T02:35:35.000Z   \n",
       "1064                 1  2022-03-11T08:58:23.000Z   \n",
       "1065                 3  2022-03-12T09:14:28.000Z   \n",
       "1066                 3  2022-03-13T09:08:56.000Z   \n",
       "1067                 2  2022-03-13T15:52:56.000Z   \n",
       "\n",
       "                                                   text  retweet_count  \\\n",
       "586   - O investimento total, em 2021, tanto em leit...           3454   \n",
       "587   - Somente no mês de agosto, o @JusticaGovBR (M...           6301   \n",
       "588   🇧🇷 Cerimônia de Lançamento do Projeto Pró-Água...           3986   \n",
       "589   - O desempenho das contas públicas é resultado...           6256   \n",
       "590   🇧🇷 Mara Rosa/GO, 17 Set 21.\\n- Ordem de serviç...           3819   \n",
       "...                                                 ...            ...   \n",
       "1063  - Abaixo, aqueles que dizem ter sido vítimas d...          14773   \n",
       "1064  - PARAÍBA / João Pessoa:  O @govbr inaugurou o...           3642   \n",
       "1065  - O @govbr , por meio do @mdregional_br ,  rep...           7379   \n",
       "1066  - Da gestação até os 6 anos, a primeira infânc...           7867   \n",
       "1067  -ALAGOAS / Coqueiro Seco e região: Entregue re...           3224   \n",
       "\n",
       "      like_count  reply_count  quote_count    user_id       username  \\\n",
       "586        19161          581           35  128372940  jairbolsonaro   \n",
       "587        34476          853          114  128372940  jairbolsonaro   \n",
       "588        18147          881          172  128372940  jairbolsonaro   \n",
       "589        34670         1235          122  128372940  jairbolsonaro   \n",
       "590        18306          806          142  128372940  jairbolsonaro   \n",
       "...          ...          ...          ...        ...            ...   \n",
       "1063       73412         2672          473  128372940  jairbolsonaro   \n",
       "1064       14390         1234          133  128372940  jairbolsonaro   \n",
       "1065       36579         1582          185  128372940  jairbolsonaro   \n",
       "1066       39177          900          167  128372940  jairbolsonaro   \n",
       "1067       13491          601          107  128372940  jairbolsonaro   \n",
       "\n",
       "              user_name                                       user_picture  \\\n",
       "586   Jair M. Bolsonaro  https://pbs.twimg.com/profile_images/105763148...   \n",
       "587   Jair M. Bolsonaro  https://pbs.twimg.com/profile_images/105763148...   \n",
       "588   Jair M. Bolsonaro  https://pbs.twimg.com/profile_images/105763148...   \n",
       "589   Jair M. Bolsonaro  https://pbs.twimg.com/profile_images/105763148...   \n",
       "590   Jair M. Bolsonaro  https://pbs.twimg.com/profile_images/105763148...   \n",
       "...                 ...                                                ...   \n",
       "1063  Jair M. Bolsonaro  https://pbs.twimg.com/profile_images/105763148...   \n",
       "1064  Jair M. Bolsonaro  https://pbs.twimg.com/profile_images/105763148...   \n",
       "1065  Jair M. Bolsonaro  https://pbs.twimg.com/profile_images/105763148...   \n",
       "1066  Jair M. Bolsonaro  https://pbs.twimg.com/profile_images/105763148...   \n",
       "1067  Jair M. Bolsonaro  https://pbs.twimg.com/profile_images/105763148...   \n",
       "\n",
       "      verified                                         clean_text  \\\n",
       "586       True  ['investimento', 'total', 'tanto', 'leito', 'u...   \n",
       "587       True  ['somente', 'mes', 'agostar', 'mjsp', 'arrecad...   \n",
       "588       True  ['cerimoniar', 'lancamento', 'projeto', 'proag...   \n",
       "589       True  ['desempenhar', 'contar', 'publicar', 'resulta...   \n",
       "590       True  ['mara', 'rosago', 'set', 'ordem', 'servico', ...   \n",
       "...        ...                                                ...   \n",
       "1063      True  ['abaixar', 'dizer', 'ter', 'ser', 'vitimar', ...   \n",
       "1064      True  ['paraiba', 'joao', 'pessoa', 'inaugurar', 'ob...   \n",
       "1065      True  ['mear', 'repassar', 'recurso', 'continuidade'...   \n",
       "1066      True  ['gestacao', 'ano', 'primeiro', 'infancia', 'f...   \n",
       "1067      True  ['alagoa', 'coqueiro', 'secar', 'regiao', 'ent...   \n",
       "\n",
       "                                               mentions hashtags  emojis  \n",
       "586   ['@govbr', '@minsaude', '@mqueiroga2', '@secom...      nan     NaN  \n",
       "587               ['@JusticaGovBR', '@andersongtorres']      nan     NaN  \n",
       "588    ['@mdregional_br', '@rogeriosmarinho', '@govbr']      nan  ['🇧🇷']  \n",
       "589           ['@govbr', '@BancoCentralBR', '@secomvc']      nan     NaN  \n",
       "590                                                 NaN      nan  ['🇧🇷']  \n",
       "...                                                 ...      ...     ...  \n",
       "1063                                                NaN      nan   ['👍']  \n",
       "1064   ['@govbr', '@mdregional_br', '@rogeriosmarinho']      nan     NaN  \n",
       "1065                       ['@govbr', '@mdregional_br']      nan     NaN  \n",
       "1066       ['@govbr', '@MinCidadania', '@joaoromaneto']      nan     NaN  \n",
       "1067      ['@MTurismo', '@CulturaGovBr', '@IphanGovBr']      nan     NaN  \n",
       "\n",
       "[482 rows x 18 columns]"
      ]
     },
     "execution_count": 170,
     "metadata": {},
     "output_type": "execute_result"
    }
   ],
   "source": [
    "poli[poli.user_name=='Jair M. Bolsonaro']"
   ]
  },
  {
   "cell_type": "code",
   "execution_count": 171,
   "metadata": {},
   "outputs": [],
   "source": [
    "def metric_curve(df: pd.DataFrame, metric: str, politicians=List[str], granularidade: str = \"m\") -> np.nan:\n",
    "    \"\"\"Generates count of hashtags appearence over time\n",
    "\n",
    "    Args:\n",
    "        df (pd.DataFrame): polititians dataframe\n",
    "        hashtag (List[str]): hashtag list to visualize\n",
    "        granularidade (str, optional): visualization scope Defaults to \"m\".\n",
    "        combine (bool, optional): combining hashtags\n",
    "\n",
    "    Returns:\n",
    "        np.nan: Doesn't return anything\n",
    "    \"\"\"\n",
    "\n",
    "    formats = {'d': '%d/%m/%Y',\n",
    "                'm': '%Y/%m',\n",
    "                'y': '%Y'}\n",
    "\n",
    "    pal = list(sns.color_palette(palette='viridis', n_colors=len(politicians)).as_hex())\n",
    "\n",
    "    fig = go.Figure()\n",
    "    for d,p in zip(politicians, pal):\n",
    "\n",
    "        filter = df.user_name == d\n",
    "\n",
    "        metric_df = df[filter][['created_at',metric, 'user_name']].copy()\n",
    "        \n",
    "        metric_df.created_at = metric_df.created_at.apply(lambda x: parser.parse(x).strftime(formats[granularidade]))\n",
    "\n",
    "        politician_df = metric_df[metric_df.user_name == d]\n",
    "\n",
    "        plot_df = politician_df.groupby(\"created_at\").sum().reset_index()\n",
    "\n",
    "        plot_df.created_at = pd.to_datetime(plot_df.created_at, format=formats[granularidade])\n",
    "\n",
    "        plot_df.sort_values('created_at', inplace=True)\n",
    "\n",
    "        print(plot_df)\n",
    "\n",
    "\n",
    "        fig.add_trace(go.Scatter(x = plot_df.created_at,\n",
    "                                y = plot_df[metric],\n",
    "                                name = d,\n",
    "                                line_color = p, \n",
    "                                fill=None))   #tozeroy \n",
    "                            \n",
    "    \n",
    "    fig.show()\n"
   ]
  },
  {
   "cell_type": "code",
   "execution_count": 172,
   "metadata": {},
   "outputs": [
    {
     "name": "stdout",
     "output_type": "stream",
     "text": [
      "  created_at  like_count\n",
      "0 2021-10-01      211627\n",
      "1 2021-11-01     1615854\n",
      "2 2021-12-01     2002724\n",
      "3 2022-01-01     1505789\n",
      "4 2022-02-01     1534049\n",
      "5 2022-03-01      757618\n",
      "  created_at  like_count\n",
      "0 2021-09-01     1233217\n",
      "1 2021-10-01     2349608\n",
      "2 2021-11-01     1943334\n",
      "3 2021-12-01     1842220\n",
      "4 2022-01-01     2483832\n",
      "5 2022-02-01     3318123\n",
      "6 2022-03-01     1301403\n"
     ]
    },
    {
     "data": {
      "application/vnd.plotly.v1+json": {
       "config": {
        "plotlyServerURL": "https://plot.ly"
       },
       "data": [
        {
         "line": {
          "color": "#31688e"
         },
         "name": "Lula",
         "type": "scatter",
         "x": [
          "2021-10-01T00:00:00",
          "2021-11-01T00:00:00",
          "2021-12-01T00:00:00",
          "2022-01-01T00:00:00",
          "2022-02-01T00:00:00",
          "2022-03-01T00:00:00"
         ],
         "y": [
          211627,
          1615854,
          2002724,
          1505789,
          1534049,
          757618
         ]
        },
        {
         "line": {
          "color": "#35b779"
         },
         "name": "Jair M. Bolsonaro",
         "type": "scatter",
         "x": [
          "2021-09-01T00:00:00",
          "2021-10-01T00:00:00",
          "2021-11-01T00:00:00",
          "2021-12-01T00:00:00",
          "2022-01-01T00:00:00",
          "2022-02-01T00:00:00",
          "2022-03-01T00:00:00"
         ],
         "y": [
          1233217,
          2349608,
          1943334,
          1842220,
          2483832,
          3318123,
          1301403
         ]
        }
       ],
       "layout": {
        "template": {
         "data": {
          "bar": [
           {
            "error_x": {
             "color": "#2a3f5f"
            },
            "error_y": {
             "color": "#2a3f5f"
            },
            "marker": {
             "line": {
              "color": "#E5ECF6",
              "width": 0.5
             },
             "pattern": {
              "fillmode": "overlay",
              "size": 10,
              "solidity": 0.2
             }
            },
            "type": "bar"
           }
          ],
          "barpolar": [
           {
            "marker": {
             "line": {
              "color": "#E5ECF6",
              "width": 0.5
             },
             "pattern": {
              "fillmode": "overlay",
              "size": 10,
              "solidity": 0.2
             }
            },
            "type": "barpolar"
           }
          ],
          "carpet": [
           {
            "aaxis": {
             "endlinecolor": "#2a3f5f",
             "gridcolor": "white",
             "linecolor": "white",
             "minorgridcolor": "white",
             "startlinecolor": "#2a3f5f"
            },
            "baxis": {
             "endlinecolor": "#2a3f5f",
             "gridcolor": "white",
             "linecolor": "white",
             "minorgridcolor": "white",
             "startlinecolor": "#2a3f5f"
            },
            "type": "carpet"
           }
          ],
          "choropleth": [
           {
            "colorbar": {
             "outlinewidth": 0,
             "ticks": ""
            },
            "type": "choropleth"
           }
          ],
          "contour": [
           {
            "colorbar": {
             "outlinewidth": 0,
             "ticks": ""
            },
            "colorscale": [
             [
              0,
              "#0d0887"
             ],
             [
              0.1111111111111111,
              "#46039f"
             ],
             [
              0.2222222222222222,
              "#7201a8"
             ],
             [
              0.3333333333333333,
              "#9c179e"
             ],
             [
              0.4444444444444444,
              "#bd3786"
             ],
             [
              0.5555555555555556,
              "#d8576b"
             ],
             [
              0.6666666666666666,
              "#ed7953"
             ],
             [
              0.7777777777777778,
              "#fb9f3a"
             ],
             [
              0.8888888888888888,
              "#fdca26"
             ],
             [
              1,
              "#f0f921"
             ]
            ],
            "type": "contour"
           }
          ],
          "contourcarpet": [
           {
            "colorbar": {
             "outlinewidth": 0,
             "ticks": ""
            },
            "type": "contourcarpet"
           }
          ],
          "heatmap": [
           {
            "colorbar": {
             "outlinewidth": 0,
             "ticks": ""
            },
            "colorscale": [
             [
              0,
              "#0d0887"
             ],
             [
              0.1111111111111111,
              "#46039f"
             ],
             [
              0.2222222222222222,
              "#7201a8"
             ],
             [
              0.3333333333333333,
              "#9c179e"
             ],
             [
              0.4444444444444444,
              "#bd3786"
             ],
             [
              0.5555555555555556,
              "#d8576b"
             ],
             [
              0.6666666666666666,
              "#ed7953"
             ],
             [
              0.7777777777777778,
              "#fb9f3a"
             ],
             [
              0.8888888888888888,
              "#fdca26"
             ],
             [
              1,
              "#f0f921"
             ]
            ],
            "type": "heatmap"
           }
          ],
          "heatmapgl": [
           {
            "colorbar": {
             "outlinewidth": 0,
             "ticks": ""
            },
            "colorscale": [
             [
              0,
              "#0d0887"
             ],
             [
              0.1111111111111111,
              "#46039f"
             ],
             [
              0.2222222222222222,
              "#7201a8"
             ],
             [
              0.3333333333333333,
              "#9c179e"
             ],
             [
              0.4444444444444444,
              "#bd3786"
             ],
             [
              0.5555555555555556,
              "#d8576b"
             ],
             [
              0.6666666666666666,
              "#ed7953"
             ],
             [
              0.7777777777777778,
              "#fb9f3a"
             ],
             [
              0.8888888888888888,
              "#fdca26"
             ],
             [
              1,
              "#f0f921"
             ]
            ],
            "type": "heatmapgl"
           }
          ],
          "histogram": [
           {
            "marker": {
             "pattern": {
              "fillmode": "overlay",
              "size": 10,
              "solidity": 0.2
             }
            },
            "type": "histogram"
           }
          ],
          "histogram2d": [
           {
            "colorbar": {
             "outlinewidth": 0,
             "ticks": ""
            },
            "colorscale": [
             [
              0,
              "#0d0887"
             ],
             [
              0.1111111111111111,
              "#46039f"
             ],
             [
              0.2222222222222222,
              "#7201a8"
             ],
             [
              0.3333333333333333,
              "#9c179e"
             ],
             [
              0.4444444444444444,
              "#bd3786"
             ],
             [
              0.5555555555555556,
              "#d8576b"
             ],
             [
              0.6666666666666666,
              "#ed7953"
             ],
             [
              0.7777777777777778,
              "#fb9f3a"
             ],
             [
              0.8888888888888888,
              "#fdca26"
             ],
             [
              1,
              "#f0f921"
             ]
            ],
            "type": "histogram2d"
           }
          ],
          "histogram2dcontour": [
           {
            "colorbar": {
             "outlinewidth": 0,
             "ticks": ""
            },
            "colorscale": [
             [
              0,
              "#0d0887"
             ],
             [
              0.1111111111111111,
              "#46039f"
             ],
             [
              0.2222222222222222,
              "#7201a8"
             ],
             [
              0.3333333333333333,
              "#9c179e"
             ],
             [
              0.4444444444444444,
              "#bd3786"
             ],
             [
              0.5555555555555556,
              "#d8576b"
             ],
             [
              0.6666666666666666,
              "#ed7953"
             ],
             [
              0.7777777777777778,
              "#fb9f3a"
             ],
             [
              0.8888888888888888,
              "#fdca26"
             ],
             [
              1,
              "#f0f921"
             ]
            ],
            "type": "histogram2dcontour"
           }
          ],
          "mesh3d": [
           {
            "colorbar": {
             "outlinewidth": 0,
             "ticks": ""
            },
            "type": "mesh3d"
           }
          ],
          "parcoords": [
           {
            "line": {
             "colorbar": {
              "outlinewidth": 0,
              "ticks": ""
             }
            },
            "type": "parcoords"
           }
          ],
          "pie": [
           {
            "automargin": true,
            "type": "pie"
           }
          ],
          "scatter": [
           {
            "fillpattern": {
             "fillmode": "overlay",
             "size": 10,
             "solidity": 0.2
            },
            "type": "scatter"
           }
          ],
          "scatter3d": [
           {
            "line": {
             "colorbar": {
              "outlinewidth": 0,
              "ticks": ""
             }
            },
            "marker": {
             "colorbar": {
              "outlinewidth": 0,
              "ticks": ""
             }
            },
            "type": "scatter3d"
           }
          ],
          "scattercarpet": [
           {
            "marker": {
             "colorbar": {
              "outlinewidth": 0,
              "ticks": ""
             }
            },
            "type": "scattercarpet"
           }
          ],
          "scattergeo": [
           {
            "marker": {
             "colorbar": {
              "outlinewidth": 0,
              "ticks": ""
             }
            },
            "type": "scattergeo"
           }
          ],
          "scattergl": [
           {
            "marker": {
             "colorbar": {
              "outlinewidth": 0,
              "ticks": ""
             }
            },
            "type": "scattergl"
           }
          ],
          "scattermapbox": [
           {
            "marker": {
             "colorbar": {
              "outlinewidth": 0,
              "ticks": ""
             }
            },
            "type": "scattermapbox"
           }
          ],
          "scatterpolar": [
           {
            "marker": {
             "colorbar": {
              "outlinewidth": 0,
              "ticks": ""
             }
            },
            "type": "scatterpolar"
           }
          ],
          "scatterpolargl": [
           {
            "marker": {
             "colorbar": {
              "outlinewidth": 0,
              "ticks": ""
             }
            },
            "type": "scatterpolargl"
           }
          ],
          "scatterternary": [
           {
            "marker": {
             "colorbar": {
              "outlinewidth": 0,
              "ticks": ""
             }
            },
            "type": "scatterternary"
           }
          ],
          "surface": [
           {
            "colorbar": {
             "outlinewidth": 0,
             "ticks": ""
            },
            "colorscale": [
             [
              0,
              "#0d0887"
             ],
             [
              0.1111111111111111,
              "#46039f"
             ],
             [
              0.2222222222222222,
              "#7201a8"
             ],
             [
              0.3333333333333333,
              "#9c179e"
             ],
             [
              0.4444444444444444,
              "#bd3786"
             ],
             [
              0.5555555555555556,
              "#d8576b"
             ],
             [
              0.6666666666666666,
              "#ed7953"
             ],
             [
              0.7777777777777778,
              "#fb9f3a"
             ],
             [
              0.8888888888888888,
              "#fdca26"
             ],
             [
              1,
              "#f0f921"
             ]
            ],
            "type": "surface"
           }
          ],
          "table": [
           {
            "cells": {
             "fill": {
              "color": "#EBF0F8"
             },
             "line": {
              "color": "white"
             }
            },
            "header": {
             "fill": {
              "color": "#C8D4E3"
             },
             "line": {
              "color": "white"
             }
            },
            "type": "table"
           }
          ]
         },
         "layout": {
          "annotationdefaults": {
           "arrowcolor": "#2a3f5f",
           "arrowhead": 0,
           "arrowwidth": 1
          },
          "autotypenumbers": "strict",
          "coloraxis": {
           "colorbar": {
            "outlinewidth": 0,
            "ticks": ""
           }
          },
          "colorscale": {
           "diverging": [
            [
             0,
             "#8e0152"
            ],
            [
             0.1,
             "#c51b7d"
            ],
            [
             0.2,
             "#de77ae"
            ],
            [
             0.3,
             "#f1b6da"
            ],
            [
             0.4,
             "#fde0ef"
            ],
            [
             0.5,
             "#f7f7f7"
            ],
            [
             0.6,
             "#e6f5d0"
            ],
            [
             0.7,
             "#b8e186"
            ],
            [
             0.8,
             "#7fbc41"
            ],
            [
             0.9,
             "#4d9221"
            ],
            [
             1,
             "#276419"
            ]
           ],
           "sequential": [
            [
             0,
             "#0d0887"
            ],
            [
             0.1111111111111111,
             "#46039f"
            ],
            [
             0.2222222222222222,
             "#7201a8"
            ],
            [
             0.3333333333333333,
             "#9c179e"
            ],
            [
             0.4444444444444444,
             "#bd3786"
            ],
            [
             0.5555555555555556,
             "#d8576b"
            ],
            [
             0.6666666666666666,
             "#ed7953"
            ],
            [
             0.7777777777777778,
             "#fb9f3a"
            ],
            [
             0.8888888888888888,
             "#fdca26"
            ],
            [
             1,
             "#f0f921"
            ]
           ],
           "sequentialminus": [
            [
             0,
             "#0d0887"
            ],
            [
             0.1111111111111111,
             "#46039f"
            ],
            [
             0.2222222222222222,
             "#7201a8"
            ],
            [
             0.3333333333333333,
             "#9c179e"
            ],
            [
             0.4444444444444444,
             "#bd3786"
            ],
            [
             0.5555555555555556,
             "#d8576b"
            ],
            [
             0.6666666666666666,
             "#ed7953"
            ],
            [
             0.7777777777777778,
             "#fb9f3a"
            ],
            [
             0.8888888888888888,
             "#fdca26"
            ],
            [
             1,
             "#f0f921"
            ]
           ]
          },
          "colorway": [
           "#636efa",
           "#EF553B",
           "#00cc96",
           "#ab63fa",
           "#FFA15A",
           "#19d3f3",
           "#FF6692",
           "#B6E880",
           "#FF97FF",
           "#FECB52"
          ],
          "font": {
           "color": "#2a3f5f"
          },
          "geo": {
           "bgcolor": "white",
           "lakecolor": "white",
           "landcolor": "#E5ECF6",
           "showlakes": true,
           "showland": true,
           "subunitcolor": "white"
          },
          "hoverlabel": {
           "align": "left"
          },
          "hovermode": "closest",
          "mapbox": {
           "style": "light"
          },
          "paper_bgcolor": "white",
          "plot_bgcolor": "#E5ECF6",
          "polar": {
           "angularaxis": {
            "gridcolor": "white",
            "linecolor": "white",
            "ticks": ""
           },
           "bgcolor": "#E5ECF6",
           "radialaxis": {
            "gridcolor": "white",
            "linecolor": "white",
            "ticks": ""
           }
          },
          "scene": {
           "xaxis": {
            "backgroundcolor": "#E5ECF6",
            "gridcolor": "white",
            "gridwidth": 2,
            "linecolor": "white",
            "showbackground": true,
            "ticks": "",
            "zerolinecolor": "white"
           },
           "yaxis": {
            "backgroundcolor": "#E5ECF6",
            "gridcolor": "white",
            "gridwidth": 2,
            "linecolor": "white",
            "showbackground": true,
            "ticks": "",
            "zerolinecolor": "white"
           },
           "zaxis": {
            "backgroundcolor": "#E5ECF6",
            "gridcolor": "white",
            "gridwidth": 2,
            "linecolor": "white",
            "showbackground": true,
            "ticks": "",
            "zerolinecolor": "white"
           }
          },
          "shapedefaults": {
           "line": {
            "color": "#2a3f5f"
           }
          },
          "ternary": {
           "aaxis": {
            "gridcolor": "white",
            "linecolor": "white",
            "ticks": ""
           },
           "baxis": {
            "gridcolor": "white",
            "linecolor": "white",
            "ticks": ""
           },
           "bgcolor": "#E5ECF6",
           "caxis": {
            "gridcolor": "white",
            "linecolor": "white",
            "ticks": ""
           }
          },
          "title": {
           "x": 0.05
          },
          "xaxis": {
           "automargin": true,
           "gridcolor": "white",
           "linecolor": "white",
           "ticks": "",
           "title": {
            "standoff": 15
           },
           "zerolinecolor": "white",
           "zerolinewidth": 2
          },
          "yaxis": {
           "automargin": true,
           "gridcolor": "white",
           "linecolor": "white",
           "ticks": "",
           "title": {
            "standoff": 15
           },
           "zerolinecolor": "white",
           "zerolinewidth": 2
          }
         }
        }
       }
      }
     },
     "metadata": {},
     "output_type": "display_data"
    }
   ],
   "source": [
    "metric_curve(poli, 'like_count', ['Lula','Jair M. Bolsonaro'])"
   ]
  },
  {
   "cell_type": "code",
   "execution_count": 173,
   "metadata": {},
   "outputs": [],
   "source": [
    "def activity_curve(df: pd.DataFrame, politicians=List[str], granularidade: str = \"m\") -> np.nan:\n",
    "    \"\"\"Generates count of hashtags appearence over time\n",
    "\n",
    "    Args:\n",
    "        df (pd.DataFrame): polititians dataframe\n",
    "        hashtag (List[str]): hashtag list to visualize\n",
    "        granularidade (str, optional): visualization scope Defaults to \"m\".\n",
    "        combine (bool, optional): combining hashtags\n",
    "\n",
    "    Returns:\n",
    "        np.nan: Doesn't return anything\n",
    "    \"\"\"\n",
    "\n",
    "    formats = {'d': '%d/%m/%Y',\n",
    "                'm': '%Y/%m',\n",
    "                'y': '%Y',\n",
    "                'semana': '%a',\n",
    "                'hora': '%H'}\n",
    "\n",
    "    pal = list(sns.color_palette(palette='viridis', n_colors=len(politicians)).as_hex())\n",
    "\n",
    "    fig = go.Figure()\n",
    "    for d,p in zip(politicians, pal):\n",
    "\n",
    "        filter = df.user_name == d\n",
    "\n",
    "        metric_df = df[filter][['created_at','user_name']].copy()\n",
    "        \n",
    "        metric_df.created_at = metric_df.created_at.apply(lambda x: parser.parse(x).strftime(formats[granularidade]))\n",
    "\n",
    "        politician_df = metric_df[metric_df.user_name == d]\n",
    "\n",
    "        plot_df = politician_df.groupby(\"created_at\").count().reset_index()\n",
    "\n",
    "        if granularidade == 'hora':\n",
    "\n",
    "            plot_df.created_at = plot_df.created_at.astype(int)\n",
    "        \n",
    "        if granularidade in ['d','m','y']:\n",
    "\n",
    "            plot_df.created_at = pd.to_datetime(plot_df.created_at, format=formats[granularidade])\n",
    "\n",
    "\n",
    "        plot_df.sort_values('created_at', inplace=True)\n",
    "\n",
    "        fig.add_trace(go.Scatter(x = plot_df.created_at,\n",
    "                                y = plot_df.user_name,\n",
    "                                name = d,\n",
    "                                line_color = p, \n",
    "                                fill=None))   #tozeroy \n",
    "                            \n",
    "    \n",
    "    fig.show()"
   ]
  },
  {
   "cell_type": "code",
   "execution_count": 174,
   "metadata": {},
   "outputs": [
    {
     "data": {
      "application/vnd.plotly.v1+json": {
       "config": {
        "plotlyServerURL": "https://plot.ly"
       },
       "data": [
        {
         "line": {
          "color": "#31688e"
         },
         "name": "Lula",
         "type": "scatter",
         "x": [
          0,
          1,
          2,
          4,
          8,
          9,
          10,
          11,
          12,
          13,
          14,
          15,
          16,
          17,
          18,
          19,
          20,
          21,
          22,
          23
         ],
         "y": [
          15,
          13,
          1,
          1,
          1,
          4,
          18,
          58,
          46,
          41,
          63,
          58,
          43,
          30,
          34,
          38,
          21,
          30,
          30,
          41
         ]
        },
        {
         "line": {
          "color": "#35b779"
         },
         "name": "Jair M. Bolsonaro",
         "type": "scatter",
         "x": [
          0,
          1,
          2,
          3,
          5,
          6,
          7,
          8,
          9,
          10,
          11,
          12,
          13,
          14,
          15,
          16,
          17,
          18,
          19,
          20,
          21,
          22,
          23
         ],
         "y": [
          11,
          7,
          4,
          2,
          1,
          2,
          1,
          29,
          77,
          56,
          31,
          19,
          23,
          16,
          21,
          22,
          22,
          21,
          21,
          25,
          16,
          34,
          21
         ]
        }
       ],
       "layout": {
        "template": {
         "data": {
          "bar": [
           {
            "error_x": {
             "color": "#2a3f5f"
            },
            "error_y": {
             "color": "#2a3f5f"
            },
            "marker": {
             "line": {
              "color": "#E5ECF6",
              "width": 0.5
             },
             "pattern": {
              "fillmode": "overlay",
              "size": 10,
              "solidity": 0.2
             }
            },
            "type": "bar"
           }
          ],
          "barpolar": [
           {
            "marker": {
             "line": {
              "color": "#E5ECF6",
              "width": 0.5
             },
             "pattern": {
              "fillmode": "overlay",
              "size": 10,
              "solidity": 0.2
             }
            },
            "type": "barpolar"
           }
          ],
          "carpet": [
           {
            "aaxis": {
             "endlinecolor": "#2a3f5f",
             "gridcolor": "white",
             "linecolor": "white",
             "minorgridcolor": "white",
             "startlinecolor": "#2a3f5f"
            },
            "baxis": {
             "endlinecolor": "#2a3f5f",
             "gridcolor": "white",
             "linecolor": "white",
             "minorgridcolor": "white",
             "startlinecolor": "#2a3f5f"
            },
            "type": "carpet"
           }
          ],
          "choropleth": [
           {
            "colorbar": {
             "outlinewidth": 0,
             "ticks": ""
            },
            "type": "choropleth"
           }
          ],
          "contour": [
           {
            "colorbar": {
             "outlinewidth": 0,
             "ticks": ""
            },
            "colorscale": [
             [
              0,
              "#0d0887"
             ],
             [
              0.1111111111111111,
              "#46039f"
             ],
             [
              0.2222222222222222,
              "#7201a8"
             ],
             [
              0.3333333333333333,
              "#9c179e"
             ],
             [
              0.4444444444444444,
              "#bd3786"
             ],
             [
              0.5555555555555556,
              "#d8576b"
             ],
             [
              0.6666666666666666,
              "#ed7953"
             ],
             [
              0.7777777777777778,
              "#fb9f3a"
             ],
             [
              0.8888888888888888,
              "#fdca26"
             ],
             [
              1,
              "#f0f921"
             ]
            ],
            "type": "contour"
           }
          ],
          "contourcarpet": [
           {
            "colorbar": {
             "outlinewidth": 0,
             "ticks": ""
            },
            "type": "contourcarpet"
           }
          ],
          "heatmap": [
           {
            "colorbar": {
             "outlinewidth": 0,
             "ticks": ""
            },
            "colorscale": [
             [
              0,
              "#0d0887"
             ],
             [
              0.1111111111111111,
              "#46039f"
             ],
             [
              0.2222222222222222,
              "#7201a8"
             ],
             [
              0.3333333333333333,
              "#9c179e"
             ],
             [
              0.4444444444444444,
              "#bd3786"
             ],
             [
              0.5555555555555556,
              "#d8576b"
             ],
             [
              0.6666666666666666,
              "#ed7953"
             ],
             [
              0.7777777777777778,
              "#fb9f3a"
             ],
             [
              0.8888888888888888,
              "#fdca26"
             ],
             [
              1,
              "#f0f921"
             ]
            ],
            "type": "heatmap"
           }
          ],
          "heatmapgl": [
           {
            "colorbar": {
             "outlinewidth": 0,
             "ticks": ""
            },
            "colorscale": [
             [
              0,
              "#0d0887"
             ],
             [
              0.1111111111111111,
              "#46039f"
             ],
             [
              0.2222222222222222,
              "#7201a8"
             ],
             [
              0.3333333333333333,
              "#9c179e"
             ],
             [
              0.4444444444444444,
              "#bd3786"
             ],
             [
              0.5555555555555556,
              "#d8576b"
             ],
             [
              0.6666666666666666,
              "#ed7953"
             ],
             [
              0.7777777777777778,
              "#fb9f3a"
             ],
             [
              0.8888888888888888,
              "#fdca26"
             ],
             [
              1,
              "#f0f921"
             ]
            ],
            "type": "heatmapgl"
           }
          ],
          "histogram": [
           {
            "marker": {
             "pattern": {
              "fillmode": "overlay",
              "size": 10,
              "solidity": 0.2
             }
            },
            "type": "histogram"
           }
          ],
          "histogram2d": [
           {
            "colorbar": {
             "outlinewidth": 0,
             "ticks": ""
            },
            "colorscale": [
             [
              0,
              "#0d0887"
             ],
             [
              0.1111111111111111,
              "#46039f"
             ],
             [
              0.2222222222222222,
              "#7201a8"
             ],
             [
              0.3333333333333333,
              "#9c179e"
             ],
             [
              0.4444444444444444,
              "#bd3786"
             ],
             [
              0.5555555555555556,
              "#d8576b"
             ],
             [
              0.6666666666666666,
              "#ed7953"
             ],
             [
              0.7777777777777778,
              "#fb9f3a"
             ],
             [
              0.8888888888888888,
              "#fdca26"
             ],
             [
              1,
              "#f0f921"
             ]
            ],
            "type": "histogram2d"
           }
          ],
          "histogram2dcontour": [
           {
            "colorbar": {
             "outlinewidth": 0,
             "ticks": ""
            },
            "colorscale": [
             [
              0,
              "#0d0887"
             ],
             [
              0.1111111111111111,
              "#46039f"
             ],
             [
              0.2222222222222222,
              "#7201a8"
             ],
             [
              0.3333333333333333,
              "#9c179e"
             ],
             [
              0.4444444444444444,
              "#bd3786"
             ],
             [
              0.5555555555555556,
              "#d8576b"
             ],
             [
              0.6666666666666666,
              "#ed7953"
             ],
             [
              0.7777777777777778,
              "#fb9f3a"
             ],
             [
              0.8888888888888888,
              "#fdca26"
             ],
             [
              1,
              "#f0f921"
             ]
            ],
            "type": "histogram2dcontour"
           }
          ],
          "mesh3d": [
           {
            "colorbar": {
             "outlinewidth": 0,
             "ticks": ""
            },
            "type": "mesh3d"
           }
          ],
          "parcoords": [
           {
            "line": {
             "colorbar": {
              "outlinewidth": 0,
              "ticks": ""
             }
            },
            "type": "parcoords"
           }
          ],
          "pie": [
           {
            "automargin": true,
            "type": "pie"
           }
          ],
          "scatter": [
           {
            "fillpattern": {
             "fillmode": "overlay",
             "size": 10,
             "solidity": 0.2
            },
            "type": "scatter"
           }
          ],
          "scatter3d": [
           {
            "line": {
             "colorbar": {
              "outlinewidth": 0,
              "ticks": ""
             }
            },
            "marker": {
             "colorbar": {
              "outlinewidth": 0,
              "ticks": ""
             }
            },
            "type": "scatter3d"
           }
          ],
          "scattercarpet": [
           {
            "marker": {
             "colorbar": {
              "outlinewidth": 0,
              "ticks": ""
             }
            },
            "type": "scattercarpet"
           }
          ],
          "scattergeo": [
           {
            "marker": {
             "colorbar": {
              "outlinewidth": 0,
              "ticks": ""
             }
            },
            "type": "scattergeo"
           }
          ],
          "scattergl": [
           {
            "marker": {
             "colorbar": {
              "outlinewidth": 0,
              "ticks": ""
             }
            },
            "type": "scattergl"
           }
          ],
          "scattermapbox": [
           {
            "marker": {
             "colorbar": {
              "outlinewidth": 0,
              "ticks": ""
             }
            },
            "type": "scattermapbox"
           }
          ],
          "scatterpolar": [
           {
            "marker": {
             "colorbar": {
              "outlinewidth": 0,
              "ticks": ""
             }
            },
            "type": "scatterpolar"
           }
          ],
          "scatterpolargl": [
           {
            "marker": {
             "colorbar": {
              "outlinewidth": 0,
              "ticks": ""
             }
            },
            "type": "scatterpolargl"
           }
          ],
          "scatterternary": [
           {
            "marker": {
             "colorbar": {
              "outlinewidth": 0,
              "ticks": ""
             }
            },
            "type": "scatterternary"
           }
          ],
          "surface": [
           {
            "colorbar": {
             "outlinewidth": 0,
             "ticks": ""
            },
            "colorscale": [
             [
              0,
              "#0d0887"
             ],
             [
              0.1111111111111111,
              "#46039f"
             ],
             [
              0.2222222222222222,
              "#7201a8"
             ],
             [
              0.3333333333333333,
              "#9c179e"
             ],
             [
              0.4444444444444444,
              "#bd3786"
             ],
             [
              0.5555555555555556,
              "#d8576b"
             ],
             [
              0.6666666666666666,
              "#ed7953"
             ],
             [
              0.7777777777777778,
              "#fb9f3a"
             ],
             [
              0.8888888888888888,
              "#fdca26"
             ],
             [
              1,
              "#f0f921"
             ]
            ],
            "type": "surface"
           }
          ],
          "table": [
           {
            "cells": {
             "fill": {
              "color": "#EBF0F8"
             },
             "line": {
              "color": "white"
             }
            },
            "header": {
             "fill": {
              "color": "#C8D4E3"
             },
             "line": {
              "color": "white"
             }
            },
            "type": "table"
           }
          ]
         },
         "layout": {
          "annotationdefaults": {
           "arrowcolor": "#2a3f5f",
           "arrowhead": 0,
           "arrowwidth": 1
          },
          "autotypenumbers": "strict",
          "coloraxis": {
           "colorbar": {
            "outlinewidth": 0,
            "ticks": ""
           }
          },
          "colorscale": {
           "diverging": [
            [
             0,
             "#8e0152"
            ],
            [
             0.1,
             "#c51b7d"
            ],
            [
             0.2,
             "#de77ae"
            ],
            [
             0.3,
             "#f1b6da"
            ],
            [
             0.4,
             "#fde0ef"
            ],
            [
             0.5,
             "#f7f7f7"
            ],
            [
             0.6,
             "#e6f5d0"
            ],
            [
             0.7,
             "#b8e186"
            ],
            [
             0.8,
             "#7fbc41"
            ],
            [
             0.9,
             "#4d9221"
            ],
            [
             1,
             "#276419"
            ]
           ],
           "sequential": [
            [
             0,
             "#0d0887"
            ],
            [
             0.1111111111111111,
             "#46039f"
            ],
            [
             0.2222222222222222,
             "#7201a8"
            ],
            [
             0.3333333333333333,
             "#9c179e"
            ],
            [
             0.4444444444444444,
             "#bd3786"
            ],
            [
             0.5555555555555556,
             "#d8576b"
            ],
            [
             0.6666666666666666,
             "#ed7953"
            ],
            [
             0.7777777777777778,
             "#fb9f3a"
            ],
            [
             0.8888888888888888,
             "#fdca26"
            ],
            [
             1,
             "#f0f921"
            ]
           ],
           "sequentialminus": [
            [
             0,
             "#0d0887"
            ],
            [
             0.1111111111111111,
             "#46039f"
            ],
            [
             0.2222222222222222,
             "#7201a8"
            ],
            [
             0.3333333333333333,
             "#9c179e"
            ],
            [
             0.4444444444444444,
             "#bd3786"
            ],
            [
             0.5555555555555556,
             "#d8576b"
            ],
            [
             0.6666666666666666,
             "#ed7953"
            ],
            [
             0.7777777777777778,
             "#fb9f3a"
            ],
            [
             0.8888888888888888,
             "#fdca26"
            ],
            [
             1,
             "#f0f921"
            ]
           ]
          },
          "colorway": [
           "#636efa",
           "#EF553B",
           "#00cc96",
           "#ab63fa",
           "#FFA15A",
           "#19d3f3",
           "#FF6692",
           "#B6E880",
           "#FF97FF",
           "#FECB52"
          ],
          "font": {
           "color": "#2a3f5f"
          },
          "geo": {
           "bgcolor": "white",
           "lakecolor": "white",
           "landcolor": "#E5ECF6",
           "showlakes": true,
           "showland": true,
           "subunitcolor": "white"
          },
          "hoverlabel": {
           "align": "left"
          },
          "hovermode": "closest",
          "mapbox": {
           "style": "light"
          },
          "paper_bgcolor": "white",
          "plot_bgcolor": "#E5ECF6",
          "polar": {
           "angularaxis": {
            "gridcolor": "white",
            "linecolor": "white",
            "ticks": ""
           },
           "bgcolor": "#E5ECF6",
           "radialaxis": {
            "gridcolor": "white",
            "linecolor": "white",
            "ticks": ""
           }
          },
          "scene": {
           "xaxis": {
            "backgroundcolor": "#E5ECF6",
            "gridcolor": "white",
            "gridwidth": 2,
            "linecolor": "white",
            "showbackground": true,
            "ticks": "",
            "zerolinecolor": "white"
           },
           "yaxis": {
            "backgroundcolor": "#E5ECF6",
            "gridcolor": "white",
            "gridwidth": 2,
            "linecolor": "white",
            "showbackground": true,
            "ticks": "",
            "zerolinecolor": "white"
           },
           "zaxis": {
            "backgroundcolor": "#E5ECF6",
            "gridcolor": "white",
            "gridwidth": 2,
            "linecolor": "white",
            "showbackground": true,
            "ticks": "",
            "zerolinecolor": "white"
           }
          },
          "shapedefaults": {
           "line": {
            "color": "#2a3f5f"
           }
          },
          "ternary": {
           "aaxis": {
            "gridcolor": "white",
            "linecolor": "white",
            "ticks": ""
           },
           "baxis": {
            "gridcolor": "white",
            "linecolor": "white",
            "ticks": ""
           },
           "bgcolor": "#E5ECF6",
           "caxis": {
            "gridcolor": "white",
            "linecolor": "white",
            "ticks": ""
           }
          },
          "title": {
           "x": 0.05
          },
          "xaxis": {
           "automargin": true,
           "gridcolor": "white",
           "linecolor": "white",
           "ticks": "",
           "title": {
            "standoff": 15
           },
           "zerolinecolor": "white",
           "zerolinewidth": 2
          },
          "yaxis": {
           "automargin": true,
           "gridcolor": "white",
           "linecolor": "white",
           "ticks": "",
           "title": {
            "standoff": 15
           },
           "zerolinecolor": "white",
           "zerolinewidth": 2
          }
         }
        }
       }
      }
     },
     "metadata": {},
     "output_type": "display_data"
    }
   ],
   "source": [
    "activity_curve(poli, ['Lula','Jair M. Bolsonaro'], granularidade='hora')"
   ]
  }
 ],
 "metadata": {
  "interpreter": {
   "hash": "8e502c3083077283654ee0db8689729377640bb97ef493668650ddc40e07c009"
  },
  "kernelspec": {
   "display_name": "Python 3.10.4 64-bit",
   "language": "python",
   "name": "python3"
  },
  "language_info": {
   "codemirror_mode": {
    "name": "ipython",
    "version": 3
   },
   "file_extension": ".py",
   "mimetype": "text/x-python",
   "name": "python",
   "nbconvert_exporter": "python",
   "pygments_lexer": "ipython3",
   "version": "3.10.4"
  },
  "orig_nbformat": 4
 },
 "nbformat": 4,
 "nbformat_minor": 2
}
